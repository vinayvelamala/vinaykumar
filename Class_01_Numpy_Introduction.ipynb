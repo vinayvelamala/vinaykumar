{
 "cells": [
  {
   "cell_type": "markdown",
   "id": "8352f210",
   "metadata": {},
   "source": [
    "### Numpy\n",
    "\n",
    "    -> Numpy is library\n",
    "    \n",
    "    -> Numerical Python\n",
    "    \n",
    "    -> By using numpy we are creating array \n",
    "    \n",
    "    -> We can create 1D, 2D and multi dimensional array\n",
    "    \n",
    "    -> On arrays we can apply scientific computing (Scientific Calucations)\n",
    "    \n",
    "    -> All elements in the array must be same datatype\n",
    "    \n",
    "    -> To send data into algorithms, first we convert data into array\n",
    "    \n",
    "    -> to access elements here also we are using indexing and slicing concepts\n",
    "    \n",
    "        -> index\n",
    "            \n",
    "            -> forward indexing\n",
    "            \n",
    "                -> starts@ 0\n",
    "                \n",
    "                -> Ends@ n-1\n",
    "            \n",
    "            -> backward indexing\n",
    "            \n",
    "                -> Starts@ -1\n",
    "                \n",
    "                -> Ends@ -n\n",
    "        \n",
    "        -> Slicing\n",
    "        \n",
    "            -> Slicing representation is :\n",
    "                \n",
    "                -> All\n",
    "                \n",
    "                -> Start\n",
    "                \n",
    "                -> End\n",
    "                \n",
    "                -> To\n",
    "                \n",
    "    -> nd array elements are also mutable\n",
    "    \n",
    "        -> Elements can be change"
   ]
  },
  {
   "cell_type": "markdown",
   "id": "8ae63e3f",
   "metadata": {},
   "source": [
    "### difference between numpy.ndarray and list"
   ]
  },
  {
   "cell_type": "markdown",
   "id": "a34c5aed",
   "metadata": {},
   "source": [
    "#### List\n",
    "\n",
    "    -> Elements can be any datatype\n",
    "    \n",
    "    -> We can not apply scientific computing on list\n",
    "    \n",
    "    \n",
    "#### ndarray\n",
    "\n",
    "    -> Elements same datatype\n",
    "    \n",
    "    -> We can apply scientific computing on ndarray\n",
    "    \n",
    "    -> ndarray are faster than list"
   ]
  },
  {
   "cell_type": "code",
   "execution_count": 1,
   "id": "7adc7935",
   "metadata": {
    "scrolled": true
   },
   "outputs": [
    {
     "ename": "NameError",
     "evalue": "name 'add' is not defined",
     "output_type": "error",
     "traceback": [
      "\u001b[1;31m---------------------------------------------------------------------------\u001b[0m",
      "\u001b[1;31mNameError\u001b[0m                                 Traceback (most recent call last)",
      "Cell \u001b[1;32mIn[1], line 1\u001b[0m\n\u001b[1;32m----> 1\u001b[0m \u001b[43madd\u001b[49m(\u001b[38;5;241m2\u001b[39m,\u001b[38;5;241m3\u001b[39m)\n",
      "\u001b[1;31mNameError\u001b[0m: name 'add' is not defined"
     ]
    }
   ],
   "source": [
    "add(2,3)"
   ]
  },
  {
   "cell_type": "code",
   "execution_count": 2,
   "id": "f143d9b5",
   "metadata": {},
   "outputs": [],
   "source": [
    "import numpy"
   ]
  },
  {
   "cell_type": "code",
   "execution_count": 3,
   "id": "f054e432",
   "metadata": {},
   "outputs": [
    {
     "data": {
      "text/plain": [
       "5"
      ]
     },
     "execution_count": 3,
     "metadata": {},
     "output_type": "execute_result"
    }
   ],
   "source": [
    "numpy.add(2,3)"
   ]
  },
  {
   "cell_type": "code",
   "execution_count": 4,
   "id": "4e36731f",
   "metadata": {},
   "outputs": [],
   "source": [
    "import numpy as np"
   ]
  },
  {
   "cell_type": "code",
   "execution_count": 5,
   "id": "86292a23",
   "metadata": {},
   "outputs": [
    {
     "data": {
      "text/plain": [
       "-6"
      ]
     },
     "execution_count": 5,
     "metadata": {},
     "output_type": "execute_result"
    }
   ],
   "source": [
    "np.subtract(2,8)"
   ]
  },
  {
   "cell_type": "code",
   "execution_count": 6,
   "id": "7f4c9f63",
   "metadata": {},
   "outputs": [
    {
     "ename": "NameError",
     "evalue": "name 'multiply' is not defined",
     "output_type": "error",
     "traceback": [
      "\u001b[1;31m---------------------------------------------------------------------------\u001b[0m",
      "\u001b[1;31mNameError\u001b[0m                                 Traceback (most recent call last)",
      "Cell \u001b[1;32mIn[6], line 1\u001b[0m\n\u001b[1;32m----> 1\u001b[0m \u001b[43mmultiply\u001b[49m()\n",
      "\u001b[1;31mNameError\u001b[0m: name 'multiply' is not defined"
     ]
    }
   ],
   "source": [
    "multiply()"
   ]
  },
  {
   "cell_type": "code",
   "execution_count": 7,
   "id": "0cffc9b2",
   "metadata": {},
   "outputs": [],
   "source": [
    "from numpy import multiply,add"
   ]
  },
  {
   "cell_type": "code",
   "execution_count": 8,
   "id": "9ff7d1b0",
   "metadata": {},
   "outputs": [
    {
     "data": {
      "text/plain": [
       "72"
      ]
     },
     "execution_count": 8,
     "metadata": {},
     "output_type": "execute_result"
    }
   ],
   "source": [
    "multiply(8,9)"
   ]
  },
  {
   "cell_type": "code",
   "execution_count": 9,
   "id": "f7fd5179",
   "metadata": {},
   "outputs": [
    {
     "data": {
      "text/plain": [
       "17"
      ]
     },
     "execution_count": 9,
     "metadata": {},
     "output_type": "execute_result"
    }
   ],
   "source": [
    "add(8,9)"
   ]
  },
  {
   "cell_type": "code",
   "execution_count": 10,
   "id": "267485d9",
   "metadata": {},
   "outputs": [
    {
     "data": {
      "text/plain": [
       "187"
      ]
     },
     "execution_count": 10,
     "metadata": {},
     "output_type": "execute_result"
    }
   ],
   "source": [
    "multiply(11,17)"
   ]
  },
  {
   "cell_type": "code",
   "execution_count": 11,
   "id": "4b0dfb97",
   "metadata": {},
   "outputs": [
    {
     "ename": "NameError",
     "evalue": "name 'subtract' is not defined",
     "output_type": "error",
     "traceback": [
      "\u001b[1;31m---------------------------------------------------------------------------\u001b[0m",
      "\u001b[1;31mNameError\u001b[0m                                 Traceback (most recent call last)",
      "Cell \u001b[1;32mIn[11], line 1\u001b[0m\n\u001b[1;32m----> 1\u001b[0m \u001b[43msubtract\u001b[49m(\u001b[38;5;241m8\u001b[39m,\u001b[38;5;241m6\u001b[39m)\n",
      "\u001b[1;31mNameError\u001b[0m: name 'subtract' is not defined"
     ]
    }
   ],
   "source": [
    "subtract(8,6)"
   ]
  },
  {
   "cell_type": "code",
   "execution_count": 12,
   "id": "cc1239cd",
   "metadata": {},
   "outputs": [],
   "source": [
    "from numpy import *"
   ]
  },
  {
   "cell_type": "code",
   "execution_count": 13,
   "id": "36d8a2c3",
   "metadata": {},
   "outputs": [
    {
     "data": {
      "text/plain": [
       "2"
      ]
     },
     "execution_count": 13,
     "metadata": {},
     "output_type": "execute_result"
    }
   ],
   "source": [
    "subtract(8,6)"
   ]
  },
  {
   "cell_type": "code",
   "execution_count": null,
   "id": "be63d34f",
   "metadata": {},
   "outputs": [],
   "source": [
    "np."
   ]
  },
  {
   "cell_type": "code",
   "execution_count": null,
   "id": "56db39c4",
   "metadata": {},
   "outputs": [],
   "source": []
  }
 ],
 "metadata": {
  "kernelspec": {
   "display_name": "Python 3 (ipykernel)",
   "language": "python",
   "name": "python3"
  },
  "language_info": {
   "codemirror_mode": {
    "name": "ipython",
    "version": 3
   },
   "file_extension": ".py",
   "mimetype": "text/x-python",
   "name": "python",
   "nbconvert_exporter": "python",
   "pygments_lexer": "ipython3",
   "version": "3.10.9"
  }
 },
 "nbformat": 4,
 "nbformat_minor": 5
}
