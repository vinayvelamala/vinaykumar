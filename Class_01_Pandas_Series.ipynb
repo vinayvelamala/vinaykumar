{
 "cells": [
  {
   "cell_type": "markdown",
   "id": "585818af",
   "metadata": {},
   "source": [
    "## Creating a Series"
   ]
  },
  {
   "cell_type": "code",
   "execution_count": 1,
   "id": "46ab1b07",
   "metadata": {},
   "outputs": [],
   "source": [
    "import numpy as np\n",
    "import pandas as pd"
   ]
  },
  {
   "cell_type": "markdown",
   "id": "0e01a61e",
   "metadata": {},
   "source": [
    "### Empty Series"
   ]
  },
  {
   "cell_type": "code",
   "execution_count": 2,
   "id": "e4f11299",
   "metadata": {},
   "outputs": [
    {
     "ename": "AttributeError",
     "evalue": "module 'pandas' has no attribute 'series'",
     "output_type": "error",
     "traceback": [
      "\u001b[1;31m---------------------------------------------------------------------------\u001b[0m",
      "\u001b[1;31mAttributeError\u001b[0m                            Traceback (most recent call last)",
      "Cell \u001b[1;32mIn[2], line 1\u001b[0m\n\u001b[1;32m----> 1\u001b[0m s \u001b[38;5;241m=\u001b[39m \u001b[43mpd\u001b[49m\u001b[38;5;241;43m.\u001b[39;49m\u001b[43mseries\u001b[49m([])\n\u001b[0;32m      2\u001b[0m s\n",
      "File \u001b[1;32m~\\anaconda3\\lib\\site-packages\\pandas\\__init__.py:264\u001b[0m, in \u001b[0;36m__getattr__\u001b[1;34m(name)\u001b[0m\n\u001b[0;32m    260\u001b[0m     \u001b[38;5;28;01mfrom\u001b[39;00m \u001b[38;5;21;01mpandas\u001b[39;00m\u001b[38;5;21;01m.\u001b[39;00m\u001b[38;5;21;01mcore\u001b[39;00m\u001b[38;5;21;01m.\u001b[39;00m\u001b[38;5;21;01marrays\u001b[39;00m\u001b[38;5;21;01m.\u001b[39;00m\u001b[38;5;21;01msparse\u001b[39;00m \u001b[38;5;28;01mimport\u001b[39;00m SparseArray \u001b[38;5;28;01mas\u001b[39;00m _SparseArray\n\u001b[0;32m    262\u001b[0m     \u001b[38;5;28;01mreturn\u001b[39;00m _SparseArray\n\u001b[1;32m--> 264\u001b[0m \u001b[38;5;28;01mraise\u001b[39;00m \u001b[38;5;167;01mAttributeError\u001b[39;00m(\u001b[38;5;124mf\u001b[39m\u001b[38;5;124m\"\u001b[39m\u001b[38;5;124mmodule \u001b[39m\u001b[38;5;124m'\u001b[39m\u001b[38;5;124mpandas\u001b[39m\u001b[38;5;124m'\u001b[39m\u001b[38;5;124m has no attribute \u001b[39m\u001b[38;5;124m'\u001b[39m\u001b[38;5;132;01m{\u001b[39;00mname\u001b[38;5;132;01m}\u001b[39;00m\u001b[38;5;124m'\u001b[39m\u001b[38;5;124m\"\u001b[39m)\n",
      "\u001b[1;31mAttributeError\u001b[0m: module 'pandas' has no attribute 'series'"
     ]
    }
   ],
   "source": [
    "s = pd.series([])\n",
    "s"
   ]
  },
  {
   "cell_type": "code",
   "execution_count": 3,
   "id": "83c5ae80",
   "metadata": {},
   "outputs": [
    {
     "name": "stderr",
     "output_type": "stream",
     "text": [
      "C:\\Users\\divesh\\AppData\\Local\\Temp\\ipykernel_25116\\3445259495.py:1: FutureWarning: The default dtype for empty Series will be 'object' instead of 'float64' in a future version. Specify a dtype explicitly to silence this warning.\n",
      "  s = pd.Series([])\n"
     ]
    },
    {
     "data": {
      "text/plain": [
       "Series([], dtype: float64)"
      ]
     },
     "execution_count": 3,
     "metadata": {},
     "output_type": "execute_result"
    }
   ],
   "source": [
    "s = pd.Series([])\n",
    "s"
   ]
  },
  {
   "cell_type": "markdown",
   "id": "b330de54",
   "metadata": {},
   "source": [
    "### Create series from Tuple"
   ]
  },
  {
   "cell_type": "code",
   "execution_count": 4,
   "id": "1b655aaf",
   "metadata": {},
   "outputs": [
    {
     "data": {
      "text/plain": [
       "0    1\n",
       "1    5\n",
       "2    3\n",
       "3    4\n",
       "dtype: int64"
      ]
     },
     "execution_count": 4,
     "metadata": {},
     "output_type": "execute_result"
    }
   ],
   "source": [
    "tpl = (1,5,3,4)\n",
    "s = pd.Series(tpl)\n",
    "s"
   ]
  },
  {
   "cell_type": "markdown",
   "id": "f1bd9605",
   "metadata": {},
   "source": [
    "### Create series from Dict "
   ]
  },
  {
   "cell_type": "code",
   "execution_count": 5,
   "id": "39a2e8f6",
   "metadata": {},
   "outputs": [
    {
     "data": {
      "text/plain": [
       "bh    Bharat\n",
       "fr    france\n",
       "dtype: object"
      ]
     },
     "execution_count": 5,
     "metadata": {},
     "output_type": "execute_result"
    }
   ],
   "source": [
    "d = { 'bh':'Bharat','fr':'france' }\n",
    "s = pd.Series(d)\n",
    "s"
   ]
  },
  {
   "cell_type": "markdown",
   "id": "22ee3bce",
   "metadata": {},
   "source": [
    "### Create series from numpy.ndarray"
   ]
  },
  {
   "cell_type": "code",
   "execution_count": 6,
   "id": "021e2337",
   "metadata": {},
   "outputs": [
    {
     "data": {
      "text/plain": [
       "0    x\n",
       "1    y\n",
       "2    z\n",
       "dtype: object"
      ]
     },
     "execution_count": 6,
     "metadata": {},
     "output_type": "execute_result"
    }
   ],
   "source": [
    "ar = np.array(['x','y','z'])\n",
    "s = pd.Series(ar)\n",
    "s"
   ]
  },
  {
   "cell_type": "markdown",
   "id": "0e6dee37",
   "metadata": {},
   "source": [
    "### Create series from scalar value"
   ]
  },
  {
   "cell_type": "code",
   "execution_count": 7,
   "id": "b3cd1d96",
   "metadata": {},
   "outputs": [
    {
     "data": {
      "text/plain": [
       "0    5\n",
       "1    5\n",
       "2    5\n",
       "3    5\n",
       "4    5\n",
       "dtype: int64"
      ]
     },
     "execution_count": 7,
     "metadata": {},
     "output_type": "execute_result"
    }
   ],
   "source": [
    "data = 5  \n",
    "\n",
    "# Passing the value to the data parameter of the series constructor\n",
    "series = pd.Series(data, index=[0, 1, 2, 3, 4])\n",
    "series"
   ]
  },
  {
   "cell_type": "markdown",
   "id": "7846f16c",
   "metadata": {},
   "source": [
    "### Create series from list"
   ]
  },
  {
   "cell_type": "code",
   "execution_count": 8,
   "id": "d8f8e395",
   "metadata": {},
   "outputs": [
    {
     "data": {
      "text/plain": [
       "0    a\n",
       "1    b\n",
       "2    c\n",
       "3    d\n",
       "4    e\n",
       "dtype: object"
      ]
     },
     "execution_count": 8,
     "metadata": {},
     "output_type": "execute_result"
    }
   ],
   "source": [
    "lst = ['a','b','c','d','e']\n",
    "s = pd.Series(lst)\n",
    "s"
   ]
  },
  {
   "cell_type": "code",
   "execution_count": 9,
   "id": "eb71bfd7",
   "metadata": {},
   "outputs": [
    {
     "data": {
      "text/plain": [
       "-4    a\n",
       " 0    b\n",
       " 4    c\n",
       "-2    d\n",
       " 2    e\n",
       "dtype: object"
      ]
     },
     "execution_count": 9,
     "metadata": {},
     "output_type": "execute_result"
    }
   ],
   "source": [
    "lst = ['a','b','c','d','e']\n",
    "ind = [-4,0,4,-2,2]\n",
    "s = pd.Series(lst,index=ind)\n",
    "s"
   ]
  },
  {
   "cell_type": "markdown",
   "id": "f4a317e4",
   "metadata": {},
   "source": [
    "### Creating a Series using range function"
   ]
  },
  {
   "cell_type": "code",
   "execution_count": 10,
   "id": "3cc53db4",
   "metadata": {},
   "outputs": [
    {
     "data": {
      "text/plain": [
       "0    0\n",
       "1    1\n",
       "2    2\n",
       "3    3\n",
       "4    4\n",
       "dtype: int64"
      ]
     },
     "execution_count": 10,
     "metadata": {},
     "output_type": "execute_result"
    }
   ],
   "source": [
    "ser=pd.Series(range(5))\n",
    "ser"
   ]
  },
  {
   "cell_type": "markdown",
   "id": "71951287",
   "metadata": {},
   "source": [
    "### Creating a Series using for loop and list comprehension"
   ]
  },
  {
   "cell_type": "code",
   "execution_count": 11,
   "id": "11433315",
   "metadata": {},
   "outputs": [
    {
     "data": {
      "text/plain": [
       "a     1\n",
       "b     4\n",
       "c     7\n",
       "d    10\n",
       "e    13\n",
       "f    16\n",
       "g    19\n",
       "dtype: int64"
      ]
     },
     "execution_count": 11,
     "metadata": {},
     "output_type": "execute_result"
    }
   ],
   "source": [
    "ser=pd.Series(range(1,20,3), index=[i for i in 'abcdefg'])\n",
    "ser"
   ]
  },
  {
   "cell_type": "markdown",
   "id": "5dbe052a",
   "metadata": {},
   "source": [
    "### Creating a Series using mathematical expressions"
   ]
  },
  {
   "cell_type": "code",
   "execution_count": 12,
   "id": "b0ed7d18",
   "metadata": {},
   "outputs": [
    {
     "data": {
      "text/plain": [
       "10    50\n",
       "11    55\n",
       "12    60\n",
       "13    65\n",
       "14    70\n",
       "dtype: int32"
      ]
     },
     "execution_count": 12,
     "metadata": {},
     "output_type": "execute_result"
    }
   ],
   "source": [
    "ser=np.arange(10,15)\n",
    "serobj=pd.Series(data=ser*5,index=ser)\n",
    "serobj"
   ]
  },
  {
   "cell_type": "markdown",
   "id": "eaa83a33",
   "metadata": {},
   "source": [
    "### Creating a series using NumPy linspace"
   ]
  },
  {
   "cell_type": "code",
   "execution_count": 13,
   "id": "b5a29408",
   "metadata": {},
   "outputs": [
    {
     "data": {
      "text/plain": [
       "0      3.0\n",
       "1      6.0\n",
       "2      9.0\n",
       "3     12.0\n",
       "4     15.0\n",
       "5     18.0\n",
       "6     21.0\n",
       "7     24.0\n",
       "8     27.0\n",
       "9     30.0\n",
       "10    33.0\n",
       "dtype: float64"
      ]
     },
     "execution_count": 13,
     "metadata": {},
     "output_type": "execute_result"
    }
   ],
   "source": [
    "ser = pd.Series(np.linspace(3, 33, 11))\n",
    "ser"
   ]
  },
  {
   "cell_type": "code",
   "execution_count": 14,
   "id": "147cca4d",
   "metadata": {},
   "outputs": [
    {
     "data": {
      "text/plain": [
       "-4    a\n",
       " 0    b\n",
       " 4    c\n",
       "-2    d\n",
       " 2    e\n",
       "dtype: object"
      ]
     },
     "execution_count": 14,
     "metadata": {},
     "output_type": "execute_result"
    }
   ],
   "source": [
    "lst = ['a','b','c','d','e']\n",
    "ind = [-4,0,4,-2,2]\n",
    "s = pd.Series(lst,index=ind)\n",
    "s"
   ]
  },
  {
   "cell_type": "markdown",
   "id": "b8f8d098",
   "metadata": {},
   "source": [
    "### Indexing"
   ]
  },
  {
   "cell_type": "raw",
   "id": "66180894",
   "metadata": {},
   "source": [
    "s[2]"
   ]
  },
  {
   "cell_type": "markdown",
   "id": "8ea0191c",
   "metadata": {},
   "source": [
    "### loc - location"
   ]
  },
  {
   "cell_type": "code",
   "execution_count": 15,
   "id": "41e83e9a",
   "metadata": {},
   "outputs": [
    {
     "data": {
      "text/plain": [
       "-4    a\n",
       " 0    b\n",
       " 4    c\n",
       "-2    d\n",
       " 2    e\n",
       "dtype: object"
      ]
     },
     "execution_count": 15,
     "metadata": {},
     "output_type": "execute_result"
    }
   ],
   "source": [
    "s"
   ]
  },
  {
   "cell_type": "code",
   "execution_count": 16,
   "id": "a045c91b",
   "metadata": {},
   "outputs": [
    {
     "data": {
      "text/plain": [
       "'a'"
      ]
     },
     "execution_count": 16,
     "metadata": {},
     "output_type": "execute_result"
    }
   ],
   "source": [
    "s.loc[-4]"
   ]
  },
  {
   "cell_type": "code",
   "execution_count": 17,
   "id": "45c75706",
   "metadata": {},
   "outputs": [
    {
     "data": {
      "text/plain": [
       "'b'"
      ]
     },
     "execution_count": 17,
     "metadata": {},
     "output_type": "execute_result"
    }
   ],
   "source": [
    "s.loc[0]"
   ]
  },
  {
   "cell_type": "code",
   "execution_count": 18,
   "id": "b48857b0",
   "metadata": {
    "scrolled": true
   },
   "outputs": [
    {
     "ename": "KeyError",
     "evalue": "3",
     "output_type": "error",
     "traceback": [
      "\u001b[1;31m---------------------------------------------------------------------------\u001b[0m",
      "\u001b[1;31mKeyError\u001b[0m                                  Traceback (most recent call last)",
      "File \u001b[1;32m~\\anaconda3\\lib\\site-packages\\pandas\\core\\indexes\\base.py:3802\u001b[0m, in \u001b[0;36mIndex.get_loc\u001b[1;34m(self, key, method, tolerance)\u001b[0m\n\u001b[0;32m   3801\u001b[0m \u001b[38;5;28;01mtry\u001b[39;00m:\n\u001b[1;32m-> 3802\u001b[0m     \u001b[38;5;28;01mreturn\u001b[39;00m \u001b[38;5;28;43mself\u001b[39;49m\u001b[38;5;241;43m.\u001b[39;49m\u001b[43m_engine\u001b[49m\u001b[38;5;241;43m.\u001b[39;49m\u001b[43mget_loc\u001b[49m\u001b[43m(\u001b[49m\u001b[43mcasted_key\u001b[49m\u001b[43m)\u001b[49m\n\u001b[0;32m   3803\u001b[0m \u001b[38;5;28;01mexcept\u001b[39;00m \u001b[38;5;167;01mKeyError\u001b[39;00m \u001b[38;5;28;01mas\u001b[39;00m err:\n",
      "File \u001b[1;32m~\\anaconda3\\lib\\site-packages\\pandas\\_libs\\index.pyx:138\u001b[0m, in \u001b[0;36mpandas._libs.index.IndexEngine.get_loc\u001b[1;34m()\u001b[0m\n",
      "File \u001b[1;32m~\\anaconda3\\lib\\site-packages\\pandas\\_libs\\index.pyx:165\u001b[0m, in \u001b[0;36mpandas._libs.index.IndexEngine.get_loc\u001b[1;34m()\u001b[0m\n",
      "File \u001b[1;32mpandas\\_libs\\hashtable_class_helper.pxi:2263\u001b[0m, in \u001b[0;36mpandas._libs.hashtable.Int64HashTable.get_item\u001b[1;34m()\u001b[0m\n",
      "File \u001b[1;32mpandas\\_libs\\hashtable_class_helper.pxi:2273\u001b[0m, in \u001b[0;36mpandas._libs.hashtable.Int64HashTable.get_item\u001b[1;34m()\u001b[0m\n",
      "\u001b[1;31mKeyError\u001b[0m: 3",
      "\nThe above exception was the direct cause of the following exception:\n",
      "\u001b[1;31mKeyError\u001b[0m                                  Traceback (most recent call last)",
      "Cell \u001b[1;32mIn[18], line 1\u001b[0m\n\u001b[1;32m----> 1\u001b[0m \u001b[43ms\u001b[49m\u001b[38;5;241;43m.\u001b[39;49m\u001b[43mloc\u001b[49m\u001b[43m[\u001b[49m\u001b[38;5;241;43m3\u001b[39;49m\u001b[43m]\u001b[49m\n",
      "File \u001b[1;32m~\\anaconda3\\lib\\site-packages\\pandas\\core\\indexing.py:1073\u001b[0m, in \u001b[0;36m_LocationIndexer.__getitem__\u001b[1;34m(self, key)\u001b[0m\n\u001b[0;32m   1070\u001b[0m axis \u001b[38;5;241m=\u001b[39m \u001b[38;5;28mself\u001b[39m\u001b[38;5;241m.\u001b[39maxis \u001b[38;5;129;01mor\u001b[39;00m \u001b[38;5;241m0\u001b[39m\n\u001b[0;32m   1072\u001b[0m maybe_callable \u001b[38;5;241m=\u001b[39m com\u001b[38;5;241m.\u001b[39mapply_if_callable(key, \u001b[38;5;28mself\u001b[39m\u001b[38;5;241m.\u001b[39mobj)\n\u001b[1;32m-> 1073\u001b[0m \u001b[38;5;28;01mreturn\u001b[39;00m \u001b[38;5;28;43mself\u001b[39;49m\u001b[38;5;241;43m.\u001b[39;49m\u001b[43m_getitem_axis\u001b[49m\u001b[43m(\u001b[49m\u001b[43mmaybe_callable\u001b[49m\u001b[43m,\u001b[49m\u001b[43m \u001b[49m\u001b[43maxis\u001b[49m\u001b[38;5;241;43m=\u001b[39;49m\u001b[43maxis\u001b[49m\u001b[43m)\u001b[49m\n",
      "File \u001b[1;32m~\\anaconda3\\lib\\site-packages\\pandas\\core\\indexing.py:1312\u001b[0m, in \u001b[0;36m_LocIndexer._getitem_axis\u001b[1;34m(self, key, axis)\u001b[0m\n\u001b[0;32m   1310\u001b[0m \u001b[38;5;66;03m# fall thru to straight lookup\u001b[39;00m\n\u001b[0;32m   1311\u001b[0m \u001b[38;5;28mself\u001b[39m\u001b[38;5;241m.\u001b[39m_validate_key(key, axis)\n\u001b[1;32m-> 1312\u001b[0m \u001b[38;5;28;01mreturn\u001b[39;00m \u001b[38;5;28;43mself\u001b[39;49m\u001b[38;5;241;43m.\u001b[39;49m\u001b[43m_get_label\u001b[49m\u001b[43m(\u001b[49m\u001b[43mkey\u001b[49m\u001b[43m,\u001b[49m\u001b[43m \u001b[49m\u001b[43maxis\u001b[49m\u001b[38;5;241;43m=\u001b[39;49m\u001b[43maxis\u001b[49m\u001b[43m)\u001b[49m\n",
      "File \u001b[1;32m~\\anaconda3\\lib\\site-packages\\pandas\\core\\indexing.py:1260\u001b[0m, in \u001b[0;36m_LocIndexer._get_label\u001b[1;34m(self, label, axis)\u001b[0m\n\u001b[0;32m   1258\u001b[0m \u001b[38;5;28;01mdef\u001b[39;00m \u001b[38;5;21m_get_label\u001b[39m(\u001b[38;5;28mself\u001b[39m, label, axis: \u001b[38;5;28mint\u001b[39m):\n\u001b[0;32m   1259\u001b[0m     \u001b[38;5;66;03m# GH#5567 this will fail if the label is not present in the axis.\u001b[39;00m\n\u001b[1;32m-> 1260\u001b[0m     \u001b[38;5;28;01mreturn\u001b[39;00m \u001b[38;5;28;43mself\u001b[39;49m\u001b[38;5;241;43m.\u001b[39;49m\u001b[43mobj\u001b[49m\u001b[38;5;241;43m.\u001b[39;49m\u001b[43mxs\u001b[49m\u001b[43m(\u001b[49m\u001b[43mlabel\u001b[49m\u001b[43m,\u001b[49m\u001b[43m \u001b[49m\u001b[43maxis\u001b[49m\u001b[38;5;241;43m=\u001b[39;49m\u001b[43maxis\u001b[49m\u001b[43m)\u001b[49m\n",
      "File \u001b[1;32m~\\anaconda3\\lib\\site-packages\\pandas\\core\\generic.py:4056\u001b[0m, in \u001b[0;36mNDFrame.xs\u001b[1;34m(self, key, axis, level, drop_level)\u001b[0m\n\u001b[0;32m   4054\u001b[0m             new_index \u001b[38;5;241m=\u001b[39m index[loc]\n\u001b[0;32m   4055\u001b[0m \u001b[38;5;28;01melse\u001b[39;00m:\n\u001b[1;32m-> 4056\u001b[0m     loc \u001b[38;5;241m=\u001b[39m \u001b[43mindex\u001b[49m\u001b[38;5;241;43m.\u001b[39;49m\u001b[43mget_loc\u001b[49m\u001b[43m(\u001b[49m\u001b[43mkey\u001b[49m\u001b[43m)\u001b[49m\n\u001b[0;32m   4058\u001b[0m     \u001b[38;5;28;01mif\u001b[39;00m \u001b[38;5;28misinstance\u001b[39m(loc, np\u001b[38;5;241m.\u001b[39mndarray):\n\u001b[0;32m   4059\u001b[0m         \u001b[38;5;28;01mif\u001b[39;00m loc\u001b[38;5;241m.\u001b[39mdtype \u001b[38;5;241m==\u001b[39m np\u001b[38;5;241m.\u001b[39mbool_:\n",
      "File \u001b[1;32m~\\anaconda3\\lib\\site-packages\\pandas\\core\\indexes\\base.py:3804\u001b[0m, in \u001b[0;36mIndex.get_loc\u001b[1;34m(self, key, method, tolerance)\u001b[0m\n\u001b[0;32m   3802\u001b[0m     \u001b[38;5;28;01mreturn\u001b[39;00m \u001b[38;5;28mself\u001b[39m\u001b[38;5;241m.\u001b[39m_engine\u001b[38;5;241m.\u001b[39mget_loc(casted_key)\n\u001b[0;32m   3803\u001b[0m \u001b[38;5;28;01mexcept\u001b[39;00m \u001b[38;5;167;01mKeyError\u001b[39;00m \u001b[38;5;28;01mas\u001b[39;00m err:\n\u001b[1;32m-> 3804\u001b[0m     \u001b[38;5;28;01mraise\u001b[39;00m \u001b[38;5;167;01mKeyError\u001b[39;00m(key) \u001b[38;5;28;01mfrom\u001b[39;00m \u001b[38;5;21;01merr\u001b[39;00m\n\u001b[0;32m   3805\u001b[0m \u001b[38;5;28;01mexcept\u001b[39;00m \u001b[38;5;167;01mTypeError\u001b[39;00m:\n\u001b[0;32m   3806\u001b[0m     \u001b[38;5;66;03m# If we have a listlike key, _check_indexing_error will raise\u001b[39;00m\n\u001b[0;32m   3807\u001b[0m     \u001b[38;5;66;03m#  InvalidIndexError. Otherwise we fall through and re-raise\u001b[39;00m\n\u001b[0;32m   3808\u001b[0m     \u001b[38;5;66;03m#  the TypeError.\u001b[39;00m\n\u001b[0;32m   3809\u001b[0m     \u001b[38;5;28mself\u001b[39m\u001b[38;5;241m.\u001b[39m_check_indexing_error(key)\n",
      "\u001b[1;31mKeyError\u001b[0m: 3"
     ]
    }
   ],
   "source": [
    "s.loc[3]"
   ]
  },
  {
   "cell_type": "markdown",
   "id": "741fdf11",
   "metadata": {},
   "source": [
    "### iloc - index location"
   ]
  },
  {
   "cell_type": "code",
   "execution_count": 19,
   "id": "ca01c5d1",
   "metadata": {},
   "outputs": [
    {
     "data": {
      "text/plain": [
       "-4    a\n",
       " 0    b\n",
       " 4    c\n",
       "-2    d\n",
       " 2    e\n",
       "dtype: object"
      ]
     },
     "execution_count": 19,
     "metadata": {},
     "output_type": "execute_result"
    }
   ],
   "source": [
    "s"
   ]
  },
  {
   "cell_type": "code",
   "execution_count": 20,
   "id": "0b3011b2",
   "metadata": {},
   "outputs": [
    {
     "data": {
      "text/plain": [
       "'c'"
      ]
     },
     "execution_count": 20,
     "metadata": {},
     "output_type": "execute_result"
    }
   ],
   "source": [
    "s.iloc[2]"
   ]
  },
  {
   "cell_type": "code",
   "execution_count": 21,
   "id": "d6a5d22f",
   "metadata": {},
   "outputs": [
    {
     "data": {
      "text/plain": [
       "'b'"
      ]
     },
     "execution_count": 21,
     "metadata": {},
     "output_type": "execute_result"
    }
   ],
   "source": [
    "s.iloc[-4]"
   ]
  },
  {
   "cell_type": "code",
   "execution_count": 22,
   "id": "ef242a93",
   "metadata": {},
   "outputs": [
    {
     "data": {
      "text/plain": [
       "'a'"
      ]
     },
     "execution_count": 22,
     "metadata": {},
     "output_type": "execute_result"
    }
   ],
   "source": [
    "s.loc[-4]"
   ]
  },
  {
   "cell_type": "markdown",
   "id": "6e64947b",
   "metadata": {},
   "source": [
    "### Slicing"
   ]
  },
  {
   "cell_type": "code",
   "execution_count": null,
   "id": "6250a06a",
   "metadata": {},
   "outputs": [],
   "source": [
    "s"
   ]
  },
  {
   "cell_type": "code",
   "execution_count": null,
   "id": "3e1ff443",
   "metadata": {},
   "outputs": [],
   "source": [
    "s.loc[0:]"
   ]
  },
  {
   "cell_type": "code",
   "execution_count": null,
   "id": "45e6aa6f",
   "metadata": {},
   "outputs": [],
   "source": [
    "s.iloc[0:]"
   ]
  },
  {
   "cell_type": "code",
   "execution_count": null,
   "id": "f03654c8",
   "metadata": {},
   "outputs": [],
   "source": [
    "s"
   ]
  },
  {
   "cell_type": "code",
   "execution_count": null,
   "id": "12667cba",
   "metadata": {},
   "outputs": [],
   "source": [
    "s.loc[0]"
   ]
  },
  {
   "cell_type": "code",
   "execution_count": null,
   "id": "de5f3113",
   "metadata": {},
   "outputs": [],
   "source": [
    "s.iloc[1]"
   ]
  },
  {
   "cell_type": "markdown",
   "id": "fc4f3261",
   "metadata": {},
   "source": [
    "### type"
   ]
  },
  {
   "cell_type": "code",
   "execution_count": null,
   "id": "893ff98d",
   "metadata": {},
   "outputs": [],
   "source": [
    "type(s)"
   ]
  },
  {
   "cell_type": "markdown",
   "id": "397de3de",
   "metadata": {},
   "source": [
    "### ndim"
   ]
  },
  {
   "cell_type": "code",
   "execution_count": null,
   "id": "5e13e9a6",
   "metadata": {},
   "outputs": [],
   "source": [
    "s.ndim"
   ]
  },
  {
   "cell_type": "markdown",
   "id": "09c6a09e",
   "metadata": {},
   "source": [
    "### shape"
   ]
  },
  {
   "cell_type": "code",
   "execution_count": null,
   "id": "afde89ec",
   "metadata": {},
   "outputs": [],
   "source": [
    "s.shape"
   ]
  },
  {
   "cell_type": "markdown",
   "id": "322cdc53",
   "metadata": {},
   "source": [
    "### dtype"
   ]
  },
  {
   "cell_type": "code",
   "execution_count": null,
   "id": "20c27e62",
   "metadata": {},
   "outputs": [],
   "source": [
    "s.dtype"
   ]
  },
  {
   "cell_type": "markdown",
   "id": "52168075",
   "metadata": {},
   "source": [
    "### values\n",
    "\n",
    "Return Series as ndarray or ndarray-like depending on the dtype."
   ]
  },
  {
   "cell_type": "code",
   "execution_count": null,
   "id": "3bf9e10d",
   "metadata": {},
   "outputs": [],
   "source": [
    "lst = ['a','b','c','a','e']\n",
    "s = pd.Series(lst)\n",
    "s"
   ]
  },
  {
   "cell_type": "code",
   "execution_count": null,
   "id": "f8fc188e",
   "metadata": {},
   "outputs": [],
   "source": [
    "lst = ['a','b','c','d','e']\n",
    "se = pd.Series(lst)\n",
    "se"
   ]
  },
  {
   "cell_type": "code",
   "execution_count": null,
   "id": "3547d4d5",
   "metadata": {},
   "outputs": [],
   "source": [
    "s"
   ]
  },
  {
   "cell_type": "code",
   "execution_count": null,
   "id": "cfcc56eb",
   "metadata": {},
   "outputs": [],
   "source": [
    "s.values"
   ]
  },
  {
   "cell_type": "code",
   "execution_count": null,
   "id": "9dd10116",
   "metadata": {},
   "outputs": [],
   "source": [
    "se.values"
   ]
  },
  {
   "cell_type": "code",
   "execution_count": null,
   "id": "81ea6dfc",
   "metadata": {},
   "outputs": [],
   "source": [
    "s_a = s.values"
   ]
  },
  {
   "cell_type": "code",
   "execution_count": null,
   "id": "e1313c73",
   "metadata": {},
   "outputs": [],
   "source": [
    "s_a"
   ]
  },
  {
   "cell_type": "code",
   "execution_count": null,
   "id": "a4611c95",
   "metadata": {},
   "outputs": [],
   "source": [
    "s"
   ]
  },
  {
   "cell_type": "code",
   "execution_count": null,
   "id": "50586dab",
   "metadata": {},
   "outputs": [],
   "source": [
    "se"
   ]
  },
  {
   "cell_type": "markdown",
   "id": "4a69f1c7",
   "metadata": {},
   "source": [
    "### is_unique\n",
    "\n",
    "Return boolean if values in the object are unique."
   ]
  },
  {
   "cell_type": "code",
   "execution_count": null,
   "id": "da73096a",
   "metadata": {},
   "outputs": [],
   "source": [
    "s.is_unique"
   ]
  },
  {
   "cell_type": "code",
   "execution_count": null,
   "id": "0d633212",
   "metadata": {},
   "outputs": [],
   "source": [
    "se.is_unique"
   ]
  },
  {
   "cell_type": "markdown",
   "id": "2f1d7bbc",
   "metadata": {},
   "source": [
    "### is_monotonic\n",
    "\n",
    "Return boolean if values in the object are monotonic_increasing."
   ]
  },
  {
   "cell_type": "code",
   "execution_count": null,
   "id": "f266fb0b",
   "metadata": {},
   "outputs": [],
   "source": [
    "s.is_monotonic"
   ]
  },
  {
   "cell_type": "code",
   "execution_count": null,
   "id": "23b4dd3a",
   "metadata": {},
   "outputs": [],
   "source": [
    "se.is_monotonic"
   ]
  },
  {
   "cell_type": "markdown",
   "id": "373089dd",
   "metadata": {},
   "source": [
    "### is_monotonic_decreasing\n",
    "\n",
    "Return boolean if values in the object are monotonic_decreasing."
   ]
  },
  {
   "cell_type": "code",
   "execution_count": null,
   "id": "e3551583",
   "metadata": {},
   "outputs": [],
   "source": [
    "s.is_monotonic_decreasing"
   ]
  },
  {
   "cell_type": "code",
   "execution_count": null,
   "id": "187d2e42",
   "metadata": {},
   "outputs": [],
   "source": [
    "se.is_monotonic_decreasing"
   ]
  },
  {
   "cell_type": "markdown",
   "id": "98e38397",
   "metadata": {},
   "source": [
    "### is_monotonic_increasing\n",
    "\n",
    "Return boolean if values in the object are monotonic_increasing."
   ]
  },
  {
   "cell_type": "code",
   "execution_count": null,
   "id": "6a97d306",
   "metadata": {},
   "outputs": [],
   "source": [
    "s.is_monotonic_increasing"
   ]
  },
  {
   "cell_type": "code",
   "execution_count": null,
   "id": "92513e82",
   "metadata": {},
   "outputs": [],
   "source": [
    "se.is_monotonic_increasing"
   ]
  },
  {
   "cell_type": "markdown",
   "id": "96a9b933",
   "metadata": {},
   "source": [
    "### axes\n",
    "\n",
    "Return a list of the row axis labels"
   ]
  },
  {
   "cell_type": "code",
   "execution_count": null,
   "id": "0dfd7581",
   "metadata": {},
   "outputs": [],
   "source": [
    "s"
   ]
  },
  {
   "cell_type": "code",
   "execution_count": null,
   "id": "abe55e4e",
   "metadata": {},
   "outputs": [],
   "source": [
    "s.axes"
   ]
  },
  {
   "cell_type": "markdown",
   "id": "46011c50",
   "metadata": {},
   "source": [
    "### add"
   ]
  },
  {
   "cell_type": "code",
   "execution_count": null,
   "id": "51aa35cb",
   "metadata": {},
   "outputs": [],
   "source": [
    "a = pd.Series([1, 1, 1, np.nan], index=['a', 'b', 'c', 'd'])\n",
    "b = pd.Series([1, np.nan, 1, np.nan], index=['a', 'b', 'd', 'e'])"
   ]
  },
  {
   "cell_type": "code",
   "execution_count": null,
   "id": "eeb6644b",
   "metadata": {},
   "outputs": [],
   "source": [
    "a"
   ]
  },
  {
   "cell_type": "code",
   "execution_count": null,
   "id": "310a4d99",
   "metadata": {},
   "outputs": [],
   "source": [
    "b"
   ]
  },
  {
   "cell_type": "code",
   "execution_count": null,
   "id": "83658f06",
   "metadata": {},
   "outputs": [],
   "source": [
    "a.add(b)"
   ]
  },
  {
   "cell_type": "code",
   "execution_count": null,
   "id": "4576600f",
   "metadata": {},
   "outputs": [],
   "source": [
    "a.add(b, fill_value=0)"
   ]
  },
  {
   "cell_type": "code",
   "execution_count": null,
   "id": "0cb3e040",
   "metadata": {},
   "outputs": [],
   "source": [
    "b.add(a, fill_value=0)"
   ]
  },
  {
   "cell_type": "markdown",
   "id": "bd1f504f",
   "metadata": {},
   "source": [
    "### add_prefix"
   ]
  },
  {
   "cell_type": "code",
   "execution_count": null,
   "id": "69f1f2eb",
   "metadata": {},
   "outputs": [],
   "source": [
    "import numpy as np\n",
    "import pandas as pd\n",
    "s = pd.Series([1, 2, 3, 4, 5, 6, 7, 8, 9])\n",
    "s"
   ]
  },
  {
   "cell_type": "code",
   "execution_count": null,
   "id": "c7e8688b",
   "metadata": {},
   "outputs": [],
   "source": [
    "s.add_prefix('LAI_')"
   ]
  },
  {
   "cell_type": "markdown",
   "id": "c789216a",
   "metadata": {},
   "source": [
    "### add_suffix"
   ]
  },
  {
   "cell_type": "code",
   "execution_count": null,
   "id": "3a97357e",
   "metadata": {},
   "outputs": [],
   "source": [
    "s.add_suffix('_i')"
   ]
  },
  {
   "cell_type": "markdown",
   "id": "de277119",
   "metadata": {},
   "source": [
    "### agg"
   ]
  },
  {
   "cell_type": "code",
   "execution_count": null,
   "id": "d22ecc74",
   "metadata": {},
   "outputs": [],
   "source": [
    "s.agg('min')"
   ]
  },
  {
   "cell_type": "code",
   "execution_count": null,
   "id": "1a8dea62",
   "metadata": {},
   "outputs": [],
   "source": [
    "s.agg(['min', 'max'])"
   ]
  },
  {
   "cell_type": "code",
   "execution_count": null,
   "id": "5b54350e",
   "metadata": {},
   "outputs": [],
   "source": [
    "s.agg(['min', 'max','mean','sum','count'])"
   ]
  },
  {
   "cell_type": "markdown",
   "id": "a592c03e",
   "metadata": {},
   "source": [
    "### all"
   ]
  },
  {
   "cell_type": "code",
   "execution_count": null,
   "id": "5e034696",
   "metadata": {},
   "outputs": [],
   "source": [
    "pd.Series([True, True, True, True, True, True]).all()"
   ]
  },
  {
   "cell_type": "code",
   "execution_count": null,
   "id": "78f7b14a",
   "metadata": {},
   "outputs": [],
   "source": [
    "pd.Series([True, False, True, True, True, True]).all()"
   ]
  },
  {
   "cell_type": "markdown",
   "id": "8c58fa84",
   "metadata": {},
   "source": [
    "### any"
   ]
  },
  {
   "cell_type": "code",
   "execution_count": null,
   "id": "ae3f80d3",
   "metadata": {},
   "outputs": [],
   "source": [
    "pd.Series([True, True, True, True, True, True]).any()"
   ]
  },
  {
   "cell_type": "code",
   "execution_count": null,
   "id": "e7735d28",
   "metadata": {},
   "outputs": [],
   "source": [
    "pd.Series([True, False, False, False, False, False]).any()"
   ]
  },
  {
   "cell_type": "code",
   "execution_count": null,
   "id": "53cc2ee4",
   "metadata": {},
   "outputs": [],
   "source": [
    "s1 = pd.Series([1, 2, 3])\n",
    "s2 = pd.Series([4, 5, 6])\n",
    "s3 = pd.Series([4, 5, 6], index=[3, 4, 5])"
   ]
  },
  {
   "cell_type": "code",
   "execution_count": null,
   "id": "b473e5cc",
   "metadata": {},
   "outputs": [],
   "source": [
    "s1"
   ]
  },
  {
   "cell_type": "code",
   "execution_count": null,
   "id": "5818f276",
   "metadata": {},
   "outputs": [],
   "source": [
    "s2"
   ]
  },
  {
   "cell_type": "code",
   "execution_count": null,
   "id": "8253cede",
   "metadata": {},
   "outputs": [],
   "source": [
    "s3"
   ]
  },
  {
   "cell_type": "markdown",
   "id": "382ef413",
   "metadata": {},
   "source": [
    "### append"
   ]
  },
  {
   "cell_type": "code",
   "execution_count": null,
   "id": "7c03f7fc",
   "metadata": {},
   "outputs": [],
   "source": [
    "s1.append(s2)"
   ]
  },
  {
   "cell_type": "code",
   "execution_count": null,
   "id": "76f0e8f4",
   "metadata": {},
   "outputs": [],
   "source": [
    "s1.append(s2, ignore_index=True)"
   ]
  },
  {
   "cell_type": "code",
   "execution_count": null,
   "id": "78e359bb",
   "metadata": {},
   "outputs": [],
   "source": [
    "s1.append(s3)"
   ]
  },
  {
   "cell_type": "markdown",
   "id": "a710abf4",
   "metadata": {},
   "source": [
    "### apply"
   ]
  },
  {
   "cell_type": "code",
   "execution_count": null,
   "id": "72cf5814",
   "metadata": {},
   "outputs": [],
   "source": [
    "s = pd.Series([20, 21, 12], index=['L', 'NY', 'H'])\n",
    "s"
   ]
  },
  {
   "cell_type": "code",
   "execution_count": null,
   "id": "eee29466",
   "metadata": {},
   "outputs": [],
   "source": [
    "def square(x):\n",
    "    return x ** 2"
   ]
  },
  {
   "cell_type": "code",
   "execution_count": null,
   "id": "4c67122d",
   "metadata": {},
   "outputs": [],
   "source": [
    "s.apply(square)"
   ]
  },
  {
   "cell_type": "code",
   "execution_count": null,
   "id": "88091eb3",
   "metadata": {},
   "outputs": [],
   "source": [
    "s"
   ]
  },
  {
   "cell_type": "code",
   "execution_count": null,
   "id": "28c87044",
   "metadata": {},
   "outputs": [],
   "source": [
    "s.apply(lambda x: x ** 2)"
   ]
  },
  {
   "cell_type": "markdown",
   "id": "100da6ee",
   "metadata": {},
   "source": [
    "### astype"
   ]
  },
  {
   "cell_type": "code",
   "execution_count": null,
   "id": "36f9cbd8",
   "metadata": {},
   "outputs": [],
   "source": [
    "s.astype('float64')"
   ]
  },
  {
   "cell_type": "markdown",
   "id": "b1683a5e",
   "metadata": {},
   "source": [
    "### between"
   ]
  },
  {
   "cell_type": "code",
   "execution_count": null,
   "id": "218aadd4",
   "metadata": {},
   "outputs": [],
   "source": [
    "s = pd.Series([4, 2, 3, 89, 6, 12, 1, 3, 9])\n",
    "s"
   ]
  },
  {
   "cell_type": "code",
   "execution_count": null,
   "id": "b3aa2e35",
   "metadata": {},
   "outputs": [],
   "source": [
    "s.between(2, 4)"
   ]
  },
  {
   "cell_type": "code",
   "execution_count": null,
   "id": "c16a2c36",
   "metadata": {},
   "outputs": [],
   "source": [
    "s[s.between(2, 4)]"
   ]
  },
  {
   "cell_type": "code",
   "execution_count": null,
   "id": "63bff951",
   "metadata": {},
   "outputs": [],
   "source": [
    "s"
   ]
  },
  {
   "cell_type": "code",
   "execution_count": null,
   "id": "a6a5a5fd",
   "metadata": {},
   "outputs": [],
   "source": [
    "s[s.between(2, 9, inclusive=False)]"
   ]
  },
  {
   "cell_type": "code",
   "execution_count": null,
   "id": "a9c80b3f",
   "metadata": {},
   "outputs": [],
   "source": [
    "s[s.between(2, 9, inclusive='neither')]"
   ]
  },
  {
   "cell_type": "code",
   "execution_count": null,
   "id": "8c12c9fb",
   "metadata": {},
   "outputs": [],
   "source": [
    "s[s.between(2, 9, inclusive='both')]"
   ]
  },
  {
   "cell_type": "code",
   "execution_count": null,
   "id": "d9de9504",
   "metadata": {},
   "outputs": [],
   "source": [
    "s[s.between(2, 9, inclusive='left')]"
   ]
  },
  {
   "cell_type": "code",
   "execution_count": null,
   "id": "fbb6e0c6",
   "metadata": {},
   "outputs": [],
   "source": [
    "s[s.between(2, 9, inclusive='right')]"
   ]
  },
  {
   "cell_type": "markdown",
   "id": "e857b88e",
   "metadata": {},
   "source": [
    "### combine"
   ]
  },
  {
   "cell_type": "code",
   "execution_count": null,
   "id": "6b1621ae",
   "metadata": {},
   "outputs": [],
   "source": [
    "s1 = pd.Series({'crow': 330.0, 'eagle': 160.0})\n",
    "s2 = pd.Series({'crow': 345.0, 'eagle': 100.0, 'duck': 30.0})"
   ]
  },
  {
   "cell_type": "code",
   "execution_count": null,
   "id": "41cc4dee",
   "metadata": {},
   "outputs": [],
   "source": [
    "s1.combine(s2,min)"
   ]
  },
  {
   "cell_type": "code",
   "execution_count": null,
   "id": "2db59a14",
   "metadata": {},
   "outputs": [],
   "source": [
    "s1.combine(s2, max)"
   ]
  },
  {
   "cell_type": "code",
   "execution_count": null,
   "id": "16328a50",
   "metadata": {},
   "outputs": [],
   "source": [
    "s1.combine(s2, max, fill_value=0)"
   ]
  },
  {
   "cell_type": "code",
   "execution_count": null,
   "id": "5278f559",
   "metadata": {},
   "outputs": [],
   "source": [
    "s2.combine(s1,min)"
   ]
  },
  {
   "cell_type": "markdown",
   "id": "2d507b78",
   "metadata": {},
   "source": [
    "### compare"
   ]
  },
  {
   "cell_type": "code",
   "execution_count": null,
   "id": "2569f8f7",
   "metadata": {},
   "outputs": [],
   "source": [
    "s1 = pd.Series([\"a\", \"b\", \"c\", \"d\", \"e\"])\n",
    "s2 = pd.Series([\"a\", \"a\", \"c\", \"b\", \"e\"])"
   ]
  },
  {
   "cell_type": "code",
   "execution_count": null,
   "id": "67bde9ae",
   "metadata": {},
   "outputs": [],
   "source": [
    "s1.compare(s2)"
   ]
  },
  {
   "cell_type": "code",
   "execution_count": null,
   "id": "98cb180e",
   "metadata": {},
   "outputs": [],
   "source": [
    "s1.compare(s2, align_axis=0)"
   ]
  },
  {
   "cell_type": "code",
   "execution_count": null,
   "id": "64e0edc1",
   "metadata": {},
   "outputs": [],
   "source": [
    "s1.compare(s2, keep_shape=True)"
   ]
  },
  {
   "cell_type": "code",
   "execution_count": null,
   "id": "0a8bf9c0",
   "metadata": {},
   "outputs": [],
   "source": [
    "s1.compare(s2, keep_shape=True, keep_equal=True)"
   ]
  },
  {
   "cell_type": "markdown",
   "id": "8eb7f9c2",
   "metadata": {},
   "source": [
    "### copy"
   ]
  },
  {
   "cell_type": "code",
   "execution_count": null,
   "id": "e9a02861",
   "metadata": {},
   "outputs": [],
   "source": [
    "import numpy as np\n",
    "import pandas as pd\n",
    "list(\"abbccc\")"
   ]
  },
  {
   "cell_type": "code",
   "execution_count": null,
   "id": "0b375cf0",
   "metadata": {},
   "outputs": [],
   "source": [
    "s = pd.Series(list(\"abbccc\"))\n",
    "s"
   ]
  },
  {
   "cell_type": "code",
   "execution_count": null,
   "id": "2895ec97",
   "metadata": {},
   "outputs": [],
   "source": [
    "s_copy = s.copy()\n",
    "s_copy"
   ]
  },
  {
   "cell_type": "markdown",
   "id": "f545b78f",
   "metadata": {},
   "source": [
    "### count"
   ]
  },
  {
   "cell_type": "code",
   "execution_count": null,
   "id": "3c269943",
   "metadata": {},
   "outputs": [],
   "source": [
    "s.count()"
   ]
  },
  {
   "cell_type": "code",
   "execution_count": null,
   "id": "9190eaa8",
   "metadata": {},
   "outputs": [],
   "source": [
    "s = pd.Series([0.0, 1.0, np.nan])\n",
    "s"
   ]
  },
  {
   "cell_type": "code",
   "execution_count": null,
   "id": "5332c3ca",
   "metadata": {},
   "outputs": [],
   "source": [
    "s.count()"
   ]
  },
  {
   "cell_type": "code",
   "execution_count": null,
   "id": "bb11f6e8",
   "metadata": {},
   "outputs": [],
   "source": [
    "len(s)"
   ]
  },
  {
   "cell_type": "code",
   "execution_count": null,
   "id": "f753bf19",
   "metadata": {},
   "outputs": [],
   "source": [
    "s = pd.Series([2, np.nan, 5, -1, 0])\n",
    "s"
   ]
  },
  {
   "cell_type": "code",
   "execution_count": null,
   "id": "63fc5bc4",
   "metadata": {},
   "outputs": [],
   "source": [
    "len(s)"
   ]
  },
  {
   "cell_type": "code",
   "execution_count": null,
   "id": "2deb2ffb",
   "metadata": {},
   "outputs": [],
   "source": [
    "s.count()"
   ]
  },
  {
   "cell_type": "markdown",
   "id": "944a36ba",
   "metadata": {},
   "source": [
    "### cummax"
   ]
  },
  {
   "cell_type": "code",
   "execution_count": null,
   "id": "8b6c97d3",
   "metadata": {},
   "outputs": [],
   "source": [
    "s"
   ]
  },
  {
   "cell_type": "code",
   "execution_count": null,
   "id": "07376cc0",
   "metadata": {},
   "outputs": [],
   "source": [
    "s.cummax()"
   ]
  },
  {
   "cell_type": "code",
   "execution_count": null,
   "id": "9a079206",
   "metadata": {},
   "outputs": [],
   "source": [
    "s.cummax(skipna=False)"
   ]
  },
  {
   "cell_type": "code",
   "execution_count": null,
   "id": "ed7e0380",
   "metadata": {},
   "outputs": [],
   "source": [
    "s = pd.Series([6,5,20,6,4,8,3,6])\n",
    "s"
   ]
  },
  {
   "cell_type": "markdown",
   "id": "85985334",
   "metadata": {},
   "source": [
    "### cummin"
   ]
  },
  {
   "cell_type": "code",
   "execution_count": null,
   "id": "6c58c1b2",
   "metadata": {},
   "outputs": [],
   "source": [
    "s.cummin()"
   ]
  },
  {
   "cell_type": "markdown",
   "id": "484896a8",
   "metadata": {},
   "source": [
    "### cumprod"
   ]
  },
  {
   "cell_type": "code",
   "execution_count": null,
   "id": "c83fcb42",
   "metadata": {},
   "outputs": [],
   "source": [
    "s"
   ]
  },
  {
   "cell_type": "code",
   "execution_count": null,
   "id": "1372e7ac",
   "metadata": {
    "scrolled": true
   },
   "outputs": [],
   "source": [
    "s.cumprod()"
   ]
  },
  {
   "cell_type": "markdown",
   "id": "17ead7b1",
   "metadata": {},
   "source": [
    "### cumsum"
   ]
  },
  {
   "cell_type": "code",
   "execution_count": null,
   "id": "cc514b53",
   "metadata": {},
   "outputs": [],
   "source": [
    "s"
   ]
  },
  {
   "cell_type": "code",
   "execution_count": null,
   "id": "441a0375",
   "metadata": {},
   "outputs": [],
   "source": [
    "s.cumsum()"
   ]
  },
  {
   "cell_type": "markdown",
   "id": "444e4c32",
   "metadata": {},
   "source": [
    "### describe"
   ]
  },
  {
   "cell_type": "code",
   "execution_count": null,
   "id": "cf117479",
   "metadata": {},
   "outputs": [],
   "source": [
    "s = pd.Series([4, 2, 3, 89, 6, 12, 1, 3, 9])\n",
    "s"
   ]
  },
  {
   "cell_type": "code",
   "execution_count": null,
   "id": "8ff60b71",
   "metadata": {},
   "outputs": [],
   "source": [
    "s.describe()"
   ]
  },
  {
   "cell_type": "code",
   "execution_count": null,
   "id": "3b0ded10",
   "metadata": {},
   "outputs": [],
   "source": [
    "s_c = pd.Series(['a', 'b', 'b', 'c'])\n",
    "s_c.describe()"
   ]
  },
  {
   "cell_type": "markdown",
   "id": "09df5366",
   "metadata": {},
   "source": [
    "### diff"
   ]
  },
  {
   "cell_type": "code",
   "execution_count": null,
   "id": "8fc2f1b4",
   "metadata": {},
   "outputs": [],
   "source": [
    "s = pd.Series([1, 1, 2, 3, 5, 8])\n",
    "s.diff()"
   ]
  },
  {
   "cell_type": "code",
   "execution_count": null,
   "id": "5c76fbd3",
   "metadata": {},
   "outputs": [],
   "source": [
    "s = pd.Series(data=np.arange(1,6), index=['A', 'B', 'C','D','E'])\n",
    "s"
   ]
  },
  {
   "cell_type": "markdown",
   "id": "c67f9baa",
   "metadata": {},
   "source": [
    "### drop"
   ]
  },
  {
   "cell_type": "code",
   "execution_count": null,
   "id": "8749df77",
   "metadata": {},
   "outputs": [],
   "source": [
    "s.drop(labels=['B', 'E'])"
   ]
  },
  {
   "cell_type": "code",
   "execution_count": null,
   "id": "b883db8a",
   "metadata": {},
   "outputs": [],
   "source": [
    "s = pd.Series(['L', 'C', 'L', 'B', 'L', 'H'])\n",
    "s"
   ]
  },
  {
   "cell_type": "markdown",
   "id": "6f39a1df",
   "metadata": {},
   "source": [
    "### drop_duplicates"
   ]
  },
  {
   "cell_type": "code",
   "execution_count": null,
   "id": "64d795e6",
   "metadata": {},
   "outputs": [],
   "source": [
    "s.drop_duplicates()"
   ]
  },
  {
   "cell_type": "code",
   "execution_count": null,
   "id": "a0223d5b",
   "metadata": {},
   "outputs": [],
   "source": [
    "s.drop_duplicates(keep='last')"
   ]
  },
  {
   "cell_type": "code",
   "execution_count": null,
   "id": "43db818a",
   "metadata": {},
   "outputs": [],
   "source": [
    "ser = pd.Series([1., 2., np.nan,5,6,8, np.nan,4,5,1])\n",
    "ser"
   ]
  },
  {
   "cell_type": "markdown",
   "id": "351b4fa3",
   "metadata": {},
   "source": [
    "### dropna"
   ]
  },
  {
   "cell_type": "code",
   "execution_count": null,
   "id": "90eed548",
   "metadata": {},
   "outputs": [],
   "source": [
    "ser.dropna()"
   ]
  },
  {
   "cell_type": "markdown",
   "id": "7f6c791f",
   "metadata": {},
   "source": [
    "### duplicated"
   ]
  },
  {
   "cell_type": "code",
   "execution_count": null,
   "id": "4b7fdd93",
   "metadata": {},
   "outputs": [],
   "source": [
    "animals = pd.Series(['L', 'C', 'L', 'B', 'L','B'])\n",
    "animals.duplicated()"
   ]
  },
  {
   "cell_type": "code",
   "execution_count": null,
   "id": "cd6db0f2",
   "metadata": {},
   "outputs": [],
   "source": [
    "animals.duplicated().sum()"
   ]
  },
  {
   "cell_type": "code",
   "execution_count": null,
   "id": "eb6635d7",
   "metadata": {},
   "outputs": [],
   "source": [
    "s = pd.Series([[1, 2, 3], 'foo', [], [3, 4]])\n",
    "s"
   ]
  },
  {
   "cell_type": "markdown",
   "id": "b8079b61",
   "metadata": {},
   "source": [
    "### explode"
   ]
  },
  {
   "cell_type": "code",
   "execution_count": null,
   "id": "eeb9a408",
   "metadata": {},
   "outputs": [],
   "source": [
    "s.explode()"
   ]
  },
  {
   "cell_type": "markdown",
   "id": "364815e9",
   "metadata": {},
   "source": [
    "### map"
   ]
  },
  {
   "cell_type": "code",
   "execution_count": null,
   "id": "de92c3aa",
   "metadata": {},
   "outputs": [],
   "source": [
    "s = pd.Series(['cat', 'dog', np.nan, 'rabbit'])\n",
    "s"
   ]
  },
  {
   "cell_type": "code",
   "execution_count": null,
   "id": "25c2619a",
   "metadata": {},
   "outputs": [],
   "source": [
    "s.map({'cat': 'kitten', 'dog': 'puppy'})"
   ]
  },
  {
   "cell_type": "code",
   "execution_count": null,
   "id": "a260634d",
   "metadata": {},
   "outputs": [],
   "source": [
    "s"
   ]
  },
  {
   "cell_type": "code",
   "execution_count": null,
   "id": "c4d62406",
   "metadata": {},
   "outputs": [],
   "source": [
    "s.map('I am a {}'.format)"
   ]
  },
  {
   "cell_type": "code",
   "execution_count": null,
   "id": "83be0850",
   "metadata": {},
   "outputs": [],
   "source": [
    "s.map('I am a {}'.format, na_action='ignore')"
   ]
  },
  {
   "cell_type": "code",
   "execution_count": null,
   "id": "e6af23a6",
   "metadata": {},
   "outputs": [],
   "source": [
    "s = pd.Series([1,6,5,2,14,5,5,5,1,5,65,41])\n",
    "s"
   ]
  },
  {
   "cell_type": "markdown",
   "id": "f2b71b8f",
   "metadata": {},
   "source": [
    "### mask"
   ]
  },
  {
   "cell_type": "code",
   "execution_count": null,
   "id": "24b10282",
   "metadata": {},
   "outputs": [],
   "source": [
    "s.mask(s > 6)"
   ]
  },
  {
   "cell_type": "code",
   "execution_count": null,
   "id": "d452c92d",
   "metadata": {},
   "outputs": [],
   "source": [
    "s.mask(s > 6, 6)"
   ]
  },
  {
   "cell_type": "markdown",
   "id": "ea19e291",
   "metadata": {},
   "source": [
    "### where"
   ]
  },
  {
   "cell_type": "code",
   "execution_count": null,
   "id": "4ad517a6",
   "metadata": {},
   "outputs": [],
   "source": [
    "s.where(s > 6)"
   ]
  },
  {
   "cell_type": "code",
   "execution_count": null,
   "id": "c80632c8",
   "metadata": {},
   "outputs": [],
   "source": [
    "s.where(s > 6, 6)"
   ]
  },
  {
   "cell_type": "code",
   "execution_count": null,
   "id": "907a3ea9",
   "metadata": {},
   "outputs": [],
   "source": [
    "s"
   ]
  },
  {
   "cell_type": "markdown",
   "id": "7ed9ca07",
   "metadata": {},
   "source": [
    "### max"
   ]
  },
  {
   "cell_type": "code",
   "execution_count": null,
   "id": "b8c03048",
   "metadata": {},
   "outputs": [],
   "source": [
    "s.max()"
   ]
  },
  {
   "cell_type": "markdown",
   "id": "900ca09f",
   "metadata": {},
   "source": [
    "### mean"
   ]
  },
  {
   "cell_type": "code",
   "execution_count": null,
   "id": "cfe453b5",
   "metadata": {},
   "outputs": [],
   "source": [
    "s.mean()"
   ]
  },
  {
   "cell_type": "markdown",
   "id": "00d7e2ca",
   "metadata": {},
   "source": [
    "### median"
   ]
  },
  {
   "cell_type": "code",
   "execution_count": null,
   "id": "e5fdd4ff",
   "metadata": {
    "scrolled": true
   },
   "outputs": [],
   "source": [
    "s.median()"
   ]
  },
  {
   "cell_type": "markdown",
   "id": "dda1a539",
   "metadata": {},
   "source": [
    "### min"
   ]
  },
  {
   "cell_type": "code",
   "execution_count": null,
   "id": "74a0d12c",
   "metadata": {},
   "outputs": [],
   "source": [
    "s.min()"
   ]
  },
  {
   "cell_type": "code",
   "execution_count": null,
   "id": "0b921d65",
   "metadata": {},
   "outputs": [],
   "source": [
    "import numpy as np\n",
    "b = pd.Series([1, np.nan, 1, 2,2,6], index=['a', 'b', 'd', 'e','f','g'])\n",
    "b"
   ]
  },
  {
   "cell_type": "markdown",
   "id": "85e15e3e",
   "metadata": {},
   "source": [
    "### mode"
   ]
  },
  {
   "cell_type": "code",
   "execution_count": null,
   "id": "79e481b9",
   "metadata": {},
   "outputs": [],
   "source": [
    "b.mode()"
   ]
  },
  {
   "cell_type": "markdown",
   "id": "f1229cf2",
   "metadata": {},
   "source": [
    "### nlargest"
   ]
  },
  {
   "cell_type": "code",
   "execution_count": null,
   "id": "4cef5524",
   "metadata": {},
   "outputs": [],
   "source": [
    "import pandas as pd"
   ]
  },
  {
   "cell_type": "code",
   "execution_count": null,
   "id": "25f33133",
   "metadata": {},
   "outputs": [],
   "source": [
    "countries_population = {\"I\": 590000, \"F\": 650000,\n",
    "                        \"A\": 11300,\"M\": 434000, \n",
    "                        \"Ma\": 434000,\n",
    "                        \"B\": 434000, \"Ice\": 337000,\n",
    "                        \"N\": 11300, \"T\": 11300,\n",
    "                         \"Mo\": 5200}\n",
    "s = pd.Series(countries_population)\n",
    "s"
   ]
  },
  {
   "cell_type": "code",
   "execution_count": null,
   "id": "f9f7417b",
   "metadata": {},
   "outputs": [],
   "source": [
    "s.nlargest()"
   ]
  },
  {
   "cell_type": "code",
   "execution_count": null,
   "id": "35e1c881",
   "metadata": {},
   "outputs": [],
   "source": [
    "s.nlargest(7)"
   ]
  },
  {
   "cell_type": "code",
   "execution_count": null,
   "id": "462f66bb",
   "metadata": {},
   "outputs": [],
   "source": [
    "s.nlargest(len(s))"
   ]
  },
  {
   "cell_type": "markdown",
   "id": "5c1d3dfa",
   "metadata": {},
   "source": [
    "### nsmallest"
   ]
  },
  {
   "cell_type": "code",
   "execution_count": null,
   "id": "142304a2",
   "metadata": {},
   "outputs": [],
   "source": [
    "s.nsmallest()"
   ]
  },
  {
   "cell_type": "code",
   "execution_count": null,
   "id": "17ea7ecb",
   "metadata": {},
   "outputs": [],
   "source": [
    "s.nsmallest(len(s))"
   ]
  },
  {
   "cell_type": "markdown",
   "id": "e81c778d",
   "metadata": {},
   "source": [
    "### nunique"
   ]
  },
  {
   "cell_type": "code",
   "execution_count": null,
   "id": "dd4cffe7",
   "metadata": {},
   "outputs": [],
   "source": [
    "s"
   ]
  },
  {
   "cell_type": "code",
   "execution_count": null,
   "id": "dd556b9b",
   "metadata": {},
   "outputs": [],
   "source": [
    "s.nunique()"
   ]
  },
  {
   "cell_type": "code",
   "execution_count": null,
   "id": "301b48aa",
   "metadata": {},
   "outputs": [],
   "source": [
    "import numpy as np\n",
    "b = pd.Series([1, np.nan, 1, 2,2,6], index=['a', 'b', 'd', 'e','f','g'])\n",
    "b"
   ]
  },
  {
   "cell_type": "markdown",
   "id": "6bac880a",
   "metadata": {},
   "source": [
    "### notna"
   ]
  },
  {
   "cell_type": "code",
   "execution_count": null,
   "id": "1ce52787",
   "metadata": {},
   "outputs": [],
   "source": [
    "b.notna()"
   ]
  },
  {
   "cell_type": "markdown",
   "id": "452bfae2",
   "metadata": {},
   "source": [
    "### notnull"
   ]
  },
  {
   "cell_type": "code",
   "execution_count": null,
   "id": "eb3622ad",
   "metadata": {},
   "outputs": [],
   "source": [
    "b.notnull()"
   ]
  },
  {
   "cell_type": "markdown",
   "id": "4e5b0ee6",
   "metadata": {},
   "source": [
    "### pop"
   ]
  },
  {
   "cell_type": "code",
   "execution_count": null,
   "id": "a5f740bc",
   "metadata": {},
   "outputs": [],
   "source": [
    "b.pop('e')"
   ]
  },
  {
   "cell_type": "code",
   "execution_count": null,
   "id": "25b6820f",
   "metadata": {},
   "outputs": [],
   "source": [
    "b"
   ]
  },
  {
   "cell_type": "code",
   "execution_count": null,
   "id": "b1d14df6",
   "metadata": {},
   "outputs": [],
   "source": [
    "import pandas as pd\n",
    "import numpy as np"
   ]
  },
  {
   "cell_type": "markdown",
   "id": "9bb4eef5",
   "metadata": {},
   "source": [
    "### pow"
   ]
  },
  {
   "cell_type": "code",
   "execution_count": null,
   "id": "674261f4",
   "metadata": {},
   "outputs": [],
   "source": [
    "a = pd.Series([1, 3, 5, np.nan], index=['a', 'b', 'c', 'd'])\n",
    "a"
   ]
  },
  {
   "cell_type": "code",
   "execution_count": null,
   "id": "27d604d7",
   "metadata": {},
   "outputs": [],
   "source": [
    "a.pow(a)"
   ]
  },
  {
   "cell_type": "code",
   "execution_count": null,
   "id": "777760e5",
   "metadata": {},
   "outputs": [],
   "source": [
    "a.pow(b, fill_value=0)"
   ]
  },
  {
   "cell_type": "markdown",
   "id": "d8630701",
   "metadata": {},
   "source": [
    "### quantile"
   ]
  },
  {
   "cell_type": "code",
   "execution_count": null,
   "id": "0b301063",
   "metadata": {},
   "outputs": [],
   "source": [
    "s"
   ]
  },
  {
   "cell_type": "code",
   "execution_count": null,
   "id": "b7c696bb",
   "metadata": {},
   "outputs": [],
   "source": [
    "s.quantile([.25, .5, .75])"
   ]
  },
  {
   "cell_type": "markdown",
   "id": "c66ca704",
   "metadata": {},
   "source": [
    "### rename"
   ]
  },
  {
   "cell_type": "code",
   "execution_count": null,
   "id": "fb992d56",
   "metadata": {},
   "outputs": [],
   "source": [
    "s"
   ]
  },
  {
   "cell_type": "code",
   "execution_count": null,
   "id": "14c58fee",
   "metadata": {},
   "outputs": [],
   "source": [
    "s.rename(\"country\")"
   ]
  },
  {
   "cell_type": "markdown",
   "id": "a9ff17f6",
   "metadata": {},
   "source": [
    "### repeat"
   ]
  },
  {
   "cell_type": "code",
   "execution_count": null,
   "id": "16a89d4a",
   "metadata": {},
   "outputs": [],
   "source": [
    "s = pd.Series(['a', 'b', 'c'])\n",
    "s"
   ]
  },
  {
   "cell_type": "code",
   "execution_count": null,
   "id": "dec59db6",
   "metadata": {},
   "outputs": [],
   "source": [
    "s.repeat(2)"
   ]
  },
  {
   "cell_type": "code",
   "execution_count": null,
   "id": "38cfb593",
   "metadata": {},
   "outputs": [],
   "source": [
    "s.repeat([1, 2, 3])"
   ]
  },
  {
   "cell_type": "markdown",
   "id": "d1547724",
   "metadata": {},
   "source": [
    "### replace"
   ]
  },
  {
   "cell_type": "code",
   "execution_count": null,
   "id": "3fbfb557",
   "metadata": {},
   "outputs": [],
   "source": [
    "s = pd.Series([1, 2, 3, 4, 5])\n",
    "s"
   ]
  },
  {
   "cell_type": "code",
   "execution_count": null,
   "id": "cfd45b5c",
   "metadata": {},
   "outputs": [],
   "source": [
    "s.replace(1, 5)"
   ]
  },
  {
   "cell_type": "markdown",
   "id": "edbd0094",
   "metadata": {},
   "source": [
    "### round"
   ]
  },
  {
   "cell_type": "code",
   "execution_count": null,
   "id": "089e7a1e",
   "metadata": {},
   "outputs": [],
   "source": [
    "s = pd.Series([0.1, 1.5, 2.7])\n",
    "s"
   ]
  },
  {
   "cell_type": "code",
   "execution_count": null,
   "id": "f820700e",
   "metadata": {},
   "outputs": [],
   "source": [
    "s.round()"
   ]
  },
  {
   "cell_type": "markdown",
   "id": "916bb051",
   "metadata": {},
   "source": [
    "### Subtraction "
   ]
  },
  {
   "cell_type": "code",
   "execution_count": null,
   "id": "bbda4a53",
   "metadata": {},
   "outputs": [],
   "source": [
    "a = pd.Series([1, 1, 1, np.nan], index=['a', 'b', 'c', 'd'])\n",
    "b = pd.Series([1, np.nan, 1, np.nan], index=['a', 'b', 'd', 'e'])"
   ]
  },
  {
   "cell_type": "code",
   "execution_count": null,
   "id": "d1df1317",
   "metadata": {},
   "outputs": [],
   "source": [
    "a"
   ]
  },
  {
   "cell_type": "code",
   "execution_count": null,
   "id": "8c6e59b1",
   "metadata": {},
   "outputs": [],
   "source": [
    "b"
   ]
  },
  {
   "cell_type": "code",
   "execution_count": null,
   "id": "44d8ae37",
   "metadata": {},
   "outputs": [],
   "source": [
    "a.subtract(b)"
   ]
  },
  {
   "cell_type": "code",
   "execution_count": null,
   "id": "df64e8d3",
   "metadata": {},
   "outputs": [],
   "source": [
    "a.subtract(b, fill_value=0)"
   ]
  },
  {
   "cell_type": "markdown",
   "id": "21749915",
   "metadata": {},
   "source": [
    "### setaxis "
   ]
  },
  {
   "cell_type": "code",
   "execution_count": null,
   "id": "54ce41a5",
   "metadata": {},
   "outputs": [],
   "source": [
    "s = pd.Series([1, 2, 3])\n",
    "s"
   ]
  },
  {
   "cell_type": "code",
   "execution_count": null,
   "id": "d871d5fc",
   "metadata": {},
   "outputs": [],
   "source": [
    "s.set_axis(['a', 'b', 'c'], axis=0)"
   ]
  },
  {
   "cell_type": "markdown",
   "id": "eeb5335b",
   "metadata": {},
   "source": [
    "### skew"
   ]
  },
  {
   "cell_type": "code",
   "execution_count": null,
   "id": "e9d603f2",
   "metadata": {},
   "outputs": [],
   "source": [
    "countries_population = {\"I\": 590000, \"F\": 650000,\n",
    "                        \"A\": 11300,\"M\": 434000, \n",
    "                        \"Ma\": 434000,\n",
    "                        \"B\": 434000, \"Ice\": 337000,\n",
    "                        \"N\": 11300, \"T\": 11300,\n",
    "                         \"Mo\": 5200}\n",
    "s = pd.Series(countries_population)\n",
    "s"
   ]
  },
  {
   "cell_type": "code",
   "execution_count": null,
   "id": "de3e0fb9",
   "metadata": {},
   "outputs": [],
   "source": [
    "s.skew()"
   ]
  },
  {
   "cell_type": "code",
   "execution_count": null,
   "id": "ec92ce15",
   "metadata": {},
   "outputs": [],
   "source": [
    "round(s.skew(),2)"
   ]
  },
  {
   "cell_type": "code",
   "execution_count": null,
   "id": "b0204890",
   "metadata": {},
   "outputs": [],
   "source": [
    "s.kurtosis()"
   ]
  },
  {
   "cell_type": "markdown",
   "id": "c13e6b5f",
   "metadata": {},
   "source": [
    "### sort index"
   ]
  },
  {
   "cell_type": "code",
   "execution_count": null,
   "id": "5eb7de3e",
   "metadata": {},
   "outputs": [],
   "source": [
    "s = pd.Series(['a', 'b', 'c', 'd'], index=[3, 2, 1, 4])\n",
    "s"
   ]
  },
  {
   "cell_type": "code",
   "execution_count": null,
   "id": "2c9911e6",
   "metadata": {},
   "outputs": [],
   "source": [
    "s.sort_index()"
   ]
  },
  {
   "cell_type": "code",
   "execution_count": null,
   "id": "7c757cb4",
   "metadata": {},
   "outputs": [],
   "source": [
    "s.sort_index(ascending=False)"
   ]
  },
  {
   "cell_type": "code",
   "execution_count": null,
   "id": "b6b57d33",
   "metadata": {},
   "outputs": [],
   "source": [
    "s = pd.Series(['a', 'b', 'c', 'd'], index=[3, 2, 1, np.nan])\n",
    "s"
   ]
  },
  {
   "cell_type": "code",
   "execution_count": null,
   "id": "c8c949a5",
   "metadata": {},
   "outputs": [],
   "source": [
    "s.sort_index(na_position='first')"
   ]
  },
  {
   "cell_type": "code",
   "execution_count": null,
   "id": "55b888e8",
   "metadata": {},
   "outputs": [],
   "source": [
    "s.sort_index()"
   ]
  },
  {
   "cell_type": "markdown",
   "id": "b36f1cc1",
   "metadata": {},
   "source": [
    "### sort value"
   ]
  },
  {
   "cell_type": "code",
   "execution_count": null,
   "id": "2263953b",
   "metadata": {},
   "outputs": [],
   "source": [
    "countries_population = {\"I\": 590000, \"F\": 650000,\n",
    "                        \"A\": 11300,\"M\": 434000, \n",
    "                        \"Ma\": 434000,\n",
    "                        \"B\": 434000, \"Ice\": 337000,\n",
    "                        \"N\": 11300, \"T\": 11300,\n",
    "                         \"Mo\": 5200}\n",
    "s = pd.Series(countries_population)\n",
    "s"
   ]
  },
  {
   "cell_type": "code",
   "execution_count": null,
   "id": "739d255c",
   "metadata": {},
   "outputs": [],
   "source": [
    "s.sort_values(ascending=True)"
   ]
  },
  {
   "cell_type": "code",
   "execution_count": null,
   "id": "d7cbdce8",
   "metadata": {},
   "outputs": [],
   "source": [
    "s.sort_values(ascending=False)"
   ]
  },
  {
   "cell_type": "code",
   "execution_count": null,
   "id": "5bc751ec",
   "metadata": {},
   "outputs": [],
   "source": [
    "s.sort_values(na_position='first')"
   ]
  },
  {
   "cell_type": "code",
   "execution_count": null,
   "id": "81454072",
   "metadata": {},
   "outputs": [],
   "source": [
    "s = pd.Series(['z', 'b', 'd', 'a', 'c'])\n",
    "s"
   ]
  },
  {
   "cell_type": "code",
   "execution_count": null,
   "id": "7e69e57a",
   "metadata": {},
   "outputs": [],
   "source": [
    "s.sort_values()"
   ]
  },
  {
   "cell_type": "code",
   "execution_count": null,
   "id": "cdcd4a5a",
   "metadata": {},
   "outputs": [],
   "source": [
    "s.sort_values(ignore_index=True)"
   ]
  },
  {
   "cell_type": "code",
   "execution_count": null,
   "id": "33ef5454",
   "metadata": {},
   "outputs": [],
   "source": [
    "s"
   ]
  },
  {
   "cell_type": "code",
   "execution_count": null,
   "id": "c2182026",
   "metadata": {},
   "outputs": [],
   "source": [
    "s1 = s.sort_values(ignore_index=True)\n",
    "s1"
   ]
  },
  {
   "cell_type": "code",
   "execution_count": null,
   "id": "6153743b",
   "metadata": {},
   "outputs": [],
   "source": [
    "s"
   ]
  },
  {
   "cell_type": "code",
   "execution_count": null,
   "id": "646569d1",
   "metadata": {},
   "outputs": [],
   "source": [
    "s.sort_values(ignore_index=True, inplace=True)"
   ]
  },
  {
   "cell_type": "code",
   "execution_count": null,
   "id": "2209d4bb",
   "metadata": {},
   "outputs": [],
   "source": [
    "s"
   ]
  },
  {
   "cell_type": "code",
   "execution_count": null,
   "id": "c29b153b",
   "metadata": {},
   "outputs": [],
   "source": [
    "s = pd.Series(['a', 'b','D', 'c', 'B', 'e'])\n",
    "s.sort_values()"
   ]
  },
  {
   "cell_type": "code",
   "execution_count": null,
   "id": "4e58879c",
   "metadata": {},
   "outputs": [],
   "source": [
    "s.sort_values(key=lambda x: x.str.lower())"
   ]
  },
  {
   "cell_type": "markdown",
   "id": "e4573e57",
   "metadata": {},
   "source": [
    "### str"
   ]
  },
  {
   "cell_type": "code",
   "execution_count": null,
   "id": "dbf3fc7d",
   "metadata": {},
   "outputs": [],
   "source": [
    "s = pd.Series([\"A_Str_Series\"])\n",
    "s"
   ]
  },
  {
   "cell_type": "code",
   "execution_count": null,
   "id": "ee183163",
   "metadata": {},
   "outputs": [],
   "source": [
    "s.str.split(\"_\")"
   ]
  },
  {
   "cell_type": "code",
   "execution_count": null,
   "id": "8658eab4",
   "metadata": {},
   "outputs": [],
   "source": [
    "s.str.replace(\"_\", \"\")"
   ]
  },
  {
   "cell_type": "code",
   "execution_count": null,
   "id": "70713861",
   "metadata": {},
   "outputs": [],
   "source": [
    "s.str.replace(\"_\", \" \")"
   ]
  },
  {
   "cell_type": "markdown",
   "id": "ce57b000",
   "metadata": {},
   "source": [
    "### std"
   ]
  },
  {
   "cell_type": "code",
   "execution_count": null,
   "id": "3d5522a0",
   "metadata": {},
   "outputs": [],
   "source": [
    "countries_population = {\"I\": 590000, \"F\": 650000,\n",
    "                        \"A\": 11300,\"M\": 434000, \n",
    "                        \"Ma\": 434000,\n",
    "                        \"B\": 434000, \"Ice\": 337000,\n",
    "                        \"N\": 11300, \"T\": 11300,\n",
    "                         \"Mo\": 5200}\n",
    "s = pd.Series(countries_population)\n",
    "s"
   ]
  },
  {
   "cell_type": "code",
   "execution_count": null,
   "id": "53f649a5",
   "metadata": {},
   "outputs": [],
   "source": [
    "s.std()"
   ]
  },
  {
   "cell_type": "markdown",
   "id": "cda7efc9",
   "metadata": {},
   "source": [
    "### sum"
   ]
  },
  {
   "cell_type": "code",
   "execution_count": null,
   "id": "d8c1e662",
   "metadata": {},
   "outputs": [],
   "source": [
    "s.sum()"
   ]
  },
  {
   "cell_type": "markdown",
   "id": "9a9c5a82",
   "metadata": {},
   "source": [
    "### tail"
   ]
  },
  {
   "cell_type": "code",
   "execution_count": null,
   "id": "b5bbc14f",
   "metadata": {},
   "outputs": [],
   "source": [
    "s.tail()"
   ]
  },
  {
   "cell_type": "markdown",
   "id": "ba16d00e",
   "metadata": {},
   "source": [
    "### head"
   ]
  },
  {
   "cell_type": "code",
   "execution_count": null,
   "id": "071b1e8f",
   "metadata": {},
   "outputs": [],
   "source": [
    "s.head()"
   ]
  },
  {
   "cell_type": "code",
   "execution_count": null,
   "id": "38411d3a",
   "metadata": {},
   "outputs": [],
   "source": [
    "s.head(2)"
   ]
  },
  {
   "cell_type": "markdown",
   "id": "b21d61c0",
   "metadata": {},
   "source": [
    "### transform"
   ]
  },
  {
   "cell_type": "code",
   "execution_count": null,
   "id": "8df31e88",
   "metadata": {},
   "outputs": [],
   "source": [
    "s.transform([np.sqrt, np.round, np.cumsum,np.cumprod])"
   ]
  },
  {
   "cell_type": "markdown",
   "id": "18091e9a",
   "metadata": {},
   "source": [
    "### unique"
   ]
  },
  {
   "cell_type": "code",
   "execution_count": null,
   "id": "0f2e6913",
   "metadata": {},
   "outputs": [],
   "source": [
    "s.unique()"
   ]
  },
  {
   "cell_type": "markdown",
   "id": "609dc57d",
   "metadata": {},
   "source": [
    "### unstack"
   ]
  },
  {
   "cell_type": "code",
   "execution_count": null,
   "id": "f6e261ec",
   "metadata": {},
   "outputs": [],
   "source": [
    "s = pd.Series([1, 2, 3, 4],\n",
    "              index=pd.MultiIndex.from_product([['one', 'two'],\n",
    "                                                ['a', 'b']]))\n",
    "s"
   ]
  },
  {
   "cell_type": "code",
   "execution_count": null,
   "id": "3eb2eed1",
   "metadata": {},
   "outputs": [],
   "source": [
    "s.unstack(level=0)"
   ]
  },
  {
   "cell_type": "code",
   "execution_count": null,
   "id": "a49a4780",
   "metadata": {},
   "outputs": [],
   "source": [
    "s.unstack(level=1)"
   ]
  },
  {
   "cell_type": "markdown",
   "id": "a638ad2d",
   "metadata": {},
   "source": [
    "### update"
   ]
  },
  {
   "cell_type": "code",
   "execution_count": null,
   "id": "427f54fc",
   "metadata": {},
   "outputs": [],
   "source": [
    "s = pd.Series([1, 2, 3])\n",
    "s"
   ]
  },
  {
   "cell_type": "code",
   "execution_count": null,
   "id": "3c8e102d",
   "metadata": {},
   "outputs": [],
   "source": [
    "s.update(pd.Series([4, 5, 6]))\n",
    "s"
   ]
  },
  {
   "cell_type": "code",
   "execution_count": null,
   "id": "a82b575f",
   "metadata": {},
   "outputs": [],
   "source": [
    "s = pd.Series(['a', 'b', 'c'])\n",
    "s.update(pd.Series(['d', 'e'], index=[1, 2]))\n",
    "s"
   ]
  },
  {
   "cell_type": "code",
   "execution_count": null,
   "id": "d6407d04",
   "metadata": {},
   "outputs": [],
   "source": [
    "s = pd.Series([1, 2, 3])\n",
    "s"
   ]
  },
  {
   "cell_type": "code",
   "execution_count": null,
   "id": "f1bda369",
   "metadata": {},
   "outputs": [],
   "source": [
    "s.update(pd.Series([4, 5, 6, 7, 8]))\n",
    "s"
   ]
  },
  {
   "cell_type": "code",
   "execution_count": null,
   "id": "e6c4988b",
   "metadata": {},
   "outputs": [],
   "source": [
    "s = pd.Series([1, 2, 3])\n",
    "s.update(pd.Series([4, np.nan, 6]))\n",
    "s"
   ]
  },
  {
   "cell_type": "markdown",
   "id": "91806276",
   "metadata": {},
   "source": [
    "### value_counts"
   ]
  },
  {
   "cell_type": "code",
   "execution_count": null,
   "id": "84b9d38c",
   "metadata": {
    "scrolled": true
   },
   "outputs": [],
   "source": [
    "index = pd.Index([3, 1, 2, 3, 4, np.nan])\n",
    "index.value_counts()"
   ]
  },
  {
   "cell_type": "code",
   "execution_count": null,
   "id": "0ee07d44",
   "metadata": {},
   "outputs": [],
   "source": [
    "index.value_counts(dropna=False)"
   ]
  },
  {
   "cell_type": "code",
   "execution_count": null,
   "id": "ece09e86",
   "metadata": {},
   "outputs": [],
   "source": [
    "s = pd.Series([3, 1, 2, 3, 4, np.nan])\n",
    "s.value_counts(normalize=True)"
   ]
  },
  {
   "cell_type": "code",
   "execution_count": null,
   "id": "b54f3d25",
   "metadata": {},
   "outputs": [],
   "source": [
    "s.value_counts(normalize=True,dropna=False)"
   ]
  },
  {
   "cell_type": "code",
   "execution_count": null,
   "id": "57b8fec7",
   "metadata": {},
   "outputs": [],
   "source": [
    "s.value_counts(bins=3)"
   ]
  },
  {
   "cell_type": "code",
   "execution_count": null,
   "id": "54bac764",
   "metadata": {},
   "outputs": [],
   "source": [
    "s.var()"
   ]
  },
  {
   "cell_type": "code",
   "execution_count": null,
   "id": "d3069644",
   "metadata": {},
   "outputs": [],
   "source": [
    "s"
   ]
  },
  {
   "cell_type": "markdown",
   "id": "5959a052",
   "metadata": {},
   "source": [
    "### var - variance"
   ]
  },
  {
   "cell_type": "code",
   "execution_count": null,
   "id": "7f7e5ef0",
   "metadata": {},
   "outputs": [],
   "source": []
  }
 ],
 "metadata": {
  "kernelspec": {
   "display_name": "Python 3 (ipykernel)",
   "language": "python",
   "name": "python3"
  },
  "language_info": {
   "codemirror_mode": {
    "name": "ipython",
    "version": 3
   },
   "file_extension": ".py",
   "mimetype": "text/x-python",
   "name": "python",
   "nbconvert_exporter": "python",
   "pygments_lexer": "ipython3",
   "version": "3.10.9"
  }
 },
 "nbformat": 4,
 "nbformat_minor": 5
}
