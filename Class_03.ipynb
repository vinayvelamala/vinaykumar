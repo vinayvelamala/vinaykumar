{
 "cells": [
  {
   "cell_type": "markdown",
   "id": "ecf0e631",
   "metadata": {},
   "source": [
    "# Agenda\n",
    "   \n",
    "### 1. Comments\n",
    "\n",
    "    1.1 Single Line Comment\n",
    "    \n",
    "    1.2 inline Comment\n",
    "\n",
    "    1.3 Multiple Line Comment\n",
    "    \n",
    "    1.4 Documentation strings\n",
    "\n",
    "### 2. Round\n",
    "\n",
    "    2.1 Removing decimals\n",
    "\n",
    "    2.2 Controlling decimals\n",
    "    \n",
    "### 3. Print Statements\n",
    "\n",
    "    -> Displaying\n",
    "\n",
    "    -> NoneType\n",
    "\n",
    "    -> Concatenation\n",
    "\n",
    "    -> Joining\n",
    "\n",
    "    -> New Line\n",
    "\n",
    "    -> Tab space\n",
    "    \n",
    "    -> end\n",
    "    \n",
    "    -> sep\n",
    "   \n",
    "### 4. Error types\n",
    "\n",
    "    -> Syntax Error\n",
    "\n",
    "    -> Name Error\n",
    "    \n",
    "    -> Value Error\n",
    "\n",
    "    -> Type Error\n",
    "    \n",
    "### 5. Python Literals\n",
    "\n",
    "### 6. Statements\n",
    "\n",
    "### 7. Syntax"
   ]
  },
  {
   "cell_type": "markdown",
   "id": "b257a06f",
   "metadata": {},
   "source": [
    "# Chapters in depth"
   ]
  },
  {
   "cell_type": "markdown",
   "id": "ddef6b7f",
   "metadata": {},
   "source": [
    "### 1. Comments\n",
    "\n",
    "    -> Readability of the Code\n",
    "\n",
    "    -> Restrict code execution\n",
    "\n",
    "    -> Provide an overview of the program or project metadata\n",
    "\n",
    "    -> To add resources to the code\n",
    "    \n",
    "#### 1.1 Single-line Comment\n",
    "\n",
    "    -> Single-line remarks in Python have shown to be effective for providing quick descriptions for parameters, function definitions, and expressions. \n",
    "\n",
    "    -> A single-line comment of Python is the one that has a hashtag # at the beginning of it and continues until the finish of the line. \n",
    "\n",
    "    -> If the comment continues to the next line, add a hashtag to the subsequent line and resume the conversation.\n",
    "    \n",
    "##### Example"
   ]
  },
  {
   "cell_type": "code",
   "execution_count": 1,
   "id": "0d7545f3",
   "metadata": {},
   "outputs": [
    {
     "data": {
      "text/plain": [
       "3"
      ]
     },
     "execution_count": 1,
     "metadata": {},
     "output_type": "execute_result"
    }
   ],
   "source": [
    "# I am assigning 3 value to v variable\n",
    "\n",
    "v = 3 \n",
    "v"
   ]
  },
  {
   "cell_type": "code",
   "execution_count": 2,
   "id": "6c28d3cd",
   "metadata": {},
   "outputs": [
    {
     "data": {
      "text/plain": [
       "'Divesh'"
      ]
     },
     "execution_count": 2,
     "metadata": {},
     "output_type": "execute_result"
    }
   ],
   "source": [
    "'This is single line comment'\n",
    "\n",
    "a = 'Divesh'\n",
    "a"
   ]
  },
  {
   "cell_type": "code",
   "execution_count": 3,
   "id": "7d44f465",
   "metadata": {},
   "outputs": [
    {
     "data": {
      "text/plain": [
       "'Divesh'"
      ]
     },
     "execution_count": 3,
     "metadata": {},
     "output_type": "execute_result"
    }
   ],
   "source": [
    "\"This is single line comment\"\n",
    "\n",
    "b = 'Divesh'\n",
    "b"
   ]
  },
  {
   "cell_type": "markdown",
   "id": "f45dc53b",
   "metadata": {},
   "source": [
    "#### 1.2 In-line Comment\n",
    "\n",
    "##### Example"
   ]
  },
  {
   "cell_type": "code",
   "execution_count": 4,
   "id": "e8a4a22c",
   "metadata": {},
   "outputs": [
    {
     "data": {
      "text/plain": [
       "3"
      ]
     },
     "execution_count": 4,
     "metadata": {},
     "output_type": "execute_result"
    }
   ],
   "source": [
    "x = 3 # I am assigning 3 value to x variable\n",
    "x"
   ]
  },
  {
   "cell_type": "markdown",
   "id": "54c3ff1e",
   "metadata": {},
   "source": [
    "#### 1.3 Multi-Line Comments\n",
    "\n",
    "    -> Python does not provide the facility for multi-line comments. \n",
    "    \n",
    "    -> However, there are indeed many ways to create multi-line comments."
   ]
  },
  {
   "cell_type": "markdown",
   "id": "745f071c",
   "metadata": {},
   "source": [
    "##### 1.3.1 With Multiple Hashtags (#)\n",
    "\n",
    "###### Example"
   ]
  },
  {
   "cell_type": "code",
   "execution_count": 5,
   "id": "2ab23c08",
   "metadata": {},
   "outputs": [
    {
     "data": {
      "text/plain": [
       "10"
      ]
     },
     "execution_count": 5,
     "metadata": {},
     "output_type": "execute_result"
    }
   ],
   "source": [
    "# I am \n",
    "# assigning 10 \n",
    "# value to \n",
    "# y variable\n",
    "\n",
    "y =10 \n",
    "y"
   ]
  },
  {
   "cell_type": "markdown",
   "id": "94d0151d",
   "metadata": {},
   "source": [
    "##### 1.3.2 Using String Literals\n",
    "\n",
    "Python overlooks string expressions that aren't allocated to a variable, we can utilize them as comments.\n",
    "\n",
    "###### Example"
   ]
  },
  {
   "cell_type": "code",
   "execution_count": 6,
   "id": "606ae65c",
   "metadata": {},
   "outputs": [
    {
     "ename": "SyntaxError",
     "evalue": "unterminated string literal (detected at line 1) (1479845734.py, line 1)",
     "output_type": "error",
     "traceback": [
      "\u001b[1;36m  Cell \u001b[1;32mIn[6], line 1\u001b[1;36m\u001b[0m\n\u001b[1;33m    'this\u001b[0m\n\u001b[1;37m    ^\u001b[0m\n\u001b[1;31mSyntaxError\u001b[0m\u001b[1;31m:\u001b[0m unterminated string literal (detected at line 1)\n"
     ]
    }
   ],
   "source": [
    "'this \n",
    "divesh'"
   ]
  },
  {
   "cell_type": "code",
   "execution_count": 7,
   "id": "63befb5b",
   "metadata": {},
   "outputs": [
    {
     "data": {
      "text/plain": [
       "10"
      ]
     },
     "execution_count": 7,
     "metadata": {},
     "output_type": "execute_result"
    }
   ],
   "source": [
    "'''This is \n",
    "multiple \n",
    "line \n",
    "comment'''\n",
    "\n",
    "b = 10\n",
    "b"
   ]
  },
  {
   "cell_type": "code",
   "execution_count": 8,
   "id": "56f6a16b",
   "metadata": {},
   "outputs": [
    {
     "data": {
      "text/plain": [
       "10"
      ]
     },
     "execution_count": 8,
     "metadata": {},
     "output_type": "execute_result"
    }
   ],
   "source": [
    "\"\"\"This is \n",
    "multiple line \n",
    "comment\"\"\"\n",
    "\n",
    "c = 10\n",
    "c"
   ]
  },
  {
   "cell_type": "markdown",
   "id": "e117aa2e",
   "metadata": {},
   "source": [
    "#### 1.4 Document String\n",
    "\n",
    "    -> The strings enclosed in triple quotes that come immediately after the defined function are called Python docstring. \n",
    "    \n",
    "    -> It's designed to link documentation developed for Python modules, methods, classes, and functions together. \n",
    "    \n",
    "    -> It's placed just beneath the function, module, or class to explain what they perform. \n",
    "    \n",
    "    -> The docstring is then readily accessible in Python using the __doc__ attribute.\n",
    "    \n",
    "##### Example"
   ]
  },
  {
   "cell_type": "code",
   "execution_count": 10,
   "id": "675c0c06",
   "metadata": {},
   "outputs": [],
   "source": [
    "''' Code to \n",
    "show how we \n",
    "use docstrings in Python ''' \n",
    "  \n",
    "def add(x, y):  \n",
    "    \"\"\"This function adds the values of x and y\"\"\" \n",
    "    return x + y  "
   ]
  },
  {
   "cell_type": "code",
   "execution_count": 11,
   "id": "ac5849d2",
   "metadata": {},
   "outputs": [
    {
     "name": "stdout",
     "output_type": "stream",
     "text": [
      "This function adds the values of x and y\n"
     ]
    }
   ],
   "source": [
    "# Displaying the docstring of the add function  \n",
    "print(add.__doc__)"
   ]
  },
  {
   "cell_type": "code",
   "execution_count": 12,
   "id": "07554df4",
   "metadata": {},
   "outputs": [
    {
     "data": {
      "text/plain": [
       "5"
      ]
     },
     "execution_count": 12,
     "metadata": {},
     "output_type": "execute_result"
    }
   ],
   "source": [
    "add(2,3)"
   ]
  },
  {
   "cell_type": "code",
   "execution_count": 13,
   "id": "d2f6f6ce",
   "metadata": {},
   "outputs": [
    {
     "data": {
      "text/plain": [
       "6"
      ]
     },
     "execution_count": 13,
     "metadata": {},
     "output_type": "execute_result"
    }
   ],
   "source": [
    "len('Divesh')"
   ]
  },
  {
   "cell_type": "code",
   "execution_count": 14,
   "id": "29352f61",
   "metadata": {},
   "outputs": [
    {
     "name": "stdout",
     "output_type": "stream",
     "text": [
      "Return the number of items in a container.\n"
     ]
    }
   ],
   "source": [
    "print(len.__doc__)"
   ]
  },
  {
   "cell_type": "markdown",
   "id": "751a7baa",
   "metadata": {},
   "source": [
    "#### 1.5 Difference between Docstrings and Multi-line Comments\n",
    "\n",
    "    -> Docstrings are written in the functions and classes to show how to use the program.\n",
    "\n",
    "    -> Multi-line comments are used to show how a block of code works."
   ]
  },
  {
   "cell_type": "markdown",
   "id": "18e999a6",
   "metadata": {},
   "source": [
    "### 2. Round \n",
    "\n",
    "#### 1.1 Removing decimals\n",
    "\n",
    "    -> round is build in function\n",
    "    \n",
    "    -> it going to round the number by removing the decimals\n",
    "    \n",
    "    -> Even user can customize, how many decimals need to display\n",
    "    \n",
    "##### Examples:"
   ]
  },
  {
   "cell_type": "code",
   "execution_count": 15,
   "id": "062b778c",
   "metadata": {},
   "outputs": [
    {
     "data": {
      "text/plain": [
       "6"
      ]
     },
     "execution_count": 15,
     "metadata": {},
     "output_type": "execute_result"
    }
   ],
   "source": [
    "round(5.5)"
   ]
  },
  {
   "cell_type": "code",
   "execution_count": 16,
   "id": "fcba0a46",
   "metadata": {},
   "outputs": [
    {
     "data": {
      "text/plain": [
       "5"
      ]
     },
     "execution_count": 16,
     "metadata": {},
     "output_type": "execute_result"
    }
   ],
   "source": [
    "round(5.4999)"
   ]
  },
  {
   "cell_type": "markdown",
   "id": "6cb82845",
   "metadata": {},
   "source": [
    "#### 2.2 Controling decimals\n",
    "\n",
    "round(value,ndigits)\n",
    "\n",
    "    Value: 85.852\n",
    "        \n",
    "    ndigits: 2 (Number of digits to display decimals)\n",
    "\n",
    "##### Examples:"
   ]
  },
  {
   "cell_type": "code",
   "execution_count": 17,
   "id": "7acf5f63",
   "metadata": {},
   "outputs": [
    {
     "data": {
      "text/plain": [
       "86"
      ]
     },
     "execution_count": 17,
     "metadata": {},
     "output_type": "execute_result"
    }
   ],
   "source": [
    "round(85.856)"
   ]
  },
  {
   "cell_type": "code",
   "execution_count": 18,
   "id": "0fa7b31b",
   "metadata": {},
   "outputs": [
    {
     "data": {
      "text/plain": [
       "85.85"
      ]
     },
     "execution_count": 18,
     "metadata": {},
     "output_type": "execute_result"
    }
   ],
   "source": [
    "round(85.852, 2)"
   ]
  },
  {
   "cell_type": "code",
   "execution_count": 19,
   "id": "fb1a32d5",
   "metadata": {},
   "outputs": [
    {
     "data": {
      "text/plain": [
       "85.86"
      ]
     },
     "execution_count": 19,
     "metadata": {},
     "output_type": "execute_result"
    }
   ],
   "source": [
    "round(85.856, 2)"
   ]
  },
  {
   "cell_type": "code",
   "execution_count": 20,
   "id": "a1544195",
   "metadata": {},
   "outputs": [
    {
     "data": {
      "text/plain": [
       "56.464945"
      ]
     },
     "execution_count": 20,
     "metadata": {},
     "output_type": "execute_result"
    }
   ],
   "source": [
    "round(56.464944987498496, 6)"
   ]
  },
  {
   "cell_type": "markdown",
   "id": "44f620bf",
   "metadata": {},
   "source": [
    "### 3. Print\n",
    "\n",
    "The print statement has been replaced with a print() function, with keyword arguments to replace most of the special syntax of the old print statement.\n",
    "\n",
    "In Python, single, double and triple quotes are used to denote a string. Most use single quotes when declaring a single character. Double quotes when declaring a line and triple quotes when declaring a paragraph/multiple lines.\n",
    "\n",
    "    -> print is a build in function\n",
    "    \n",
    "    -> print helps to display output\n",
    "    \n",
    "    -> print output not used in further operations\n",
    "    \n",
    "    -> print output is only for display because data type of the print output is NoneType\n",
    "    \n",
    "##### Examples:"
   ]
  },
  {
   "cell_type": "markdown",
   "id": "d90e6bad",
   "metadata": {},
   "source": [
    "#### 3.1 print helps to display outpu"
   ]
  },
  {
   "cell_type": "code",
   "execution_count": null,
   "id": "513a465a",
   "metadata": {},
   "outputs": [],
   "source": [
    "a = 3\n",
    "print(a)"
   ]
  },
  {
   "cell_type": "markdown",
   "id": "41efdae7",
   "metadata": {},
   "source": [
    "#### 3.2 Checking datatypes  "
   ]
  },
  {
   "cell_type": "code",
   "execution_count": null,
   "id": "fb3b3996",
   "metadata": {},
   "outputs": [],
   "source": [
    "type(a)"
   ]
  },
  {
   "cell_type": "code",
   "execution_count": null,
   "id": "9b54cfb0",
   "metadata": {},
   "outputs": [],
   "source": [
    "type(print(a))"
   ]
  },
  {
   "cell_type": "code",
   "execution_count": null,
   "id": "b6fa6a5c",
   "metadata": {},
   "outputs": [],
   "source": [
    "b = print(a)\n",
    "type(b)"
   ]
  },
  {
   "cell_type": "markdown",
   "id": "319d0b42",
   "metadata": {},
   "source": [
    "#### 3.3 print output cannot use in further operations"
   ]
  },
  {
   "cell_type": "code",
   "execution_count": null,
   "id": "24f5957c",
   "metadata": {},
   "outputs": [],
   "source": [
    "c = 8 + a\n",
    "c"
   ]
  },
  {
   "cell_type": "code",
   "execution_count": null,
   "id": "e709436e",
   "metadata": {},
   "outputs": [],
   "source": [
    "d = 8 + b\n",
    "d"
   ]
  },
  {
   "cell_type": "code",
   "execution_count": null,
   "id": "60935475",
   "metadata": {},
   "outputs": [],
   "source": [
    "e = b + b\n",
    "e"
   ]
  },
  {
   "cell_type": "markdown",
   "id": "f942740e",
   "metadata": {},
   "source": [
    "#### 3.4 Concatination\n",
    "\n",
    "    -> representation is +\n",
    "\n",
    "    -> we required two values to concate\n",
    "    \n",
    "    -> Two values must be same data type\n",
    "    \n",
    "    -> While we are concatinating no space generated"
   ]
  },
  {
   "cell_type": "code",
   "execution_count": null,
   "id": "92f046f0",
   "metadata": {},
   "outputs": [],
   "source": [
    "print(2+2)"
   ]
  },
  {
   "cell_type": "code",
   "execution_count": null,
   "id": "d1ed99a2",
   "metadata": {},
   "outputs": [],
   "source": [
    "print('div'+'esh')"
   ]
  },
  {
   "cell_type": "code",
   "execution_count": null,
   "id": "106d087e",
   "metadata": {},
   "outputs": [],
   "source": [
    "print('div'+'es'+'h')"
   ]
  },
  {
   "cell_type": "code",
   "execution_count": null,
   "id": "4dd61577",
   "metadata": {},
   "outputs": [],
   "source": [
    "print('2' + 2)"
   ]
  },
  {
   "cell_type": "markdown",
   "id": "013898dc",
   "metadata": {},
   "source": [
    "#### 3.5 Joining \n",
    "\n",
    "    -> representation is ,\n",
    "    \n",
    "    -> we required two values to joining\n",
    "    \n",
    "    -> Two values can be same or different data type\n",
    "    \n",
    "    -> While we are joining space generated"
   ]
  },
  {
   "cell_type": "code",
   "execution_count": null,
   "id": "b44c2339",
   "metadata": {},
   "outputs": [],
   "source": [
    "print(2,2)"
   ]
  },
  {
   "cell_type": "code",
   "execution_count": null,
   "id": "f75b0fb7",
   "metadata": {},
   "outputs": [],
   "source": [
    "print('div','esh')"
   ]
  },
  {
   "cell_type": "code",
   "execution_count": null,
   "id": "4fc93354",
   "metadata": {},
   "outputs": [],
   "source": [
    "print('2',2)"
   ]
  },
  {
   "cell_type": "code",
   "execution_count": null,
   "id": "6fc564d2",
   "metadata": {},
   "outputs": [],
   "source": [
    "a=8"
   ]
  },
  {
   "cell_type": "code",
   "execution_count": null,
   "id": "6c5f828a",
   "metadata": {},
   "outputs": [],
   "source": [
    "print(\"Number of students in a class:\",a)"
   ]
  },
  {
   "cell_type": "code",
   "execution_count": null,
   "id": "2995ea91",
   "metadata": {},
   "outputs": [],
   "source": [
    "print('Good','Morning'+'!')"
   ]
  },
  {
   "cell_type": "code",
   "execution_count": null,
   "id": "a955d1ab",
   "metadata": {},
   "outputs": [],
   "source": [
    "a = 'Good'\n",
    "b = 'Morning'\n",
    "c = '!'\n",
    "\n",
    "print(a,b,c)"
   ]
  },
  {
   "cell_type": "code",
   "execution_count": null,
   "id": "2eebb99b",
   "metadata": {},
   "outputs": [],
   "source": [
    "print(a+b+c)"
   ]
  },
  {
   "cell_type": "code",
   "execution_count": null,
   "id": "45d88052",
   "metadata": {},
   "outputs": [],
   "source": [
    "print(a,b+c)"
   ]
  },
  {
   "cell_type": "markdown",
   "id": "3bbe93f1",
   "metadata": {},
   "source": [
    "#### 3.6 New Line     \\n"
   ]
  },
  {
   "cell_type": "code",
   "execution_count": null,
   "id": "ca1b2cd6",
   "metadata": {},
   "outputs": [],
   "source": [
    "print('This is Divesh. \\nWorking in apss company.')"
   ]
  },
  {
   "cell_type": "code",
   "execution_count": null,
   "id": "d85c1e70",
   "metadata": {},
   "outputs": [],
   "source": [
    "print('This is Divesh. \\n Working in apss company.')"
   ]
  },
  {
   "cell_type": "code",
   "execution_count": null,
   "id": "49463a7a",
   "metadata": {},
   "outputs": [],
   "source": [
    "print(r'This is Divesh. \\n Working in apss company.')"
   ]
  },
  {
   "cell_type": "code",
   "execution_count": null,
   "id": "10fd3d43",
   "metadata": {},
   "outputs": [],
   "source": [
    "print('C:/USER/divesh\\notebook.\\nWorking in apss company.')"
   ]
  },
  {
   "cell_type": "code",
   "execution_count": null,
   "id": "4882b91d",
   "metadata": {},
   "outputs": [],
   "source": [
    "print(r'C:/USER/divesh\\notebook.\\nWorking in apss company.')"
   ]
  },
  {
   "cell_type": "code",
   "execution_count": null,
   "id": "b8c4a07c",
   "metadata": {},
   "outputs": [],
   "source": [
    "print(r'C:/USER/divesh\\notebook.','\\nWorking in apss company.')"
   ]
  },
  {
   "cell_type": "code",
   "execution_count": null,
   "id": "39123344",
   "metadata": {},
   "outputs": [],
   "source": [
    "print(r'C:/USER/divesh\\notebook.',r'\\nWorking in apss company.')"
   ]
  },
  {
   "cell_type": "code",
   "execution_count": null,
   "id": "aa53556b",
   "metadata": {},
   "outputs": [],
   "source": [
    "print('This is \\n\\n\\n\\n\\nDivesh')"
   ]
  },
  {
   "cell_type": "code",
   "execution_count": null,
   "id": "c54d4b1b",
   "metadata": {},
   "outputs": [],
   "source": [
    "print('This is', 8*'\\n','Divesh')"
   ]
  },
  {
   "cell_type": "markdown",
   "id": "452662d6",
   "metadata": {},
   "source": [
    "#### 3.7 tab   \\t"
   ]
  },
  {
   "cell_type": "code",
   "execution_count": null,
   "id": "05d43f51",
   "metadata": {},
   "outputs": [],
   "source": [
    "print('Jan\\tFeb\\tMar\\tApr')"
   ]
  },
  {
   "cell_type": "raw",
   "id": "48d5484e",
   "metadata": {},
   "source": [
    "1 tab = 4 spaces = 1 indent"
   ]
  },
  {
   "cell_type": "code",
   "execution_count": null,
   "id": "4b94d7e5",
   "metadata": {},
   "outputs": [],
   "source": [
    "print('Jan\\tFeb\\tMar\\tApr\\nMay\\tJun\\tJul\\tAug\\n\\nSep')"
   ]
  },
  {
   "cell_type": "markdown",
   "id": "8ea1bdd3",
   "metadata": {},
   "source": [
    "#### 3.8 end"
   ]
  },
  {
   "cell_type": "code",
   "execution_count": null,
   "id": "43d9b00e",
   "metadata": {},
   "outputs": [],
   "source": [
    "print(\"this is\")\n",
    "print('Divesh')"
   ]
  },
  {
   "cell_type": "code",
   "execution_count": null,
   "id": "c7b2b5ab",
   "metadata": {},
   "outputs": [],
   "source": [
    "print(\"this is\",end=\"\")\n",
    "print('Divesh')"
   ]
  },
  {
   "cell_type": "code",
   "execution_count": null,
   "id": "2c72c159",
   "metadata": {},
   "outputs": [],
   "source": [
    "print(\"this is\",end=\" \")\n",
    "print('Divesh')"
   ]
  },
  {
   "cell_type": "code",
   "execution_count": null,
   "id": "3445da93",
   "metadata": {},
   "outputs": [],
   "source": [
    "print(\"this is\",end=\" \")\n",
    "print('Divesh')\n",
    "print('Kumar')"
   ]
  },
  {
   "cell_type": "code",
   "execution_count": null,
   "id": "473e6940",
   "metadata": {},
   "outputs": [],
   "source": [
    "print(\"this is\",end=\" \")\n",
    "print('Divesh',end=\" \")\n",
    "print('Kumar')"
   ]
  },
  {
   "cell_type": "code",
   "execution_count": null,
   "id": "119b2868",
   "metadata": {},
   "outputs": [],
   "source": [
    "print(\"this is\",end=\"\\n\\n\")\n",
    "print('Divesh')"
   ]
  },
  {
   "cell_type": "code",
   "execution_count": null,
   "id": "efb52777",
   "metadata": {},
   "outputs": [],
   "source": [
    "print(\"this is\",end=\" @\")\n",
    "print('Divesh')"
   ]
  },
  {
   "cell_type": "markdown",
   "id": "c4cede76",
   "metadata": {},
   "source": [
    "#### 3.9 sep"
   ]
  },
  {
   "cell_type": "code",
   "execution_count": null,
   "id": "0324bc18",
   "metadata": {},
   "outputs": [],
   "source": [
    "a = 4\n",
    "b = 9\n",
    "c = 2022\n",
    "print(a,b,c)"
   ]
  },
  {
   "cell_type": "code",
   "execution_count": null,
   "id": "f7e3889b",
   "metadata": {},
   "outputs": [],
   "source": [
    "a = 4\n",
    "b = 9\n",
    "c = 2022\n",
    "print(a,b,c,sep='/')"
   ]
  },
  {
   "cell_type": "code",
   "execution_count": null,
   "id": "a68ad12f",
   "metadata": {},
   "outputs": [],
   "source": [
    "a = 4\n",
    "b = 9\n",
    "c = 2022\n",
    "print(a,b,c,sep='-')"
   ]
  },
  {
   "cell_type": "code",
   "execution_count": null,
   "id": "784c69eb",
   "metadata": {},
   "outputs": [],
   "source": [
    "a = 4\n",
    "b = 9\n",
    "c = 2022\n",
    "print(a,b,c,sep='@')"
   ]
  },
  {
   "cell_type": "markdown",
   "id": "222eeadb",
   "metadata": {},
   "source": [
    "### 4. Errors\n",
    "\n",
    "    -> Syntax error\n",
    "    \n",
    "    -> Name error\n",
    "    \n",
    "    -> Type Error\n",
    "    \n",
    "    -> Value Error"
   ]
  },
  {
   "cell_type": "markdown",
   "id": "0201762f",
   "metadata": {},
   "source": [
    "#### 4.1 Syntax Error"
   ]
  },
  {
   "cell_type": "code",
   "execution_count": null,
   "id": "2f7d5e99",
   "metadata": {},
   "outputs": [],
   "source": [
    "df!@ = 5"
   ]
  },
  {
   "cell_type": "markdown",
   "id": "13e09b98",
   "metadata": {},
   "source": [
    "#### 4.2  Name Error"
   ]
  },
  {
   "cell_type": "code",
   "execution_count": null,
   "id": "985e8109",
   "metadata": {},
   "outputs": [],
   "source": [
    "zebra"
   ]
  },
  {
   "cell_type": "markdown",
   "id": "3f531dfc",
   "metadata": {},
   "source": [
    "#### 4.3 Type Error"
   ]
  },
  {
   "cell_type": "code",
   "execution_count": null,
   "id": "95cfe7a0",
   "metadata": {},
   "outputs": [],
   "source": [
    "c = print(5)\n",
    "a = 5 + c"
   ]
  },
  {
   "cell_type": "markdown",
   "id": "39d005a5",
   "metadata": {},
   "source": [
    "#### 4.4 Value Error"
   ]
  },
  {
   "cell_type": "code",
   "execution_count": null,
   "id": "ce21e5d6",
   "metadata": {},
   "outputs": [],
   "source": [
    "a = int(input('Enter Number: '))\n",
    "a"
   ]
  },
  {
   "cell_type": "markdown",
   "id": "fafa9d7e",
   "metadata": {},
   "source": [
    "### 5. Python literals\n",
    "\n",
    "#### String literals\n",
    "\n",
    "String literals can be formed by enclosing a text in the quotes. We can use both single as well as double quotes to create a string."
   ]
  },
  {
   "cell_type": "code",
   "execution_count": null,
   "id": "51004a19",
   "metadata": {},
   "outputs": [],
   "source": [
    "a = \"Divesh\"\n",
    "a"
   ]
  },
  {
   "cell_type": "code",
   "execution_count": null,
   "id": "593e197d",
   "metadata": {},
   "outputs": [],
   "source": [
    "b = '12345'\n",
    "b"
   ]
  },
  {
   "cell_type": "code",
   "execution_count": null,
   "id": "11b804c8",
   "metadata": {},
   "outputs": [],
   "source": [
    "c = \"This is Divesh's Laptop\"\n",
    "c"
   ]
  },
  {
   "cell_type": "markdown",
   "id": "752f9cb8",
   "metadata": {},
   "source": [
    "#### Types of strings\n",
    "\n",
    "There are two types of Strings supported in Python"
   ]
  },
  {
   "cell_type": "markdown",
   "id": "400cf7c4",
   "metadata": {},
   "source": [
    "#### 5.1 Single-line String\n",
    "\n",
    "Single-line String- Strings that are terminated within a single-line are known as Single line Strings."
   ]
  },
  {
   "cell_type": "code",
   "execution_count": null,
   "id": "f14408a0",
   "metadata": {},
   "outputs": [],
   "source": [
    "a = \"hello\"\n",
    "a"
   ]
  },
  {
   "cell_type": "markdown",
   "id": "3abdc49a",
   "metadata": {},
   "source": [
    "#### 5.2 Multi-line String\n",
    "\n",
    "A piece of text that is written in multiple lines is known as multiple lines string.\n",
    "\n",
    "There are two ways to create multiline strings"
   ]
  },
  {
   "cell_type": "markdown",
   "id": "c97f5206",
   "metadata": {},
   "source": [
    "##### 5.2.1 Adding black slash at the end of each line."
   ]
  },
  {
   "cell_type": "code",
   "execution_count": null,
   "id": "33438558",
   "metadata": {},
   "outputs": [],
   "source": [
    "a = 'this is \n",
    "divesh'"
   ]
  },
  {
   "cell_type": "code",
   "execution_count": null,
   "id": "606a1555",
   "metadata": {},
   "outputs": [],
   "source": [
    "text ='this \\\n",
    "is \\\n",
    "divesh.'\n",
    "\n",
    "print(text)"
   ]
  },
  {
   "cell_type": "code",
   "execution_count": null,
   "id": "52eb164d",
   "metadata": {
    "scrolled": true
   },
   "outputs": [],
   "source": [
    "a = 'this hkgjikkgggggggggggggggggggggggggggggggggggggggggggggggggggggggfnd dddddddddddddddddddddddddddddddddddddddddddddddddddddddddddddddddddddddddd\\\n",
    "gggggggggggggggggggggggggggggggggggggggggggggggggggggggggggggggggggg\\\n",
    "is \\\n",
    "divesh'\n",
    "\n",
    "a"
   ]
  },
  {
   "cell_type": "markdown",
   "id": "c282d9e9",
   "metadata": {},
   "source": [
    "##### 5.2.2 Using triple quotation marks"
   ]
  },
  {
   "cell_type": "code",
   "execution_count": null,
   "id": "81ab67ed",
   "metadata": {},
   "outputs": [],
   "source": [
    "text = \"\"\"Welcome \n",
    "to the \n",
    "Active \n",
    "user\"\"\"\n",
    "\n",
    "print(text)"
   ]
  },
  {
   "cell_type": "code",
   "execution_count": null,
   "id": "a529e2c4",
   "metadata": {},
   "outputs": [],
   "source": [
    "text = '''Welcome \n",
    "to the \n",
    "Active \\\n",
    "user'''\n",
    "\n",
    "print(text)"
   ]
  },
  {
   "cell_type": "markdown",
   "id": "7290f89b",
   "metadata": {},
   "source": [
    "### 6.Statements\n",
    "\n",
    "    -> Instructions written in the source code for execution are called statements. \n",
    "\n",
    "    -> There are different types of statements in the Python programming language like Assignment statements, Conditional statements, Looping statements, etc. \n",
    "\n",
    "    -> These all help the user to get the required output. For example, n = 50 is an assignment statement."
   ]
  },
  {
   "cell_type": "markdown",
   "id": "f43a1190",
   "metadata": {},
   "source": [
    "#### 6.1 Single Line Statement"
   ]
  },
  {
   "cell_type": "code",
   "execution_count": null,
   "id": "b20c3caf",
   "metadata": {},
   "outputs": [],
   "source": [
    "n = 6\n",
    "m = 7"
   ]
  },
  {
   "cell_type": "markdown",
   "id": "35140be5",
   "metadata": {},
   "source": [
    "#### 6.2 Multi-Line Statements \n",
    "\n",
    "    -> Statements in Python can be extended to one or more lines using parentheses (), braces {}, square brackets [], semi-colon (;), continuation character slash (\\). \n",
    "\n",
    "    -> When the programmer needs to do long calculations and cannot fit his statements into one line, one can make use of these characters. "
   ]
  },
  {
   "cell_type": "markdown",
   "id": "825fa741",
   "metadata": {},
   "source": [
    "##### 6.2.1 Declared using Continuation Character \n",
    "\n",
    "    -> represents by using \\"
   ]
  },
  {
   "cell_type": "code",
   "execution_count": null,
   "id": "b31abfae",
   "metadata": {},
   "outputs": [],
   "source": [
    "s = 1 + 2 + 3 + \\\n",
    "    4 + 5 + 6 + \\\n",
    "    7 + 8 + 9\n",
    "\n",
    "s"
   ]
  },
  {
   "cell_type": "markdown",
   "id": "aad629d9",
   "metadata": {},
   "source": [
    "##### 6.2.2 Declared using parentheses\n",
    "\n",
    "    -> represents by using ( )"
   ]
  },
  {
   "cell_type": "code",
   "execution_count": null,
   "id": "7aec654a",
   "metadata": {},
   "outputs": [],
   "source": [
    "n = (1 + (2 * 3) + \n",
    "     7 + \n",
    "     8 + 9)\n",
    "\n",
    "n"
   ]
  },
  {
   "cell_type": "markdown",
   "id": "97e064b2",
   "metadata": {},
   "source": [
    "##### 6.2.3 Declared using square brackets\n",
    "\n",
    "    -> represents by using [ ]"
   ]
  },
  {
   "cell_type": "code",
   "execution_count": null,
   "id": "120be35a",
   "metadata": {},
   "outputs": [],
   "source": [
    "footballer = ['MESSI',\n",
    "          'NEYMAR', \n",
    "\n",
    "              \n",
    "              \n",
    "          'SUAREZ']\n",
    "\n",
    "footballer"
   ]
  },
  {
   "cell_type": "markdown",
   "id": "a9604e47",
   "metadata": {},
   "source": [
    "##### 6.2.4 Declared using braces \n",
    "\n",
    "    -> represents by using { }"
   ]
  },
  {
   "cell_type": "code",
   "execution_count": null,
   "id": "f7842f23",
   "metadata": {},
   "outputs": [],
   "source": [
    "s = {1 + 2 + 3 + 4 + 5 + 6 +\n",
    "     7 + 8 + 9}\n",
    "\n",
    "s"
   ]
  },
  {
   "cell_type": "markdown",
   "id": "499b701c",
   "metadata": {},
   "source": [
    "##### 6.2.5 Declared using semicolons \n",
    "\n",
    "    -> represents by using ;"
   ]
  },
  {
   "cell_type": "code",
   "execution_count": null,
   "id": "c77752bb",
   "metadata": {},
   "outputs": [],
   "source": [
    "# flag =2\n",
    "# ropes = 3\n",
    "# pole = 4\n",
    "# flag,ropes,pole = 2,3,4\n",
    "flag = 2\n",
    "ropes = 3; pole = 4\n",
    "h =5\n",
    "ropes"
   ]
  },
  {
   "cell_type": "markdown",
   "id": "5cc4d9c2",
   "metadata": {},
   "source": [
    "### 7. Syntax\n",
    "\n",
    "    -> A Python statement ends with a newline character.\n",
    "\n",
    "    -> Python uses spaces and identation to organize its code structure.\n",
    "\n",
    "    -> Identifiers are names that identify variables, functions, modules, classes, etc. in Python.\n",
    "\n",
    "    -> Comments describe why the code works. They are ingored by the Python interpreter.\n",
    "\n",
    "    -> Use the single quote, double-quotes, tripple-quotes, or tripple double-quotes to denote\n",
    "    \n"
   ]
  }
 ],
 "metadata": {
  "kernelspec": {
   "display_name": "Python 3 (ipykernel)",
   "language": "python",
   "name": "python3"
  },
  "language_info": {
   "codemirror_mode": {
    "name": "ipython",
    "version": 3
   },
   "file_extension": ".py",
   "mimetype": "text/x-python",
   "name": "python",
   "nbconvert_exporter": "python",
   "pygments_lexer": "ipython3",
   "version": "3.10.9"
  }
 },
 "nbformat": 4,
 "nbformat_minor": 5
}
