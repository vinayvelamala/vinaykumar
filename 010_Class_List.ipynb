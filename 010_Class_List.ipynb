{
 "cells": [
  {
   "cell_type": "markdown",
   "id": "c8310c0c",
   "metadata": {},
   "source": [
    "### In python we are having special Datatypes.\n",
    "\n",
    "Those special datatypes we are going to call it has build in/pre defined data structures\n",
    "\n",
    "    -> tuple\n",
    "    \n",
    "    -> list\n",
    "    \n",
    "    -> dict\n",
    "    \n",
    "    -> set"
   ]
  },
  {
   "cell_type": "markdown",
   "id": "3c51dd0e",
   "metadata": {},
   "source": [
    "-> Special Data types can hold multiple values at a time\n",
    "\n",
    "-> values are nothing but elements\n",
    "\n",
    "-> elements can be any datatype\n",
    "\n",
    "-> elements are seperated by using commas\n",
    "\n",
    "-> all these elments must enclosed in between brackets\n",
    "\n",
    "    -> tuple => ()\n",
    "    \n",
    "    -> list  => []\n",
    "    \n",
    "    -> dict  => {}\n",
    "    \n",
    "    -> set   => {}"
   ]
  },
  {
   "cell_type": "markdown",
   "id": "d72bf36c",
   "metadata": {},
   "source": [
    "### tuple and list\n",
    "\n",
    "    -> Tuple and List can hold multiple values at a time\n",
    "    \n",
    "    -> Values are nothing but elements\n",
    "    \n",
    "    -> elements can be any data types\n",
    "    \n",
    "    -> all elements must seperate by using commas\n",
    "    \n",
    "    -> elments must enclosed with brackets\n",
    "    \n",
    "Difference Between Tuple and List\n",
    "\n",
    "#### Tuple:\n",
    "    \n",
    "    -> Tuple elements are enclosed in between ()\n",
    "    \n",
    "    -> Tuple elements are immutable\n",
    "    \n",
    "    -> That means which cannot change\n",
    "    \n",
    "    -> Tuples are faster than list\n",
    "    \n",
    "    -> tuple elements read only\n",
    "    \n",
    "#### List:\n",
    "    \n",
    "    -> List elements are enclosed in between []\n",
    "    \n",
    "    -> list elements are mutable\n",
    "    \n",
    "    -> that means which can be change\n",
    "    \n",
    "    -> list elements are for both read and write"
   ]
  },
  {
   "cell_type": "code",
   "execution_count": 69,
   "id": "b649c898",
   "metadata": {},
   "outputs": [
    {
     "data": {
      "text/plain": [
       "[5, 9.6, 'h']"
      ]
     },
     "execution_count": 69,
     "metadata": {},
     "output_type": "execute_result"
    }
   ],
   "source": [
    "lst = [5, 9.6, 'h']\n",
    "lst"
   ]
  },
  {
   "cell_type": "code",
   "execution_count": 60,
   "id": "cce7926e",
   "metadata": {},
   "outputs": [
    {
     "data": {
      "text/plain": [
       "list"
      ]
     },
     "execution_count": 60,
     "metadata": {},
     "output_type": "execute_result"
    }
   ],
   "source": [
    "type(lst)"
   ]
  },
  {
   "cell_type": "code",
   "execution_count": 61,
   "id": "fe38e672",
   "metadata": {},
   "outputs": [
    {
     "data": {
      "text/plain": [
       "'h'"
      ]
     },
     "execution_count": 61,
     "metadata": {},
     "output_type": "execute_result"
    }
   ],
   "source": [
    "lst[2]"
   ]
  },
  {
   "cell_type": "code",
   "execution_count": 65,
   "id": "2a8c382c",
   "metadata": {},
   "outputs": [
    {
     "data": {
      "text/plain": [
       "str"
      ]
     },
     "execution_count": 65,
     "metadata": {},
     "output_type": "execute_result"
    }
   ],
   "source": [
    "type(lst[2])"
   ]
  },
  {
   "cell_type": "code",
   "execution_count": 66,
   "id": "645c243d",
   "metadata": {},
   "outputs": [
    {
     "data": {
      "text/plain": [
       "[5, 9.6, 'h']"
      ]
     },
     "execution_count": 66,
     "metadata": {},
     "output_type": "execute_result"
    }
   ],
   "source": [
    "lst"
   ]
  },
  {
   "cell_type": "code",
   "execution_count": null,
   "id": "1432f795",
   "metadata": {},
   "outputs": [],
   "source": [
    "lst."
   ]
  },
  {
   "cell_type": "code",
   "execution_count": 70,
   "id": "0233951b",
   "metadata": {},
   "outputs": [
    {
     "data": {
      "text/plain": [
       "[5, 9.6, 'h', 56]"
      ]
     },
     "execution_count": 70,
     "metadata": {},
     "output_type": "execute_result"
    }
   ],
   "source": [
    "# append -> adding only one element atlast\n",
    "lst.append(56)\n",
    "lst"
   ]
  },
  {
   "cell_type": "code",
   "execution_count": 71,
   "id": "dd0a22b3",
   "metadata": {},
   "outputs": [
    {
     "ename": "TypeError",
     "evalue": "list.append() takes exactly one argument (2 given)",
     "output_type": "error",
     "traceback": [
      "\u001b[1;31m---------------------------------------------------------------------------\u001b[0m",
      "\u001b[1;31mTypeError\u001b[0m                                 Traceback (most recent call last)",
      "Cell \u001b[1;32mIn[71], line 1\u001b[0m\n\u001b[1;32m----> 1\u001b[0m \u001b[43mlst\u001b[49m\u001b[38;5;241;43m.\u001b[39;49m\u001b[43mappend\u001b[49m\u001b[43m(\u001b[49m\u001b[38;5;241;43m5\u001b[39;49m\u001b[43m,\u001b[49m\u001b[38;5;241;43m6\u001b[39;49m\u001b[43m)\u001b[49m\n\u001b[0;32m      2\u001b[0m lst\n",
      "\u001b[1;31mTypeError\u001b[0m: list.append() takes exactly one argument (2 given)"
     ]
    }
   ],
   "source": [
    "lst.append(5,6)\n",
    "lst"
   ]
  },
  {
   "cell_type": "code",
   "execution_count": 72,
   "id": "d6cabf28",
   "metadata": {},
   "outputs": [],
   "source": [
    "lst.append((5,6))"
   ]
  },
  {
   "cell_type": "code",
   "execution_count": 73,
   "id": "794222ba",
   "metadata": {},
   "outputs": [
    {
     "data": {
      "text/plain": [
       "[5, 9.6, 'h', 56, (5, 6)]"
      ]
     },
     "execution_count": 73,
     "metadata": {},
     "output_type": "execute_result"
    }
   ],
   "source": [
    "lst"
   ]
  },
  {
   "cell_type": "code",
   "execution_count": 74,
   "id": "03c37ed9",
   "metadata": {},
   "outputs": [
    {
     "ename": "TypeError",
     "evalue": "list.extend() takes exactly one argument (2 given)",
     "output_type": "error",
     "traceback": [
      "\u001b[1;31m---------------------------------------------------------------------------\u001b[0m",
      "\u001b[1;31mTypeError\u001b[0m                                 Traceback (most recent call last)",
      "Cell \u001b[1;32mIn[74], line 2\u001b[0m\n\u001b[0;32m      1\u001b[0m \u001b[38;5;66;03m# extend -> we can add muiltiple elements atlast\u001b[39;00m\n\u001b[1;32m----> 2\u001b[0m \u001b[43mlst\u001b[49m\u001b[38;5;241;43m.\u001b[39;49m\u001b[43mextend\u001b[49m\u001b[43m(\u001b[49m\u001b[38;5;241;43m5\u001b[39;49m\u001b[43m,\u001b[49m\u001b[38;5;241;43m6\u001b[39;49m\u001b[43m)\u001b[49m\n\u001b[0;32m      3\u001b[0m lst\n",
      "\u001b[1;31mTypeError\u001b[0m: list.extend() takes exactly one argument (2 given)"
     ]
    }
   ],
   "source": [
    "# extend -> we can add muiltiple elements atlast\n",
    "lst.extend(5,6)\n",
    "lst"
   ]
  },
  {
   "cell_type": "code",
   "execution_count": 75,
   "id": "f4d93b20",
   "metadata": {},
   "outputs": [
    {
     "data": {
      "text/plain": [
       "[5, 9.6, 'h', 56, (5, 6), 5, 6]"
      ]
     },
     "execution_count": 75,
     "metadata": {},
     "output_type": "execute_result"
    }
   ],
   "source": [
    "lst.extend((5,6))\n",
    "lst"
   ]
  },
  {
   "cell_type": "code",
   "execution_count": 76,
   "id": "7a3e9221",
   "metadata": {},
   "outputs": [
    {
     "data": {
      "text/plain": [
       "[5, 9.6, 'h', 56, (5, 6), 5, 6, (6, 5), 5]"
      ]
     },
     "execution_count": 76,
     "metadata": {},
     "output_type": "execute_result"
    }
   ],
   "source": [
    "lst.extend(((6,5),5))\n",
    "lst"
   ]
  },
  {
   "cell_type": "code",
   "execution_count": 77,
   "id": "3748c594",
   "metadata": {},
   "outputs": [
    {
     "data": {
      "text/plain": [
       "[5, 9.6, 'e', 'h', 56, (5, 6), 5, 6, (6, 5), 5]"
      ]
     },
     "execution_count": 77,
     "metadata": {},
     "output_type": "execute_result"
    }
   ],
   "source": [
    "# index: 2\n",
    "# element: 'e'\n",
    "lst.insert(2,'e')\n",
    "lst"
   ]
  },
  {
   "cell_type": "code",
   "execution_count": 78,
   "id": "12afad96",
   "metadata": {},
   "outputs": [
    {
     "data": {
      "text/plain": [
       "5"
      ]
     },
     "execution_count": 78,
     "metadata": {},
     "output_type": "execute_result"
    }
   ],
   "source": [
    "# pop -> cut and paste\n",
    "# Default it cut last element\n",
    "# By using index value we can cut the specific element\n",
    "\n",
    "lst.pop()"
   ]
  },
  {
   "cell_type": "code",
   "execution_count": 79,
   "id": "8437cc66",
   "metadata": {},
   "outputs": [
    {
     "data": {
      "text/plain": [
       "[5, 9.6, 'e', 'h', 56, (5, 6), 5, 6, (6, 5)]"
      ]
     },
     "execution_count": 79,
     "metadata": {},
     "output_type": "execute_result"
    }
   ],
   "source": [
    "lst"
   ]
  },
  {
   "cell_type": "code",
   "execution_count": 80,
   "id": "6bcc8ff0",
   "metadata": {},
   "outputs": [
    {
     "data": {
      "text/plain": [
       "(6, 5)"
      ]
     },
     "execution_count": 80,
     "metadata": {},
     "output_type": "execute_result"
    }
   ],
   "source": [
    "po = lst.pop()\n",
    "po"
   ]
  },
  {
   "cell_type": "code",
   "execution_count": 81,
   "id": "ed5b4523",
   "metadata": {},
   "outputs": [
    {
     "data": {
      "text/plain": [
       "tuple"
      ]
     },
     "execution_count": 81,
     "metadata": {},
     "output_type": "execute_result"
    }
   ],
   "source": [
    "type(po)"
   ]
  },
  {
   "cell_type": "code",
   "execution_count": 82,
   "id": "7fd87be8",
   "metadata": {},
   "outputs": [
    {
     "data": {
      "text/plain": [
       "[5, 9.6, 'e', 'h', 56, (5, 6), 5, 6]"
      ]
     },
     "execution_count": 82,
     "metadata": {},
     "output_type": "execute_result"
    }
   ],
   "source": [
    "lst"
   ]
  },
  {
   "cell_type": "code",
   "execution_count": 83,
   "id": "540383ee",
   "metadata": {},
   "outputs": [
    {
     "data": {
      "text/plain": [
       "'e'"
      ]
     },
     "execution_count": 83,
     "metadata": {},
     "output_type": "execute_result"
    }
   ],
   "source": [
    "lst.pop(2)"
   ]
  },
  {
   "cell_type": "code",
   "execution_count": 84,
   "id": "db3d84c4",
   "metadata": {},
   "outputs": [
    {
     "data": {
      "text/plain": [
       "[5, 9.6, 'h', 56, (5, 6), 5, 6]"
      ]
     },
     "execution_count": 84,
     "metadata": {},
     "output_type": "execute_result"
    }
   ],
   "source": [
    "lst"
   ]
  },
  {
   "cell_type": "code",
   "execution_count": 85,
   "id": "01aa612b",
   "metadata": {},
   "outputs": [
    {
     "data": {
      "text/plain": [
       "[9.6, 'h', 56, (5, 6), 5, 6]"
      ]
     },
     "execution_count": 85,
     "metadata": {},
     "output_type": "execute_result"
    }
   ],
   "source": [
    "# 5 -> element value\n",
    "lst.remove(5)\n",
    "lst"
   ]
  },
  {
   "cell_type": "code",
   "execution_count": 86,
   "id": "bb8aee25",
   "metadata": {},
   "outputs": [
    {
     "ename": "ValueError",
     "evalue": "list.remove(x): x not in list",
     "output_type": "error",
     "traceback": [
      "\u001b[1;31m---------------------------------------------------------------------------\u001b[0m",
      "\u001b[1;31mValueError\u001b[0m                                Traceback (most recent call last)",
      "Cell \u001b[1;32mIn[86], line 1\u001b[0m\n\u001b[1;32m----> 1\u001b[0m \u001b[43mlst\u001b[49m\u001b[38;5;241;43m.\u001b[39;49m\u001b[43mremove\u001b[49m\u001b[43m(\u001b[49m\u001b[38;5;241;43m7\u001b[39;49m\u001b[43m)\u001b[49m\n",
      "\u001b[1;31mValueError\u001b[0m: list.remove(x): x not in list"
     ]
    }
   ],
   "source": [
    "lst.remove(7)"
   ]
  },
  {
   "cell_type": "code",
   "execution_count": 87,
   "id": "8e972742",
   "metadata": {},
   "outputs": [
    {
     "data": {
      "text/plain": [
       "[]"
      ]
     },
     "execution_count": 87,
     "metadata": {},
     "output_type": "execute_result"
    }
   ],
   "source": [
    "# clear -> empty list => all elements removed\n",
    "lst.clear()\n",
    "lst"
   ]
  },
  {
   "cell_type": "code",
   "execution_count": null,
   "id": "541d2577",
   "metadata": {},
   "outputs": [],
   "source": [
    "lst.copy\n",
    "lst.count\n",
    "lst.index\n",
    "lst.reverse\n",
    "lst.sort"
   ]
  },
  {
   "cell_type": "code",
   "execution_count": 2,
   "id": "5d235ea0",
   "metadata": {},
   "outputs": [
    {
     "data": {
      "text/plain": [
       "[4, 65, 21, 2, 3, 8, 36]"
      ]
     },
     "execution_count": 2,
     "metadata": {},
     "output_type": "execute_result"
    }
   ],
   "source": [
    "lst = [4,65,21,2,3,8,36]\n",
    "lst"
   ]
  },
  {
   "cell_type": "code",
   "execution_count": 89,
   "id": "50d21c9e",
   "metadata": {},
   "outputs": [
    {
     "data": {
      "text/plain": [
       "[36, 8, 3, 2, 21, 65, 4]"
      ]
     },
     "execution_count": 89,
     "metadata": {},
     "output_type": "execute_result"
    }
   ],
   "source": [
    "# Whatever elements are there we are just reversing those values\n",
    "lst.reverse()\n",
    "lst"
   ]
  },
  {
   "cell_type": "code",
   "execution_count": 90,
   "id": "185492d3",
   "metadata": {},
   "outputs": [
    {
     "data": {
      "text/plain": [
       "[2, 3, 4, 8, 21, 36, 65]"
      ]
     },
     "execution_count": 90,
     "metadata": {},
     "output_type": "execute_result"
    }
   ],
   "source": [
    "# default it arrange in the form of ascending order\n",
    "lst.sort()\n",
    "lst"
   ]
  },
  {
   "cell_type": "code",
   "execution_count": 91,
   "id": "a591df41",
   "metadata": {},
   "outputs": [
    {
     "data": {
      "text/plain": [
       "[65, 36, 21, 8, 4, 3, 2]"
      ]
     },
     "execution_count": 91,
     "metadata": {},
     "output_type": "execute_result"
    }
   ],
   "source": [
    "# reverse = True helps convert elements into descending order\n",
    "lst.sort(reverse=True)\n",
    "lst"
   ]
  },
  {
   "cell_type": "code",
   "execution_count": 93,
   "id": "2d80f4c4",
   "metadata": {},
   "outputs": [
    {
     "data": {
      "text/plain": [
       "1"
      ]
     },
     "execution_count": 93,
     "metadata": {},
     "output_type": "execute_result"
    }
   ],
   "source": [
    "# we are checking a specific values how many times repeated\n",
    "lst.count(4)"
   ]
  },
  {
   "cell_type": "code",
   "execution_count": 94,
   "id": "69de08c3",
   "metadata": {},
   "outputs": [
    {
     "data": {
      "text/plain": [
       "[65, 36, 21, 8, 4, 3, 2]"
      ]
     },
     "execution_count": 94,
     "metadata": {},
     "output_type": "execute_result"
    }
   ],
   "source": [
    "lst"
   ]
  },
  {
   "cell_type": "code",
   "execution_count": 95,
   "id": "1df4e40e",
   "metadata": {},
   "outputs": [
    {
     "data": {
      "text/plain": [
       "2"
      ]
     },
     "execution_count": 95,
     "metadata": {},
     "output_type": "execute_result"
    }
   ],
   "source": [
    "# A specific values displaying the index value\n",
    "lst.index(21)"
   ]
  },
  {
   "cell_type": "code",
   "execution_count": 96,
   "id": "0dc75933",
   "metadata": {},
   "outputs": [
    {
     "data": {
      "text/plain": [
       "[65, 36, 21, 8, 4, 3, 2]"
      ]
     },
     "execution_count": 96,
     "metadata": {},
     "output_type": "execute_result"
    }
   ],
   "source": [
    "lst1 = lst.copy()\n",
    "lst1"
   ]
  },
  {
   "cell_type": "code",
   "execution_count": 4,
   "id": "af0f5a04",
   "metadata": {},
   "outputs": [
    {
     "data": {
      "text/plain": [
       "[4, 65, 21, 2, 3, 8, 36]"
      ]
     },
     "execution_count": 4,
     "metadata": {},
     "output_type": "execute_result"
    }
   ],
   "source": [
    "lst = [4,65,21,2,3,8,36]\n",
    "lst"
   ]
  },
  {
   "cell_type": "markdown",
   "id": "3a89f3a3",
   "metadata": {},
   "source": [
    "list is a mutable datatype"
   ]
  },
  {
   "cell_type": "code",
   "execution_count": 5,
   "id": "961b8153",
   "metadata": {},
   "outputs": [
    {
     "data": {
      "text/plain": [
       "[4, 65, 44, 2, 3, 8, 36]"
      ]
     },
     "execution_count": 5,
     "metadata": {},
     "output_type": "execute_result"
    }
   ],
   "source": [
    "lst[2] = 44\n",
    "lst"
   ]
  },
  {
   "cell_type": "code",
   "execution_count": null,
   "id": "27265be5",
   "metadata": {},
   "outputs": [],
   "source": [
    "lst1"
   ]
  },
  {
   "cell_type": "code",
   "execution_count": 6,
   "id": "1360cc76",
   "metadata": {},
   "outputs": [
    {
     "data": {
      "text/plain": [
       "[4, (4, 5, 6), 'hi']"
      ]
     },
     "execution_count": 6,
     "metadata": {},
     "output_type": "execute_result"
    }
   ],
   "source": [
    "lst = [4,(4,5,6),'hi']\n",
    "lst"
   ]
  },
  {
   "cell_type": "markdown",
   "id": "3e1db823",
   "metadata": {},
   "source": [
    "## indexing\n",
    "\n",
    "In python index \n",
    "\n",
    "    -> Forward Indexing\n",
    "    \n",
    "        Starts @ 0\n",
    "    \n",
    "        Ends @ n-1\n",
    "        \n",
    "    -> Reverse Indexing \n",
    "    \n",
    "        Start @ -1\n",
    "        \n",
    "        Ends @ -n"
   ]
  },
  {
   "cell_type": "code",
   "execution_count": 7,
   "id": "ac70b482",
   "metadata": {},
   "outputs": [
    {
     "data": {
      "text/plain": [
       "[4, (4, 5, 6), 'hi']"
      ]
     },
     "execution_count": 7,
     "metadata": {},
     "output_type": "execute_result"
    }
   ],
   "source": [
    "lst"
   ]
  },
  {
   "cell_type": "code",
   "execution_count": 8,
   "id": "ad8fd1db",
   "metadata": {},
   "outputs": [
    {
     "data": {
      "text/plain": [
       "4"
      ]
     },
     "execution_count": 8,
     "metadata": {},
     "output_type": "execute_result"
    }
   ],
   "source": [
    "lst[0]"
   ]
  },
  {
   "cell_type": "code",
   "execution_count": 9,
   "id": "cbc7d41e",
   "metadata": {},
   "outputs": [
    {
     "data": {
      "text/plain": [
       "(4, 5, 6)"
      ]
     },
     "execution_count": 9,
     "metadata": {},
     "output_type": "execute_result"
    }
   ],
   "source": [
    "lst[1]"
   ]
  },
  {
   "cell_type": "code",
   "execution_count": 10,
   "id": "07584197",
   "metadata": {},
   "outputs": [
    {
     "data": {
      "text/plain": [
       "'hi'"
      ]
     },
     "execution_count": 10,
     "metadata": {},
     "output_type": "execute_result"
    }
   ],
   "source": [
    "lst[2]"
   ]
  },
  {
   "cell_type": "code",
   "execution_count": 11,
   "id": "20de9b98",
   "metadata": {},
   "outputs": [
    {
     "data": {
      "text/plain": [
       "[4, (4, 5, 6), 'hi']"
      ]
     },
     "execution_count": 11,
     "metadata": {},
     "output_type": "execute_result"
    }
   ],
   "source": [
    "lst"
   ]
  },
  {
   "cell_type": "raw",
   "id": "c5d58cbb",
   "metadata": {},
   "source": [
    "lst[0] -> 4\n",
    "\n",
    "lst[1] -> (4,5,6)\n",
    "    \n",
    "    lst[1][0] -> 4\n",
    "    lst[1][1] -> 5\n",
    "    lst[1][2] -> 6\n",
    "\n",
    "lst[2] -> 'hi'\n",
    "    \n",
    "    lst[2][0] -> 'h'\n",
    "    lst[2][1] -> 'i'"
   ]
  },
  {
   "cell_type": "code",
   "execution_count": 12,
   "id": "da7259f3",
   "metadata": {},
   "outputs": [
    {
     "data": {
      "text/plain": [
       "[4, (4, 5, 6), 'hi']"
      ]
     },
     "execution_count": 12,
     "metadata": {},
     "output_type": "execute_result"
    }
   ],
   "source": [
    "lst"
   ]
  },
  {
   "cell_type": "code",
   "execution_count": 13,
   "id": "b0c7acea",
   "metadata": {},
   "outputs": [
    {
     "data": {
      "text/plain": [
       "4"
      ]
     },
     "execution_count": 13,
     "metadata": {},
     "output_type": "execute_result"
    }
   ],
   "source": [
    "lst[0]"
   ]
  },
  {
   "cell_type": "code",
   "execution_count": 14,
   "id": "5a054573",
   "metadata": {},
   "outputs": [
    {
     "data": {
      "text/plain": [
       "'hi'"
      ]
     },
     "execution_count": 14,
     "metadata": {},
     "output_type": "execute_result"
    }
   ],
   "source": [
    "lst[2]"
   ]
  },
  {
   "cell_type": "code",
   "execution_count": 15,
   "id": "06393f88",
   "metadata": {},
   "outputs": [
    {
     "data": {
      "text/plain": [
       "'i'"
      ]
     },
     "execution_count": 15,
     "metadata": {},
     "output_type": "execute_result"
    }
   ],
   "source": [
    "lst[2][1]"
   ]
  },
  {
   "cell_type": "code",
   "execution_count": 16,
   "id": "94fb56b7",
   "metadata": {},
   "outputs": [
    {
     "data": {
      "text/plain": [
       "(4, 5, 6)"
      ]
     },
     "execution_count": 16,
     "metadata": {},
     "output_type": "execute_result"
    }
   ],
   "source": [
    "lst[1]"
   ]
  },
  {
   "cell_type": "code",
   "execution_count": 17,
   "id": "356812ca",
   "metadata": {},
   "outputs": [
    {
     "ename": "IndexError",
     "evalue": "tuple index out of range",
     "output_type": "error",
     "traceback": [
      "\u001b[1;31m---------------------------------------------------------------------------\u001b[0m",
      "\u001b[1;31mIndexError\u001b[0m                                Traceback (most recent call last)",
      "Cell \u001b[1;32mIn[17], line 1\u001b[0m\n\u001b[1;32m----> 1\u001b[0m \u001b[43mlst\u001b[49m\u001b[43m[\u001b[49m\u001b[38;5;241;43m1\u001b[39;49m\u001b[43m]\u001b[49m\u001b[43m[\u001b[49m\u001b[38;5;241;43m3\u001b[39;49m\u001b[43m]\u001b[49m\n",
      "\u001b[1;31mIndexError\u001b[0m: tuple index out of range"
     ]
    }
   ],
   "source": [
    "lst[1][3]"
   ]
  },
  {
   "cell_type": "code",
   "execution_count": 18,
   "id": "43171b16",
   "metadata": {},
   "outputs": [
    {
     "data": {
      "text/plain": [
       "5"
      ]
     },
     "execution_count": 18,
     "metadata": {},
     "output_type": "execute_result"
    }
   ],
   "source": [
    "lst[1][1]"
   ]
  },
  {
   "cell_type": "code",
   "execution_count": 19,
   "id": "b75aa0fd",
   "metadata": {},
   "outputs": [
    {
     "data": {
      "text/plain": [
       "[4, (4, 5, 6), 'hi']"
      ]
     },
     "execution_count": 19,
     "metadata": {},
     "output_type": "execute_result"
    }
   ],
   "source": [
    "lst"
   ]
  },
  {
   "cell_type": "code",
   "execution_count": 20,
   "id": "feecfc07",
   "metadata": {},
   "outputs": [
    {
     "data": {
      "text/plain": [
       "[4, (4, 5, 6), 'hello']"
      ]
     },
     "execution_count": 20,
     "metadata": {},
     "output_type": "execute_result"
    }
   ],
   "source": [
    "lst[2] = 'hello'\n",
    "lst"
   ]
  },
  {
   "cell_type": "code",
   "execution_count": 21,
   "id": "82963a12",
   "metadata": {},
   "outputs": [
    {
     "data": {
      "text/plain": [
       "'hello'"
      ]
     },
     "execution_count": 21,
     "metadata": {},
     "output_type": "execute_result"
    }
   ],
   "source": [
    "lst[2]"
   ]
  },
  {
   "cell_type": "code",
   "execution_count": 22,
   "id": "c892b136",
   "metadata": {},
   "outputs": [
    {
     "ename": "TypeError",
     "evalue": "'str' object does not support item assignment",
     "output_type": "error",
     "traceback": [
      "\u001b[1;31m---------------------------------------------------------------------------\u001b[0m",
      "\u001b[1;31mTypeError\u001b[0m                                 Traceback (most recent call last)",
      "Cell \u001b[1;32mIn[22], line 1\u001b[0m\n\u001b[1;32m----> 1\u001b[0m lst[\u001b[38;5;241m2\u001b[39m][\u001b[38;5;241m0\u001b[39m] \u001b[38;5;241m=\u001b[39m \u001b[38;5;124m'\u001b[39m\u001b[38;5;124mk\u001b[39m\u001b[38;5;124m'\u001b[39m\n",
      "\u001b[1;31mTypeError\u001b[0m: 'str' object does not support item assignment"
     ]
    }
   ],
   "source": [
    "lst[2][0] = 'k'"
   ]
  },
  {
   "cell_type": "code",
   "execution_count": 23,
   "id": "d3f8962a",
   "metadata": {},
   "outputs": [
    {
     "data": {
      "text/plain": [
       "[4, (4, 5, 6), 'hello']"
      ]
     },
     "execution_count": 23,
     "metadata": {},
     "output_type": "execute_result"
    }
   ],
   "source": [
    "lst"
   ]
  },
  {
   "cell_type": "code",
   "execution_count": 24,
   "id": "11440805",
   "metadata": {},
   "outputs": [
    {
     "data": {
      "text/plain": [
       "(4, 5, 6)"
      ]
     },
     "execution_count": 24,
     "metadata": {},
     "output_type": "execute_result"
    }
   ],
   "source": [
    "lst[1]"
   ]
  },
  {
   "cell_type": "code",
   "execution_count": 25,
   "id": "84fa739e",
   "metadata": {},
   "outputs": [
    {
     "data": {
      "text/plain": [
       "[4, (1, 2, [4, 5, 6], 7), 'hello']"
      ]
     },
     "execution_count": 25,
     "metadata": {},
     "output_type": "execute_result"
    }
   ],
   "source": [
    "lst[1] =(1,2,[4,5,6],7) \n",
    "lst"
   ]
  },
  {
   "cell_type": "code",
   "execution_count": null,
   "id": "4d0c544f",
   "metadata": {},
   "outputs": [],
   "source": [
    "lst[1]"
   ]
  },
  {
   "cell_type": "code",
   "execution_count": null,
   "id": "843657ed",
   "metadata": {},
   "outputs": [],
   "source": [
    "lst[1][1]=4"
   ]
  },
  {
   "cell_type": "code",
   "execution_count": null,
   "id": "d5c7b224",
   "metadata": {},
   "outputs": [],
   "source": [
    "lst"
   ]
  },
  {
   "cell_type": "code",
   "execution_count": null,
   "id": "14856f91",
   "metadata": {},
   "outputs": [],
   "source": [
    "lst[1][2]"
   ]
  },
  {
   "cell_type": "code",
   "execution_count": null,
   "id": "d2a08351",
   "metadata": {},
   "outputs": [],
   "source": [
    "lst[1][2][1]=6\n",
    "lst"
   ]
  },
  {
   "cell_type": "markdown",
   "id": "d509906b",
   "metadata": {},
   "source": [
    "### Tuple"
   ]
  },
  {
   "cell_type": "code",
   "execution_count": 35,
   "id": "4324df3d",
   "metadata": {},
   "outputs": [
    {
     "data": {
      "text/plain": [
       "(5, 4, 6)"
      ]
     },
     "execution_count": 35,
     "metadata": {},
     "output_type": "execute_result"
    }
   ],
   "source": [
    "tpl = (5,4,6)\n",
    "tpl"
   ]
  },
  {
   "cell_type": "code",
   "execution_count": 36,
   "id": "4fd7b235",
   "metadata": {},
   "outputs": [
    {
     "data": {
      "text/plain": [
       "1"
      ]
     },
     "execution_count": 36,
     "metadata": {},
     "output_type": "execute_result"
    }
   ],
   "source": [
    "tpl.count(4)"
   ]
  },
  {
   "cell_type": "code",
   "execution_count": 37,
   "id": "e8c70e2f",
   "metadata": {},
   "outputs": [
    {
     "data": {
      "text/plain": [
       "2"
      ]
     },
     "execution_count": 37,
     "metadata": {},
     "output_type": "execute_result"
    }
   ],
   "source": [
    "tpl.index(6)"
   ]
  },
  {
   "cell_type": "code",
   "execution_count": 38,
   "id": "ca150fb0",
   "metadata": {},
   "outputs": [
    {
     "ename": "TypeError",
     "evalue": "'tuple' object does not support item assignment",
     "output_type": "error",
     "traceback": [
      "\u001b[1;31m---------------------------------------------------------------------------\u001b[0m",
      "\u001b[1;31mTypeError\u001b[0m                                 Traceback (most recent call last)",
      "Cell \u001b[1;32mIn[38], line 1\u001b[0m\n\u001b[1;32m----> 1\u001b[0m tpl[\u001b[38;5;241m1\u001b[39m]\u001b[38;5;241m=\u001b[39m\u001b[38;5;241m5\u001b[39m\n",
      "\u001b[1;31mTypeError\u001b[0m: 'tuple' object does not support item assignment"
     ]
    }
   ],
   "source": [
    "tpl[1]=5"
   ]
  },
  {
   "cell_type": "code",
   "execution_count": 39,
   "id": "c52c7f45",
   "metadata": {},
   "outputs": [
    {
     "data": {
      "text/plain": [
       "3"
      ]
     },
     "execution_count": 39,
     "metadata": {},
     "output_type": "execute_result"
    }
   ],
   "source": [
    "len(tpl)"
   ]
  }
 ],
 "metadata": {
  "kernelspec": {
   "display_name": "Python 3 (ipykernel)",
   "language": "python",
   "name": "python3"
  },
  "language_info": {
   "codemirror_mode": {
    "name": "ipython",
    "version": 3
   },
   "file_extension": ".py",
   "mimetype": "text/x-python",
   "name": "python",
   "nbconvert_exporter": "python",
   "pygments_lexer": "ipython3",
   "version": "3.10.9"
  }
 },
 "nbformat": 4,
 "nbformat_minor": 5
}
