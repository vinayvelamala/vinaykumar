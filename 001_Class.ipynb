{
 "cells": [
  {
   "cell_type": "markdown",
   "id": "26af8dc3",
   "metadata": {},
   "source": [
    "# Python Introduction Class"
   ]
  },
  {
   "cell_type": "markdown",
   "id": "3001a213",
   "metadata": {},
   "source": [
    "### 1. Python \n",
    "\n",
    "    -> Pyhton is a programming language where we are writting logics and passing those to computer. (Human Language like:  Telugu, Hindi, English, ....  )\n",
    "    \n",
    "    -> Python is a General Purpose programming Language which means it can be used to create a variety of different programs and isn't specialized for any specific problems\n",
    "    \n",
    "    -> Pyhton is very easy programming language\n",
    "    \n",
    "    -> Python consists of three modules.\n",
    "    \n",
    "        => Programming\n",
    "        \n",
    "            => Basic\n",
    "\n",
    "            => Advance\n",
    "        \n",
    "        => Libraies\n",
    "        \n",
    "        => Frame work"
   ]
  },
  {
   "cell_type": "markdown",
   "id": "37570153",
   "metadata": {},
   "source": [
    "### 2. History \n",
    "\n",
    "##### 2.1 Who created the Python?\n",
    "    \n",
    "        => Developed by the Gudio Van Rossum\n",
    "        \n",
    "        => Van born in \n",
    "        \n",
    "        => Age is 66 Years (Current)\n",
    "        \n",
    "        => Van belongs to NetherLands where people call them as Dutch people\n",
    "        \n",
    "##### 2.2 How Python name assigned?\n",
    "    \n",
    "        => Van facinate to one of the comedy TV show which broad cast Netherlands.\n",
    "        \n",
    "        => Name: Monty Python Flying Circus\n",
    "            \n",
    "        => Intially van named it as: Monty python\n",
    "        \n",
    "        => Later on people started calling Python instead of Monty Python.  \n",
    "            \n",
    "##### 2.3 In which year python came to the market?\n",
    "    \n",
    "        => Actually van started impementing python program at 1989 and came to the market 1991\n",
    "        \n",
    "        => When Python came up with OOps concepts\n",
    "        \n",
    "        => When Python Came to market, there are so many programming languages which are in the race.\n",
    "        \n",
    "##### 2.4 Python Version\n",
    "    \n",
    "        => Python 1.X (Closed)\n",
    "        \n",
    "        => Python 2.X (Closed) -> 2019 dec 31st 11:59PM => No Updates => Code is Frezzed\n",
    "        \n",
    "        => Python 3.X -> 3.9.X => (2008)\n",
    "        \n",
    "        => Python 4.X => ?\n",
    "        \n",
    "##### 2.5 Who is maintaing maintain?\n",
    "    \n",
    "        => Python maintained by the Charity.\n",
    "        \n",
    "        => Python is Open Source\n",
    "        \n",
    "        => We are not paying any money to work with Python but we can donate to the Python Charity.\n",
    "        \n",
    "        => Customer Care not availabe for python questions\n",
    "        \n",
    "        => Official Website => Documentation with examples and error explanations\n",
    "        \n",
    "        => Official Email where Python team going to respond\n",
    "        \n",
    "        => Best and very big Communities available in the market.\n",
    "        \n",
    "        => Ready to help for free."
   ]
  },
  {
   "cell_type": "markdown",
   "id": "f6a68bea",
   "metadata": {},
   "source": [
    "### 3. Discussion\n",
    "\n",
    "##### 3.1 What can Python do?\n",
    "\n",
    "    -> Python can be used on a server to create web applications.\n",
    "\n",
    "    -> Python can be used alongside software to create workflows.\n",
    "\n",
    "    -> Python can connect to database systems. It can also read and modify files.\n",
    "\n",
    "    -> Python can be used to handle big data and perform complex mathematics.\n",
    "\n",
    "    -> Python can be used for rapid prototyping, or for production-ready software development.\n",
    "\n",
    "##### 3.2 Why Python?\n",
    "\n",
    "    -> Python works on different platforms (Windows, Mac, Linux, Raspberry Pi, etc).\n",
    "\n",
    "    -> Python has a simple syntax similar to the English language.\n",
    "\n",
    "    -> Python has syntax that allows developers to write programs with fewer lines than some other programming languages.\n",
    "\n",
    "    -> Python runs on an interpreter system, meaning that code can be executed as soon as it is written. This means that prototyping can be very quick.\n",
    "\n",
    "    -> Python can be treated in a procedural way, an object-oriented way or a functional way.\n",
    "\n",
    "\n",
    "##### 3.3 Who all are using python?\n",
    "\n",
    "    -> Google\n",
    "    \n",
    "    -> Youtube\n",
    "    \n",
    "    -> Dropbox\n",
    "    \n",
    "    -> reddit\n",
    "    \n",
    "    -> NASA\n",
    "    \n",
    "    -> Microsoft .....\n",
    "    \n",
    "##### 3.4 Where we are using python?\n",
    "\n",
    "    -> Data Analytics\n",
    "    \n",
    "    -> Machine Learning\n",
    "    \n",
    "    -> Data Sciecne\n",
    "    \n",
    "    -> Artificial Intelligence\n",
    "    \n",
    "    -> Data Analysis\n",
    "    \n",
    "    -> Automations\n",
    "    \n",
    "    -> Scraping data from websites\n",
    "    \n",
    "    -> Websites\n",
    "    \n",
    "    -> Applications\n",
    "    \n",
    "    -> Devops\n",
    "    \n",
    "    -> IOT\n",
    "    \n",
    "    -> Testing ......................\n",
    "    \n",
    "##### 3.5 Language Features\n",
    "\n",
    "    -> Interpreted\n",
    "\n",
    "        => There are no separate compilation and execution steps like C and C++.\n",
    "\n",
    "        => Directly run the program from the source code.\n",
    "\n",
    "        => Internally, Python converts the source code into an intermediate form called bytecodes which is then translated into native language of specific computer to run it.\n",
    "\n",
    "        => No need to worry about linking and loading with libraries, etc.\n",
    "\n",
    "    -> Platform Independent\n",
    "\n",
    "        => Python programs can be developed and executed on multiple operating system platforms.\n",
    "        \n",
    "        => Python can be used on Linux, Windows, Macintosh, Solaris and many more.\n",
    "        \n",
    "        \n",
    "##### 3.6 Programers Wise\n",
    "\n",
    "    -> Two things are important\n",
    "    \n",
    "        => developer side -> Easy\n",
    "        \n",
    "        => client side -> Easy"
   ]
  },
  {
   "cell_type": "markdown",
   "id": "3ba76521",
   "metadata": {},
   "source": [
    "### 4. Disadvantages\n",
    "\n",
    "##### 4.1 Speed Limitations\n",
    "\n",
    "    -> We have seen that Python code is executed line by line. But since Python is interpreted, it often results in slow execution.\n",
    "    \n",
    "    Note*: This, however, isn’t a problem unless speed is a focal point for the project.\n",
    "    \n",
    "##### 4.2 Weak in Mobile Computing and Browsers\n",
    "\n",
    "    -> While it serves as an excellent server-side language, Python is much rarely seen on the client-side.\n",
    "\n",
    "    -> Besides that, it is rarely ever used to implement smartphone-based applications. One such application is called Carbonnelle.\n",
    "    \n",
    "##### 4.3 Design Restrictions\n",
    "\n",
    "    -> As you know, Python is dynamically-typed. This means that you don’t need to declare the type of variable while writing the code.\n",
    "\n",
    "    -> It uses duck-typing. But wait, what’s that? Well, it just means that if it looks like a duck, it must be a duck.\n",
    "\n",
    "    -> While this is easy on the programmers during coding, it can raise run-time errors.\n",
    "    \n",
    "##### 4.4 Underdeveloped Database Access Layers\n",
    "\n",
    "    -> Compared to more widely used technologies like JDBC (Java DataBase Connectivity) and ODBC (Open DataBase Connectivity), Python’s database access layers are a bit underdeveloped.\n",
    "\n",
    "    -> Consequently, it is less often applied in huge enterprises.\n",
    "    \n",
    "##### 4.5 Simple\n",
    "\n",
    "    -> No, we’re not kidding. Python’s simplicity can indeed be a problem. Take my example. I don’t do Java, I’m more of a Python person.\n",
    "\n",
    "    -> To me, its syntax is so simple that the verbosity of Java code seems unnecessary.\n",
    "\n",
    "    -> This was all about the Advantages and Disadvantages of Python Programming Language."
   ]
  },
  {
   "cell_type": "markdown",
   "id": "dd6f1367",
   "metadata": {},
   "source": [
    "### 5. Code to Start"
   ]
  },
  {
   "cell_type": "code",
   "execution_count": 1,
   "id": "84526f73",
   "metadata": {},
   "outputs": [
    {
     "data": {
      "text/plain": [
       "4"
      ]
     },
     "execution_count": 1,
     "metadata": {},
     "output_type": "execute_result"
    }
   ],
   "source": [
    "2 + 2 "
   ]
  },
  {
   "cell_type": "code",
   "execution_count": 2,
   "id": "232ad7f7",
   "metadata": {},
   "outputs": [
    {
     "name": "stdout",
     "output_type": "stream",
     "text": [
      "Hello World\n"
     ]
    }
   ],
   "source": [
    "print(\"Hello World\")"
   ]
  },
  {
   "cell_type": "code",
   "execution_count": 3,
   "id": "86bfcd36",
   "metadata": {},
   "outputs": [
    {
     "data": {
      "text/plain": [
       "6"
      ]
     },
     "execution_count": 3,
     "metadata": {},
     "output_type": "execute_result"
    }
   ],
   "source": [
    "len('DIvesh')"
   ]
  },
  {
   "cell_type": "code",
   "execution_count": 4,
   "id": "ed03fa30",
   "metadata": {},
   "outputs": [
    {
     "data": {
      "text/plain": [
       "int"
      ]
     },
     "execution_count": 4,
     "metadata": {},
     "output_type": "execute_result"
    }
   ],
   "source": [
    "type(3)"
   ]
  }
 ],
 "metadata": {
  "kernelspec": {
   "display_name": "Python 3 (ipykernel)",
   "language": "python",
   "name": "python3"
  },
  "language_info": {
   "codemirror_mode": {
    "name": "ipython",
    "version": 3
   },
   "file_extension": ".py",
   "mimetype": "text/x-python",
   "name": "python",
   "nbconvert_exporter": "python",
   "pygments_lexer": "ipython3",
   "version": "3.10.9"
  }
 },
 "nbformat": 4,
 "nbformat_minor": 5
}
