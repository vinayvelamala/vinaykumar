{
 "cells": [
  {
   "cell_type": "markdown",
   "id": "b9915919",
   "metadata": {},
   "source": [
    "## Assignment"
   ]
  },
  {
   "cell_type": "code",
   "execution_count": null,
   "id": "2e3ff11f",
   "metadata": {},
   "outputs": [],
   "source": [
    "lst = [1,(2,5,1,['hi',584515,(45,['45','hgfd'],45.56)],45),45,4]\n",
    "lst"
   ]
  },
  {
   "cell_type": "code",
   "execution_count": null,
   "id": "a9c5760c",
   "metadata": {},
   "outputs": [],
   "source": [
    "lst[1]"
   ]
  },
  {
   "cell_type": "code",
   "execution_count": null,
   "id": "8085a365",
   "metadata": {},
   "outputs": [],
   "source": [
    "lst[1][3]"
   ]
  },
  {
   "cell_type": "code",
   "execution_count": null,
   "id": "1c5e623e",
   "metadata": {},
   "outputs": [],
   "source": [
    "lst[1][3][2]"
   ]
  },
  {
   "cell_type": "code",
   "execution_count": null,
   "id": "f6ddee0f",
   "metadata": {},
   "outputs": [],
   "source": [
    "lst[1][3][2][1]"
   ]
  },
  {
   "cell_type": "code",
   "execution_count": null,
   "id": "6556df1d",
   "metadata": {},
   "outputs": [],
   "source": [
    "lst[1][3][2][1][0]"
   ]
  },
  {
   "cell_type": "code",
   "execution_count": null,
   "id": "8704b874",
   "metadata": {},
   "outputs": [],
   "source": [
    "lst[1][3][2][1][0][1]"
   ]
  },
  {
   "cell_type": "raw",
   "id": "58d6e405",
   "metadata": {},
   "source": [
    "# [] -> List elements\n",
    "lst[0] -> 1\n",
    "\n",
    "lst[1] -> (2, 5, 1, ['hi', 584515, (45, ['45', 'hgfd'], 45.56)], 45) \n",
    "    # [1][] -> Tuple elements\n",
    "    lst[1][0] -> 2 \n",
    "    lst[1][1] -> 5\n",
    "    lst[1][2] -> 1\n",
    "    lst[1][3] ->['hi', 584515, (45, ['45', 'hgfd'], 45.56)]\n",
    "        \n",
    "        # [1][3][] -> list elements\n",
    "        lst[1][3][0] -> 'hi'\n",
    "            \n",
    "            # [1][3][0][] -> string elements\n",
    "            lst[1][3][0][0] -> 'h'\n",
    "            lst[1][3][0][1] -> 'i'\n",
    "            \n",
    "        lst[1][3][1] -> 584515\n",
    "        lst[1][3][2] -> (45, ['45', 'hgfd'], 45.56)\n",
    "            lst[1][3][2][0] -> 45\n",
    "            lst[1][3][2][1] -> ['45', 'hgfd']\n",
    "                lst[1][3][2][1][0] -> '45'\n",
    "                    lst[1][3][2][1][0][0] -> '4'\n",
    "                    lst[1][3][2][1][0][1] -> '5'\n",
    "                    \n",
    "                lst[1][3][2][1][1] -> 'hgfd'\n",
    "                    lst[1][3][2][1][1][0] ->'h'\n",
    "                    lst[1][3][2][1][1][1] ->'g'\n",
    "                    lst[1][3][2][1][1][2] ->'f'\n",
    "                    lst[1][3][2][1][1][3] ->'d'\n",
    "            \n",
    "            lst[1][3][2][2] -> 45.56\n",
    "    \n",
    "    lst[1][4] -> 45\n",
    "\n",
    "lst[2] -> 45\n",
    "\n",
    "lst[3] -> 4"
   ]
  },
  {
   "cell_type": "code",
   "execution_count": null,
   "id": "fa95ebaa",
   "metadata": {},
   "outputs": [],
   "source": [
    "lst[1]"
   ]
  },
  {
   "cell_type": "code",
   "execution_count": null,
   "id": "f64c28dc",
   "metadata": {},
   "outputs": [],
   "source": [
    "lst[1][3][2][1][1][1]"
   ]
  },
  {
   "cell_type": "code",
   "execution_count": null,
   "id": "e3008bc7",
   "metadata": {},
   "outputs": [],
   "source": [
    "lst[1]"
   ]
  },
  {
   "cell_type": "code",
   "execution_count": null,
   "id": "ecec4aea",
   "metadata": {},
   "outputs": [],
   "source": [
    "lst[1][3]"
   ]
  },
  {
   "cell_type": "code",
   "execution_count": null,
   "id": "2aaf9d8a",
   "metadata": {},
   "outputs": [],
   "source": [
    "lst[1][3][2]"
   ]
  },
  {
   "cell_type": "code",
   "execution_count": null,
   "id": "de2d74f0",
   "metadata": {},
   "outputs": [],
   "source": [
    "lst[1][3][2][1]"
   ]
  },
  {
   "cell_type": "code",
   "execution_count": null,
   "id": "08ed30bd",
   "metadata": {},
   "outputs": [],
   "source": [
    "lst[1][3][2][1][1]"
   ]
  },
  {
   "cell_type": "code",
   "execution_count": null,
   "id": "f4a267a0",
   "metadata": {},
   "outputs": [],
   "source": [
    "lst[1][3][2][1][1][1]"
   ]
  }
 ],
 "metadata": {
  "kernelspec": {
   "display_name": "Python 3 (ipykernel)",
   "language": "python",
   "name": "python3"
  },
  "language_info": {
   "codemirror_mode": {
    "name": "ipython",
    "version": 3
   },
   "file_extension": ".py",
   "mimetype": "text/x-python",
   "name": "python",
   "nbconvert_exporter": "python",
   "pygments_lexer": "ipython3",
   "version": "3.10.9"
  }
 },
 "nbformat": 4,
 "nbformat_minor": 5
}
