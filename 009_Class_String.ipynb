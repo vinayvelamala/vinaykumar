{
 "cells": [
  {
   "cell_type": "markdown",
   "id": "89ab421b",
   "metadata": {},
   "source": [
    "### 1.3 String\n",
    "\n",
    "    -> String consists of chars\n",
    "    \n",
    "    -> chars can be lower and upper case alphabets, digits, special chars and space\n",
    "    \n",
    "    -> All these chars must be enclosed in between single or double quotes"
   ]
  },
  {
   "cell_type": "markdown",
   "id": "494530ab",
   "metadata": {},
   "source": [
    "##### Assigning Value to the Variable Name"
   ]
  },
  {
   "cell_type": "code",
   "execution_count": 1,
   "id": "e6e53f3e",
   "metadata": {},
   "outputs": [
    {
     "data": {
      "text/plain": [
       "'Divesh'"
      ]
     },
     "execution_count": 1,
     "metadata": {},
     "output_type": "execute_result"
    }
   ],
   "source": [
    "name = 'Divesh'\n",
    "name"
   ]
  },
  {
   "cell_type": "code",
   "execution_count": 2,
   "id": "0612d9cf",
   "metadata": {},
   "outputs": [
    {
     "data": {
      "text/plain": [
       "'Divesh'"
      ]
     },
     "execution_count": 2,
     "metadata": {},
     "output_type": "execute_result"
    }
   ],
   "source": [
    "name = \"Divesh\"\n",
    "name"
   ]
  },
  {
   "cell_type": "code",
   "execution_count": 3,
   "id": "c3f82feb",
   "metadata": {},
   "outputs": [
    {
     "data": {
      "text/plain": [
       "\"This is Divesh's Laptop\""
      ]
     },
     "execution_count": 3,
     "metadata": {},
     "output_type": "execute_result"
    }
   ],
   "source": [
    "name = \"This is Divesh's Laptop\"\n",
    "name"
   ]
  },
  {
   "cell_type": "code",
   "execution_count": 4,
   "id": "7cc26edf",
   "metadata": {},
   "outputs": [
    {
     "data": {
      "text/plain": [
       "'He said,\"I working in APSS company.\"'"
      ]
     },
     "execution_count": 4,
     "metadata": {},
     "output_type": "execute_result"
    }
   ],
   "source": [
    "name = 'He said,\"I working in APSS company.\"'\n",
    "name"
   ]
  },
  {
   "cell_type": "code",
   "execution_count": 5,
   "id": "d61d81b7",
   "metadata": {},
   "outputs": [
    {
     "name": "stdout",
     "output_type": "stream",
     "text": [
      "He said,\"This is Divesh's Laptop\"\n"
     ]
    },
    {
     "data": {
      "text/plain": [
       "'He said,\"This is Divesh\\'s Laptop\"'"
      ]
     },
     "metadata": {},
     "output_type": "display_data"
    },
    {
     "data": {
      "text/plain": [
       "'He said,\"This is Divesh\\'s Laptop\"'"
      ]
     },
     "execution_count": 5,
     "metadata": {},
     "output_type": "execute_result"
    }
   ],
   "source": [
    "name = 'He said,\"This is Divesh\\'s Laptop\"'\n",
    "print(name)\n",
    "display(name)\n",
    "name"
   ]
  },
  {
   "cell_type": "code",
   "execution_count": 6,
   "id": "b3c0d20a",
   "metadata": {},
   "outputs": [
    {
     "data": {
      "text/plain": [
       "'divesh'"
      ]
     },
     "execution_count": 6,
     "metadata": {},
     "output_type": "execute_result"
    }
   ],
   "source": [
    "a = 'divesh'\n",
    "a"
   ]
  },
  {
   "cell_type": "code",
   "execution_count": 7,
   "id": "1f69acac",
   "metadata": {},
   "outputs": [
    {
     "data": {
      "text/plain": [
       "'this is Divesh'"
      ]
     },
     "execution_count": 7,
     "metadata": {},
     "output_type": "execute_result"
    }
   ],
   "source": [
    "b = \"this is Divesh\"\n",
    "b"
   ]
  },
  {
   "cell_type": "code",
   "execution_count": null,
   "id": "5042fa05",
   "metadata": {},
   "outputs": [],
   "source": [
    "a."
   ]
  },
  {
   "cell_type": "code",
   "execution_count": 8,
   "id": "63beaad0",
   "metadata": {},
   "outputs": [
    {
     "data": {
      "text/plain": [
       "'Divesh'"
      ]
     },
     "execution_count": 8,
     "metadata": {},
     "output_type": "execute_result"
    }
   ],
   "source": [
    "a.capitalize()"
   ]
  },
  {
   "cell_type": "markdown",
   "id": "7fbe25b3",
   "metadata": {},
   "source": [
    "###### Capitalize"
   ]
  },
  {
   "cell_type": "code",
   "execution_count": 9,
   "id": "1f065ea9",
   "metadata": {},
   "outputs": [
    {
     "name": "stdout",
     "output_type": "stream",
     "text": [
      "Divesh\n",
      "This is divesh\n"
     ]
    }
   ],
   "source": [
    "print(a.capitalize())\n",
    "print(b.capitalize())"
   ]
  },
  {
   "cell_type": "markdown",
   "id": "25f500de",
   "metadata": {},
   "source": [
    "###### Center"
   ]
  },
  {
   "cell_type": "code",
   "execution_count": 10,
   "id": "7127463d",
   "metadata": {},
   "outputs": [
    {
     "data": {
      "text/plain": [
       "'                      divesh                      '"
      ]
     },
     "execution_count": 10,
     "metadata": {},
     "output_type": "execute_result"
    }
   ],
   "source": [
    "# number of chars are 50\n",
    "a.center(50)"
   ]
  },
  {
   "cell_type": "code",
   "execution_count": 11,
   "id": "01e9dcfb",
   "metadata": {},
   "outputs": [
    {
     "data": {
      "text/plain": [
       "'   this is Divesh   '"
      ]
     },
     "execution_count": 11,
     "metadata": {},
     "output_type": "execute_result"
    }
   ],
   "source": [
    "b.center(20)"
   ]
  },
  {
   "cell_type": "code",
   "execution_count": 12,
   "id": "417507f6",
   "metadata": {},
   "outputs": [
    {
     "data": {
      "text/plain": [
       "20"
      ]
     },
     "execution_count": 12,
     "metadata": {},
     "output_type": "execute_result"
    }
   ],
   "source": [
    "c =b.center(20)\n",
    "len(c)"
   ]
  },
  {
   "cell_type": "code",
   "execution_count": 13,
   "id": "d28850cc",
   "metadata": {},
   "outputs": [
    {
     "data": {
      "text/plain": [
       "14"
      ]
     },
     "execution_count": 13,
     "metadata": {},
     "output_type": "execute_result"
    }
   ],
   "source": [
    "len(b)"
   ]
  },
  {
   "cell_type": "code",
   "execution_count": 14,
   "id": "59002924",
   "metadata": {},
   "outputs": [
    {
     "data": {
      "text/plain": [
       "'    this is Divesh   '"
      ]
     },
     "execution_count": 14,
     "metadata": {},
     "output_type": "execute_result"
    }
   ],
   "source": [
    "b.center(21)"
   ]
  },
  {
   "cell_type": "code",
   "execution_count": 15,
   "id": "1198f1e2",
   "metadata": {},
   "outputs": [
    {
     "data": {
      "text/plain": [
       "'this is Divesh'"
      ]
     },
     "execution_count": 15,
     "metadata": {},
     "output_type": "execute_result"
    }
   ],
   "source": [
    "b"
   ]
  },
  {
   "cell_type": "markdown",
   "id": "bbb02d8d",
   "metadata": {},
   "source": [
    "###### Count"
   ]
  },
  {
   "cell_type": "code",
   "execution_count": 16,
   "id": "b22b5b1e",
   "metadata": {},
   "outputs": [
    {
     "data": {
      "text/plain": [
       "'this is Divesh'"
      ]
     },
     "execution_count": 16,
     "metadata": {},
     "output_type": "execute_result"
    }
   ],
   "source": [
    "b"
   ]
  },
  {
   "cell_type": "code",
   "execution_count": 17,
   "id": "8cb887a0",
   "metadata": {},
   "outputs": [
    {
     "data": {
      "text/plain": [
       "3"
      ]
     },
     "execution_count": 17,
     "metadata": {},
     "output_type": "execute_result"
    }
   ],
   "source": [
    "# Counting specific char repeatetions\n",
    "b.count('i')"
   ]
  },
  {
   "cell_type": "code",
   "execution_count": 18,
   "id": "c0f80db9",
   "metadata": {},
   "outputs": [
    {
     "data": {
      "text/plain": [
       "2"
      ]
     },
     "execution_count": 18,
     "metadata": {},
     "output_type": "execute_result"
    }
   ],
   "source": [
    "b.count('is')"
   ]
  },
  {
   "cell_type": "code",
   "execution_count": 19,
   "id": "168523fe",
   "metadata": {},
   "outputs": [
    {
     "data": {
      "text/plain": [
       "0"
      ]
     },
     "execution_count": 19,
     "metadata": {},
     "output_type": "execute_result"
    }
   ],
   "source": [
    "b.count('I')"
   ]
  },
  {
   "cell_type": "markdown",
   "id": "68ad1e8e",
   "metadata": {},
   "source": [
    "######  Find"
   ]
  },
  {
   "cell_type": "code",
   "execution_count": 20,
   "id": "1584a287",
   "metadata": {},
   "outputs": [
    {
     "data": {
      "text/plain": [
       "'this is Divesh'"
      ]
     },
     "execution_count": 20,
     "metadata": {},
     "output_type": "execute_result"
    }
   ],
   "source": [
    "b"
   ]
  },
  {
   "cell_type": "code",
   "execution_count": 21,
   "id": "f02290ee",
   "metadata": {},
   "outputs": [
    {
     "data": {
      "text/plain": [
       "9"
      ]
     },
     "execution_count": 21,
     "metadata": {},
     "output_type": "execute_result"
    }
   ],
   "source": [
    "# It shows the index value of that searching value\n",
    "b.find('iv')"
   ]
  },
  {
   "cell_type": "code",
   "execution_count": 22,
   "id": "3fd353ff",
   "metadata": {},
   "outputs": [
    {
     "data": {
      "text/plain": [
       "'this is Divesh'"
      ]
     },
     "execution_count": 22,
     "metadata": {},
     "output_type": "execute_result"
    }
   ],
   "source": [
    "b"
   ]
  },
  {
   "cell_type": "markdown",
   "id": "14090a73",
   "metadata": {},
   "source": [
    "###### isalnum"
   ]
  },
  {
   "cell_type": "code",
   "execution_count": 23,
   "id": "788baa36",
   "metadata": {},
   "outputs": [
    {
     "data": {
      "text/plain": [
       "False"
      ]
     },
     "execution_count": 23,
     "metadata": {},
     "output_type": "execute_result"
    }
   ],
   "source": [
    "b.isalnum()"
   ]
  },
  {
   "cell_type": "code",
   "execution_count": 24,
   "id": "49cab9b1",
   "metadata": {},
   "outputs": [
    {
     "data": {
      "text/plain": [
       "'divesh'"
      ]
     },
     "execution_count": 24,
     "metadata": {},
     "output_type": "execute_result"
    }
   ],
   "source": [
    "a"
   ]
  },
  {
   "cell_type": "code",
   "execution_count": 25,
   "id": "62a678fd",
   "metadata": {},
   "outputs": [
    {
     "data": {
      "text/plain": [
       "True"
      ]
     },
     "execution_count": 25,
     "metadata": {},
     "output_type": "execute_result"
    }
   ],
   "source": [
    "a.isalnum()"
   ]
  },
  {
   "cell_type": "markdown",
   "id": "20269910",
   "metadata": {},
   "source": [
    "###### isalpha"
   ]
  },
  {
   "cell_type": "code",
   "execution_count": 26,
   "id": "f543ad88",
   "metadata": {},
   "outputs": [
    {
     "data": {
      "text/plain": [
       "False"
      ]
     },
     "execution_count": 26,
     "metadata": {},
     "output_type": "execute_result"
    }
   ],
   "source": [
    "#2 spaces are presented that's why False\n",
    "b.isalpha()"
   ]
  },
  {
   "cell_type": "code",
   "execution_count": 27,
   "id": "041842a6",
   "metadata": {},
   "outputs": [
    {
     "data": {
      "text/plain": [
       "True"
      ]
     },
     "execution_count": 27,
     "metadata": {},
     "output_type": "execute_result"
    }
   ],
   "source": [
    "a.isalpha()"
   ]
  },
  {
   "cell_type": "markdown",
   "id": "8a5ee2f9",
   "metadata": {},
   "source": [
    "###### islower"
   ]
  },
  {
   "cell_type": "code",
   "execution_count": 28,
   "id": "c3790082",
   "metadata": {},
   "outputs": [
    {
     "data": {
      "text/plain": [
       "'this is Divesh'"
      ]
     },
     "execution_count": 28,
     "metadata": {},
     "output_type": "execute_result"
    }
   ],
   "source": [
    "b"
   ]
  },
  {
   "cell_type": "code",
   "execution_count": 29,
   "id": "cb0d91e3",
   "metadata": {},
   "outputs": [
    {
     "data": {
      "text/plain": [
       "False"
      ]
     },
     "execution_count": 29,
     "metadata": {},
     "output_type": "execute_result"
    }
   ],
   "source": [
    "b.islower()"
   ]
  },
  {
   "cell_type": "code",
   "execution_count": 30,
   "id": "9be26cb1",
   "metadata": {},
   "outputs": [
    {
     "data": {
      "text/plain": [
       "'divesh'"
      ]
     },
     "execution_count": 30,
     "metadata": {},
     "output_type": "execute_result"
    }
   ],
   "source": [
    "a"
   ]
  },
  {
   "cell_type": "code",
   "execution_count": 31,
   "id": "f3d8dc0f",
   "metadata": {},
   "outputs": [
    {
     "data": {
      "text/plain": [
       "True"
      ]
     },
     "execution_count": 31,
     "metadata": {},
     "output_type": "execute_result"
    }
   ],
   "source": [
    "a.islower()"
   ]
  },
  {
   "cell_type": "markdown",
   "id": "b6c5d2e9",
   "metadata": {},
   "source": [
    "###### lower"
   ]
  },
  {
   "cell_type": "code",
   "execution_count": 32,
   "id": "015f9ae5",
   "metadata": {},
   "outputs": [
    {
     "data": {
      "text/plain": [
       "'this is Divesh'"
      ]
     },
     "execution_count": 32,
     "metadata": {},
     "output_type": "execute_result"
    }
   ],
   "source": [
    "b"
   ]
  },
  {
   "cell_type": "code",
   "execution_count": 33,
   "id": "b2ac1436",
   "metadata": {},
   "outputs": [
    {
     "data": {
      "text/plain": [
       "'this is divesh'"
      ]
     },
     "execution_count": 33,
     "metadata": {},
     "output_type": "execute_result"
    }
   ],
   "source": [
    "c=b.lower()\n",
    "c"
   ]
  },
  {
   "cell_type": "code",
   "execution_count": 34,
   "id": "dae8f325",
   "metadata": {},
   "outputs": [
    {
     "data": {
      "text/plain": [
       "True"
      ]
     },
     "execution_count": 34,
     "metadata": {},
     "output_type": "execute_result"
    }
   ],
   "source": [
    "c.islower()"
   ]
  },
  {
   "cell_type": "markdown",
   "id": "d3801585",
   "metadata": {},
   "source": [
    "###### upper"
   ]
  },
  {
   "cell_type": "code",
   "execution_count": 35,
   "id": "406a6c32",
   "metadata": {},
   "outputs": [
    {
     "data": {
      "text/plain": [
       "'THIS IS DIVESH'"
      ]
     },
     "execution_count": 35,
     "metadata": {},
     "output_type": "execute_result"
    }
   ],
   "source": [
    "b.upper()"
   ]
  },
  {
   "cell_type": "code",
   "execution_count": 36,
   "id": "2fc4bd28",
   "metadata": {},
   "outputs": [
    {
     "data": {
      "text/plain": [
       "False"
      ]
     },
     "execution_count": 36,
     "metadata": {},
     "output_type": "execute_result"
    }
   ],
   "source": [
    "(b.upper()).islower()"
   ]
  },
  {
   "cell_type": "code",
   "execution_count": 37,
   "id": "5a5170a9",
   "metadata": {},
   "outputs": [
    {
     "data": {
      "text/plain": [
       "True"
      ]
     },
     "execution_count": 37,
     "metadata": {},
     "output_type": "execute_result"
    }
   ],
   "source": [
    "(b.upper()).isupper()"
   ]
  },
  {
   "cell_type": "markdown",
   "id": "136b9f3e",
   "metadata": {},
   "source": [
    "###### split"
   ]
  },
  {
   "cell_type": "code",
   "execution_count": 38,
   "id": "1f9b333e",
   "metadata": {},
   "outputs": [
    {
     "data": {
      "text/plain": [
       "'this is Divesh'"
      ]
     },
     "execution_count": 38,
     "metadata": {},
     "output_type": "execute_result"
    }
   ],
   "source": [
    "b"
   ]
  },
  {
   "cell_type": "code",
   "execution_count": 39,
   "id": "fb7acc8e",
   "metadata": {},
   "outputs": [
    {
     "data": {
      "text/plain": [
       "['this', 'is', 'Divesh']"
      ]
     },
     "execution_count": 39,
     "metadata": {},
     "output_type": "execute_result"
    }
   ],
   "source": [
    "b.split()"
   ]
  },
  {
   "cell_type": "markdown",
   "id": "ef891121",
   "metadata": {},
   "source": [
    "### 2. indexing\n",
    "\n",
    "To access elements we are using indexing concept\n",
    "\n",
    "For each element, index value is assigned by python'\n",
    "\n",
    "-> In Python indexing is of two types\n",
    "\n",
    "    -> forward indexing\n",
    "    \n",
    "        -> Starts at: 0\n",
    "        \n",
    "        -> Ends at: n-1\n",
    "    \n",
    "    -> backward/ reverse indexing\n",
    "    \n",
    "        -> Starts at: -1\n",
    "        \n",
    "        -> Ends at: -n"
   ]
  },
  {
   "cell_type": "raw",
   "id": "00c460cc",
   "metadata": {},
   "source": [
    "String with indexing\n",
    "\n",
    "    -> each and every char we are going to call it as element\n",
    "    \n",
    "    -> for each element system alloted index value"
   ]
  },
  {
   "cell_type": "raw",
   "id": "d6f30ac9",
   "metadata": {},
   "source": [
    "a = 'This is Divesh'\n",
    "\n",
    "\n",
    "where a -> variable\n",
    "\n",
    "FI:   0    1    2    3    4    5    6    7    8    9    10   11   12   13\n",
    "\n",
    "     'T'  'h'  'i'  's'  ' '  'i'  's'  ' '  'D'  'i'  'v'  'e'  's'  'h'\n",
    "        \n",
    "BI:  -14  -13  -12  -11  -10  -9   -8   -7   -6   -5   -4   -3   -2   -1"
   ]
  },
  {
   "cell_type": "raw",
   "id": "a65f5951",
   "metadata": {},
   "source": [
    "Syntax: \n",
    "    \n",
    "variableName[indexValue]"
   ]
  },
  {
   "cell_type": "code",
   "execution_count": 40,
   "id": "ed776fec",
   "metadata": {},
   "outputs": [],
   "source": [
    "a = 'This is Divesh'"
   ]
  },
  {
   "cell_type": "code",
   "execution_count": 41,
   "id": "c3f9c7f9",
   "metadata": {},
   "outputs": [
    {
     "data": {
      "text/plain": [
       "'h'"
      ]
     },
     "execution_count": 41,
     "metadata": {},
     "output_type": "execute_result"
    }
   ],
   "source": [
    "a[-13]"
   ]
  },
  {
   "cell_type": "code",
   "execution_count": 42,
   "id": "9a8c03a0",
   "metadata": {},
   "outputs": [
    {
     "data": {
      "text/plain": [
       "'h'"
      ]
     },
     "execution_count": 42,
     "metadata": {},
     "output_type": "execute_result"
    }
   ],
   "source": [
    "a[1]"
   ]
  },
  {
   "cell_type": "code",
   "execution_count": 43,
   "id": "0876938d",
   "metadata": {},
   "outputs": [
    {
     "data": {
      "text/plain": [
       "' '"
      ]
     },
     "execution_count": 43,
     "metadata": {},
     "output_type": "execute_result"
    }
   ],
   "source": [
    "a[7]"
   ]
  },
  {
   "cell_type": "raw",
   "id": "0a0b9203",
   "metadata": {},
   "source": [
    "Slicing\n",
    "\n",
    "    -> User can access multiple values at a time\n",
    "    \n",
    "    -> representation is     :\n",
    "        \n",
    "        -> this : going to work as four ways\n",
    "            \n",
    "            -> all\n",
    "            \n",
    "            -> start\n",
    "            \n",
    "            -> end\n",
    "            \n",
    "            -> to"
   ]
  },
  {
   "cell_type": "code",
   "execution_count": 44,
   "id": "232c1b3d",
   "metadata": {},
   "outputs": [
    {
     "data": {
      "text/plain": [
       "'This is Divesh'"
      ]
     },
     "execution_count": 44,
     "metadata": {},
     "output_type": "execute_result"
    }
   ],
   "source": [
    "a"
   ]
  },
  {
   "cell_type": "code",
   "execution_count": 45,
   "id": "8b22338b",
   "metadata": {},
   "outputs": [
    {
     "data": {
      "text/plain": [
       "'This is Divesh'"
      ]
     },
     "execution_count": 45,
     "metadata": {},
     "output_type": "execute_result"
    }
   ],
   "source": [
    "# : -> works as all\n",
    "a[:]"
   ]
  },
  {
   "cell_type": "code",
   "execution_count": 46,
   "id": "c4a71369",
   "metadata": {},
   "outputs": [
    {
     "data": {
      "text/plain": [
       "'This is Divesh'"
      ]
     },
     "execution_count": 46,
     "metadata": {},
     "output_type": "execute_result"
    }
   ],
   "source": [
    "# : -> start -> 0\n",
    "# : -> end -> n-1\n",
    "a[::]"
   ]
  },
  {
   "cell_type": "code",
   "execution_count": 47,
   "id": "095ef856",
   "metadata": {},
   "outputs": [
    {
     "data": {
      "text/plain": [
       "'This '"
      ]
     },
     "execution_count": 47,
     "metadata": {},
     "output_type": "execute_result"
    }
   ],
   "source": [
    "# : -> starts at 0\n",
    "# 5 -> n-1 -> 5-1=> 4\n",
    "# 0,1,2,3,4\n",
    "a[:5]"
   ]
  },
  {
   "cell_type": "code",
   "execution_count": 48,
   "id": "1870760b",
   "metadata": {},
   "outputs": [
    {
     "data": {
      "text/plain": [
       "'This is Divesh'"
      ]
     },
     "execution_count": 48,
     "metadata": {},
     "output_type": "execute_result"
    }
   ],
   "source": [
    "a"
   ]
  },
  {
   "cell_type": "code",
   "execution_count": 49,
   "id": "332fd0d5",
   "metadata": {},
   "outputs": [
    {
     "data": {
      "text/plain": [
       "'vesh'"
      ]
     },
     "execution_count": 49,
     "metadata": {},
     "output_type": "execute_result"
    }
   ],
   "source": [
    "# 10 ->index value\n",
    "# : -> n-1 -> till end\n",
    "# 10,11,12,13\n",
    "a[10:]"
   ]
  },
  {
   "cell_type": "code",
   "execution_count": 50,
   "id": "92a51ed6",
   "metadata": {},
   "outputs": [
    {
     "data": {
      "text/plain": [
       "'is'"
      ]
     },
     "execution_count": 50,
     "metadata": {},
     "output_type": "execute_result"
    }
   ],
   "source": [
    "# 5-> index value\n",
    "# : -> to\n",
    "# 7 => n-1 => 7-1 => 6\n",
    "# 5,6\n",
    "a[5:7]"
   ]
  },
  {
   "cell_type": "code",
   "execution_count": 51,
   "id": "37f94af9",
   "metadata": {},
   "outputs": [
    {
     "data": {
      "text/plain": [
       "'This is Divesh'"
      ]
     },
     "execution_count": 51,
     "metadata": {},
     "output_type": "execute_result"
    }
   ],
   "source": [
    "a"
   ]
  },
  {
   "cell_type": "code",
   "execution_count": 52,
   "id": "59a27b22",
   "metadata": {},
   "outputs": [
    {
     "data": {
      "text/plain": [
       "'s is'"
      ]
     },
     "execution_count": 52,
     "metadata": {},
     "output_type": "execute_result"
    }
   ],
   "source": [
    "a[3:7]"
   ]
  },
  {
   "cell_type": "code",
   "execution_count": 53,
   "id": "5b34d9dc",
   "metadata": {},
   "outputs": [
    {
     "data": {
      "text/plain": [
       "'Div'"
      ]
     },
     "execution_count": 53,
     "metadata": {},
     "output_type": "execute_result"
    }
   ],
   "source": [
    "a[8:11]"
   ]
  },
  {
   "cell_type": "code",
   "execution_count": 54,
   "id": "38db7520",
   "metadata": {},
   "outputs": [
    {
     "data": {
      "text/plain": [
       "'This is Divesh'"
      ]
     },
     "execution_count": 54,
     "metadata": {},
     "output_type": "execute_result"
    }
   ],
   "source": [
    "a"
   ]
  },
  {
   "cell_type": "markdown",
   "id": "52c58424",
   "metadata": {},
   "source": [
    "String is immutable data type\n",
    "\n",
    "    -> elements cannot be change"
   ]
  },
  {
   "cell_type": "code",
   "execution_count": 55,
   "id": "14cf0cd7",
   "metadata": {},
   "outputs": [
    {
     "ename": "TypeError",
     "evalue": "'str' object does not support item assignment",
     "output_type": "error",
     "traceback": [
      "\u001b[1;31m---------------------------------------------------------------------------\u001b[0m",
      "\u001b[1;31mTypeError\u001b[0m                                 Traceback (most recent call last)",
      "Cell \u001b[1;32mIn[55], line 1\u001b[0m\n\u001b[1;32m----> 1\u001b[0m a[\u001b[38;5;241m2\u001b[39m] \u001b[38;5;241m=\u001b[39m \u001b[38;5;124m'\u001b[39m\u001b[38;5;124me\u001b[39m\u001b[38;5;124m'\u001b[39m\n",
      "\u001b[1;31mTypeError\u001b[0m: 'str' object does not support item assignment"
     ]
    }
   ],
   "source": [
    "a[2] = 'e'"
   ]
  },
  {
   "cell_type": "code",
   "execution_count": 56,
   "id": "d0b7be34",
   "metadata": {},
   "outputs": [
    {
     "data": {
      "text/plain": [
       "'This is Divesh'"
      ]
     },
     "execution_count": 56,
     "metadata": {},
     "output_type": "execute_result"
    }
   ],
   "source": [
    "a"
   ]
  },
  {
   "cell_type": "code",
   "execution_count": 57,
   "id": "85e2f2cb",
   "metadata": {},
   "outputs": [
    {
     "data": {
      "text/plain": [
       "'This is '"
      ]
     },
     "execution_count": 57,
     "metadata": {},
     "output_type": "execute_result"
    }
   ],
   "source": [
    "a[:8]"
   ]
  },
  {
   "cell_type": "code",
   "execution_count": 58,
   "id": "23a63d7b",
   "metadata": {},
   "outputs": [
    {
     "name": "stdout",
     "output_type": "stream",
     "text": [
      "This is Suresh\n"
     ]
    }
   ],
   "source": [
    "print(a[:8]+'Suresh')"
   ]
  },
  {
   "cell_type": "raw",
   "id": "881fe2e7",
   "metadata": {},
   "source": [
    "where a -> variable\n",
    "\n",
    "FI:   0    1    2    3    4    5    6    7    8    9    10   11   12   13\n",
    "\n",
    "     'T'  'h'  'i'  's'  ' '  'i'  's'  ' '  'D'  'i'  'v'  'e'  's'  'h'\n",
    "        \n",
    "BI:  -14  -13  -12  -11  -10  -9   -8   -7   -6   -5   -4   -3   -2   -1"
   ]
  },
  {
   "cell_type": "code",
   "execution_count": 59,
   "id": "bd52adf5",
   "metadata": {},
   "outputs": [
    {
     "data": {
      "text/plain": [
       "'This is Kumar'"
      ]
     },
     "execution_count": 59,
     "metadata": {},
     "output_type": "execute_result"
    }
   ],
   "source": [
    "b = a[:8]+'Kumar'\n",
    "b"
   ]
  },
  {
   "cell_type": "code",
   "execution_count": null,
   "id": "2be879ff",
   "metadata": {},
   "outputs": [],
   "source": []
  }
 ],
 "metadata": {
  "kernelspec": {
   "display_name": "Python 3 (ipykernel)",
   "language": "python",
   "name": "python3"
  },
  "language_info": {
   "codemirror_mode": {
    "name": "ipython",
    "version": 3
   },
   "file_extension": ".py",
   "mimetype": "text/x-python",
   "name": "python",
   "nbconvert_exporter": "python",
   "pygments_lexer": "ipython3",
   "version": "3.10.9"
  }
 },
 "nbformat": 4,
 "nbformat_minor": 5
}
