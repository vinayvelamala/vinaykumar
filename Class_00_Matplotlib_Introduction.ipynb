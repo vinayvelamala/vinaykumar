{
 "cells": [
  {
   "cell_type": "markdown",
   "id": "ace1d170",
   "metadata": {},
   "source": [
    "# What is Matplotlib?\n",
    "\n",
    "    Matplotlib is a low level graph plotting library in python that serves as a visualization utility.\n",
    "\n",
    "    Matplotlib was created by John D. Hunter.\n",
    "\n",
    "    Matplotlib is open source and we can use it freely.\n",
    "\n",
    "    Matplotlib is mostly written in python, a few segments are written in C, Objective-C and Javascript for Platform compatibility.\n",
    "    \n",
    "### Installation of Matplotlib\n",
    "\n",
    "    pip install matplotlib\n",
    "    \n",
    "    conda install matplotlib\n",
    "    \n",
    "### Importing Matplotlib\n",
    "\n",
    "From the matplot lib we are using matplotlib.pyplot to plot the graphs\n",
    "\n",
    "    import matplotlib.pyplot as plt\n",
    "\n",
    "### Intro to pyplot\n",
    "\n",
    "matplotlib.pyplot is a collection of functions that make matplotlib work like MATLAB. Each pyplot function makes some change to a figure: e.g., creates a figure, creates a plotting area in a figure, plots some lines in a plotting area, decorates the plot with labels, etc.\n",
    "\n",
    "In matplotlib.pyplot various states are preserved across function calls, so that it keeps track of things like the current figure and plotting area, and the plotting functions are directed to the current axes (please note that \"axes\" here and in most places in the documentation refers to the axes part of a figure and not the strict mathematical term for more than one axis)."
   ]
  }
 ],
 "metadata": {
  "kernelspec": {
   "display_name": "Python 3",
   "language": "python",
   "name": "python3"
  },
  "language_info": {
   "codemirror_mode": {
    "name": "ipython",
    "version": 3
   },
   "file_extension": ".py",
   "mimetype": "text/x-python",
   "name": "python",
   "nbconvert_exporter": "python",
   "pygments_lexer": "ipython3",
   "version": "3.8.8"
  }
 },
 "nbformat": 4,
 "nbformat_minor": 5
}
