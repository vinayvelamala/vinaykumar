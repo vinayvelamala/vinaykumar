{
 "cells": [
  {
   "cell_type": "markdown",
   "id": "a90cbcf5",
   "metadata": {},
   "source": [
    "# add()\t \n",
    "Adds an element to the set"
   ]
  },
  {
   "cell_type": "markdown",
   "id": "209576e7",
   "metadata": {},
   "source": [
    "### Example\n",
    "Add an element to the fruits set:"
   ]
  },
  {
   "cell_type": "code",
   "execution_count": 1,
   "id": "8164fadf",
   "metadata": {},
   "outputs": [
    {
     "name": "stdout",
     "output_type": "stream",
     "text": [
      "{'orange', 'apple', 'banana', 'cherry'}\n"
     ]
    }
   ],
   "source": [
    "fruits = {\"apple\", \"banana\", \"cherry\"}\n",
    "\n",
    "fruits.add(\"orange\")\n",
    "\n",
    "print(fruits)"
   ]
  },
  {
   "cell_type": "markdown",
   "id": "aa907f82",
   "metadata": {},
   "source": [
    "#### Definition and Usage\n",
    "The add() method adds an element to the set.\n",
    "\n",
    "If the element already exists, the add() method does not add the element."
   ]
  },
  {
   "cell_type": "markdown",
   "id": "d04911ee",
   "metadata": {},
   "source": [
    "### Syntax"
   ]
  },
  {
   "cell_type": "raw",
   "id": "e804f2d8",
   "metadata": {},
   "source": [
    "set.add(elmnt)\n"
   ]
  },
  {
   "cell_type": "markdown",
   "id": "7be964de",
   "metadata": {},
   "source": [
    "### Parameter Values"
   ]
  },
  {
   "cell_type": "raw",
   "id": "6bf2b0d4",
   "metadata": {},
   "source": [
    "Parameter\t         Description \n",
    "\n",
    "elmnt\t              Required. The element to add to the set"
   ]
  },
  {
   "cell_type": "markdown",
   "id": "4f4d6888",
   "metadata": {},
   "source": [
    "### More Examples\n",
    "Example \n",
    "\n",
    "Try to add an element that already exists:"
   ]
  },
  {
   "cell_type": "code",
   "execution_count": 1,
   "id": "70f03176",
   "metadata": {},
   "outputs": [
    {
     "name": "stdout",
     "output_type": "stream",
     "text": [
      "{'apple', 'banana', 'cherry'}\n"
     ]
    }
   ],
   "source": [
    "fruits = {\"apple\", \"banana\", \"cherry\"}\n",
    "\n",
    "fruits.add(\"apple\")\n",
    "\n",
    "print(fruits)"
   ]
  },
  {
   "cell_type": "markdown",
   "id": "0cd66485",
   "metadata": {},
   "source": [
    "# clear() \n",
    "Removes all the elements from the set"
   ]
  },
  {
   "cell_type": "markdown",
   "id": "4fa50ad0",
   "metadata": {},
   "source": [
    "### Example\n",
    "Remove all elements from the fruits set:"
   ]
  },
  {
   "cell_type": "code",
   "execution_count": 2,
   "id": "f615e928",
   "metadata": {},
   "outputs": [
    {
     "name": "stdout",
     "output_type": "stream",
     "text": [
      "set()\n"
     ]
    }
   ],
   "source": [
    "fruits = {\"apple\", \"banana\", \"cherry\"}\n",
    "\n",
    "fruits.clear()\n",
    "\n",
    "print(fruits)"
   ]
  },
  {
   "cell_type": "markdown",
   "id": "a979d39c",
   "metadata": {},
   "source": [
    "### Definition and Usage\n",
    "The clear() method removes all elements in a set."
   ]
  },
  {
   "cell_type": "markdown",
   "id": "127a369b",
   "metadata": {},
   "source": [
    "\n",
    "### Syntax"
   ]
  },
  {
   "cell_type": "raw",
   "id": "5639ac52",
   "metadata": {},
   "source": [
    "set.clear()\n"
   ]
  },
  {
   "cell_type": "markdown",
   "id": "294771b9",
   "metadata": {},
   "source": [
    "# copy()\t \n",
    "Returns a copy of the set"
   ]
  },
  {
   "cell_type": "markdown",
   "id": "53b37f5c",
   "metadata": {},
   "source": [
    "### Example\n",
    "Copy the fruits set:"
   ]
  },
  {
   "cell_type": "code",
   "execution_count": 3,
   "id": "36a76a86",
   "metadata": {},
   "outputs": [
    {
     "name": "stdout",
     "output_type": "stream",
     "text": [
      "{'apple', 'banana', 'cherry'}\n"
     ]
    }
   ],
   "source": [
    "fruits = {\"apple\", \"banana\", \"cherry\"}\n",
    "\n",
    "x = fruits.copy()\n",
    "\n",
    "print(x)"
   ]
  },
  {
   "cell_type": "markdown",
   "id": "a4082063",
   "metadata": {},
   "source": [
    "### Definition and Usage\n",
    "The copy() method copies the set."
   ]
  },
  {
   "cell_type": "markdown",
   "id": "6a866515",
   "metadata": {},
   "source": [
    "### Syntax"
   ]
  },
  {
   "cell_type": "raw",
   "id": "a5b69cb2",
   "metadata": {},
   "source": [
    "set.copy()"
   ]
  },
  {
   "cell_type": "markdown",
   "id": "4705d9b4",
   "metadata": {},
   "source": [
    "# difference()\t \n",
    "Returns a set containing the difference between two or more sets"
   ]
  },
  {
   "cell_type": "markdown",
   "id": "8112c93d",
   "metadata": {},
   "source": [
    "### Example\n",
    "Return a set that contains the items that only exist in set x, and not in set y:"
   ]
  },
  {
   "cell_type": "code",
   "execution_count": 4,
   "id": "8a94e566",
   "metadata": {},
   "outputs": [
    {
     "name": "stdout",
     "output_type": "stream",
     "text": [
      "{'banana', 'cherry'}\n"
     ]
    }
   ],
   "source": [
    "x = {\"apple\", \"banana\", \"cherry\"}\n",
    "y = {\"google\", \"microsoft\", \"apple\"}\n",
    "\n",
    "z = x.difference(y)\n",
    "\n",
    "print(z)"
   ]
  },
  {
   "cell_type": "markdown",
   "id": "6e278542",
   "metadata": {},
   "source": [
    "### Definition and Usage\n",
    "The difference() method returns a set that contains the difference between two sets.\n",
    "\n",
    "Meaning: The returned set contains items that exist only in the first set, and not in both sets."
   ]
  },
  {
   "cell_type": "markdown",
   "id": "01bf3c24",
   "metadata": {},
   "source": [
    "### Syntax"
   ]
  },
  {
   "cell_type": "raw",
   "id": "da3b7dda",
   "metadata": {},
   "source": [
    "set.difference(set)"
   ]
  },
  {
   "cell_type": "markdown",
   "id": "a1b77372",
   "metadata": {},
   "source": [
    "### Parameter Values"
   ]
  },
  {
   "cell_type": "raw",
   "id": "82967b23",
   "metadata": {},
   "source": [
    "Parameter           Description\n",
    "set                     Required. The set to check for differences in\n"
   ]
  },
  {
   "cell_type": "markdown",
   "id": "b1cc5a63",
   "metadata": {},
   "source": [
    "### More Examples\n",
    "Example \n",
    "\n",
    "Reverse the first example. Return a set that contains the items that only exist in set y, and not in set x:"
   ]
  },
  {
   "cell_type": "code",
   "execution_count": 5,
   "id": "a1ce27cc",
   "metadata": {},
   "outputs": [
    {
     "name": "stdout",
     "output_type": "stream",
     "text": [
      "{'google', 'microsoft'}\n"
     ]
    }
   ],
   "source": [
    "x = {\"apple\", \"banana\", \"cherry\"}\n",
    "y = {\"google\", \"microsoft\", \"apple\"}\n",
    "\n",
    "z = y.difference(x)\n",
    "\n",
    "print(z)"
   ]
  },
  {
   "cell_type": "markdown",
   "id": "b17562e4",
   "metadata": {},
   "source": [
    "# difference_update()\t \n",
    "Removes the items in this set that are also included in another, specified set"
   ]
  },
  {
   "cell_type": "markdown",
   "id": "cc011ab2",
   "metadata": {},
   "source": [
    "### Example\n",
    "Remove the items that exist in both sets:"
   ]
  },
  {
   "cell_type": "code",
   "execution_count": 6,
   "id": "b1ca41c6",
   "metadata": {},
   "outputs": [
    {
     "name": "stdout",
     "output_type": "stream",
     "text": [
      "{'banana', 'cherry'}\n"
     ]
    }
   ],
   "source": [
    "x = {\"apple\", \"banana\", \"cherry\"}\n",
    "y = {\"google\", \"microsoft\", \"apple\"}\n",
    "\n",
    "x.difference_update(y)\n",
    "\n",
    "print(x)"
   ]
  },
  {
   "cell_type": "markdown",
   "id": "659c6bcf",
   "metadata": {},
   "source": [
    "### Definition and Usage\n",
    "The difference_update() method removes the items that exist in both sets.\n",
    "\n",
    "The difference_update() method is different from the difference() method, because the difference() method returns a new set, without the unwanted items, and the difference_update() method removes the unwanted items from the original set."
   ]
  },
  {
   "cell_type": "markdown",
   "id": "3be45cfc",
   "metadata": {},
   "source": [
    "### Syntax"
   ]
  },
  {
   "cell_type": "raw",
   "id": "ea0e7d79",
   "metadata": {},
   "source": [
    "set.difference_update(set)\n"
   ]
  },
  {
   "cell_type": "markdown",
   "id": "d28a1490",
   "metadata": {},
   "source": [
    "### Parameter Values"
   ]
  },
  {
   "cell_type": "raw",
   "id": "ce52e853",
   "metadata": {},
   "source": [
    "Parameter      Description\n",
    "set            Required. The set to check for differences in"
   ]
  },
  {
   "cell_type": "markdown",
   "id": "97de7f69",
   "metadata": {},
   "source": [
    "# discard()\t\n",
    "Remove the specified item\n"
   ]
  },
  {
   "cell_type": "markdown",
   "id": "d35ad55a",
   "metadata": {},
   "source": [
    "### Example\n",
    "Remove \"banana\" from the set:"
   ]
  },
  {
   "cell_type": "code",
   "execution_count": 8,
   "id": "b2f88382",
   "metadata": {},
   "outputs": [
    {
     "name": "stdout",
     "output_type": "stream",
     "text": [
      "{'apple', 'cherry'}\n"
     ]
    }
   ],
   "source": [
    "fruits = {\"apple\", \"banana\", \"cherry\"}\n",
    "\n",
    "fruits.discard(\"banana\")\n",
    "\n",
    "print(fruits)"
   ]
  },
  {
   "cell_type": "markdown",
   "id": "740bb066",
   "metadata": {},
   "source": [
    "### Definition and Usage\n",
    "The discard() method removes the specified item from the set.\n",
    "\n",
    "This method is different from the remove() method, because the remove() method will raise an error if the specified item does not exist, and the discard() method will not."
   ]
  },
  {
   "cell_type": "markdown",
   "id": "b37ed9b3",
   "metadata": {},
   "source": [
    "### Syntax"
   ]
  },
  {
   "cell_type": "raw",
   "id": "2ec6801c",
   "metadata": {},
   "source": [
    "set.discard(value)"
   ]
  },
  {
   "cell_type": "markdown",
   "id": "88ec5900",
   "metadata": {},
   "source": [
    "### Parameter Values"
   ]
  },
  {
   "cell_type": "raw",
   "id": "ccbec191",
   "metadata": {},
   "source": [
    "Parameter        Description\n",
    "value             Required. The item to search for, and remove"
   ]
  },
  {
   "cell_type": "markdown",
   "id": "d8fe36ca",
   "metadata": {},
   "source": [
    "# discard() \n",
    "Remove the specified item"
   ]
  },
  {
   "cell_type": "markdown",
   "id": "bde3bf94",
   "metadata": {},
   "source": [
    "### Example\n",
    "Remove \"banana\" from the set:"
   ]
  },
  {
   "cell_type": "code",
   "execution_count": 9,
   "id": "ad72acad",
   "metadata": {},
   "outputs": [
    {
     "name": "stdout",
     "output_type": "stream",
     "text": [
      "{'apple', 'cherry'}\n"
     ]
    }
   ],
   "source": [
    "fruits = {\"apple\", \"banana\", \"cherry\"}\n",
    "\n",
    "fruits.discard(\"banana\")\n",
    "\n",
    "print(fruits)"
   ]
  },
  {
   "cell_type": "markdown",
   "id": "a54e6095",
   "metadata": {},
   "source": [
    "### Definition and Usage\n",
    "The discard() method removes the specified item from the set.\n",
    "\n",
    "This method is different from the remove() method, because the remove() method will raise an error if the specified item does not exist, and the discard() method will not."
   ]
  },
  {
   "cell_type": "markdown",
   "id": "b74cdbd4",
   "metadata": {},
   "source": [
    "### Syntax"
   ]
  },
  {
   "cell_type": "raw",
   "id": "e33959cd",
   "metadata": {},
   "source": [
    "set.discard(value)\n"
   ]
  },
  {
   "cell_type": "markdown",
   "id": "9276899b",
   "metadata": {},
   "source": [
    "### Parameter Values\n"
   ]
  },
  {
   "cell_type": "raw",
   "id": "69da7a53",
   "metadata": {},
   "source": [
    "Parameter               Description\n",
    "value                    Required. The item to search for, and remove"
   ]
  },
  {
   "cell_type": "markdown",
   "id": "7408024d",
   "metadata": {},
   "source": [
    "# intersection() \n",
    "Returns a set, that is the intersection of two or more sets"
   ]
  },
  {
   "cell_type": "markdown",
   "id": "437aac63",
   "metadata": {},
   "source": [
    "### Example\n",
    "Return a set that contains the items that exist in both set x, and set y:"
   ]
  },
  {
   "cell_type": "code",
   "execution_count": 10,
   "id": "0eb1a40b",
   "metadata": {},
   "outputs": [
    {
     "name": "stdout",
     "output_type": "stream",
     "text": [
      "{'apple'}\n"
     ]
    }
   ],
   "source": [
    "x = {\"apple\", \"banana\", \"cherry\"}\n",
    "y = {\"google\", \"microsoft\", \"apple\"}\n",
    "\n",
    "z = x.intersection(y)\n",
    "\n",
    "print(z)"
   ]
  },
  {
   "cell_type": "markdown",
   "id": "7fc2dce8",
   "metadata": {},
   "source": [
    "### Definition and Usage\n",
    "The intersection() method returns a set that contains the similarity between two or more sets.\n",
    "\n",
    "Meaning: The returned set contains only items that exist in both sets, or in all sets if the comparison is done with more than two sets."
   ]
  },
  {
   "cell_type": "markdown",
   "id": "8140e7bd",
   "metadata": {},
   "source": [
    "### Syntax"
   ]
  },
  {
   "cell_type": "raw",
   "id": "76f67340",
   "metadata": {},
   "source": [
    "set.intersection(set1, set2 ... etc)"
   ]
  },
  {
   "cell_type": "markdown",
   "id": "7231bfef",
   "metadata": {},
   "source": [
    "### Parameter Values"
   ]
  },
  {
   "cell_type": "raw",
   "id": "af98061b",
   "metadata": {},
   "source": [
    "Parameter               Description\n",
    "set1                    Required. The set to search for equal items in\n",
    "set2                    Optional. The other set to search for equal items in.\n",
    "                        You can compare as many sets you like.\n",
    "                        Separate the sets with a comma"
   ]
  },
  {
   "cell_type": "markdown",
   "id": "5a5e70c9",
   "metadata": {},
   "source": [
    "# More Examples\n",
    "Example \n",
    "\n",
    "Compare 3 sets, and return a set with items that is present in all 3 sets:"
   ]
  },
  {
   "cell_type": "code",
   "execution_count": 11,
   "id": "17192a68",
   "metadata": {},
   "outputs": [
    {
     "name": "stdout",
     "output_type": "stream",
     "text": [
      "{'c'}\n"
     ]
    }
   ],
   "source": [
    "x = {\"a\", \"b\", \"c\"}\n",
    "y = {\"c\", \"d\", \"e\"}\n",
    "z = {\"f\", \"g\", \"c\"}\n",
    "\n",
    "result = x.intersection(y, z)\n",
    "\n",
    "print(result)"
   ]
  },
  {
   "cell_type": "markdown",
   "id": "5f51821c",
   "metadata": {},
   "source": [
    "# intersection_update() \n",
    "Removes the items in this set that are not present in other, specified set(s \n",
    "                                                                           "
   ]
  },
  {
   "cell_type": "markdown",
   "id": "0bb9e94d",
   "metadata": {},
   "source": [
    "### Example\n",
    "Remove the items that is not present in both x and y:"
   ]
  },
  {
   "cell_type": "code",
   "execution_count": 13,
   "id": "2422fc8d",
   "metadata": {},
   "outputs": [
    {
     "name": "stdout",
     "output_type": "stream",
     "text": [
      "{'apple'}\n"
     ]
    }
   ],
   "source": [
    "x = {\"apple\", \"banana\", \"cherry\"}\n",
    "y = {\"google\", \"microsoft\", \"apple\"}\n",
    "\n",
    "x.intersection_update(y)\n",
    "\n",
    "print(x)"
   ]
  },
  {
   "cell_type": "markdown",
   "id": "f313fb95",
   "metadata": {},
   "source": [
    "### Definition and Usage\n",
    "The intersection_update() method removes the items that is not present in both sets (or in all sets if the comparison is done between more than two sets).\n",
    "\n",
    "The intersection_update() method is different from the intersection() method, because the intersection() method returns a new set, without the unwanted items, and the intersection_update() method removes the unwanted items from the original set."
   ]
  },
  {
   "cell_type": "markdown",
   "id": "7d21d4d3",
   "metadata": {},
   "source": [
    "### Syntax"
   ]
  },
  {
   "cell_type": "raw",
   "id": "27828f50",
   "metadata": {},
   "source": [
    "set.intersection_update(set1, set2 ... etc)"
   ]
  },
  {
   "cell_type": "markdown",
   "id": "41fa025e",
   "metadata": {},
   "source": [
    "### Parameter Values"
   ]
  },
  {
   "cell_type": "raw",
   "id": "1e6b26a6",
   "metadata": {},
   "source": [
    "Parameter      Description\n",
    "set1           Required. The set to search for equal items in\n",
    "set2           Optional. The other set to search for equal items in.\n",
    "               You can compare as many sets you like.\n",
    "               Separate the sets with a comma"
   ]
  },
  {
   "cell_type": "markdown",
   "id": "2d9058bf",
   "metadata": {},
   "source": [
    "### More Examples\n",
    "Example \n",
    "\n",
    "Compare 3 sets, and return a set with items that is present in all 3 sets:"
   ]
  },
  {
   "cell_type": "code",
   "execution_count": 14,
   "id": "e5b0a72a",
   "metadata": {},
   "outputs": [
    {
     "name": "stdout",
     "output_type": "stream",
     "text": [
      "{'c'}\n"
     ]
    }
   ],
   "source": [
    "x = {\"a\", \"b\", \"c\"}\n",
    "y = {\"c\", \"d\", \"e\"}\n",
    "z = {\"f\", \"g\", \"c\"}\n",
    "\n",
    "x.intersection_update(y, z)\n",
    "\n",
    "print(x)"
   ]
  },
  {
   "cell_type": "markdown",
   "id": "af644a83",
   "metadata": {},
   "source": [
    "### isdisjoint() \n",
    "Returns whether two sets have a intersection or not"
   ]
  },
  {
   "cell_type": "markdown",
   "id": "8cc1d7ba",
   "metadata": {},
   "source": [
    "### Example\n",
    "Return True if no items in set x is present in set y:"
   ]
  },
  {
   "cell_type": "code",
   "execution_count": 15,
   "id": "e4f20e5a",
   "metadata": {},
   "outputs": [
    {
     "name": "stdout",
     "output_type": "stream",
     "text": [
      "True\n"
     ]
    }
   ],
   "source": [
    "x = {\"apple\", \"banana\", \"cherry\"}\n",
    "y = {\"google\", \"microsoft\", \"facebook\"}\n",
    "\n",
    "z = x.isdisjoint(y)\n",
    "\n",
    "print(z)"
   ]
  },
  {
   "cell_type": "markdown",
   "id": "02a013fc",
   "metadata": {},
   "source": [
    "### Definition and Usage\n",
    "The isdisjoint() method returns True if none of the items are present in both sets, otherwise it returns False."
   ]
  },
  {
   "cell_type": "markdown",
   "id": "1f85695c",
   "metadata": {},
   "source": [
    "### Syntax"
   ]
  },
  {
   "cell_type": "raw",
   "id": "4b5b2344",
   "metadata": {},
   "source": [
    "set.isdisjoint(set)"
   ]
  },
  {
   "cell_type": "markdown",
   "id": "75a705b2",
   "metadata": {},
   "source": [
    "### Parameter Values"
   ]
  },
  {
   "cell_type": "raw",
   "id": "1609012c",
   "metadata": {},
   "source": [
    "Parameter   Description\n",
    "set         Required. The set to search for equal items in"
   ]
  },
  {
   "cell_type": "markdown",
   "id": "f7587c52",
   "metadata": {},
   "source": [
    "### More Examples\n",
    "Example \n",
    "\n",
    "What if no items are present in both sets?\n",
    "\n",
    "Return False if one ore more items are present in both sets:"
   ]
  },
  {
   "cell_type": "code",
   "execution_count": 16,
   "id": "5692b280",
   "metadata": {},
   "outputs": [
    {
     "name": "stdout",
     "output_type": "stream",
     "text": [
      "False\n"
     ]
    }
   ],
   "source": [
    "x = {\"apple\", \"banana\", \"cherry\"}\n",
    "y = {\"google\", \"microsoft\", \"apple\"}\n",
    "\n",
    "z = x.isdisjoint(y)\n",
    "\n",
    "print(z)"
   ]
  },
  {
   "cell_type": "markdown",
   "id": "cbd598f6",
   "metadata": {},
   "source": [
    "\n",
    "# issubset() \n",
    "Returns whether another set contains this set or not"
   ]
  },
  {
   "cell_type": "markdown",
   "id": "77f0c2be",
   "metadata": {},
   "source": [
    "### Example \n",
    "\n",
    "Return True if all items in set x are present in set y:"
   ]
  },
  {
   "cell_type": "code",
   "execution_count": 17,
   "id": "15e07006",
   "metadata": {},
   "outputs": [
    {
     "name": "stdout",
     "output_type": "stream",
     "text": [
      "True\n"
     ]
    }
   ],
   "source": [
    "x = {\"a\", \"b\", \"c\"}\n",
    "y = {\"f\", \"e\", \"d\", \"c\", \"b\", \"a\"}\n",
    "\n",
    "z = x.issubset(y)\n",
    "\n",
    "print(z)"
   ]
  },
  {
   "cell_type": "markdown",
   "id": "ea7d6219",
   "metadata": {},
   "source": [
    "### Definition and Usage\n",
    "The issubset() method returns True if all items in the set exists in the specified set, otherwise it retuns False.\n",
    "\n"
   ]
  },
  {
   "cell_type": "markdown",
   "id": "d5665b67",
   "metadata": {},
   "source": [
    "### Syntax"
   ]
  },
  {
   "cell_type": "raw",
   "id": "66becfb9",
   "metadata": {},
   "source": [
    "set.issubset(set)"
   ]
  },
  {
   "cell_type": "markdown",
   "id": "fb2798c7",
   "metadata": {},
   "source": [
    "### Parameter Values"
   ]
  },
  {
   "cell_type": "raw",
   "id": "d1031e1d",
   "metadata": {},
   "source": [
    "Parameter  Description\n",
    "set        Required. The set to search for equal items in"
   ]
  },
  {
   "cell_type": "markdown",
   "id": "5e3a264e",
   "metadata": {},
   "source": [
    "### More Examples\n",
    "Example \n",
    "\n",
    "What if not all items are present in the specified set?\n",
    "\n",
    "Return False if not all items in set x are present in set y:"
   ]
  },
  {
   "cell_type": "code",
   "execution_count": 18,
   "id": "cccf0de7",
   "metadata": {},
   "outputs": [
    {
     "name": "stdout",
     "output_type": "stream",
     "text": [
      "False\n"
     ]
    }
   ],
   "source": [
    "x = {\"a\", \"b\", \"c\"}\n",
    "y = {\"f\", \"e\", \"d\", \"c\", \"b\"}\n",
    "\n",
    "z = x.issubset(y)\n",
    "\n",
    "print(z)"
   ]
  },
  {
   "cell_type": "markdown",
   "id": "fc421aae",
   "metadata": {},
   "source": [
    "# issuperset() \n",
    "Returns whether this set contains another set or not"
   ]
  },
  {
   "cell_type": "markdown",
   "id": "c22c750f",
   "metadata": {},
   "source": [
    "### Example\n",
    "Return True if all items set y are present in set x:"
   ]
  },
  {
   "cell_type": "code",
   "execution_count": 2,
   "id": "4752dd27",
   "metadata": {},
   "outputs": [
    {
     "name": "stdout",
     "output_type": "stream",
     "text": [
      "True\n"
     ]
    }
   ],
   "source": [
    "x = {\"f\", \"e\", \"d\", \"c\", \"b\", \"a\"}\n",
    "y = {\"a\", \"b\", \"c\"}\n",
    "\n",
    "z = x.issuperset(y)\n",
    "\n",
    "print(z)"
   ]
  },
  {
   "cell_type": "markdown",
   "id": "66e88993",
   "metadata": {},
   "source": [
    "### Definition and Usage\n",
    "The issuperset() method returns True if all items in the specified set exists in the original set, otherwise it retuns False."
   ]
  },
  {
   "cell_type": "markdown",
   "id": "3ba693d4",
   "metadata": {},
   "source": [
    "### Syntax"
   ]
  },
  {
   "cell_type": "raw",
   "id": "97c01051",
   "metadata": {},
   "source": [
    "set.issuperset(set)"
   ]
  },
  {
   "cell_type": "markdown",
   "id": "c505df0a",
   "metadata": {},
   "source": [
    "### Parameter Values\n"
   ]
  },
  {
   "cell_type": "raw",
   "id": "3f8471b7",
   "metadata": {},
   "source": [
    "Parameter    Description\n",
    "set          Required. The set to search for equal items in"
   ]
  },
  {
   "cell_type": "markdown",
   "id": "f4103b56",
   "metadata": {},
   "source": [
    "### More Examples\n",
    "Example \n",
    "\n",
    "What if not all items are present in the specified set?\n",
    "\n",
    "Return False if not all items in set y are present in set x:"
   ]
  },
  {
   "cell_type": "code",
   "execution_count": 3,
   "id": "1e18d7e0",
   "metadata": {},
   "outputs": [
    {
     "name": "stdout",
     "output_type": "stream",
     "text": [
      "False\n"
     ]
    }
   ],
   "source": [
    "x = {\"f\", \"e\", \"d\", \"c\", \"b\"}\n",
    "y = {\"a\", \"b\", \"c\"}\n",
    "\n",
    "z = x.issuperset(y)\n",
    "\n",
    "print(z)\n"
   ]
  },
  {
   "cell_type": "markdown",
   "id": "8a9f54ac",
   "metadata": {},
   "source": [
    "# pop() \n",
    "Removes an element from the set"
   ]
  },
  {
   "cell_type": "markdown",
   "id": "af4729a2",
   "metadata": {},
   "source": [
    "### Example\n",
    "Remove a random item from the set:"
   ]
  },
  {
   "cell_type": "code",
   "execution_count": 4,
   "id": "a9a2de22",
   "metadata": {},
   "outputs": [
    {
     "name": "stdout",
     "output_type": "stream",
     "text": [
      "{'banana', 'cherry'}\n"
     ]
    }
   ],
   "source": [
    "fruits = {\"apple\", \"banana\", \"cherry\"}\n",
    "\n",
    "fruits.pop()\n",
    "\n",
    "print(fruits)\n"
   ]
  },
  {
   "cell_type": "markdown",
   "id": "ff5811b2",
   "metadata": {},
   "source": [
    "### Definition and Usage\n",
    "The pop() method removes a random item from the set.\n",
    "\n",
    "This method returns the removed item."
   ]
  },
  {
   "cell_type": "markdown",
   "id": "48ce84a3",
   "metadata": {},
   "source": [
    "### Syntax"
   ]
  },
  {
   "cell_type": "raw",
   "id": "a2b6cc47",
   "metadata": {},
   "source": [
    "set.pop()"
   ]
  },
  {
   "cell_type": "markdown",
   "id": "11379798",
   "metadata": {},
   "source": [
    "### More Examples\n",
    "Example \n",
    "\n",
    "Return the removed element:"
   ]
  },
  {
   "cell_type": "code",
   "execution_count": 5,
   "id": "942ac159",
   "metadata": {},
   "outputs": [
    {
     "name": "stdout",
     "output_type": "stream",
     "text": [
      "apple\n"
     ]
    }
   ],
   "source": [
    "fruits = {\"apple\", \"banana\", \"cherry\"}\n",
    "\n",
    "x = fruits.pop()\n",
    "\n",
    "print(x)"
   ]
  },
  {
   "cell_type": "markdown",
   "id": "949cd586",
   "metadata": {},
   "source": [
    "# remove() \n",
    "Removes the specified element"
   ]
  },
  {
   "cell_type": "markdown",
   "id": "7079f22c",
   "metadata": {},
   "source": [
    "### Example\n",
    "Remove \"banana\" from the set:"
   ]
  },
  {
   "cell_type": "code",
   "execution_count": 6,
   "id": "fbc61bca",
   "metadata": {},
   "outputs": [
    {
     "name": "stdout",
     "output_type": "stream",
     "text": [
      "{'apple', 'cherry'}\n"
     ]
    }
   ],
   "source": [
    "fruits = {\"apple\", \"banana\", \"cherry\"}\n",
    "\n",
    "fruits.remove(\"banana\")\n",
    "\n",
    "print(fruits)"
   ]
  },
  {
   "cell_type": "markdown",
   "id": "189c0cd9",
   "metadata": {},
   "source": [
    "### Definition and Usage\n",
    "The remove() method removes the specified element from the set.\n",
    "\n",
    "This method is different from the discard() method, because the remove() method will raise an error if the specified item does not exist, and the discard() method will not."
   ]
  },
  {
   "cell_type": "markdown",
   "id": "12fc7664",
   "metadata": {},
   "source": [
    "### Syntax"
   ]
  },
  {
   "cell_type": "raw",
   "id": "53343e85",
   "metadata": {},
   "source": [
    "set.remove(item)"
   ]
  },
  {
   "cell_type": "markdown",
   "id": "5b8729ab",
   "metadata": {},
   "source": [
    "### Parameter Values"
   ]
  },
  {
   "cell_type": "raw",
   "id": "961514e1",
   "metadata": {},
   "source": [
    "Parameter      Description\n",
    "item           Required. The item to search for, and remove"
   ]
  },
  {
   "cell_type": "markdown",
   "id": "46d7a31c",
   "metadata": {},
   "source": [
    "# symmetric_difference() \n",
    "Returns a set with the symmetric differences of two sets"
   ]
  },
  {
   "cell_type": "markdown",
   "id": "8ab42e99",
   "metadata": {},
   "source": [
    "### Example\n",
    "Return a set that contains all items from both sets, except items that are present in both sets:"
   ]
  },
  {
   "cell_type": "code",
   "execution_count": 7,
   "id": "a7755deb",
   "metadata": {},
   "outputs": [
    {
     "name": "stdout",
     "output_type": "stream",
     "text": [
      "{'microsoft', 'cherry', 'google', 'banana'}\n"
     ]
    }
   ],
   "source": [
    "x = {\"apple\", \"banana\", \"cherry\"}\n",
    "y = {\"google\", \"microsoft\", \"apple\"}\n",
    "\n",
    "z = x.symmetric_difference(y)\n",
    "\n",
    "print(z)"
   ]
  },
  {
   "cell_type": "markdown",
   "id": "f2fbfc7b",
   "metadata": {},
   "source": [
    "### Definition and Usage\n",
    "The symmetric_difference() method returns a set that contains all items from both set, but not the items that are present in both sets.\n",
    "\n",
    "Meaning: The returned set contains a mix of items that are not present in both sets.\n",
    "\n"
   ]
  },
  {
   "cell_type": "markdown",
   "id": "d7d0026d",
   "metadata": {},
   "source": [
    "### Syntax"
   ]
  },
  {
   "cell_type": "raw",
   "id": "f24bc869",
   "metadata": {},
   "source": [
    "set.symmetric_difference(set)"
   ]
  },
  {
   "cell_type": "markdown",
   "id": "4a6c0321",
   "metadata": {},
   "source": [
    "### Parameter Values"
   ]
  },
  {
   "cell_type": "raw",
   "id": "b640b1eb",
   "metadata": {},
   "source": [
    "Parameter   Description\n",
    "set         Required. The set to check for matches in"
   ]
  },
  {
   "cell_type": "markdown",
   "id": "d9373562",
   "metadata": {},
   "source": [
    "# symmetric_difference_update() \n",
    "inserts the symmetric differences from this set and another"
   ]
  },
  {
   "cell_type": "markdown",
   "id": "e7a5aefe",
   "metadata": {},
   "source": [
    "### Example\n",
    "Remove the items that are present in both sets, AND insert the items that is not present in both sets:"
   ]
  },
  {
   "cell_type": "code",
   "execution_count": 8,
   "id": "d95daa16",
   "metadata": {},
   "outputs": [
    {
     "name": "stdout",
     "output_type": "stream",
     "text": [
      "{'microsoft', 'cherry', 'google', 'banana'}\n"
     ]
    }
   ],
   "source": [
    "x = {\"apple\", \"banana\", \"cherry\"}\n",
    "y = {\"google\", \"microsoft\", \"apple\"}\n",
    "\n",
    "x.symmetric_difference_update(y)\n",
    "\n",
    "print(x)\n"
   ]
  },
  {
   "cell_type": "markdown",
   "id": "ca0e5f1f",
   "metadata": {},
   "source": [
    "### Definition and Usage\n",
    "The symmetric_difference_update() method updates the original set by removing items that are present in both sets, and inserting the other items."
   ]
  },
  {
   "cell_type": "markdown",
   "id": "58c70b0a",
   "metadata": {},
   "source": [
    "### Syntax"
   ]
  },
  {
   "cell_type": "raw",
   "id": "ad35b556",
   "metadata": {},
   "source": [
    "set.symmetric_difference_update(set)"
   ]
  },
  {
   "cell_type": "markdown",
   "id": "b086f24f",
   "metadata": {},
   "source": [
    "### Parameter Values"
   ]
  },
  {
   "cell_type": "raw",
   "id": "178be3e2",
   "metadata": {},
   "source": [
    "Parameter    Description\n",
    "set          Required. The set to check for matches in"
   ]
  },
  {
   "cell_type": "markdown",
   "id": "a3539b43",
   "metadata": {},
   "source": [
    "# union()\n",
    "Return a set containing the union of sets"
   ]
  },
  {
   "cell_type": "markdown",
   "id": "8c96688a",
   "metadata": {},
   "source": [
    "### Example\n",
    "Return a set that contains all items from both sets, duplicates are excluded:"
   ]
  },
  {
   "cell_type": "code",
   "execution_count": 9,
   "id": "4ae1275f",
   "metadata": {},
   "outputs": [
    {
     "name": "stdout",
     "output_type": "stream",
     "text": [
      "{'microsoft', 'cherry', 'apple', 'banana', 'google'}\n"
     ]
    }
   ],
   "source": [
    "x = {\"apple\", \"banana\", \"cherry\"}\n",
    "y = {\"google\", \"microsoft\", \"apple\"}\n",
    "\n",
    "z = x.union(y)\n",
    "\n",
    "print(z)"
   ]
  },
  {
   "cell_type": "markdown",
   "id": "3f43cf16",
   "metadata": {},
   "source": [
    "### Definition and Usage\n",
    "The union() method returns a set that contains all items from the original set, and all items from the specified set(s).\n",
    "\n",
    "You can specify as many sets you want, separated by commas.\n",
    "\n",
    "It does not have to be a set, it can be any iterable object.\n",
    "\n",
    "If an item is present in more than one set, the result will contain only one appearance of this item."
   ]
  },
  {
   "cell_type": "markdown",
   "id": "c83cdf4d",
   "metadata": {},
   "source": [
    "### Syntax"
   ]
  },
  {
   "cell_type": "raw",
   "id": "8106e57a",
   "metadata": {},
   "source": [
    "set.union(set1, set2...)"
   ]
  },
  {
   "cell_type": "markdown",
   "id": "b1644f29",
   "metadata": {},
   "source": [
    "### Parameter Values"
   ]
  },
  {
   "cell_type": "raw",
   "id": "d42ad7ec",
   "metadata": {},
   "source": [
    "\n",
    "Parameter  Description\n",
    "set1       Required. The iterable to unify with\n",
    "set2       Optional. The other iterable to unify with.\n",
    "           You can compare as many iterables as you like.\n",
    "           Separate each iterable with a comma"
   ]
  },
  {
   "cell_type": "markdown",
   "id": "e82bc890",
   "metadata": {},
   "source": [
    "### More Examples\n",
    "Example\n",
    "\n",
    "Unify more than 2 sets:"
   ]
  },
  {
   "cell_type": "code",
   "execution_count": 10,
   "id": "8be2defb",
   "metadata": {},
   "outputs": [
    {
     "name": "stdout",
     "output_type": "stream",
     "text": [
      "{'f', 'c', 'd', 'a', 'e', 'b'}\n"
     ]
    }
   ],
   "source": [
    "x = {\"a\", \"b\", \"c\"}\n",
    "y = {\"f\", \"d\", \"a\"}\n",
    "z = {\"c\", \"d\", \"e\"}\n",
    "\n",
    "result = x.union(y, z)\n",
    "\n",
    "print(result)"
   ]
  },
  {
   "cell_type": "markdown",
   "id": "c1aa1340",
   "metadata": {},
   "source": [
    "# update() \n",
    "Update the set with another set, or any other iterable"
   ]
  },
  {
   "cell_type": "markdown",
   "id": "8297021f",
   "metadata": {},
   "source": [
    "### Example\n",
    "Insert the items from set y into set x:"
   ]
  },
  {
   "cell_type": "code",
   "execution_count": 11,
   "id": "36fa5323",
   "metadata": {},
   "outputs": [
    {
     "name": "stdout",
     "output_type": "stream",
     "text": [
      "{'microsoft', 'cherry', 'apple', 'banana', 'google'}\n"
     ]
    }
   ],
   "source": [
    "x = {\"apple\", \"banana\", \"cherry\"}\n",
    "y = {\"google\", \"microsoft\", \"apple\"}\n",
    "\n",
    "x.update(y)\n",
    "\n",
    "print(x)"
   ]
  },
  {
   "cell_type": "markdown",
   "id": "48c92611",
   "metadata": {},
   "source": [
    "### Definition and Usage\n",
    "The update() method updates the current set, by adding items from another set (or any other iterable).\n",
    "\n",
    "If an item is present in both sets, only one appearance of this item will be present in the updated set."
   ]
  },
  {
   "cell_type": "markdown",
   "id": "6caa4c4d",
   "metadata": {},
   "source": [
    "### Syntax"
   ]
  },
  {
   "cell_type": "raw",
   "id": "f607a26b",
   "metadata": {},
   "source": [
    "set.update(set)"
   ]
  },
  {
   "cell_type": "markdown",
   "id": "286303f9",
   "metadata": {},
   "source": [
    "### Parameter Values"
   ]
  },
  {
   "cell_type": "raw",
   "id": "e4b481ea",
   "metadata": {},
   "source": [
    "Parameter  Description\n",
    "set        Required. The iterable insert into the current set\n"
   ]
  },
  {
   "cell_type": "code",
   "execution_count": null,
   "id": "b1c19005",
   "metadata": {},
   "outputs": [],
   "source": []
  }
 ],
 "metadata": {
  "kernelspec": {
   "display_name": "Python 3 (ipykernel)",
   "language": "python",
   "name": "python3"
  },
  "language_info": {
   "codemirror_mode": {
    "name": "ipython",
    "version": 3
   },
   "file_extension": ".py",
   "mimetype": "text/x-python",
   "name": "python",
   "nbconvert_exporter": "python",
   "pygments_lexer": "ipython3",
   "version": "3.10.9"
  }
 },
 "nbformat": 4,
 "nbformat_minor": 5
}
