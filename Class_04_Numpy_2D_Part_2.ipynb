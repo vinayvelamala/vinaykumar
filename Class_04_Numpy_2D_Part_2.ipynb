{
 "cells": [
  {
   "cell_type": "markdown",
   "id": "5ad3a823",
   "metadata": {},
   "source": [
    "min\n",
    "\n",
    "max\n",
    "\n",
    "sum\n",
    "\n",
    "mean\n",
    "\n",
    "Copy\n",
    "\n",
    "View\n",
    "\n",
    "Transpose\n",
    "\n",
    "astype(dtype='float')\n",
    "\n",
    "dtype='int'\n",
    "\n",
    "Changing the data types\n",
    "\n",
    "    -> While creating array we are changing datatype\n",
    "    \n",
    "    -> after creating array we are changing the datatype -> astype\n",
    "    \n",
    "Concatinating\n",
    "\n",
    "hstack\n",
    "\n",
    "vstack\n",
    "\n",
    "ravel\n",
    "\n",
    "flatten\n",
    "\n",
    "ceil \n",
    "\n",
    "floor\n",
    "\n",
    "split -> np.split(x, 3)"
   ]
  },
  {
   "cell_type": "code",
   "execution_count": 1,
   "id": "688883dd",
   "metadata": {},
   "outputs": [],
   "source": [
    "import numpy as np"
   ]
  },
  {
   "cell_type": "code",
   "execution_count": 2,
   "id": "1e022152",
   "metadata": {},
   "outputs": [
    {
     "data": {
      "text/plain": [
       "array([[1, 5, 4],\n",
       "       [8, 4, 5],\n",
       "       [2, 1, 5]])"
      ]
     },
     "execution_count": 2,
     "metadata": {},
     "output_type": "execute_result"
    }
   ],
   "source": [
    "arr = np.array([[1,5,4],[8,4,5],[2,1,5]])\n",
    "arr"
   ]
  },
  {
   "cell_type": "code",
   "execution_count": 3,
   "id": "7ca40e91",
   "metadata": {},
   "outputs": [
    {
     "data": {
      "text/plain": [
       "1"
      ]
     },
     "execution_count": 3,
     "metadata": {},
     "output_type": "execute_result"
    }
   ],
   "source": [
    "np.min(arr)"
   ]
  },
  {
   "cell_type": "code",
   "execution_count": 4,
   "id": "508f2e28",
   "metadata": {},
   "outputs": [
    {
     "data": {
      "text/plain": [
       "8"
      ]
     },
     "execution_count": 4,
     "metadata": {},
     "output_type": "execute_result"
    }
   ],
   "source": [
    "np.max(arr)"
   ]
  },
  {
   "cell_type": "code",
   "execution_count": 5,
   "id": "aaffedb4",
   "metadata": {},
   "outputs": [
    {
     "data": {
      "text/plain": [
       "35"
      ]
     },
     "execution_count": 5,
     "metadata": {},
     "output_type": "execute_result"
    }
   ],
   "source": [
    "np.sum(arr)"
   ]
  },
  {
   "cell_type": "code",
   "execution_count": 6,
   "id": "266773ed",
   "metadata": {},
   "outputs": [
    {
     "data": {
      "text/plain": [
       "3.888888888888889"
      ]
     },
     "execution_count": 6,
     "metadata": {},
     "output_type": "execute_result"
    }
   ],
   "source": [
    "np.mean(arr)"
   ]
  },
  {
   "cell_type": "code",
   "execution_count": 7,
   "id": "66f8420b",
   "metadata": {},
   "outputs": [
    {
     "data": {
      "text/plain": [
       "3.89"
      ]
     },
     "execution_count": 7,
     "metadata": {},
     "output_type": "execute_result"
    }
   ],
   "source": [
    "round(np.mean(arr),2)"
   ]
  },
  {
   "cell_type": "markdown",
   "id": "5df04ccc",
   "metadata": {},
   "source": [
    "## copy vs view"
   ]
  },
  {
   "cell_type": "code",
   "execution_count": null,
   "id": "21e48bf0",
   "metadata": {},
   "outputs": [],
   "source": [
    "Copy\n",
    "\n",
    "Both variables owning data\n",
    "\n",
    "I am having a car\n",
    "\n",
    "You are having a car"
   ]
  },
  {
   "cell_type": "code",
   "execution_count": null,
   "id": "f8c52c4a",
   "metadata": {},
   "outputs": [],
   "source": [
    "View -> Mirror\n",
    "\n",
    "Only One Data owning by two variables\n",
    "\n",
    "Self rental Car\n",
    "\n",
    "You"
   ]
  },
  {
   "cell_type": "code",
   "execution_count": 8,
   "id": "5350ed6d",
   "metadata": {},
   "outputs": [
    {
     "data": {
      "text/plain": [
       "array([[1, 5, 4],\n",
       "       [8, 4, 5],\n",
       "       [2, 1, 5]])"
      ]
     },
     "execution_count": 8,
     "metadata": {},
     "output_type": "execute_result"
    }
   ],
   "source": [
    "arr"
   ]
  },
  {
   "cell_type": "code",
   "execution_count": 9,
   "id": "bf3aac71",
   "metadata": {},
   "outputs": [
    {
     "data": {
      "text/plain": [
       "array([[1, 5, 4],\n",
       "       [8, 4, 5],\n",
       "       [2, 1, 5]])"
      ]
     },
     "execution_count": 9,
     "metadata": {},
     "output_type": "execute_result"
    }
   ],
   "source": [
    "arr_c = arr.copy()\n",
    "arr_c"
   ]
  },
  {
   "cell_type": "code",
   "execution_count": 10,
   "id": "eee6e157",
   "metadata": {},
   "outputs": [
    {
     "data": {
      "text/plain": [
       "array([[7, 5, 4],\n",
       "       [8, 4, 5],\n",
       "       [2, 1, 5]])"
      ]
     },
     "execution_count": 10,
     "metadata": {},
     "output_type": "execute_result"
    }
   ],
   "source": [
    "arr_c[0,0]=7\n",
    "arr_c"
   ]
  },
  {
   "cell_type": "code",
   "execution_count": 11,
   "id": "69e48579",
   "metadata": {},
   "outputs": [
    {
     "data": {
      "text/plain": [
       "array([[1, 5, 4],\n",
       "       [8, 4, 5],\n",
       "       [2, 1, 5]])"
      ]
     },
     "execution_count": 11,
     "metadata": {},
     "output_type": "execute_result"
    }
   ],
   "source": [
    "arr"
   ]
  },
  {
   "cell_type": "code",
   "execution_count": 12,
   "id": "fd90dffb",
   "metadata": {},
   "outputs": [
    {
     "data": {
      "text/plain": [
       "array([[1, 5, 4],\n",
       "       [8, 4, 5],\n",
       "       [2, 1, 5]])"
      ]
     },
     "execution_count": 12,
     "metadata": {},
     "output_type": "execute_result"
    }
   ],
   "source": [
    "arr_v = arr.view()\n",
    "arr_v"
   ]
  },
  {
   "cell_type": "code",
   "execution_count": 13,
   "id": "673afeff",
   "metadata": {},
   "outputs": [
    {
     "data": {
      "text/plain": [
       "array([[1, 5, 4],\n",
       "       [8, 4, 5],\n",
       "       [2, 1, 5]])"
      ]
     },
     "execution_count": 13,
     "metadata": {},
     "output_type": "execute_result"
    }
   ],
   "source": [
    "arr"
   ]
  },
  {
   "cell_type": "code",
   "execution_count": 14,
   "id": "8a4efb83",
   "metadata": {},
   "outputs": [
    {
     "data": {
      "text/plain": [
       "array([[6, 5, 4],\n",
       "       [8, 4, 5],\n",
       "       [2, 1, 5]])"
      ]
     },
     "execution_count": 14,
     "metadata": {},
     "output_type": "execute_result"
    }
   ],
   "source": [
    "arr[0,0]=6\n",
    "arr"
   ]
  },
  {
   "cell_type": "code",
   "execution_count": 15,
   "id": "f79c342c",
   "metadata": {},
   "outputs": [
    {
     "data": {
      "text/plain": [
       "array([[6, 5, 4],\n",
       "       [8, 4, 5],\n",
       "       [2, 1, 5]])"
      ]
     },
     "execution_count": 15,
     "metadata": {},
     "output_type": "execute_result"
    }
   ],
   "source": [
    "arr_v"
   ]
  },
  {
   "cell_type": "code",
   "execution_count": 16,
   "id": "c08bcf5f",
   "metadata": {},
   "outputs": [
    {
     "data": {
      "text/plain": [
       "array([[6, 5, 4],\n",
       "       [8, 4, 7],\n",
       "       [2, 1, 5]])"
      ]
     },
     "execution_count": 16,
     "metadata": {},
     "output_type": "execute_result"
    }
   ],
   "source": [
    "arr_v[1,2] = 7\n",
    "arr_v"
   ]
  },
  {
   "cell_type": "code",
   "execution_count": 17,
   "id": "a17658b3",
   "metadata": {},
   "outputs": [
    {
     "data": {
      "text/plain": [
       "array([[6, 5, 4],\n",
       "       [8, 4, 7],\n",
       "       [2, 1, 5]])"
      ]
     },
     "execution_count": 17,
     "metadata": {},
     "output_type": "execute_result"
    }
   ],
   "source": [
    "arr"
   ]
  },
  {
   "cell_type": "markdown",
   "id": "98f39fee",
   "metadata": {},
   "source": [
    "## Transpose"
   ]
  },
  {
   "cell_type": "code",
   "execution_count": 18,
   "id": "5f2d67e1",
   "metadata": {},
   "outputs": [
    {
     "data": {
      "text/plain": [
       "array([[6, 8, 2],\n",
       "       [5, 4, 1],\n",
       "       [4, 7, 5]])"
      ]
     },
     "execution_count": 18,
     "metadata": {},
     "output_type": "execute_result"
    }
   ],
   "source": [
    "arr.T"
   ]
  },
  {
   "cell_type": "code",
   "execution_count": null,
   "id": "262ebb1b",
   "metadata": {},
   "outputs": [],
   "source": [
    "### astype(dtype='float')\n",
    "\n",
    "### dtype='int'"
   ]
  },
  {
   "cell_type": "code",
   "execution_count": 19,
   "id": "072d4ebc",
   "metadata": {},
   "outputs": [
    {
     "data": {
      "text/plain": [
       "array([[6, 5, 4],\n",
       "       [8, 4, 7],\n",
       "       [2, 1, 5]])"
      ]
     },
     "execution_count": 19,
     "metadata": {},
     "output_type": "execute_result"
    }
   ],
   "source": [
    "arr"
   ]
  },
  {
   "cell_type": "code",
   "execution_count": 20,
   "id": "186caf98",
   "metadata": {},
   "outputs": [
    {
     "data": {
      "text/plain": [
       "dtype('int32')"
      ]
     },
     "execution_count": 20,
     "metadata": {},
     "output_type": "execute_result"
    }
   ],
   "source": [
    "arr.dtype"
   ]
  },
  {
   "cell_type": "code",
   "execution_count": 21,
   "id": "0dc83257",
   "metadata": {},
   "outputs": [
    {
     "data": {
      "text/plain": [
       "array([[6., 5., 4.],\n",
       "       [8., 4., 7.],\n",
       "       [2., 1., 5.]])"
      ]
     },
     "execution_count": 21,
     "metadata": {},
     "output_type": "execute_result"
    }
   ],
   "source": [
    "arr_as = arr.astype(dtype='float')\n",
    "arr_as"
   ]
  },
  {
   "cell_type": "code",
   "execution_count": 22,
   "id": "277ceb1c",
   "metadata": {},
   "outputs": [
    {
     "data": {
      "text/plain": [
       "dtype('float64')"
      ]
     },
     "execution_count": 22,
     "metadata": {},
     "output_type": "execute_result"
    }
   ],
   "source": [
    "arr_as.dtype"
   ]
  },
  {
   "cell_type": "code",
   "execution_count": 23,
   "id": "2ec6a2f5",
   "metadata": {},
   "outputs": [
    {
     "data": {
      "text/plain": [
       "array([[1. , 2. , 3. ],\n",
       "       [8. , 2.6, 5. ]])"
      ]
     },
     "execution_count": 23,
     "metadata": {},
     "output_type": "execute_result"
    }
   ],
   "source": [
    "arr = np.array([[1, 2 ,3],[8, 2.6 ,5]])\n",
    "arr"
   ]
  },
  {
   "cell_type": "code",
   "execution_count": 24,
   "id": "b07feeea",
   "metadata": {},
   "outputs": [
    {
     "data": {
      "text/plain": [
       "array([[1, 2, 3],\n",
       "       [8, 2, 5]])"
      ]
     },
     "execution_count": 24,
     "metadata": {},
     "output_type": "execute_result"
    }
   ],
   "source": [
    "arr = np.array([[1,2,3],[8,2.6,5]],dtype='int')\n",
    "arr"
   ]
  },
  {
   "cell_type": "code",
   "execution_count": 25,
   "id": "aa773501",
   "metadata": {},
   "outputs": [
    {
     "data": {
      "text/plain": [
       "array([['1', '2', '3'],\n",
       "       ['8', '2.6', '5']], dtype='<U32')"
      ]
     },
     "execution_count": 25,
     "metadata": {},
     "output_type": "execute_result"
    }
   ],
   "source": [
    "arr = np.array([[1, '2' ,3],[8, 2.6 ,5]])\n",
    "arr"
   ]
  },
  {
   "cell_type": "code",
   "execution_count": 26,
   "id": "2704f3f1",
   "metadata": {},
   "outputs": [
    {
     "data": {
      "text/plain": [
       "array([[7, 5, 4],\n",
       "       [8, 4, 5],\n",
       "       [2, 1, 5]])"
      ]
     },
     "execution_count": 26,
     "metadata": {},
     "output_type": "execute_result"
    }
   ],
   "source": [
    "arr_c"
   ]
  },
  {
   "cell_type": "code",
   "execution_count": 27,
   "id": "28076eb7",
   "metadata": {},
   "outputs": [
    {
     "data": {
      "text/plain": [
       "array([[6, 5, 4],\n",
       "       [8, 4, 7],\n",
       "       [2, 1, 5]])"
      ]
     },
     "execution_count": 27,
     "metadata": {},
     "output_type": "execute_result"
    }
   ],
   "source": [
    "arr_v"
   ]
  },
  {
   "cell_type": "code",
   "execution_count": 28,
   "id": "9b9e0b01",
   "metadata": {},
   "outputs": [
    {
     "data": {
      "text/plain": [
       "array([[7, 5, 4],\n",
       "       [8, 4, 5],\n",
       "       [2, 1, 5],\n",
       "       [6, 5, 4],\n",
       "       [8, 4, 7],\n",
       "       [2, 1, 5]])"
      ]
     },
     "execution_count": 28,
     "metadata": {},
     "output_type": "execute_result"
    }
   ],
   "source": [
    "# default axis = 0 => row base\n",
    "np.concatenate([arr_c,arr_v])"
   ]
  },
  {
   "cell_type": "code",
   "execution_count": 29,
   "id": "172d8e75",
   "metadata": {},
   "outputs": [
    {
     "data": {
      "text/plain": [
       "array([[7, 5, 4, 6, 5, 4],\n",
       "       [8, 4, 5, 8, 4, 7],\n",
       "       [2, 1, 5, 2, 1, 5]])"
      ]
     },
     "execution_count": 29,
     "metadata": {},
     "output_type": "execute_result"
    }
   ],
   "source": [
    "# axis = 1 => column base\n",
    "np.concatenate([arr_c,arr_v],axis=1)"
   ]
  },
  {
   "cell_type": "code",
   "execution_count": 30,
   "id": "63dfca8f",
   "metadata": {},
   "outputs": [
    {
     "data": {
      "text/plain": [
       "array([[7, 5, 4, 6, 5, 4],\n",
       "       [8, 4, 5, 8, 4, 7],\n",
       "       [2, 1, 5, 2, 1, 5]])"
      ]
     },
     "execution_count": 30,
     "metadata": {},
     "output_type": "execute_result"
    }
   ],
   "source": [
    "# Concatenate axis =1\n",
    "np.hstack((arr_c,arr_v))"
   ]
  },
  {
   "cell_type": "code",
   "execution_count": 31,
   "id": "5df7c1ae",
   "metadata": {},
   "outputs": [
    {
     "data": {
      "text/plain": [
       "array([[7, 5, 4],\n",
       "       [8, 4, 5],\n",
       "       [2, 1, 5],\n",
       "       [6, 5, 4],\n",
       "       [8, 4, 7],\n",
       "       [2, 1, 5]])"
      ]
     },
     "execution_count": 31,
     "metadata": {},
     "output_type": "execute_result"
    }
   ],
   "source": [
    "# Concatenate axis =0\n",
    "np.vstack((arr_c,arr_v))"
   ]
  },
  {
   "cell_type": "code",
   "execution_count": 32,
   "id": "bf3eebfa",
   "metadata": {},
   "outputs": [
    {
     "data": {
      "text/plain": [
       "array([[7, 5, 4],\n",
       "       [8, 4, 5],\n",
       "       [2, 1, 5]])"
      ]
     },
     "execution_count": 32,
     "metadata": {},
     "output_type": "execute_result"
    }
   ],
   "source": [
    "arr_c"
   ]
  },
  {
   "cell_type": "code",
   "execution_count": 33,
   "id": "75af0184",
   "metadata": {},
   "outputs": [
    {
     "data": {
      "text/plain": [
       "array([7, 5, 4, 8, 4, 5, 2, 1, 5])"
      ]
     },
     "execution_count": 33,
     "metadata": {},
     "output_type": "execute_result"
    }
   ],
   "source": [
    "# ravel converts any dimenstions into single dimensions\n",
    "np.ravel(arr_c)"
   ]
  },
  {
   "cell_type": "code",
   "execution_count": 34,
   "id": "b1627bef",
   "metadata": {},
   "outputs": [
    {
     "data": {
      "text/plain": [
       "array([7, 5, 4, 8, 4, 5, 2, 1, 5])"
      ]
     },
     "execution_count": 34,
     "metadata": {},
     "output_type": "execute_result"
    }
   ],
   "source": [
    "arr_c.flatten()"
   ]
  },
  {
   "cell_type": "code",
   "execution_count": 35,
   "id": "fa62b31f",
   "metadata": {},
   "outputs": [
    {
     "data": {
      "text/plain": [
       "array([[7, 5, 4],\n",
       "       [8, 4, 5],\n",
       "       [2, 1, 5]])"
      ]
     },
     "execution_count": 35,
     "metadata": {},
     "output_type": "execute_result"
    }
   ],
   "source": [
    "arr_c"
   ]
  },
  {
   "cell_type": "code",
   "execution_count": 36,
   "id": "9ecdf32b",
   "metadata": {},
   "outputs": [
    {
     "data": {
      "text/plain": [
       "array([7, 8, 2, 5, 4, 1, 4, 5, 5])"
      ]
     },
     "execution_count": 36,
     "metadata": {},
     "output_type": "execute_result"
    }
   ],
   "source": [
    "# f -> fortan style\n",
    "arr_c.flatten(order='f')"
   ]
  },
  {
   "cell_type": "code",
   "execution_count": 1,
   "id": "6510c6d3",
   "metadata": {},
   "outputs": [
    {
     "data": {
      "text/plain": [
       "array([[1.99, 3.6 ],\n",
       "       [8.01, 6.  ]])"
      ]
     },
     "execution_count": 1,
     "metadata": {},
     "output_type": "execute_result"
    }
   ],
   "source": [
    "import numpy as np\n",
    "arr = np.array([[1.99,3.6],[8.01,6.0]])\n",
    "arr"
   ]
  },
  {
   "cell_type": "code",
   "execution_count": 2,
   "id": "cca538e1",
   "metadata": {},
   "outputs": [
    {
     "data": {
      "text/plain": [
       "array([[2., 4.],\n",
       "       [9., 6.]])"
      ]
     },
     "execution_count": 2,
     "metadata": {},
     "output_type": "execute_result"
    }
   ],
   "source": [
    "np.ceil(arr)"
   ]
  },
  {
   "cell_type": "code",
   "execution_count": 3,
   "id": "48fc2ffa",
   "metadata": {},
   "outputs": [
    {
     "data": {
      "text/plain": [
       "array([[1., 3.],\n",
       "       [8., 6.]])"
      ]
     },
     "execution_count": 3,
     "metadata": {},
     "output_type": "execute_result"
    }
   ],
   "source": [
    "np.floor(arr)"
   ]
  },
  {
   "cell_type": "code",
   "execution_count": 5,
   "id": "fea442c7",
   "metadata": {},
   "outputs": [
    {
     "data": {
      "text/plain": [
       "array([1, 5, 4, 8, 4, 5, 2, 1, 5])"
      ]
     },
     "execution_count": 5,
     "metadata": {},
     "output_type": "execute_result"
    }
   ],
   "source": [
    "arr_c = np.array([[1,5,4],[8,4,5],[2,1,5]])\n",
    "arr = arr_c.ravel()\n",
    "arr"
   ]
  },
  {
   "cell_type": "code",
   "execution_count": 6,
   "id": "9921fe45",
   "metadata": {},
   "outputs": [
    {
     "data": {
      "text/plain": [
       "[array([1]),\n",
       " array([5]),\n",
       " array([4]),\n",
       " array([8]),\n",
       " array([4]),\n",
       " array([5]),\n",
       " array([2]),\n",
       " array([1]),\n",
       " array([5])]"
      ]
     },
     "execution_count": 6,
     "metadata": {},
     "output_type": "execute_result"
    }
   ],
   "source": [
    "np.split(arr,9)"
   ]
  },
  {
   "cell_type": "code",
   "execution_count": null,
   "id": "c142a4fb",
   "metadata": {},
   "outputs": [],
   "source": [
    "sp = np.split(arr,3)\n",
    "sp"
   ]
  },
  {
   "cell_type": "code",
   "execution_count": null,
   "id": "0c61f27f",
   "metadata": {},
   "outputs": [],
   "source": [
    "sp[1]"
   ]
  },
  {
   "cell_type": "markdown",
   "id": "05541973",
   "metadata": {},
   "source": [
    "## For more manipulations on the array\n",
    "\n",
    "https://numpy.org/doc/stable/reference/generated/numpy.split.html\n",
    "\n",
    "https://numpy.org/doc/stable/index.html"
   ]
  },
  {
   "cell_type": "code",
   "execution_count": null,
   "id": "81475532",
   "metadata": {},
   "outputs": [],
   "source": []
  }
 ],
 "metadata": {
  "kernelspec": {
   "display_name": "Python 3 (ipykernel)",
   "language": "python",
   "name": "python3"
  },
  "language_info": {
   "codemirror_mode": {
    "name": "ipython",
    "version": 3
   },
   "file_extension": ".py",
   "mimetype": "text/x-python",
   "name": "python",
   "nbconvert_exporter": "python",
   "pygments_lexer": "ipython3",
   "version": "3.10.9"
  }
 },
 "nbformat": 4,
 "nbformat_minor": 5
}
