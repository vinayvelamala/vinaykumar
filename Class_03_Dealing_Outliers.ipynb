{
 "cells": [
  {
   "cell_type": "markdown",
   "id": "f7da9acf",
   "metadata": {},
   "source": [
    "### Rectifying the Outliers\n",
    "\n",
    "    -> Droping the rows\n",
    "    \n",
    "    -> Droping the column\n",
    "    \n",
    "    -> Converting those outliers into null values\n",
    "    \n",
    "    -> Normalizing the column"
   ]
  },
  {
   "cell_type": "markdown",
   "id": "0a384a1a",
   "metadata": {},
   "source": [
    "### Loading the data"
   ]
  },
  {
   "cell_type": "code",
   "execution_count": 1,
   "id": "7d4c8ce3",
   "metadata": {},
   "outputs": [
    {
     "data": {
      "text/html": [
       "<div>\n",
       "<style scoped>\n",
       "    .dataframe tbody tr th:only-of-type {\n",
       "        vertical-align: middle;\n",
       "    }\n",
       "\n",
       "    .dataframe tbody tr th {\n",
       "        vertical-align: top;\n",
       "    }\n",
       "\n",
       "    .dataframe thead th {\n",
       "        text-align: right;\n",
       "    }\n",
       "</style>\n",
       "<table border=\"1\" class=\"dataframe\">\n",
       "  <thead>\n",
       "    <tr style=\"text-align: right;\">\n",
       "      <th></th>\n",
       "      <th>sepal_length</th>\n",
       "      <th>sepal_width</th>\n",
       "      <th>petal_length</th>\n",
       "      <th>petal_width</th>\n",
       "      <th>species</th>\n",
       "    </tr>\n",
       "  </thead>\n",
       "  <tbody>\n",
       "    <tr>\n",
       "      <th>0</th>\n",
       "      <td>5.1</td>\n",
       "      <td>3.5</td>\n",
       "      <td>1.4</td>\n",
       "      <td>0.2</td>\n",
       "      <td>setosa</td>\n",
       "    </tr>\n",
       "    <tr>\n",
       "      <th>1</th>\n",
       "      <td>4.9</td>\n",
       "      <td>3.0</td>\n",
       "      <td>1.4</td>\n",
       "      <td>0.2</td>\n",
       "      <td>setosa</td>\n",
       "    </tr>\n",
       "    <tr>\n",
       "      <th>2</th>\n",
       "      <td>4.7</td>\n",
       "      <td>3.2</td>\n",
       "      <td>1.3</td>\n",
       "      <td>0.2</td>\n",
       "      <td>setosa</td>\n",
       "    </tr>\n",
       "    <tr>\n",
       "      <th>3</th>\n",
       "      <td>4.6</td>\n",
       "      <td>3.1</td>\n",
       "      <td>1.5</td>\n",
       "      <td>0.2</td>\n",
       "      <td>setosa</td>\n",
       "    </tr>\n",
       "    <tr>\n",
       "      <th>4</th>\n",
       "      <td>5.0</td>\n",
       "      <td>3.6</td>\n",
       "      <td>1.4</td>\n",
       "      <td>0.2</td>\n",
       "      <td>setosa</td>\n",
       "    </tr>\n",
       "  </tbody>\n",
       "</table>\n",
       "</div>"
      ],
      "text/plain": [
       "   sepal_length  sepal_width  petal_length  petal_width species\n",
       "0           5.1          3.5           1.4          0.2  setosa\n",
       "1           4.9          3.0           1.4          0.2  setosa\n",
       "2           4.7          3.2           1.3          0.2  setosa\n",
       "3           4.6          3.1           1.5          0.2  setosa\n",
       "4           5.0          3.6           1.4          0.2  setosa"
      ]
     },
     "execution_count": 1,
     "metadata": {},
     "output_type": "execute_result"
    }
   ],
   "source": [
    "import numpy as np\n",
    "import pandas as pd\n",
    "import seaborn as sns\n",
    "import matplotlib.pyplot as plt\n",
    "\n",
    "df = sns.load_dataset('iris')\n",
    "df.head()"
   ]
  },
  {
   "cell_type": "code",
   "execution_count": 2,
   "id": "9924f012",
   "metadata": {},
   "outputs": [],
   "source": [
    "def outliers(data,col):\n",
    "    global ULP,LLP\n",
    "    mini = data[col].min()\n",
    "    Q1 = data[col].quantile(0.25)\n",
    "    Q2 = data[col].quantile(0.5)\n",
    "    Q3 = data[col].quantile(0.75)\n",
    "    maxi = data[col].max()\n",
    "    IQR = round((Q3 - Q1),2)\n",
    "    LLP = round((Q1 - (1.5*IQR)),2)\n",
    "    ULP = round((Q3 + (1.5*IQR)),2)\n",
    "    LLP_L = len(data[data[col]<LLP])\n",
    "    ULP_L = len(data[data[col]>ULP])\n",
    "    \n",
    "    print('\\nColumn Name:',col)\n",
    "    \n",
    "    sns.boxplot(data=data,x=col)\n",
    "    plt.show()\n",
    "    \n",
    "    print('Minimum Value in',col,':',mini)\n",
    "    print('Maximum Value in',col,':',maxi)\n",
    "    print('Q1 Value in',col,':',Q1)\n",
    "    print('Q2 Value in',col,':',Q2)\n",
    "    print('Q3 Value in',col,':',Q3)\n",
    "    print('IQR Value in',col,':',IQR)\n",
    "    print('LLP Value in',col,':',LLP)\n",
    "    print('ULP Value in',col,':',ULP)\n",
    "    print('Number of outliers below LLP:',LLP_L)\n",
    "    print('Number of outliers above ULP:',ULP_L)\n"
   ]
  },
  {
   "cell_type": "code",
   "execution_count": 3,
   "id": "6f8978f6",
   "metadata": {},
   "outputs": [
    {
     "name": "stdout",
     "output_type": "stream",
     "text": [
      "\n",
      "Column Name: sepal_width\n"
     ]
    },
    {
     "data": {
      "image/png": "[encoded data removed]",
      "text/plain": [
       "<Figure size 432x288 with 1 Axes>"
      ]
     },
     "metadata": {
      "needs_background": "light"
     },
     "output_type": "display_data"
    },
    {
     "name": "stdout",
     "output_type": "stream",
     "text": [
      "Minimum Value in sepal_width : 2.0\n",
      "Maximum Value in sepal_width : 4.4\n",
      "Q1 Value in sepal_width : 2.8\n",
      "Q2 Value in sepal_width : 3.0\n",
      "Q3 Value in sepal_width : 3.3\n",
      "IQR Value in sepal_width : 0.5\n",
      "LLP Value in sepal_width : 2.05\n",
      "ULP Value in sepal_width : 4.05\n",
      "Number of outliers below LLP: 1\n",
      "Number of outliers above ULP: 3\n"
     ]
    }
   ],
   "source": [
    "outliers(df,'sepal_width')"
   ]
  },
  {
   "cell_type": "markdown",
   "id": "346c0f7e",
   "metadata": {},
   "source": [
    "### Removing outliers rows"
   ]
  },
  {
   "cell_type": "code",
   "execution_count": 4,
   "id": "9939bda9",
   "metadata": {},
   "outputs": [],
   "source": [
    "df_u = df[df['sepal_width']< ULP]"
   ]
  },
  {
   "cell_type": "code",
   "execution_count": 5,
   "id": "90d1dc31",
   "metadata": {},
   "outputs": [
    {
     "data": {
      "text/plain": [
       "(147, 5)"
      ]
     },
     "execution_count": 5,
     "metadata": {},
     "output_type": "execute_result"
    }
   ],
   "source": [
    "df_u.shape"
   ]
  },
  {
   "cell_type": "code",
   "execution_count": 6,
   "id": "18b6b6da",
   "metadata": {},
   "outputs": [],
   "source": [
    "df_l = df_u[df_u['sepal_width']> LLP]"
   ]
  },
  {
   "cell_type": "code",
   "execution_count": 7,
   "id": "5c597917",
   "metadata": {},
   "outputs": [
    {
     "data": {
      "text/plain": [
       "(146, 5)"
      ]
     },
     "execution_count": 7,
     "metadata": {},
     "output_type": "execute_result"
    }
   ],
   "source": [
    "df_l.shape"
   ]
  },
  {
   "cell_type": "markdown",
   "id": "87fab215",
   "metadata": {},
   "source": [
    "### Convert outlier values to null"
   ]
  },
  {
   "cell_type": "code",
   "execution_count": 8,
   "id": "c81efc9d",
   "metadata": {},
   "outputs": [
    {
     "data": {
      "text/plain": [
       "(150, 5)"
      ]
     },
     "execution_count": 8,
     "metadata": {},
     "output_type": "execute_result"
    }
   ],
   "source": [
    "df.shape"
   ]
  },
  {
   "cell_type": "code",
   "execution_count": 9,
   "id": "35c8da21",
   "metadata": {},
   "outputs": [
    {
     "data": {
      "text/plain": [
       "0"
      ]
     },
     "execution_count": 9,
     "metadata": {},
     "output_type": "execute_result"
    }
   ],
   "source": [
    "df['sepal_width'].isnull().sum()"
   ]
  },
  {
   "cell_type": "code",
   "execution_count": 10,
   "id": "1366f5f6",
   "metadata": {},
   "outputs": [],
   "source": [
    "df['sepal_width'] = np.where(df['sepal_width']<LLP, np.nan, df['sepal_width'])"
   ]
  },
  {
   "cell_type": "code",
   "execution_count": 11,
   "id": "542a05df",
   "metadata": {},
   "outputs": [
    {
     "data": {
      "text/plain": [
       "1"
      ]
     },
     "execution_count": 11,
     "metadata": {},
     "output_type": "execute_result"
    }
   ],
   "source": [
    "df['sepal_width'].isnull().sum()"
   ]
  },
  {
   "cell_type": "code",
   "execution_count": 12,
   "id": "069659c9",
   "metadata": {},
   "outputs": [],
   "source": [
    "df['sepal_width'] = np.where(df['sepal_width']>ULP, np.nan, df['sepal_width'])"
   ]
  },
  {
   "cell_type": "code",
   "execution_count": 13,
   "id": "18e0a564",
   "metadata": {},
   "outputs": [
    {
     "data": {
      "text/plain": [
       "4"
      ]
     },
     "execution_count": 13,
     "metadata": {},
     "output_type": "execute_result"
    }
   ],
   "source": [
    "df['sepal_width'].isnull().sum()"
   ]
  },
  {
   "cell_type": "code",
   "execution_count": 14,
   "id": "c07326db",
   "metadata": {},
   "outputs": [
    {
     "data": {
      "text/plain": [
       "(150, 5)"
      ]
     },
     "execution_count": 14,
     "metadata": {},
     "output_type": "execute_result"
    }
   ],
   "source": [
    "df.shape"
   ]
  },
  {
   "cell_type": "code",
   "execution_count": 15,
   "id": "da38513d",
   "metadata": {},
   "outputs": [
    {
     "data": {
      "text/plain": [
       "sepal_length    0\n",
       "sepal_width     4\n",
       "petal_length    0\n",
       "petal_width     0\n",
       "species         0\n",
       "dtype: int64"
      ]
     },
     "execution_count": 15,
     "metadata": {},
     "output_type": "execute_result"
    }
   ],
   "source": [
    "df.isnull().sum()"
   ]
  },
  {
   "cell_type": "code",
   "execution_count": null,
   "id": "6daf5d12",
   "metadata": {},
   "outputs": [],
   "source": []
  }
 ],
 "metadata": {
  "kernelspec": {
   "display_name": "Python 3 (ipykernel)",
   "language": "python",
   "name": "python3"
  },
  "language_info": {
   "codemirror_mode": {
    "name": "ipython",
    "version": 3
   },
   "file_extension": ".py",
   "mimetype": "text/x-python",
   "name": "python",
   "nbconvert_exporter": "python",
   "pygments_lexer": "ipython3",
   "version": "3.10.9"
  }
 },
 "nbformat": 4,
 "nbformat_minor": 5
}
