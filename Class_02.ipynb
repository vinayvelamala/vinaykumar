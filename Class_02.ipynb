{
 "cells": [
  {
   "cell_type": "markdown",
   "id": "01f42a89",
   "metadata": {},
   "source": [
    "# Agenda of the Class"
   ]
  },
  {
   "cell_type": "markdown",
   "id": "9ecdc5d8",
   "metadata": {},
   "source": [
    "### 1. Variable\n",
    "\n",
    "    1.1 Value\n",
    "\n",
    "    1.2 Assignment Operator\n",
    "\n",
    "    1.3 Identifier\n",
    "        \n",
    "### 2. print( )\n",
    "    \n",
    "    -> Build-in function\n",
    "\n",
    "### 3. Basic Data Type\n",
    "\n",
    "    3.1 integer\n",
    "\n",
    "    3.2 float\n",
    "\n",
    "    3.3 string\n",
    "\n",
    "### 4. type( )\n",
    "\n",
    "    -> Build-in function\n",
    "   \n",
    "### 5. len( )\n",
    "\n",
    "    -> Build-in function\n",
    "\n",
    "### 6. Guidelines to declare variable names\n",
    "\n",
    "    6.1 Following steps\n",
    "    \n",
    "    6.2 Camel Case\n",
    "    \n",
    "    6.3 Pascal Case\n",
    "    \n",
    "    6.4 Snake Case\n",
    "\n",
    "###  7. Python Variable Types\n",
    "\n",
    "    7.1 Local Variable\n",
    "    \n",
    "    7.2 Global Variable\n",
    "    \n",
    "### 8. Delete a Variable\n",
    "\n",
    "### 9. Multiple Assignments\n",
    "\n",
    "    9.1 Assigning multiple values to multiple variables\n",
    "    \n",
    "    9.2 Assigning single value to multiple variables\n",
    "    \n",
    "    9.3 Printing Multiple Variables\n",
    "\n",
    "### 10. Re-Declare Variable\n",
    "\n",
    "### 11. Displaying output with variable name\n",
    "\n",
    "### 12. Difference between string and variable name\n",
    "\n",
    "### 13. Casting\n",
    "\n",
    "    13.1 int( )\n",
    "    \n",
    "    13.2 float( )\n",
    "    \n",
    "    13.3 str( )\n",
    "    \n",
    "### 14. input( )"
   ]
  },
  {
   "cell_type": "markdown",
   "id": "e63f0ff8",
   "metadata": {},
   "source": [
    "# Each Chapter indepth explanation"
   ]
  },
  {
   "cell_type": "markdown",
   "id": "05e2e232",
   "metadata": {},
   "source": [
    "### 1. Variable\n",
    "\n",
    "    -> When we develop a program, we need to manage values, a lot of them. To store values, we use variables.\n",
    "\n",
    "    -> It going to work as a storage area\n",
    "    \n",
    "    -> where we are storing value in a name\n",
    "    \n",
    "#### Example with Syntax\n",
    "\n",
    "##### Syntax\n",
    "\n",
    "Variable_Name Assignmen_Operator Value\n",
    "\n",
    "##### Example\n",
    "\n",
    "a = 2\n",
    "\n",
    "where \n",
    "\n",
    "    -> a   => variable name\n",
    "    \n",
    "    -> =   => assignment operator\n",
    "    \n",
    "    -> 2   => value => value can be any datatype"
   ]
  },
  {
   "cell_type": "markdown",
   "id": "a8475c01",
   "metadata": {},
   "source": [
    "### 2. print( )\n",
    "\n",
    "    -> Built-in functions to display output\n",
    "\n",
    "###### Example:"
   ]
  },
  {
   "cell_type": "code",
   "execution_count": null,
   "id": "2976286f",
   "metadata": {},
   "outputs": [],
   "source": [
    "a = 9"
   ]
  },
  {
   "cell_type": "code",
   "execution_count": null,
   "id": "05b4e994",
   "metadata": {},
   "outputs": [],
   "source": [
    "print(a)"
   ]
  },
  {
   "cell_type": "markdown",
   "id": "462d9791",
   "metadata": {},
   "source": [
    "#### 1.3 Value\n",
    "\n",
    "    -> Value can be any datatype\n",
    "    \n",
    "    -> Basic Datatypes\n",
    "    \n",
    "        -> integer\n",
    "        \n",
    "        -> float\n",
    "        \n",
    "        -> string"
   ]
  },
  {
   "cell_type": "markdown",
   "id": "eb733509",
   "metadata": {},
   "source": [
    "### 3. Basic Data Types\n",
    "\n",
    "    -> integer\n",
    "    \n",
    "        represent by using int\n",
    "    \n",
    "    -> float\n",
    "    \n",
    "        represent by using float\n",
    "    \n",
    "    -> string\n",
    "    \n",
    "        represents by using str"
   ]
  },
  {
   "cell_type": "markdown",
   "id": "1f8bf0b7",
   "metadata": {},
   "source": [
    "#### 3.1 integer\n",
    "\n",
    "    -> Number without decimals\n",
    "    \n",
    "    -> value can lies in between minus infinity to plus infinity\n",
    "    \n",
    "##### Example:"
   ]
  },
  {
   "cell_type": "code",
   "execution_count": null,
   "id": "7c4ae4fc",
   "metadata": {},
   "outputs": [],
   "source": [
    "a = 358"
   ]
  },
  {
   "cell_type": "code",
   "execution_count": null,
   "id": "6831093c",
   "metadata": {},
   "outputs": [],
   "source": [
    "print(a)"
   ]
  },
  {
   "cell_type": "markdown",
   "id": "f05fad0e",
   "metadata": {},
   "source": [
    "### 4. type\n",
    "\n",
    "    -> Type is a build-in function\n",
    "    \n",
    "    -> Python itself having few functions\n",
    "    \n",
    "    -> This type functions gives data type information\n",
    "    \n",
    "##### Example:"
   ]
  },
  {
   "cell_type": "code",
   "execution_count": null,
   "id": "bc3900a5",
   "metadata": {},
   "outputs": [],
   "source": [
    "type(a)"
   ]
  },
  {
   "cell_type": "code",
   "execution_count": null,
   "id": "5ad00741",
   "metadata": {},
   "outputs": [],
   "source": [
    "type(-145)"
   ]
  },
  {
   "cell_type": "markdown",
   "id": "5e6ab362",
   "metadata": {},
   "source": [
    "#### 3.2 Float\n",
    "\n",
    "    -> if we find any decimal values in the number\n",
    "    \n",
    "    -> Values are lies in between minus infinity dot infinity to plus infinity dot infinity\n",
    "    \n",
    "    -> Python can hold 15 decimal values\n",
    "    \n",
    "##### Examples:"
   ]
  },
  {
   "cell_type": "code",
   "execution_count": null,
   "id": "eb7ffc01",
   "metadata": {},
   "outputs": [],
   "source": [
    "a = 4.0\n",
    "print(a)\n",
    "type(a)"
   ]
  },
  {
   "cell_type": "code",
   "execution_count": null,
   "id": "f5f7ac31",
   "metadata": {},
   "outputs": [],
   "source": [
    "type(-5.258652)"
   ]
  },
  {
   "cell_type": "markdown",
   "id": "7bcd53cb",
   "metadata": {},
   "source": [
    "#### 3.3 String\n",
    "\n",
    "    -> string consists of chars\n",
    "    \n",
    "    -> chars can be lower and upper case alphabets, digits, special chars including space\n",
    "    \n",
    "    -> When these chars are enclosed in between single or double quotes\n",
    "    \n",
    "##### Example:"
   ]
  },
  {
   "cell_type": "code",
   "execution_count": null,
   "id": "99e511e5",
   "metadata": {},
   "outputs": [],
   "source": [
    "c = 'Divesh'\n",
    "print(c)\n",
    "type(c)"
   ]
  },
  {
   "cell_type": "code",
   "execution_count": null,
   "id": "8adcc262",
   "metadata": {},
   "outputs": [],
   "source": [
    "type(\"Divesh15.$@qwer\")"
   ]
  },
  {
   "cell_type": "code",
   "execution_count": null,
   "id": "ae32a127",
   "metadata": {},
   "outputs": [],
   "source": [
    "print(\"Divesh's Laptop.\")\n",
    "type(\"Divesh's Laptop.\")"
   ]
  },
  {
   "cell_type": "markdown",
   "id": "a4b76ff8",
   "metadata": {},
   "source": [
    "### Boolen\n",
    "\n",
    "    -> Boolean consists of two values\n",
    "    \n",
    "    -> True Flase\n",
    "    \n",
    "    -> T and F must be upper case\n",
    "    \n",
    "    -> Representation is bool"
   ]
  },
  {
   "cell_type": "code",
   "execution_count": null,
   "id": "f4ede3f0",
   "metadata": {},
   "outputs": [],
   "source": [
    "a = True\n",
    "print(a)\n",
    "type(a)"
   ]
  },
  {
   "cell_type": "code",
   "execution_count": null,
   "id": "0fb4648c",
   "metadata": {},
   "outputs": [],
   "source": [
    "type(False)"
   ]
  },
  {
   "cell_type": "markdown",
   "id": "96841b46",
   "metadata": {},
   "source": [
    "#### 1.2 Assignments Operator\n",
    "\n",
    "    -> We are going to have = (equal to)"
   ]
  },
  {
   "cell_type": "markdown",
   "id": "9421bde5",
   "metadata": {},
   "source": [
    "#### 1.3 Variable Name\n",
    "\n",
    "    -> Variable Name must follow identifier rules\n",
    "    \n",
    "    -> If it is fail to follow identifier rules then we are going to see Syntax Error\n",
    "    \n",
    "    -> Rules to remember\n",
    "    \n",
    "        => Identifiers are not going to use special chars except underscore\n",
    "        \n",
    "        => Identifiers cannot start with numbers\n",
    "        \n",
    "        => Identifiers treat lower and upper case as different\n",
    "        \n",
    "        => Keywords or reserved words, and built-in functions in Python cannot become as identifiers"
   ]
  },
  {
   "cell_type": "markdown",
   "id": "0ca798fb",
   "metadata": {},
   "source": [
    "##### 1.3.1 Identifiers are not going to use special chars except underscore"
   ]
  },
  {
   "cell_type": "code",
   "execution_count": null,
   "id": "26cb8552",
   "metadata": {},
   "outputs": [],
   "source": [
    "we@k = 7"
   ]
  },
  {
   "cell_type": "code",
   "execution_count": null,
   "id": "c21b9a57",
   "metadata": {},
   "outputs": [],
   "source": [
    "we k = 7"
   ]
  },
  {
   "cell_type": "code",
   "execution_count": null,
   "id": "6994a741",
   "metadata": {},
   "outputs": [],
   "source": [
    "we+k = 7"
   ]
  },
  {
   "cell_type": "code",
   "execution_count": null,
   "id": "b9fdc404",
   "metadata": {},
   "outputs": [],
   "source": [
    "weak = 7\n",
    "print(weak)"
   ]
  },
  {
   "cell_type": "code",
   "execution_count": null,
   "id": "1930765f",
   "metadata": {},
   "outputs": [],
   "source": [
    "we_ak = 7\n",
    "print(we_ak)"
   ]
  },
  {
   "cell_type": "code",
   "execution_count": null,
   "id": "1f133a06",
   "metadata": {},
   "outputs": [],
   "source": [
    "_we = 10\n",
    "print(_we)"
   ]
  },
  {
   "cell_type": "code",
   "execution_count": null,
   "id": "33130fb2",
   "metadata": {},
   "outputs": [],
   "source": [
    "we_ = 11\n",
    "print(we_)"
   ]
  },
  {
   "cell_type": "markdown",
   "id": "f0ee0563",
   "metadata": {},
   "source": [
    "#### 1.3.2 Identifiers cannot start with numbers\n",
    "\n",
    "##### Example:"
   ]
  },
  {
   "cell_type": "code",
   "execution_count": null,
   "id": "1c2b366c",
   "metadata": {},
   "outputs": [],
   "source": [
    "9a = 12"
   ]
  },
  {
   "cell_type": "code",
   "execution_count": null,
   "id": "8bb1a0e2",
   "metadata": {},
   "outputs": [],
   "source": [
    "a9 = 10\n",
    "print(a9)"
   ]
  },
  {
   "cell_type": "code",
   "execution_count": null,
   "id": "f5acb121",
   "metadata": {},
   "outputs": [],
   "source": [
    "c4_e4=15\n",
    "print(c4_e4)"
   ]
  },
  {
   "cell_type": "markdown",
   "id": "d57a549a",
   "metadata": {},
   "source": [
    "#### 1.3.3 Identifiers treat lower and upper case as different\n",
    "\n",
    "##### Examples:"
   ]
  },
  {
   "cell_type": "code",
   "execution_count": null,
   "id": "6782fdf2",
   "metadata": {},
   "outputs": [],
   "source": [
    "a = 10\n",
    "print(A)"
   ]
  },
  {
   "cell_type": "code",
   "execution_count": null,
   "id": "089d1e9a",
   "metadata": {},
   "outputs": [],
   "source": [
    "print(a)"
   ]
  },
  {
   "cell_type": "code",
   "execution_count": null,
   "id": "5358e872",
   "metadata": {},
   "outputs": [],
   "source": [
    "b = 10\n",
    "print(B)\n",
    "print(b)"
   ]
  },
  {
   "cell_type": "markdown",
   "id": "d2c0efbc",
   "metadata": {},
   "source": [
    "##### Note*:\n",
    "    \n",
    "    -> Python is a case sensitive language\n",
    "    \n",
    "    -> That means python treats lower and upper case as different"
   ]
  },
  {
   "cell_type": "markdown",
   "id": "67eca454",
   "metadata": {},
   "source": [
    "#### 1.3.4 Keywords cannot be identifiers"
   ]
  },
  {
   "cell_type": "markdown",
   "id": "6aa79cee",
   "metadata": {},
   "source": [
    "Keywords\n",
    "\n",
    "    -> keywords are reserved words\n",
    "    \n",
    "    -> python reserved few words those words we call it as keywords\n",
    "    \n",
    "    -> In jupyternotebook keywords are going to be Green color with bold\n",
    "    \n",
    "    -> To understand how many kewords are there in the python we are importing library call keyword"
   ]
  },
  {
   "cell_type": "code",
   "execution_count": null,
   "id": "0aff67fe",
   "metadata": {},
   "outputs": [],
   "source": [
    "import keyword\n",
    "key = keyword.kwlist"
   ]
  },
  {
   "cell_type": "code",
   "execution_count": null,
   "id": "86d03fb9",
   "metadata": {},
   "outputs": [],
   "source": [
    "print(key)"
   ]
  },
  {
   "cell_type": "markdown",
   "id": "ada82dbc",
   "metadata": {},
   "source": [
    "### 5. Len \n",
    "\n",
    "    -> To find how many or length of keywords we are using len buildin function"
   ]
  },
  {
   "cell_type": "code",
   "execution_count": null,
   "id": "d5eeaf4e",
   "metadata": {},
   "outputs": [],
   "source": [
    "len(key)"
   ]
  },
  {
   "cell_type": "code",
   "execution_count": null,
   "id": "88a7022a",
   "metadata": {},
   "outputs": [],
   "source": [
    "len('Divesh')"
   ]
  },
  {
   "cell_type": "markdown",
   "id": "0e322847",
   "metadata": {},
   "source": [
    "### 6. Guidelines to declare variable names:\n",
    "\n",
    "#### 6.1 Following steps\n",
    "\n",
    "    -> Variable names should be concise and descriptive. \n",
    "    \n",
    "        For example, the active_user variable is more descriptive than the au.\n",
    "\n",
    "    -> Use underscores (_) to separate multiple words in the variable names.\n",
    "\n",
    "    -> Avoid using the letter l and the uppercase letter O because they look like the number 1 and 0.\n",
    "    "
   ]
  },
  {
   "cell_type": "markdown",
   "id": "02b7046e",
   "metadata": {},
   "source": [
    "#### 6.2 Camel Case\n",
    "\n",
    "In the camel case, each word or abbreviation in the middle of begins with a capital letter. There is no intervention of whitespace. \n",
    "\n",
    "##### For example"
   ]
  },
  {
   "cell_type": "raw",
   "id": "5efaae97",
   "metadata": {},
   "source": [
    "name of student\n",
    "\n",
    "nameofstudent"
   ]
  },
  {
   "cell_type": "code",
   "execution_count": null,
   "id": "09447762",
   "metadata": {},
   "outputs": [],
   "source": [
    "nameOfStudent = 'Divesh'\n",
    "print(nameOfStudent)"
   ]
  },
  {
   "cell_type": "markdown",
   "id": "0018e362",
   "metadata": {},
   "source": [
    "#### 6.3 Pascal Case\n",
    "\n",
    "It is the same as the Camel Case, but here the first word is also capital. \n",
    "\n",
    "##### For Example"
   ]
  },
  {
   "cell_type": "code",
   "execution_count": null,
   "id": "598dc7c1",
   "metadata": {},
   "outputs": [],
   "source": [
    "NameOfStudent = \"Kumar\"\n",
    "print(NameOfStudent)"
   ]
  },
  {
   "cell_type": "markdown",
   "id": "6a1122ac",
   "metadata": {},
   "source": [
    "#### 6.4 Snake Case\n",
    "\n",
    "In the snake case, Words are separated by the underscore. \n",
    "\n",
    "##### For example"
   ]
  },
  {
   "cell_type": "code",
   "execution_count": null,
   "id": "2b9f462e",
   "metadata": {},
   "outputs": [],
   "source": [
    "name_of_student = \"Div\"\n",
    "print(name_of_student)"
   ]
  },
  {
   "cell_type": "markdown",
   "id": "1b8db1e0",
   "metadata": {},
   "source": [
    "### 7. Python Variable Types\n",
    "\n",
    "#### 7.1 Local Variable\n",
    "\n",
    "Local variables are the variables that declared inside the function and have scope within the function. \n",
    "\n",
    "##### Example."
   ]
  },
  {
   "cell_type": "code",
   "execution_count": 1,
   "id": "68156914",
   "metadata": {},
   "outputs": [
    {
     "name": "stdout",
     "output_type": "stream",
     "text": [
      "Funtion Created\n"
     ]
    }
   ],
   "source": [
    "def teluguStates():\n",
    "    # Defining local variables. They has scope only within a function  \n",
    "    hero = 'NANI'  \n",
    "    print(\"Cini Hero:\", hero)  \n",
    "\n",
    "print(\"Funtion Created\")"
   ]
  },
  {
   "cell_type": "code",
   "execution_count": 2,
   "id": "26b9b86e",
   "metadata": {},
   "outputs": [
    {
     "name": "stdout",
     "output_type": "stream",
     "text": [
      "Cini Hero: NANI\n"
     ]
    }
   ],
   "source": [
    "# Calling a function  \n",
    "teluguStates()"
   ]
  },
  {
   "cell_type": "code",
   "execution_count": 3,
   "id": "c904604d",
   "metadata": {},
   "outputs": [
    {
     "ename": "NameError",
     "evalue": "name 'hero' is not defined",
     "output_type": "error",
     "traceback": [
      "\u001b[1;31m---------------------------------------------------------------------------\u001b[0m",
      "\u001b[1;31mNameError\u001b[0m                                 Traceback (most recent call last)",
      "Cell \u001b[1;32mIn[3], line 1\u001b[0m\n\u001b[1;32m----> 1\u001b[0m \u001b[38;5;28mprint\u001b[39m(\u001b[43mhero\u001b[49m)\n",
      "\u001b[1;31mNameError\u001b[0m: name 'hero' is not defined"
     ]
    }
   ],
   "source": [
    "print(hero)"
   ]
  },
  {
   "cell_type": "markdown",
   "id": "ce75bdd8",
   "metadata": {},
   "source": [
    "#### 7.2 Global Variables\n",
    "\n",
    "Global variables can be used throughout the program, and its scope is in the entire program. We can use global variables inside or outside the function.\n",
    "\n",
    "    -> A variable declared outside the function is the global variable by default. \n",
    "\n",
    "    -> Python provides the global keyword to use global variable inside the function. \n",
    "\n",
    "    -> If we don't use the global keyword, the function treats it as a local variable. \n",
    "\n",
    "##### Example."
   ]
  },
  {
   "cell_type": "code",
   "execution_count": 4,
   "id": "7fc1fd10",
   "metadata": {},
   "outputs": [
    {
     "name": "stdout",
     "output_type": "stream",
     "text": [
      "Function is created\n"
     ]
    }
   ],
   "source": [
    "hero = 'Prabas'  \n",
    "\n",
    "# Global variable in function  \n",
    "def indianMovies():  \n",
    "    print(hero)\n",
    "\n",
    "print(\"Function is created\")"
   ]
  },
  {
   "cell_type": "code",
   "execution_count": 5,
   "id": "c4c8ecc9",
   "metadata": {},
   "outputs": [
    {
     "name": "stdout",
     "output_type": "stream",
     "text": [
      "Prabas\n"
     ]
    }
   ],
   "source": [
    "indianMovies()"
   ]
  },
  {
   "cell_type": "code",
   "execution_count": 6,
   "id": "ed788a82",
   "metadata": {},
   "outputs": [
    {
     "name": "stdout",
     "output_type": "stream",
     "text": [
      "Prabas\n"
     ]
    }
   ],
   "source": [
    "print(hero)"
   ]
  },
  {
   "cell_type": "code",
   "execution_count": 7,
   "id": "68ae140d",
   "metadata": {},
   "outputs": [
    {
     "name": "stdout",
     "output_type": "stream",
     "text": [
      "Cini Hero: NANI\n"
     ]
    }
   ],
   "source": [
    "teluguStates()"
   ]
  },
  {
   "cell_type": "code",
   "execution_count": 8,
   "id": "979e52e1",
   "metadata": {},
   "outputs": [
    {
     "name": "stdout",
     "output_type": "stream",
     "text": [
      "Functions Created\n"
     ]
    }
   ],
   "source": [
    "x = 'Modi'  \n",
    "  \n",
    "# Global variable in function  \n",
    "def telangana():   \n",
    "    x = 'KCR'  \n",
    "    print(x) \n",
    "    \n",
    "def karnataka():\n",
    "    print(x)\n",
    "\n",
    "print(\"Functions Created\")"
   ]
  },
  {
   "cell_type": "code",
   "execution_count": 9,
   "id": "c3246f23",
   "metadata": {},
   "outputs": [
    {
     "name": "stdout",
     "output_type": "stream",
     "text": [
      "KCR\n"
     ]
    }
   ],
   "source": [
    "telangana() "
   ]
  },
  {
   "cell_type": "code",
   "execution_count": 10,
   "id": "993ad53b",
   "metadata": {},
   "outputs": [
    {
     "name": "stdout",
     "output_type": "stream",
     "text": [
      "Modi\n"
     ]
    }
   ],
   "source": [
    "print(x)  "
   ]
  },
  {
   "cell_type": "code",
   "execution_count": 11,
   "id": "60eb7163",
   "metadata": {},
   "outputs": [
    {
     "name": "stdout",
     "output_type": "stream",
     "text": [
      "Modi\n"
     ]
    }
   ],
   "source": [
    "karnataka()"
   ]
  },
  {
   "cell_type": "code",
   "execution_count": 12,
   "id": "afd07630",
   "metadata": {},
   "outputs": [
    {
     "ename": "NameError",
     "evalue": "name 'w' is not defined",
     "output_type": "error",
     "traceback": [
      "\u001b[1;31m---------------------------------------------------------------------------\u001b[0m",
      "\u001b[1;31mNameError\u001b[0m                                 Traceback (most recent call last)",
      "Cell \u001b[1;32mIn[12], line 1\u001b[0m\n\u001b[1;32m----> 1\u001b[0m \u001b[38;5;28mprint\u001b[39m(\u001b[43mw\u001b[49m)\n",
      "\u001b[1;31mNameError\u001b[0m: name 'w' is not defined"
     ]
    }
   ],
   "source": [
    "print(w)"
   ]
  },
  {
   "cell_type": "code",
   "execution_count": 13,
   "id": "7412b1fc",
   "metadata": {},
   "outputs": [],
   "source": [
    "# Global variable in function  \n",
    "def function():  \n",
    "    # printing a global variable  \n",
    "    global w   \n",
    "    w = 'Rajmouli'  \n",
    "    print(w)  "
   ]
  },
  {
   "cell_type": "code",
   "execution_count": 14,
   "id": "d72b47ae",
   "metadata": {},
   "outputs": [
    {
     "name": "stdout",
     "output_type": "stream",
     "text": [
      "Rajmouli\n"
     ]
    }
   ],
   "source": [
    "function()  "
   ]
  },
  {
   "cell_type": "code",
   "execution_count": 15,
   "id": "54371a14",
   "metadata": {},
   "outputs": [
    {
     "name": "stdout",
     "output_type": "stream",
     "text": [
      "Rajmouli\n"
     ]
    }
   ],
   "source": [
    "print(w)  "
   ]
  },
  {
   "cell_type": "code",
   "execution_count": 16,
   "id": "8c80d2e2",
   "metadata": {},
   "outputs": [],
   "source": [
    "x = 'Modi'\n",
    "# Global variable in function  \n",
    "def fun():  \n",
    "    # printing a global variable  \n",
    "    global x\n",
    "    print(\"National Party:\",x)  \n",
    "    # modifying a global variable  \n",
    "    x = 'KCR'  \n",
    "    print(x)  "
   ]
  },
  {
   "cell_type": "code",
   "execution_count": 17,
   "id": "bd0c45f6",
   "metadata": {},
   "outputs": [
    {
     "name": "stdout",
     "output_type": "stream",
     "text": [
      "National Party: Modi\n",
      "KCR\n"
     ]
    }
   ],
   "source": [
    "fun()"
   ]
  },
  {
   "cell_type": "code",
   "execution_count": 18,
   "id": "29c33713",
   "metadata": {},
   "outputs": [
    {
     "name": "stdout",
     "output_type": "stream",
     "text": [
      "KCR\n"
     ]
    }
   ],
   "source": [
    "print(x)"
   ]
  },
  {
   "cell_type": "markdown",
   "id": "d0684bf0",
   "metadata": {},
   "source": [
    "### 8. Delete a variable\n",
    "\n",
    "We can delete the variable using the del keyword"
   ]
  },
  {
   "cell_type": "code",
   "execution_count": 1,
   "id": "44b7221d",
   "metadata": {},
   "outputs": [],
   "source": [
    "x=5"
   ]
  },
  {
   "cell_type": "code",
   "execution_count": 2,
   "id": "0d9736d1",
   "metadata": {},
   "outputs": [
    {
     "name": "stdout",
     "output_type": "stream",
     "text": [
      "5\n"
     ]
    }
   ],
   "source": [
    "print(x)"
   ]
  },
  {
   "cell_type": "code",
   "execution_count": 3,
   "id": "296e964b",
   "metadata": {},
   "outputs": [],
   "source": [
    "del x"
   ]
  },
  {
   "cell_type": "code",
   "execution_count": 4,
   "id": "c6ba511b",
   "metadata": {},
   "outputs": [
    {
     "ename": "NameError",
     "evalue": "name 'x' is not defined",
     "output_type": "error",
     "traceback": [
      "\u001b[1;31m---------------------------------------------------------------------------\u001b[0m",
      "\u001b[1;31mNameError\u001b[0m                                 Traceback (most recent call last)",
      "Cell \u001b[1;32mIn[4], line 1\u001b[0m\n\u001b[1;32m----> 1\u001b[0m \u001b[38;5;28mprint\u001b[39m(\u001b[43mx\u001b[49m)\n",
      "\u001b[1;31mNameError\u001b[0m: name 'x' is not defined"
     ]
    }
   ],
   "source": [
    "print(x)"
   ]
  },
  {
   "cell_type": "markdown",
   "id": "716f7609",
   "metadata": {},
   "source": [
    "### 9. Multiple Assignment\n",
    "\n",
    "Python allows us to assign a value to multiple variables in a single statement, which is also known as multiple assignments.\n",
    "\n",
    "We can apply multiple assignments in two ways, either by assigning a single value to multiple variables or assigning multiple values to multiple variables. Consider the following example.\n",
    "\n",
    "#### 9.1 Assigning multiple values to multiple variables\n",
    "\n",
    "##### Examples"
   ]
  },
  {
   "cell_type": "code",
   "execution_count": 5,
   "id": "39e74b67",
   "metadata": {},
   "outputs": [
    {
     "name": "stdout",
     "output_type": "stream",
     "text": [
      "i value: 5\n",
      "j value: 6\n"
     ]
    }
   ],
   "source": [
    "i,j = 5,6\n",
    "print(\"i value:\",i)\n",
    "print(\"j value:\",j)"
   ]
  },
  {
   "cell_type": "markdown",
   "id": "0e5fe59d",
   "metadata": {},
   "source": [
    "#### 9.2 Applying Single Value to muiltiple Variables"
   ]
  },
  {
   "cell_type": "code",
   "execution_count": 6,
   "id": "7b1c8f3e",
   "metadata": {},
   "outputs": [
    {
     "name": "stdout",
     "output_type": "stream",
     "text": [
      "89\n",
      "89\n",
      "89\n"
     ]
    }
   ],
   "source": [
    "a = b = c = 89\n",
    "print(a)\n",
    "print(b)\n",
    "print(c)"
   ]
  },
  {
   "cell_type": "markdown",
   "id": "7443694d",
   "metadata": {},
   "source": [
    "#### 9.3 Printing Multiple Variables"
   ]
  },
  {
   "cell_type": "code",
   "execution_count": 7,
   "id": "aa75726b",
   "metadata": {},
   "outputs": [
    {
     "name": "stdout",
     "output_type": "stream",
     "text": [
      "1 2 3\n"
     ]
    }
   ],
   "source": [
    "a,b,c = 1,2,3\n",
    "print(a,b,c)"
   ]
  },
  {
   "cell_type": "code",
   "execution_count": 8,
   "id": "a4bee612",
   "metadata": {},
   "outputs": [
    {
     "name": "stdout",
     "output_type": "stream",
     "text": [
      "89 89 89\n"
     ]
    }
   ],
   "source": [
    "a = b = c = 89\n",
    "print(a,b,c)"
   ]
  },
  {
   "cell_type": "markdown",
   "id": "1320ab4e",
   "metadata": {},
   "source": [
    "### 10. Re-Declare Variable"
   ]
  },
  {
   "cell_type": "code",
   "execution_count": 9,
   "id": "07e8c7ca",
   "metadata": {},
   "outputs": [
    {
     "name": "stdout",
     "output_type": "stream",
     "text": [
      "8\n"
     ]
    }
   ],
   "source": [
    "h = 8\n",
    "print(h)"
   ]
  },
  {
   "cell_type": "code",
   "execution_count": 10,
   "id": "fde19e59",
   "metadata": {},
   "outputs": [
    {
     "name": "stdout",
     "output_type": "stream",
     "text": [
      "divesh\n"
     ]
    }
   ],
   "source": [
    "h = 'divesh'\n",
    "print(h)"
   ]
  },
  {
   "cell_type": "code",
   "execution_count": 11,
   "id": "cef2807d",
   "metadata": {},
   "outputs": [
    {
     "name": "stdout",
     "output_type": "stream",
     "text": [
      "divesh\n"
     ]
    }
   ],
   "source": [
    "print(h)"
   ]
  },
  {
   "cell_type": "code",
   "execution_count": 12,
   "id": "7f788453",
   "metadata": {},
   "outputs": [],
   "source": [
    "a = 'divesh'"
   ]
  },
  {
   "cell_type": "code",
   "execution_count": 13,
   "id": "9dfcfdca",
   "metadata": {},
   "outputs": [
    {
     "name": "stdout",
     "output_type": "stream",
     "text": [
      "divesh\n"
     ]
    }
   ],
   "source": [
    "print(a)"
   ]
  },
  {
   "cell_type": "code",
   "execution_count": 14,
   "id": "373a4ebf",
   "metadata": {},
   "outputs": [
    {
     "data": {
      "text/plain": [
       "'divesh'"
      ]
     },
     "execution_count": 14,
     "metadata": {},
     "output_type": "execute_result"
    }
   ],
   "source": [
    "a"
   ]
  },
  {
   "cell_type": "code",
   "execution_count": 15,
   "id": "6671bd3f",
   "metadata": {},
   "outputs": [
    {
     "data": {
      "text/plain": [
       "'divesh'"
      ]
     },
     "metadata": {},
     "output_type": "display_data"
    }
   ],
   "source": [
    "display(a)"
   ]
  },
  {
   "cell_type": "markdown",
   "id": "33df2cc5",
   "metadata": {},
   "source": [
    "### 11. Display Output by using variable name\n",
    "\n",
    "    -> by calling variable directly in the cell\n",
    "    \n",
    "    -> while we are calling variable name there are certian rules\n",
    "\n",
    "        => we can call one variable name at a time in the cell\n",
    "    \n",
    "        => if i call two variable name we are going to get last variablename output\n",
    "    \n",
    "        => by customizing we can achive to call multiple variables at a time\n",
    "    \n",
    "        => Alway calling variable name must be last line in the cell"
   ]
  },
  {
   "cell_type": "code",
   "execution_count": 16,
   "id": "96a264a0",
   "metadata": {},
   "outputs": [
    {
     "name": "stdout",
     "output_type": "stream",
     "text": [
      "7\n"
     ]
    }
   ],
   "source": [
    "weak = 7\n",
    "print(weak)"
   ]
  },
  {
   "cell_type": "markdown",
   "id": "0bf41781",
   "metadata": {},
   "source": [
    "#### 11.1 We can call one variable name at a time in the cell\n",
    "\n",
    "##### Example:"
   ]
  },
  {
   "cell_type": "code",
   "execution_count": 17,
   "id": "6552f5f4",
   "metadata": {},
   "outputs": [
    {
     "data": {
      "text/plain": [
       "7"
      ]
     },
     "execution_count": 17,
     "metadata": {},
     "output_type": "execute_result"
    }
   ],
   "source": [
    "weak"
   ]
  },
  {
   "cell_type": "markdown",
   "id": "4adc63a9",
   "metadata": {},
   "source": [
    "#### 11.2 if i call two variable name we are going to get last variablename output\n",
    "\n",
    "##### Example:"
   ]
  },
  {
   "cell_type": "code",
   "execution_count": 18,
   "id": "2399ada6",
   "metadata": {},
   "outputs": [
    {
     "data": {
      "text/plain": [
       "7"
      ]
     },
     "execution_count": 18,
     "metadata": {},
     "output_type": "execute_result"
    }
   ],
   "source": [
    "weak\n",
    "weak"
   ]
  },
  {
   "cell_type": "code",
   "execution_count": 19,
   "id": "2a6e3a0b",
   "metadata": {},
   "outputs": [
    {
     "data": {
      "text/plain": [
       "7"
      ]
     },
     "execution_count": 19,
     "metadata": {},
     "output_type": "execute_result"
    }
   ],
   "source": [
    "a=10\n",
    "a\n",
    "weak"
   ]
  },
  {
   "cell_type": "code",
   "execution_count": 20,
   "id": "e02e2093",
   "metadata": {},
   "outputs": [
    {
     "data": {
      "text/plain": [
       "10"
      ]
     },
     "execution_count": 20,
     "metadata": {},
     "output_type": "execute_result"
    }
   ],
   "source": [
    "a"
   ]
  },
  {
   "cell_type": "markdown",
   "id": "354f6b6e",
   "metadata": {},
   "source": [
    "#### 11.3 By customizing we can achive to call multiple variables at a time\n",
    "\n",
    "##### Example:"
   ]
  },
  {
   "cell_type": "code",
   "execution_count": 21,
   "id": "b5689443",
   "metadata": {},
   "outputs": [
    {
     "data": {
      "text/plain": [
       "(10, 7)"
      ]
     },
     "execution_count": 21,
     "metadata": {},
     "output_type": "execute_result"
    }
   ],
   "source": [
    "a, weak"
   ]
  },
  {
   "cell_type": "code",
   "execution_count": 22,
   "id": "8e18eca5",
   "metadata": {},
   "outputs": [
    {
     "data": {
      "text/plain": [
       "(10, 7)"
      ]
     },
     "execution_count": 22,
     "metadata": {},
     "output_type": "execute_result"
    }
   ],
   "source": [
    "k = a,weak\n",
    "k"
   ]
  },
  {
   "cell_type": "code",
   "execution_count": 25,
   "id": "7c371490",
   "metadata": {},
   "outputs": [
    {
     "data": {
      "text/plain": [
       "7"
      ]
     },
     "execution_count": 25,
     "metadata": {},
     "output_type": "execute_result"
    }
   ],
   "source": [
    "k[1]"
   ]
  },
  {
   "cell_type": "markdown",
   "id": "6d4006d4",
   "metadata": {},
   "source": [
    "#### 11.4 Alway calling variable name must be last line in the cell\n",
    "\n",
    "##### Example:"
   ]
  },
  {
   "cell_type": "code",
   "execution_count": 26,
   "id": "f32abedd",
   "metadata": {},
   "outputs": [
    {
     "name": "stdout",
     "output_type": "stream",
     "text": [
      "7\n"
     ]
    }
   ],
   "source": [
    "a\n",
    "print(weak)"
   ]
  },
  {
   "cell_type": "code",
   "execution_count": 27,
   "id": "0adfe1a5",
   "metadata": {},
   "outputs": [
    {
     "name": "stdout",
     "output_type": "stream",
     "text": [
      "7\n"
     ]
    },
    {
     "data": {
      "text/plain": [
       "10"
      ]
     },
     "execution_count": 27,
     "metadata": {},
     "output_type": "execute_result"
    }
   ],
   "source": [
    "print(weak)\n",
    "a"
   ]
  },
  {
   "cell_type": "code",
   "execution_count": 28,
   "id": "d4f08e06",
   "metadata": {},
   "outputs": [
    {
     "data": {
      "text/plain": [
       "(50, 60)"
      ]
     },
     "execution_count": 28,
     "metadata": {},
     "output_type": "execute_result"
    }
   ],
   "source": [
    "a =55\n",
    "b =5\n",
    "c = a + b\n",
    "d = a - b\n",
    "d,c"
   ]
  },
  {
   "cell_type": "markdown",
   "id": "13fb7fd5",
   "metadata": {},
   "source": [
    "### 12. Difference between Variable name and string\n",
    "\n",
    "#### 12.1 Variable Name Representation\n",
    "\n",
    "##### Example"
   ]
  },
  {
   "cell_type": "code",
   "execution_count": 29,
   "id": "c12158b5",
   "metadata": {},
   "outputs": [
    {
     "name": "stdout",
     "output_type": "stream",
     "text": [
      "4\n"
     ]
    }
   ],
   "source": [
    "true = 4\n",
    "print(true)"
   ]
  },
  {
   "cell_type": "markdown",
   "id": "5fc26418",
   "metadata": {},
   "source": [
    "#### 12.2 Function Name Representation\n",
    "\n",
    "##### Example"
   ]
  },
  {
   "cell_type": "code",
   "execution_count": 31,
   "id": "160e4e4c",
   "metadata": {},
   "outputs": [
    {
     "name": "stdout",
     "output_type": "stream",
     "text": [
      "Hello! I am Function\n"
     ]
    }
   ],
   "source": [
    "def true():\n",
    "    print(\"Hello! I am Function\")\n",
    "    \n",
    "true()"
   ]
  },
  {
   "cell_type": "markdown",
   "id": "f400c6c5",
   "metadata": {},
   "source": [
    "#### 12.3 String Representation\n",
    "\n",
    "##### Example"
   ]
  },
  {
   "cell_type": "code",
   "execution_count": 33,
   "id": "00c4ff87",
   "metadata": {},
   "outputs": [
    {
     "data": {
      "text/plain": [
       "str"
      ]
     },
     "execution_count": 33,
     "metadata": {},
     "output_type": "execute_result"
    }
   ],
   "source": [
    "a = 'true'\n",
    "type(a)"
   ]
  },
  {
   "cell_type": "markdown",
   "id": "4f1cc0eb",
   "metadata": {},
   "source": [
    "#### 12.4 Keyword Representation\n",
    "\n",
    "##### Example"
   ]
  },
  {
   "cell_type": "code",
   "execution_count": 32,
   "id": "f0103aaf",
   "metadata": {},
   "outputs": [
    {
     "data": {
      "text/plain": [
       "bool"
      ]
     },
     "execution_count": 32,
     "metadata": {},
     "output_type": "execute_result"
    }
   ],
   "source": [
    "b = True\n",
    "type(b)"
   ]
  },
  {
   "cell_type": "code",
   "execution_count": null,
   "id": "88f3835b",
   "metadata": {},
   "outputs": [],
   "source": []
  },
  {
   "cell_type": "markdown",
   "id": "512de689",
   "metadata": {},
   "source": [
    "### 13. Casting\n",
    "\n",
    "#### 13.1 int( )\n",
    "\n",
    "##### Example"
   ]
  },
  {
   "cell_type": "code",
   "execution_count": 34,
   "id": "7189ed64",
   "metadata": {},
   "outputs": [
    {
     "data": {
      "text/plain": [
       "8"
      ]
     },
     "execution_count": 34,
     "metadata": {},
     "output_type": "execute_result"
    }
   ],
   "source": [
    "int(8)"
   ]
  },
  {
   "cell_type": "code",
   "execution_count": 35,
   "id": "944c19ed",
   "metadata": {},
   "outputs": [
    {
     "data": {
      "text/plain": [
       "8"
      ]
     },
     "execution_count": 35,
     "metadata": {},
     "output_type": "execute_result"
    }
   ],
   "source": [
    "int(8.2)"
   ]
  },
  {
   "cell_type": "code",
   "execution_count": 36,
   "id": "aea5c209",
   "metadata": {},
   "outputs": [
    {
     "data": {
      "text/plain": [
       "8"
      ]
     },
     "execution_count": 36,
     "metadata": {},
     "output_type": "execute_result"
    }
   ],
   "source": [
    "int('8')"
   ]
  },
  {
   "cell_type": "code",
   "execution_count": 37,
   "id": "d5e78141",
   "metadata": {},
   "outputs": [
    {
     "ename": "ValueError",
     "evalue": "invalid literal for int() with base 10: '8.2'",
     "output_type": "error",
     "traceback": [
      "\u001b[1;31m---------------------------------------------------------------------------\u001b[0m",
      "\u001b[1;31mValueError\u001b[0m                                Traceback (most recent call last)",
      "Cell \u001b[1;32mIn[37], line 1\u001b[0m\n\u001b[1;32m----> 1\u001b[0m \u001b[38;5;28;43mint\u001b[39;49m\u001b[43m(\u001b[49m\u001b[38;5;124;43m'\u001b[39;49m\u001b[38;5;124;43m8.2\u001b[39;49m\u001b[38;5;124;43m'\u001b[39;49m\u001b[43m)\u001b[49m\n",
      "\u001b[1;31mValueError\u001b[0m: invalid literal for int() with base 10: '8.2'"
     ]
    }
   ],
   "source": [
    "int('8.2')"
   ]
  },
  {
   "cell_type": "code",
   "execution_count": 38,
   "id": "8643c745",
   "metadata": {},
   "outputs": [
    {
     "data": {
      "text/plain": [
       "8"
      ]
     },
     "execution_count": 38,
     "metadata": {},
     "output_type": "execute_result"
    }
   ],
   "source": [
    "int(float('8.2'))"
   ]
  },
  {
   "cell_type": "code",
   "execution_count": 39,
   "id": "a3d10c70",
   "metadata": {},
   "outputs": [
    {
     "ename": "ValueError",
     "evalue": "invalid literal for int() with base 10: 'eight'",
     "output_type": "error",
     "traceback": [
      "\u001b[1;31m---------------------------------------------------------------------------\u001b[0m",
      "\u001b[1;31mValueError\u001b[0m                                Traceback (most recent call last)",
      "Cell \u001b[1;32mIn[39], line 1\u001b[0m\n\u001b[1;32m----> 1\u001b[0m \u001b[38;5;28;43mint\u001b[39;49m\u001b[43m(\u001b[49m\u001b[38;5;124;43m'\u001b[39;49m\u001b[38;5;124;43meight\u001b[39;49m\u001b[38;5;124;43m'\u001b[39;49m\u001b[43m)\u001b[49m\n",
      "\u001b[1;31mValueError\u001b[0m: invalid literal for int() with base 10: 'eight'"
     ]
    }
   ],
   "source": [
    "int('eight')"
   ]
  },
  {
   "cell_type": "markdown",
   "id": "8f8588be",
   "metadata": {},
   "source": [
    "#### 13.2 float( )\n",
    "\n",
    "##### Example"
   ]
  },
  {
   "cell_type": "code",
   "execution_count": 40,
   "id": "c9924f52",
   "metadata": {},
   "outputs": [
    {
     "data": {
      "text/plain": [
       "8.0"
      ]
     },
     "execution_count": 40,
     "metadata": {},
     "output_type": "execute_result"
    }
   ],
   "source": [
    "float(8)"
   ]
  },
  {
   "cell_type": "code",
   "execution_count": 41,
   "id": "9639d70c",
   "metadata": {},
   "outputs": [
    {
     "data": {
      "text/plain": [
       "8.0"
      ]
     },
     "execution_count": 41,
     "metadata": {},
     "output_type": "execute_result"
    }
   ],
   "source": [
    "float('8')"
   ]
  },
  {
   "cell_type": "code",
   "execution_count": 42,
   "id": "15283cf0",
   "metadata": {},
   "outputs": [
    {
     "data": {
      "text/plain": [
       "8.9"
      ]
     },
     "execution_count": 42,
     "metadata": {},
     "output_type": "execute_result"
    }
   ],
   "source": [
    "float('8.9')"
   ]
  },
  {
   "cell_type": "code",
   "execution_count": 43,
   "id": "19f9637e",
   "metadata": {},
   "outputs": [
    {
     "ename": "ValueError",
     "evalue": "could not convert string to float: 'eight'",
     "output_type": "error",
     "traceback": [
      "\u001b[1;31m---------------------------------------------------------------------------\u001b[0m",
      "\u001b[1;31mValueError\u001b[0m                                Traceback (most recent call last)",
      "Cell \u001b[1;32mIn[43], line 1\u001b[0m\n\u001b[1;32m----> 1\u001b[0m \u001b[38;5;28;43mfloat\u001b[39;49m\u001b[43m(\u001b[49m\u001b[38;5;124;43m'\u001b[39;49m\u001b[38;5;124;43meight\u001b[39;49m\u001b[38;5;124;43m'\u001b[39;49m\u001b[43m)\u001b[49m\n",
      "\u001b[1;31mValueError\u001b[0m: could not convert string to float: 'eight'"
     ]
    }
   ],
   "source": [
    "float('eight')"
   ]
  },
  {
   "cell_type": "markdown",
   "id": "2ac04ae9",
   "metadata": {},
   "source": [
    "#### 13.3 str( )\n",
    "\n",
    "##### Example"
   ]
  },
  {
   "cell_type": "code",
   "execution_count": 44,
   "id": "cafcb9e2",
   "metadata": {},
   "outputs": [
    {
     "data": {
      "text/plain": [
       "'8'"
      ]
     },
     "execution_count": 44,
     "metadata": {},
     "output_type": "execute_result"
    }
   ],
   "source": [
    "str(8)"
   ]
  },
  {
   "cell_type": "code",
   "execution_count": 45,
   "id": "161d90af",
   "metadata": {},
   "outputs": [
    {
     "data": {
      "text/plain": [
       "'8.9'"
      ]
     },
     "execution_count": 45,
     "metadata": {},
     "output_type": "execute_result"
    }
   ],
   "source": [
    "str(8.9)"
   ]
  },
  {
   "cell_type": "code",
   "execution_count": 46,
   "id": "ed815a84",
   "metadata": {},
   "outputs": [
    {
     "data": {
      "text/plain": [
       "'divesh'"
      ]
     },
     "execution_count": 46,
     "metadata": {},
     "output_type": "execute_result"
    }
   ],
   "source": [
    "str('divesh')"
   ]
  },
  {
   "cell_type": "markdown",
   "id": "cd50d325",
   "metadata": {},
   "source": [
    "### 14. input( )\n",
    "\n",
    "    -> input is also build in function\n",
    "    \n",
    "    -> When user want to send value at run time\n",
    "    \n",
    "    -> runtime => when we are executing the progeram user passing value\n",
    "    \n",
    "    -> When user using input, user must pass datatype\n",
    "\n",
    "    -> If user not passing datatype, the value will be string (Default)"
   ]
  },
  {
   "cell_type": "markdown",
   "id": "a8056e12",
   "metadata": {},
   "source": [
    "#### 14.1 Default any value treat it as string\n",
    "\n",
    "#### Example"
   ]
  },
  {
   "cell_type": "code",
   "execution_count": 49,
   "id": "ac4bff4b",
   "metadata": {},
   "outputs": [
    {
     "name": "stdout",
     "output_type": "stream",
     "text": [
      "5\n"
     ]
    },
    {
     "data": {
      "text/plain": [
       "str"
      ]
     },
     "execution_count": 49,
     "metadata": {},
     "output_type": "execute_result"
    }
   ],
   "source": [
    "a = input()\n",
    "type(a)"
   ]
  },
  {
   "cell_type": "code",
   "execution_count": 50,
   "id": "c8a9385b",
   "metadata": {},
   "outputs": [
    {
     "data": {
      "text/plain": [
       "'5'"
      ]
     },
     "execution_count": 50,
     "metadata": {},
     "output_type": "execute_result"
    }
   ],
   "source": [
    "a"
   ]
  },
  {
   "cell_type": "markdown",
   "id": "2fdd210f",
   "metadata": {},
   "source": [
    "#### 14.2 Passing Message to the user\n",
    "\n",
    "##### Example"
   ]
  },
  {
   "cell_type": "code",
   "execution_count": 51,
   "id": "ef9b2a94",
   "metadata": {},
   "outputs": [
    {
     "name": "stdout",
     "output_type": "stream",
     "text": [
      "Enter Student Name: Divesh\n"
     ]
    },
    {
     "data": {
      "text/plain": [
       "str"
      ]
     },
     "execution_count": 51,
     "metadata": {},
     "output_type": "execute_result"
    }
   ],
   "source": [
    "a = input(\"Enter Student Name: \")\n",
    "type(a)"
   ]
  },
  {
   "cell_type": "code",
   "execution_count": 52,
   "id": "942ece9e",
   "metadata": {},
   "outputs": [
    {
     "name": "stdout",
     "output_type": "stream",
     "text": [
      "Divesh\n"
     ]
    }
   ],
   "source": [
    "print(a)"
   ]
  },
  {
   "cell_type": "markdown",
   "id": "0a4cfb37",
   "metadata": {},
   "source": [
    "#### 14.3 Passing integer value through input\n",
    "\n",
    "##### Example"
   ]
  },
  {
   "cell_type": "code",
   "execution_count": 53,
   "id": "163ebd3d",
   "metadata": {},
   "outputs": [
    {
     "name": "stdout",
     "output_type": "stream",
     "text": [
      "Number of student in a class: 8\n"
     ]
    },
    {
     "data": {
      "text/plain": [
       "int"
      ]
     },
     "execution_count": 53,
     "metadata": {},
     "output_type": "execute_result"
    }
   ],
   "source": [
    "# 8\n",
    "#int('8')\n",
    "\n",
    "a = int(input('Number of student in a class: '))\n",
    "type(a)"
   ]
  },
  {
   "cell_type": "code",
   "execution_count": 1,
   "id": "ab3f49db",
   "metadata": {},
   "outputs": [
    {
     "name": "stdout",
     "output_type": "stream",
     "text": [
      "Number of student in a class:8.2\n"
     ]
    },
    {
     "ename": "ValueError",
     "evalue": "invalid literal for int() with base 10: '8.2'",
     "output_type": "error",
     "traceback": [
      "\u001b[1;31m---------------------------------------------------------------------------\u001b[0m",
      "\u001b[1;31mValueError\u001b[0m                                Traceback (most recent call last)",
      "Cell \u001b[1;32mIn[1], line 3\u001b[0m\n\u001b[0;32m      1\u001b[0m \u001b[38;5;66;03m# 8.2\u001b[39;00m\n\u001b[0;32m      2\u001b[0m \u001b[38;5;66;03m#int('8.2')\u001b[39;00m\n\u001b[1;32m----> 3\u001b[0m a \u001b[38;5;241m=\u001b[39m \u001b[38;5;28;43mint\u001b[39;49m\u001b[43m(\u001b[49m\u001b[38;5;28;43minput\u001b[39;49m\u001b[43m(\u001b[49m\u001b[38;5;124;43m'\u001b[39;49m\u001b[38;5;124;43mNumber of student in a class:\u001b[39;49m\u001b[38;5;124;43m'\u001b[39;49m\u001b[43m)\u001b[49m\u001b[43m)\u001b[49m\n\u001b[0;32m      4\u001b[0m \u001b[38;5;28mtype\u001b[39m(a)\n",
      "\u001b[1;31mValueError\u001b[0m: invalid literal for int() with base 10: '8.2'"
     ]
    }
   ],
   "source": [
    "# 8.2\n",
    "#int('8.2')\n",
    "a = int(input('Number of student in a class:'))\n",
    "type(a)"
   ]
  },
  {
   "cell_type": "code",
   "execution_count": 2,
   "id": "2cdb64c5",
   "metadata": {},
   "outputs": [
    {
     "name": "stdout",
     "output_type": "stream",
     "text": [
      "Number of student in a class:eight\n"
     ]
    },
    {
     "ename": "ValueError",
     "evalue": "invalid literal for int() with base 10: 'eight'",
     "output_type": "error",
     "traceback": [
      "\u001b[1;31m---------------------------------------------------------------------------\u001b[0m",
      "\u001b[1;31mValueError\u001b[0m                                Traceback (most recent call last)",
      "Cell \u001b[1;32mIn[2], line 3\u001b[0m\n\u001b[0;32m      1\u001b[0m \u001b[38;5;66;03m# eight\u001b[39;00m\n\u001b[0;32m      2\u001b[0m \u001b[38;5;66;03m#int('eight')\u001b[39;00m\n\u001b[1;32m----> 3\u001b[0m a \u001b[38;5;241m=\u001b[39m \u001b[38;5;28;43mint\u001b[39;49m\u001b[43m(\u001b[49m\u001b[38;5;28;43minput\u001b[39;49m\u001b[43m(\u001b[49m\u001b[38;5;124;43m'\u001b[39;49m\u001b[38;5;124;43mNumber of student in a class:\u001b[39;49m\u001b[38;5;124;43m'\u001b[39;49m\u001b[43m)\u001b[49m\u001b[43m)\u001b[49m\n\u001b[0;32m      4\u001b[0m \u001b[38;5;28mtype\u001b[39m(a)\n",
      "\u001b[1;31mValueError\u001b[0m: invalid literal for int() with base 10: 'eight'"
     ]
    }
   ],
   "source": [
    "# eight\n",
    "#int('eight')\n",
    "a = int(input('Number of student in a class:'))\n",
    "type(a)"
   ]
  },
  {
   "cell_type": "markdown",
   "id": "7e78b0e5",
   "metadata": {},
   "source": [
    "#### 14.3 Passing float value through input\n",
    "\n",
    "##### Example"
   ]
  },
  {
   "cell_type": "code",
   "execution_count": 3,
   "id": "7319793e",
   "metadata": {},
   "outputs": [
    {
     "name": "stdout",
     "output_type": "stream",
     "text": [
      "Enter student height:5\n",
      "5.0\n"
     ]
    },
    {
     "data": {
      "text/plain": [
       "float"
      ]
     },
     "execution_count": 3,
     "metadata": {},
     "output_type": "execute_result"
    }
   ],
   "source": [
    "a = float(input('Enter student height:'))\n",
    "print(a)\n",
    "type(a)"
   ]
  },
  {
   "cell_type": "code",
   "execution_count": 4,
   "id": "0ec6a1f7",
   "metadata": {},
   "outputs": [
    {
     "name": "stdout",
     "output_type": "stream",
     "text": [
      "Enter student height:5.9\n"
     ]
    },
    {
     "data": {
      "text/plain": [
       "float"
      ]
     },
     "execution_count": 4,
     "metadata": {},
     "output_type": "execute_result"
    }
   ],
   "source": [
    "a = float(input('Enter student height:'))\n",
    "type(a)"
   ]
  },
  {
   "cell_type": "code",
   "execution_count": 5,
   "id": "d9a4973c",
   "metadata": {},
   "outputs": [
    {
     "name": "stdout",
     "output_type": "stream",
     "text": [
      "Enter student height:five\n"
     ]
    },
    {
     "ename": "ValueError",
     "evalue": "could not convert string to float: 'five'",
     "output_type": "error",
     "traceback": [
      "\u001b[1;31m---------------------------------------------------------------------------\u001b[0m",
      "\u001b[1;31mValueError\u001b[0m                                Traceback (most recent call last)",
      "Cell \u001b[1;32mIn[5], line 1\u001b[0m\n\u001b[1;32m----> 1\u001b[0m a \u001b[38;5;241m=\u001b[39m \u001b[38;5;28;43mfloat\u001b[39;49m\u001b[43m(\u001b[49m\u001b[38;5;28;43minput\u001b[39;49m\u001b[43m(\u001b[49m\u001b[38;5;124;43m'\u001b[39;49m\u001b[38;5;124;43mEnter student height:\u001b[39;49m\u001b[38;5;124;43m'\u001b[39;49m\u001b[43m)\u001b[49m\u001b[43m)\u001b[49m\n\u001b[0;32m      2\u001b[0m \u001b[38;5;28mtype\u001b[39m(a)\n",
      "\u001b[1;31mValueError\u001b[0m: could not convert string to float: 'five'"
     ]
    }
   ],
   "source": [
    "a = float(input('Enter student height:'))\n",
    "type(a)"
   ]
  },
  {
   "cell_type": "markdown",
   "id": "6c34216c",
   "metadata": {},
   "source": [
    "#### 14.4 Samples for practice\n",
    "##### Example 1:"
   ]
  },
  {
   "cell_type": "code",
   "execution_count": 6,
   "id": "0ed072ed",
   "metadata": {},
   "outputs": [
    {
     "name": "stdout",
     "output_type": "stream",
     "text": [
      "Enter Student Marks:50\n",
      "Enter Student Marks:50\n",
      "5050\n",
      "<class 'str'> <class 'str'> <class 'str'>\n"
     ]
    }
   ],
   "source": [
    "telugu = input(\"Enter Student Marks:\")\n",
    "hindi = input(\"Enter Student Marks:\")\n",
    "total = telugu + hindi\n",
    "print(total)\n",
    "print(type(telugu), type(hindi), type(total))"
   ]
  },
  {
   "cell_type": "markdown",
   "id": "16bf8aca",
   "metadata": {},
   "source": [
    "##### Example 2:"
   ]
  },
  {
   "cell_type": "code",
   "execution_count": 7,
   "id": "c6e8f16f",
   "metadata": {},
   "outputs": [
    {
     "name": "stdout",
     "output_type": "stream",
     "text": [
      "Enter Student Marks:50\n",
      "Enter Student Marks:50\n",
      "100\n",
      "<class 'int'> <class 'int'> <class 'int'>\n"
     ]
    }
   ],
   "source": [
    "telugu = int(input(\"Enter Student Marks:\"))\n",
    "hindi = int(input(\"Enter Student Marks:\"))\n",
    "total = telugu + hindi\n",
    "print(total)\n",
    "print(type(telugu), type(hindi), type(total))"
   ]
  },
  {
   "cell_type": "markdown",
   "id": "4469c675",
   "metadata": {},
   "source": [
    "## 15. Format"
   ]
  },
  {
   "cell_type": "markdown",
   "id": "0b851770",
   "metadata": {},
   "source": [
    "### Definition and Usage\n",
    "\n",
    "The format() method formats the specified value(s) and insert them inside the string's placeholder.\n",
    "\n",
    "The placeholder is defined using curly brackets: { }.\n",
    "\n",
    "The format() method returns the formatted string."
   ]
  },
  {
   "cell_type": "code",
   "execution_count": 8,
   "id": "78d7179c",
   "metadata": {},
   "outputs": [
    {
     "name": "stdout",
     "output_type": "stream",
     "text": [
      "My name is Divesh, I'm 35\n"
     ]
    }
   ],
   "source": [
    "txt1 = \"My name is {fname}, I'm {age}\".format(fname = \"Divesh\", age = 35)\n",
    "print(txt1)"
   ]
  },
  {
   "cell_type": "code",
   "execution_count": 9,
   "id": "92bf2518",
   "metadata": {},
   "outputs": [
    {
     "name": "stdout",
     "output_type": "stream",
     "text": [
      "My name is Divesh, I'm 35. I am discussing with Divesh\n"
     ]
    }
   ],
   "source": [
    "txt2 = \"My name is {0}, I'm {1}. I am discussing with {0}\".format(\"Divesh\",35)\n",
    "print(txt2)"
   ]
  },
  {
   "cell_type": "code",
   "execution_count": 10,
   "id": "6d9bb65b",
   "metadata": {},
   "outputs": [
    {
     "name": "stdout",
     "output_type": "stream",
     "text": [
      "My name is Divesh, I'm 35\n"
     ]
    }
   ],
   "source": [
    "txt3 = \"My name is {}, I'm {}\".format(\"Divesh\",35)\n",
    "print(txt3)"
   ]
  },
  {
   "cell_type": "code",
   "execution_count": 12,
   "id": "94fe0838",
   "metadata": {},
   "outputs": [
    {
     "name": "stdout",
     "output_type": "stream",
     "text": [
      "Enter Name:Raj\n",
      "Enter Age25\n",
      "My name is Raj, I'm 25. This  is Raj\n"
     ]
    }
   ],
   "source": [
    "name=input(\"Enter Name:\")\n",
    "age=int(input(\"Enter Age\"))\n",
    "txt4 = \"My name is {a}, I'm {b}. This  is {a}\".format(a = name,b = age)\n",
    "print(txt4)"
   ]
  },
  {
   "cell_type": "code",
   "execution_count": 13,
   "id": "a6724f05",
   "metadata": {},
   "outputs": [
    {
     "name": "stdout",
     "output_type": "stream",
     "text": [
      "For only 49.00 dollars!\n"
     ]
    }
   ],
   "source": [
    "txt = \"For only {price:.2f} dollars!\"\n",
    "print(txt.format(price = 49))"
   ]
  },
  {
   "cell_type": "code",
   "execution_count": null,
   "id": "3df20c35",
   "metadata": {},
   "outputs": [],
   "source": [
    "txt = \"For only {price:.2f} dollars!\"\n",
    "print(txt.format(price = 49.548465))"
   ]
  },
  {
   "cell_type": "code",
   "execution_count": null,
   "id": "49842b47",
   "metadata": {},
   "outputs": [],
   "source": [
    "txt = 'Divesh'\n",
    "print(f'This is {txt}')"
   ]
  },
  {
   "cell_type": "code",
   "execution_count": null,
   "id": "7e6b1972",
   "metadata": {},
   "outputs": [],
   "source": []
  }
 ],
 "metadata": {
  "kernelspec": {
   "display_name": "Python 3 (ipykernel)",
   "language": "python",
   "name": "python3"
  },
  "language_info": {
   "codemirror_mode": {
    "name": "ipython",
    "version": 3
   },
   "file_extension": ".py",
   "mimetype": "text/x-python",
   "name": "python",
   "nbconvert_exporter": "python",
   "pygments_lexer": "ipython3",
   "version": "3.10.9"
  }
 },
 "nbformat": 4,
 "nbformat_minor": 5
}
