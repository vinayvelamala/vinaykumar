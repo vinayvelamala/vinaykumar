{
 "cells": [
  {
   "cell_type": "markdown",
   "id": "00bccf20",
   "metadata": {},
   "source": [
    "### clear()\n",
    "\n",
    "Removes all the elements from the dictionary"
   ]
  },
  {
   "cell_type": "code",
   "execution_count": 3,
   "id": "54c2b81e",
   "metadata": {},
   "outputs": [
    {
     "name": "stdout",
     "output_type": "stream",
     "text": [
      "{}\n"
     ]
    }
   ],
   "source": [
    "car = {\n",
    "  \"brand\": \"Ford\",\n",
    "  \"model\": \"Mustang\",\n",
    "  \"year\": 1964\n",
    "}\n",
    "\n",
    "car.clear()\n",
    "\n",
    "print(car)"
   ]
  },
  {
   "cell_type": "markdown",
   "id": "20ef6693",
   "metadata": {},
   "source": [
    "### Definition and Usage \n",
    "\n",
    "The clear() method removes all the elements from a dictionary."
   ]
  },
  {
   "cell_type": "markdown",
   "id": "42b0dbc5",
   "metadata": {},
   "source": [
    "#### Syntax"
   ]
  },
  {
   "cell_type": "raw",
   "id": "682f6212",
   "metadata": {},
   "source": [
    "dictionary.clear()"
   ]
  },
  {
   "cell_type": "markdown",
   "id": "af826e99",
   "metadata": {},
   "source": [
    "#### Parameter Values\n",
    "No parameters"
   ]
  },
  {
   "cell_type": "markdown",
   "id": "6b910f73",
   "metadata": {},
   "source": [
    "# copy()\n",
    "Returns a copy of the dictionary"
   ]
  },
  {
   "cell_type": "code",
   "execution_count": 4,
   "id": "ded6f2a1",
   "metadata": {},
   "outputs": [
    {
     "name": "stdout",
     "output_type": "stream",
     "text": [
      "{'brand': 'Ford', 'model': 'Mustang', 'year': 1964}\n"
     ]
    }
   ],
   "source": [
    "car = {\n",
    "  \"brand\": \"Ford\",\n",
    "  \"model\": \"Mustang\",\n",
    "  \"year\": 1964\n",
    "}\n",
    "\n",
    "x = car.copy()\n",
    "\n",
    "print(x)"
   ]
  },
  {
   "cell_type": "markdown",
   "id": "8d1dabf8",
   "metadata": {},
   "source": [
    "### Definition and Usage\n",
    "The copy() method returns a copy of the specified dictionary.\n",
    "\n"
   ]
  },
  {
   "cell_type": "markdown",
   "id": "c6d5d8ef",
   "metadata": {},
   "source": [
    "#### Syntax"
   ]
  },
  {
   "cell_type": "raw",
   "id": "3dea9281",
   "metadata": {},
   "source": [
    "dictionary.copy()"
   ]
  },
  {
   "cell_type": "markdown",
   "id": "7a751c33",
   "metadata": {},
   "source": [
    "# fromkeys() \n",
    "Returns a dictionary with the specified keys and value"
   ]
  },
  {
   "cell_type": "code",
   "execution_count": 5,
   "id": "3192ae4a",
   "metadata": {},
   "outputs": [
    {
     "name": "stdout",
     "output_type": "stream",
     "text": [
      "{'key1': 0, 'key2': 0, 'key3': 0}\n"
     ]
    }
   ],
   "source": [
    "x = ('key1', 'key2', 'key3')\n",
    "y = 0\n",
    "\n",
    "thisdict = dict.fromkeys(x, y)\n",
    "\n",
    "print(thisdict)"
   ]
  },
  {
   "cell_type": "markdown",
   "id": "99eaf04d",
   "metadata": {},
   "source": [
    "# Definition and Usage\n",
    "The fromkeys() method returns a dictionary with the specified keys and the specified value."
   ]
  },
  {
   "cell_type": "markdown",
   "id": "b98be8f1",
   "metadata": {},
   "source": [
    "### Syntax"
   ]
  },
  {
   "cell_type": "raw",
   "id": "d15a7c72",
   "metadata": {},
   "source": [
    "dict.fromkeys(keys, value)"
   ]
  },
  {
   "cell_type": "raw",
   "id": "dd69a5ac",
   "metadata": {},
   "source": [
    "Parameter\tDescription\n",
    "keys\tRequired. An iterable specifying the keys of the new dictionary\n",
    "value\tOptional. The value for all keys. Default value is None"
   ]
  },
  {
   "cell_type": "markdown",
   "id": "458c927c",
   "metadata": {},
   "source": [
    "### More Examples"
   ]
  },
  {
   "cell_type": "code",
   "execution_count": 6,
   "id": "a0fc991b",
   "metadata": {},
   "outputs": [
    {
     "name": "stdout",
     "output_type": "stream",
     "text": [
      "{'key1': None, 'key2': None, 'key3': None}\n"
     ]
    }
   ],
   "source": [
    "x = ('key1', 'key2', 'key3')\n",
    "\n",
    "thisdict = dict.fromkeys(x)\n",
    "\n",
    "print(thisdict)"
   ]
  },
  {
   "cell_type": "markdown",
   "id": "a9cef009",
   "metadata": {},
   "source": [
    "# get() \n",
    "Returns the value of the specified key"
   ]
  },
  {
   "cell_type": "code",
   "execution_count": 7,
   "id": "bcc71573",
   "metadata": {},
   "outputs": [
    {
     "name": "stdout",
     "output_type": "stream",
     "text": [
      "Mustang\n"
     ]
    }
   ],
   "source": [
    "car = {\n",
    "  \"brand\": \"Ford\",\n",
    "  \"model\": \"Mustang\",\n",
    "  \"year\": 1964\n",
    "}\n",
    "\n",
    "x = car.get(\"model\")\n",
    "\n",
    "print(x)"
   ]
  },
  {
   "cell_type": "markdown",
   "id": "5c32dde7",
   "metadata": {},
   "source": [
    "### Definition and Usage\n",
    "The get() method returns the value of the item with the specified key."
   ]
  },
  {
   "cell_type": "markdown",
   "id": "810e5eff",
   "metadata": {},
   "source": [
    "#### Syntax"
   ]
  },
  {
   "cell_type": "raw",
   "id": "1962d337",
   "metadata": {},
   "source": [
    "dictionary.get(keyname, value)"
   ]
  },
  {
   "cell_type": "markdown",
   "id": "81a0a638",
   "metadata": {},
   "source": [
    "#### Parameter Values \n",
    "\n",
    "    Parameter     \tDescription \n",
    "    \n",
    "    Keyname\t         Required. The keyname of the item you want to return the value from \n",
    "\n",
    "    value\t          Optional. A value to return if the specified key does not exist. Default value None"
   ]
  },
  {
   "cell_type": "markdown",
   "id": "ea003abc",
   "metadata": {},
   "source": [
    "### More Examples\n",
    "Example"
   ]
  },
  {
   "cell_type": "code",
   "execution_count": 8,
   "id": "4765b82a",
   "metadata": {},
   "outputs": [
    {
     "name": "stdout",
     "output_type": "stream",
     "text": [
      "15000\n"
     ]
    }
   ],
   "source": [
    "car = {\n",
    "  \"brand\": \"Ford\",\n",
    "  \"model\": \"Mustang\",\n",
    "  \"year\": 1964\n",
    "}\n",
    "\n",
    "x = car.get(\"price\", 15000)\n",
    "\n",
    "print(x)"
   ]
  },
  {
   "cell_type": "markdown",
   "id": "fd024995",
   "metadata": {},
   "source": [
    "# items()  \n",
    "\n",
    "Returns a list containing a tuple for each key value pair"
   ]
  },
  {
   "cell_type": "markdown",
   "id": "32e58212",
   "metadata": {},
   "source": [
    "### Example\n",
    "Return the dictionary's key-value pair"
   ]
  },
  {
   "cell_type": "code",
   "execution_count": 9,
   "id": "6a947759",
   "metadata": {},
   "outputs": [
    {
     "name": "stdout",
     "output_type": "stream",
     "text": [
      "dict_items([('brand', 'Ford'), ('model', 'Mustang'), ('year', 1964)])\n"
     ]
    }
   ],
   "source": [
    "car = {\n",
    "  \"brand\": \"Ford\",\n",
    "  \"model\": \"Mustang\",\n",
    "  \"year\": 1964\n",
    "}\n",
    "\n",
    "x = car.items()\n",
    "\n",
    "print(x)"
   ]
  },
  {
   "cell_type": "markdown",
   "id": "ba8196f6",
   "metadata": {},
   "source": [
    "### Definition and Usage\n",
    "The items() method returns a view object. The view object contains the key-value pairs of the dictionary, as tuples in a list.\n",
    "\n",
    "The view object will reflect any changes done to the dictionary, see example below.\n",
    "\n"
   ]
  },
  {
   "cell_type": "markdown",
   "id": "eb3123ce",
   "metadata": {},
   "source": [
    "#### Syntax"
   ]
  },
  {
   "cell_type": "raw",
   "id": "72fc11e2",
   "metadata": {},
   "source": [
    "dictionary.items()"
   ]
  },
  {
   "cell_type": "markdown",
   "id": "ea3e31c2",
   "metadata": {},
   "source": [
    "### Parameter Values\n",
    "No parameters"
   ]
  },
  {
   "cell_type": "markdown",
   "id": "23e42eb9",
   "metadata": {},
   "source": [
    "### More Examples"
   ]
  },
  {
   "cell_type": "markdown",
   "id": "58207b03",
   "metadata": {},
   "source": [
    "#### Example\n",
    "When an item in the dictionary changes value, the view object also gets updated:"
   ]
  },
  {
   "cell_type": "code",
   "execution_count": 11,
   "id": "c2a95fae",
   "metadata": {},
   "outputs": [
    {
     "name": "stdout",
     "output_type": "stream",
     "text": [
      "dict_items([('brand', 'Ford'), ('model', 'Mustang'), ('year', 2018)])\n"
     ]
    }
   ],
   "source": [
    "car = {\n",
    "  \"brand\": \"Ford\",\n",
    "  \"model\": \"Mustang\",\n",
    "  \"year\": 1964\n",
    "}\n",
    "\n",
    "x = car.items()\n",
    "\n",
    "car[\"year\"] = 2018\n",
    "\n",
    "print(x)"
   ]
  },
  {
   "cell_type": "markdown",
   "id": "b9394eb5",
   "metadata": {},
   "source": [
    "# keys() \n",
    " Returns a list containing the dictionary's keys"
   ]
  },
  {
   "cell_type": "markdown",
   "id": "87ebede9",
   "metadata": {},
   "source": [
    "#### Example\n",
    "Return the keys:"
   ]
  },
  {
   "cell_type": "code",
   "execution_count": 12,
   "id": "e2947f90",
   "metadata": {},
   "outputs": [
    {
     "name": "stdout",
     "output_type": "stream",
     "text": [
      "dict_keys(['brand', 'model', 'year'])\n"
     ]
    }
   ],
   "source": [
    "car = {\n",
    "  \"brand\": \"Ford\",\n",
    "  \"model\": \"Mustang\",\n",
    "  \"year\": 1964\n",
    "}\n",
    "\n",
    "x = car.keys()\n",
    "\n",
    "print(x)\n"
   ]
  },
  {
   "cell_type": "markdown",
   "id": "b6bbe4ff",
   "metadata": {},
   "source": [
    "### Definition and Usage\n",
    "The keys() method returns a view object. The view object contains the keys of the dictionary, as a list.\n",
    "\n",
    "The view object will reflect any changes done to the dictionary, see example below."
   ]
  },
  {
   "cell_type": "markdown",
   "id": "65b32461",
   "metadata": {},
   "source": [
    "### Syntax"
   ]
  },
  {
   "cell_type": "raw",
   "id": "99c695a3",
   "metadata": {},
   "source": [
    "dictionary.keys()"
   ]
  },
  {
   "cell_type": "markdown",
   "id": "b22163a4",
   "metadata": {},
   "source": [
    "### More Examples\n",
    "Example\n",
    "\n",
    "When an item is added in the dictionary, the view object also gets updated:"
   ]
  },
  {
   "cell_type": "code",
   "execution_count": 13,
   "id": "aeaf7a3e",
   "metadata": {},
   "outputs": [
    {
     "name": "stdout",
     "output_type": "stream",
     "text": [
      "dict_keys(['brand', 'model', 'year', 'color'])\n"
     ]
    }
   ],
   "source": [
    "car = {\n",
    "  \"brand\": \"Ford\",\n",
    "  \"model\": \"Mustang\",\n",
    "  \"year\": 1964\n",
    "}\n",
    "\n",
    "x = car.keys()\n",
    "\n",
    "car[\"color\"] = \"white\"\n",
    "\n",
    "print(x)"
   ]
  },
  {
   "cell_type": "markdown",
   "id": "0ceb7c50",
   "metadata": {},
   "source": [
    "# pop() \n",
    "\n",
    "Removes the element with the specified key"
   ]
  },
  {
   "cell_type": "markdown",
   "id": "630836f9",
   "metadata": {},
   "source": [
    "#### Example\n",
    "Remove \"model\" from the dictionary:"
   ]
  },
  {
   "cell_type": "code",
   "execution_count": 14,
   "id": "3efce8eb",
   "metadata": {},
   "outputs": [
    {
     "name": "stdout",
     "output_type": "stream",
     "text": [
      "{'brand': 'Ford', 'year': 1964}\n"
     ]
    }
   ],
   "source": [
    "car = {\n",
    "  \"brand\": \"Ford\",\n",
    "  \"model\": \"Mustang\",\n",
    "  \"year\": 1964\n",
    "}\n",
    "\n",
    "car.pop(\"model\")\n",
    "\n",
    "print(car)"
   ]
  },
  {
   "cell_type": "markdown",
   "id": "ad33838c",
   "metadata": {},
   "source": [
    "### Definition and Usage\n",
    "The pop() method removes the specified item from the dictionary.\n",
    "\n",
    "The value of the removed item is the return value of the pop() method, see example below."
   ]
  },
  {
   "cell_type": "markdown",
   "id": "879e216a",
   "metadata": {},
   "source": [
    "## Syntax"
   ]
  },
  {
   "cell_type": "raw",
   "id": "c5373131",
   "metadata": {},
   "source": [
    "\n",
    "dictionary.pop(keyname, defaultvalue)"
   ]
  },
  {
   "cell_type": "markdown",
   "id": "a40604a2",
   "metadata": {},
   "source": [
    "###   ParameterValues\n",
    "    parameter     Description\n",
    "    keyname\t        Required.    The keyname of the item you want to remove\n",
    "    defaultvalue             \tOptional. A value to return if the specified key do not exist."
   ]
  },
  {
   "cell_type": "markdown",
   "id": "6d157272",
   "metadata": {},
   "source": [
    "### More Examples\n",
    "Example \n",
    "\n",
    "The value of the removed item is the return value of the pop() method:"
   ]
  },
  {
   "cell_type": "code",
   "execution_count": 1,
   "id": "0e85f262",
   "metadata": {},
   "outputs": [
    {
     "name": "stdout",
     "output_type": "stream",
     "text": [
      "Mustang\n"
     ]
    }
   ],
   "source": [
    "car = {\n",
    "  \"brand\": \"Ford\",\n",
    "  \"model\": \"Mustang\",\n",
    "  \"year\": 1964\n",
    "}\n",
    "\n",
    "x = car.pop(\"model\")\n",
    "\n",
    "print(x)"
   ]
  },
  {
   "cell_type": "markdown",
   "id": "c0bad7db",
   "metadata": {},
   "source": [
    "# popitem()\t \n",
    "Removes the last inserted key-value pair"
   ]
  },
  {
   "cell_type": "markdown",
   "id": "2d03546e",
   "metadata": {},
   "source": [
    "### Example\n",
    "Remove the last item from the dictionary:"
   ]
  },
  {
   "cell_type": "code",
   "execution_count": 2,
   "id": "382eff8e",
   "metadata": {},
   "outputs": [
    {
     "name": "stdout",
     "output_type": "stream",
     "text": [
      "{'brand': 'Ford', 'model': 'Mustang'}\n"
     ]
    }
   ],
   "source": [
    "car = {\n",
    "  \"brand\": \"Ford\",\n",
    "  \"model\": \"Mustang\",\n",
    "  \"year\": 1964\n",
    "}\n",
    "\n",
    "car.popitem()\n",
    "\n",
    "print(car)"
   ]
  },
  {
   "cell_type": "markdown",
   "id": "3b75ae83",
   "metadata": {},
   "source": [
    "### Definition and Usage\n",
    "The popitem() method removes the item that was last inserted into the dictionary. In versions before 3.7, the popitem() method removes a random item.\n",
    "\n",
    "The removed item is the return value of the popitem() method, as a tuple, see example below."
   ]
  },
  {
   "cell_type": "markdown",
   "id": "629124d3",
   "metadata": {},
   "source": [
    "### Syntax"
   ]
  },
  {
   "cell_type": "raw",
   "id": "04c8524b",
   "metadata": {},
   "source": [
    "dictionary.popitem()"
   ]
  },
  {
   "cell_type": "markdown",
   "id": "34a64236",
   "metadata": {},
   "source": [
    "#### Parameter Values\n",
    "No parameters\n",
    "\n"
   ]
  },
  {
   "cell_type": "markdown",
   "id": "4310f1ca",
   "metadata": {},
   "source": [
    "### More Examples\n",
    "Example \n",
    "\n",
    "The removed item is the return value of the pop() method:"
   ]
  },
  {
   "cell_type": "code",
   "execution_count": 3,
   "id": "e25645a4",
   "metadata": {},
   "outputs": [
    {
     "name": "stdout",
     "output_type": "stream",
     "text": [
      "('year', 1964)\n"
     ]
    }
   ],
   "source": [
    "car = {\n",
    "  \"brand\": \"Ford\",\n",
    "  \"model\": \"Mustang\",\n",
    "  \"year\": 1964\n",
    "}\n",
    "\n",
    "x = car.popitem()\n",
    "\n",
    "print(x)"
   ]
  },
  {
   "cell_type": "markdown",
   "id": "b232e30d",
   "metadata": {},
   "source": [
    "# setdefault() \n",
    "Returns the value of the specified key. If the key does not exist: insert the key, with the specified value"
   ]
  },
  {
   "cell_type": "markdown",
   "id": "3166b007",
   "metadata": {},
   "source": [
    "### Example\n",
    "Get the value of the \"model\" item:"
   ]
  },
  {
   "cell_type": "code",
   "execution_count": 4,
   "id": "319a5e2d",
   "metadata": {},
   "outputs": [
    {
     "name": "stdout",
     "output_type": "stream",
     "text": [
      "Mustang\n"
     ]
    }
   ],
   "source": [
    "car = {\n",
    "  \"brand\": \"Ford\",\n",
    "  \"model\": \"Mustang\",\n",
    "  \"year\": 1964\n",
    "}\n",
    "\n",
    "x = car.setdefault(\"model\", \"Bronco\")\n",
    "\n",
    "print(x)"
   ]
  },
  {
   "cell_type": "markdown",
   "id": "561aa504",
   "metadata": {},
   "source": [
    "### Definition and Usage\n",
    "The setdefault() method returns the value of the item with the specified key.\n",
    "\n",
    "If the key does not exist, insert the key, with the specified value, see example below"
   ]
  },
  {
   "cell_type": "markdown",
   "id": "adce6526",
   "metadata": {},
   "source": [
    "#### Syntax\n",
    "dictionary.setdefault(keyname, value)"
   ]
  },
  {
   "cell_type": "markdown",
   "id": "819315a7",
   "metadata": {},
   "source": [
    "### Parameter Values\n",
    "    Parameter\t         Description \n",
    "\n",
    "    keyname              \tRequired. The keyname of the item you want to return the value from \n",
    "\n",
    "    value\t                Optional. If the key exist, this parameter has no effect. If the key does not exist, this value becomes the key's value Default value None"
   ]
  },
  {
   "cell_type": "markdown",
   "id": "9acb6e72",
   "metadata": {},
   "source": [
    "### More Examples\n",
    "Example \n",
    "\n",
    "Get the value of the \"color\" item, if the \"color\" item does not exist, insert \"color\" with the value \"white\":"
   ]
  },
  {
   "cell_type": "code",
   "execution_count": 5,
   "id": "d70c2d43",
   "metadata": {},
   "outputs": [
    {
     "name": "stdout",
     "output_type": "stream",
     "text": [
      "white\n"
     ]
    }
   ],
   "source": [
    "car = {\n",
    "  \"brand\": \"Ford\",\n",
    "  \"model\": \"Mustang\",\n",
    "  \"year\": 1964\n",
    "}\n",
    "\n",
    "x = car.setdefault(\"color\", \"white\")\n",
    "\n",
    "print(x)"
   ]
  },
  {
   "cell_type": "markdown",
   "id": "00c06b6b",
   "metadata": {},
   "source": [
    "# update() \n",
    "Updates the dictionary with the specified key-value pairs"
   ]
  },
  {
   "cell_type": "markdown",
   "id": "00b7ab84",
   "metadata": {},
   "source": [
    "## Example\n",
    "Insert an item to the dictionary:"
   ]
  },
  {
   "cell_type": "code",
   "execution_count": 6,
   "id": "c1a68488",
   "metadata": {},
   "outputs": [
    {
     "name": "stdout",
     "output_type": "stream",
     "text": [
      "{'brand': 'Ford', 'model': 'Mustang', 'year': 1964, 'color': 'White'}\n"
     ]
    }
   ],
   "source": [
    "car = {\n",
    "  \"brand\": \"Ford\",\n",
    "  \"model\": \"Mustang\",\n",
    "  \"year\": 1964\n",
    "}\n",
    "\n",
    "car.update({\"color\": \"White\"})\n",
    "\n",
    "print(car)"
   ]
  },
  {
   "cell_type": "markdown",
   "id": "b7ea0e06",
   "metadata": {},
   "source": [
    "### Syntax\n",
    "dictionary.update(iterable)"
   ]
  },
  {
   "cell_type": "markdown",
   "id": "5b29f2ac",
   "metadata": {},
   "source": [
    "#### Parameter    Values\n",
    "    Parameter\tDescription\n",
    "    iterable\tA dictionary or an iterable object with key value pairs, that will be inserted to the dictionary"
   ]
  },
  {
   "cell_type": "markdown",
   "id": "a04bb4df",
   "metadata": {},
   "source": [
    "# values() \n",
    "Returns a list of all the values in the dictionary\n"
   ]
  },
  {
   "cell_type": "markdown",
   "id": "f50a0870",
   "metadata": {},
   "source": [
    "## Example\n",
    "Return the values:"
   ]
  },
  {
   "cell_type": "code",
   "execution_count": 7,
   "id": "28245d8e",
   "metadata": {},
   "outputs": [
    {
     "name": "stdout",
     "output_type": "stream",
     "text": [
      "dict_values(['Ford', 'Mustang', 1964])\n"
     ]
    }
   ],
   "source": [
    "car = {\n",
    "  \"brand\": \"Ford\",\n",
    "  \"model\": \"Mustang\",\n",
    "  \"year\": 1964\n",
    "}\n",
    "\n",
    "x = car.values()\n",
    "\n",
    "print(x)"
   ]
  },
  {
   "cell_type": "markdown",
   "id": "3dfab68d",
   "metadata": {},
   "source": [
    "### Syntax\n",
    "dictionary.values()"
   ]
  },
  {
   "cell_type": "markdown",
   "id": "4702f5a4",
   "metadata": {},
   "source": [
    "### More Examples\n",
    "Example\n",
    "When a values is changed in the dictionary, the view object also gets updated:"
   ]
  },
  {
   "cell_type": "code",
   "execution_count": 8,
   "id": "c6c11762",
   "metadata": {},
   "outputs": [
    {
     "name": "stdout",
     "output_type": "stream",
     "text": [
      "dict_values(['Ford', 'Mustang', 2018])\n"
     ]
    }
   ],
   "source": [
    "car = {\n",
    "  \"brand\": \"Ford\",\n",
    "  \"model\": \"Mustang\",\n",
    "  \"year\": 1964\n",
    "}\n",
    "\n",
    "x = car.values()\n",
    "\n",
    "car[\"year\"] = 2018\n",
    "\n",
    "print(x)"
   ]
  }
 ],
 "metadata": {
  "kernelspec": {
   "display_name": "Python 3 (ipykernel)",
   "language": "python",
   "name": "python3"
  },
  "language_info": {
   "codemirror_mode": {
    "name": "ipython",
    "version": 3
   },
   "file_extension": ".py",
   "mimetype": "text/x-python",
   "name": "python",
   "nbconvert_exporter": "python",
   "pygments_lexer": "ipython3",
   "version": "3.10.9"
  }
 },
 "nbformat": 4,
 "nbformat_minor": 5
}
