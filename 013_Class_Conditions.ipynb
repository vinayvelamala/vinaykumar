{
 "cells": [
  {
   "cell_type": "markdown",
   "id": "7b56a9b7",
   "metadata": {},
   "source": [
    "## Agenda\n",
    "\n",
    "### Conditions\n",
    "\n",
    "    -> if\n",
    "    \n",
    "    -> if else\n",
    "    \n",
    "    -> if's\n",
    "    \n",
    "    -> if elif\n",
    "    \n",
    "    -> if elif else\n",
    "    \n",
    "    -> nested if"
   ]
  },
  {
   "cell_type": "markdown",
   "id": "5f3d7e9e",
   "metadata": {},
   "source": [
    "### Condition\n",
    "\n",
    "    -> Rule\n",
    "    \n",
    "    -> There will be a rule which need to statisfy or not statisfy\n",
    "    \n",
    "    -> Here decision making is done on the bases of True / False\n",
    "    \n",
    "    -> Here boolean output operators make decision\n",
    "    \n",
    "    -> When condition True => Enter\n",
    "    \n",
    "    -> When condition False => Don't enter"
   ]
  },
  {
   "cell_type": "markdown",
   "id": "850925ca",
   "metadata": {},
   "source": [
    "### In this class I am taking 3 examples\n",
    "\n",
    "    -> even or odd number\n",
    "    \n",
    "    -> Student is pass or fail\n",
    "\n",
    "    -> ATM Working process"
   ]
  },
  {
   "cell_type": "markdown",
   "id": "f567fe17",
   "metadata": {},
   "source": [
    "## if"
   ]
  },
  {
   "cell_type": "markdown",
   "id": "ad459887",
   "metadata": {},
   "source": [
    "### Syntax\n",
    "\n",
    "if expression:\n",
    "    statement 1\n",
    "    statement 2\n",
    "    \n",
    "where\n",
    "    -> if => keyword\n",
    "    \n",
    "    -> expression => takes decision (True / False) => (Boolean output operators) \n",
    "    \n",
    "    -> :   => there multiple statements at below lines\n",
    "        \n",
    "    -> indent => 1 indent = 4 spaces = 1 tab\n",
    "    \n",
    "    -> Statement => In Python, for if condition atleast one statement need to attach"
   ]
  },
  {
   "cell_type": "markdown",
   "id": "b321db47",
   "metadata": {},
   "source": [
    "## Even number"
   ]
  },
  {
   "cell_type": "code",
   "execution_count": 2,
   "id": "e16cc4b5",
   "metadata": {},
   "outputs": [
    {
     "ename": "SyntaxError",
     "evalue": "invalid syntax (<ipython-input-2-a0695e99fb54>, line 2)",
     "output_type": "error",
     "traceback": [
      "\u001b[1;36m  File \u001b[1;32m\"<ipython-input-2-a0695e99fb54>\"\u001b[1;36m, line \u001b[1;32m2\u001b[0m\n\u001b[1;33m    if\u001b[0m\n\u001b[1;37m      ^\u001b[0m\n\u001b[1;31mSyntaxError\u001b[0m\u001b[1;31m:\u001b[0m invalid syntax\n"
     ]
    }
   ],
   "source": [
    "a = 14\n",
    "if"
   ]
  },
  {
   "cell_type": "code",
   "execution_count": 3,
   "id": "5c79db8a",
   "metadata": {},
   "outputs": [
    {
     "ename": "SyntaxError",
     "evalue": "invalid syntax (<ipython-input-3-40ebc9d894a3>, line 2)",
     "output_type": "error",
     "traceback": [
      "\u001b[1;36m  File \u001b[1;32m\"<ipython-input-3-40ebc9d894a3>\"\u001b[1;36m, line \u001b[1;32m2\u001b[0m\n\u001b[1;33m    if a%2 == 0\u001b[0m\n\u001b[1;37m               ^\u001b[0m\n\u001b[1;31mSyntaxError\u001b[0m\u001b[1;31m:\u001b[0m invalid syntax\n"
     ]
    }
   ],
   "source": [
    "a = 14\n",
    "if a%2 == 0"
   ]
  },
  {
   "cell_type": "code",
   "execution_count": 4,
   "id": "a6f58f20",
   "metadata": {},
   "outputs": [
    {
     "ename": "SyntaxError",
     "evalue": "unexpected EOF while parsing (<ipython-input-4-b2252a41bc87>, line 2)",
     "output_type": "error",
     "traceback": [
      "\u001b[1;36m  File \u001b[1;32m\"<ipython-input-4-b2252a41bc87>\"\u001b[1;36m, line \u001b[1;32m2\u001b[0m\n\u001b[1;33m    if a%2 == 0:\u001b[0m\n\u001b[1;37m                ^\u001b[0m\n\u001b[1;31mSyntaxError\u001b[0m\u001b[1;31m:\u001b[0m unexpected EOF while parsing\n"
     ]
    }
   ],
   "source": [
    "a = 14\n",
    "if a%2 == 0:"
   ]
  },
  {
   "cell_type": "code",
   "execution_count": 5,
   "id": "8a3b4623",
   "metadata": {},
   "outputs": [
    {
     "ename": "IndentationError",
     "evalue": "expected an indented block (<ipython-input-5-f48abdcb775c>, line 3)",
     "output_type": "error",
     "traceback": [
      "\u001b[1;36m  File \u001b[1;32m\"<ipython-input-5-f48abdcb775c>\"\u001b[1;36m, line \u001b[1;32m3\u001b[0m\n\u001b[1;33m    print(a,\"is a Even Number\")\u001b[0m\n\u001b[1;37m    ^\u001b[0m\n\u001b[1;31mIndentationError\u001b[0m\u001b[1;31m:\u001b[0m expected an indented block\n"
     ]
    }
   ],
   "source": [
    "a = 14\n",
    "if a%2 == 0:\n",
    "print(a,\"is a Even Number\")"
   ]
  },
  {
   "cell_type": "code",
   "execution_count": 1,
   "id": "bc057ef5",
   "metadata": {},
   "outputs": [
    {
     "name": "stdout",
     "output_type": "stream",
     "text": [
      "14 is a Even Number\n"
     ]
    }
   ],
   "source": [
    "a = 14\n",
    "if a%2 == 0:\n",
    "    print(a,\"is a Even Number\")"
   ]
  },
  {
   "cell_type": "code",
   "execution_count": 6,
   "id": "f386113e",
   "metadata": {},
   "outputs": [],
   "source": [
    "a = 15\n",
    "if a%2 == 0:\n",
    "    print(a,\"is a Even Number\")"
   ]
  },
  {
   "cell_type": "code",
   "execution_count": 7,
   "id": "04948483",
   "metadata": {},
   "outputs": [
    {
     "name": "stdout",
     "output_type": "stream",
     "text": [
      "Enter another value\n"
     ]
    }
   ],
   "source": [
    "a = 15\n",
    "if a%2 == 0:\n",
    "    print(a,\"is a Even Number\")\n",
    "    \n",
    "print(\"Enter another value\")"
   ]
  },
  {
   "cell_type": "markdown",
   "id": "14e49136",
   "metadata": {},
   "source": [
    "### When ever condition is False enter into else"
   ]
  },
  {
   "cell_type": "code",
   "execution_count": 9,
   "id": "a477cda6",
   "metadata": {},
   "outputs": [
    {
     "name": "stdout",
     "output_type": "stream",
     "text": [
      "15 is an Odd number\n",
      "Enter another value\n"
     ]
    }
   ],
   "source": [
    "a = 15\n",
    "if a%2 == 0:\n",
    "    print(a,\"is an Even Number\")\n",
    "else:\n",
    "    print(a,\"is an Odd number\")\n",
    "print(\"Enter another value\")"
   ]
  },
  {
   "cell_type": "code",
   "execution_count": 10,
   "id": "204b51f6",
   "metadata": {},
   "outputs": [
    {
     "name": "stdout",
     "output_type": "stream",
     "text": [
      "Enter number14\n",
      "14 is an Even Number\n",
      "Enter another value\n"
     ]
    }
   ],
   "source": [
    "a = int(input(\"Enter number\"))\n",
    "if a%2 == 0:\n",
    "    print(a,\"is an Even Number\")\n",
    "else:\n",
    "    print(a,\"is an Odd number\")\n",
    "print(\"Enter another value\")"
   ]
  },
  {
   "cell_type": "markdown",
   "id": "3da07e77",
   "metadata": {},
   "source": [
    "### if's\n",
    "\n",
    "    -> We are wirting if one by one\n",
    "    \n",
    "    -> there is no relation"
   ]
  },
  {
   "cell_type": "code",
   "execution_count": 14,
   "id": "b1f3397d",
   "metadata": {},
   "outputs": [
    {
     "name": "stdout",
     "output_type": "stream",
     "text": [
      "Enter to my bank ATM\n",
      "Select the option\n",
      "1. Balance\n",
      "2. Deposit\n",
      "3. Withdraw\n",
      "4. Remove Card\n",
      "Enter number in between 1 to 4: 2\n",
      "User Selected Deposit Option\n"
     ]
    }
   ],
   "source": [
    "print(\"Enter to my bank ATM\")\n",
    "print('Select the option\\n1. Balance\\n2. Deposit\\n3. Withdraw\\n4. Remove Card')\n",
    "option = int(input(\"Enter number in between 1 to 4: \"))\n",
    "balance =100\n",
    "\n",
    "if option == 1:\n",
    "    print(\"Your balance is:\",balance)\n",
    "\n",
    "if option == 2:\n",
    "    print(\"User Selected Deposit Option\")\n",
    "    \n",
    "if option == 3:\n",
    "    print(\"User Selected Withdraw Option\")\n",
    "    \n",
    "if option == 4:\n",
    "    print(\"User Selected to remove card\")"
   ]
  },
  {
   "cell_type": "code",
   "execution_count": 15,
   "id": "1b3e9489",
   "metadata": {},
   "outputs": [
    {
     "name": "stdout",
     "output_type": "stream",
     "text": [
      "Enter to my bank ATM\n",
      "Select the option\n",
      "1. Balance\n",
      "2. Deposit\n",
      "3. Withdraw\n",
      "4. Remove Card\n",
      "Enter number in between 1 to 4: 3\n",
      "User Selected Withdraw Option\n",
      "User Selected Withdraw Option\n",
      "User Selected Withdraw Option\n"
     ]
    }
   ],
   "source": [
    "print(\"Enter to my bank ATM\")\n",
    "print('Select the option\\n1. Balance\\n2. Deposit\\n3. Withdraw\\n4. Remove Card')\n",
    "option = int(input(\"Enter number in between 1 to 4: \"))\n",
    "balance =100\n",
    "\n",
    "if option == 1:\n",
    "    print(\"Your balance is:\",balance)\n",
    "\n",
    "if option == 3:\n",
    "    print(\"User Selected Withdraw Option\")\n",
    "\n",
    "if option == 2:\n",
    "    print(\"User Selected Deposit Option\")\n",
    "    \n",
    "if option == 3:\n",
    "    print(\"User Selected Withdraw Option\")\n",
    "    \n",
    "if option == 4:\n",
    "    print(\"User Selected to remove card\")\\\n",
    "    \n",
    "if option == 3:\n",
    "    print(\"User Selected Withdraw Option\")"
   ]
  },
  {
   "cell_type": "markdown",
   "id": "bcf6c9cb",
   "metadata": {},
   "source": [
    "### To overcome above problem we are using if elif\n",
    "\n",
    "    -> it having relation between if and elif's\n",
    "    \n",
    "    -> Once condition is True it not going to check below conditions"
   ]
  },
  {
   "cell_type": "code",
   "execution_count": 16,
   "id": "106fd54f",
   "metadata": {},
   "outputs": [
    {
     "name": "stdout",
     "output_type": "stream",
     "text": [
      "Enter to my bank ATM\n",
      "Select the option\n",
      "1. Balance\n",
      "2. Deposit\n",
      "3. Withdraw\n",
      "4. Remove Card\n",
      "Enter number in between 1 to 4: 1\n",
      "Your balance is: 100\n"
     ]
    }
   ],
   "source": [
    "print(\"Enter to my bank ATM\")\n",
    "print('Select the option\\n1. Balance\\n2. Deposit\\n3. Withdraw\\n4. Remove Card')\n",
    "option = int(input(\"Enter number in between 1 to 4: \"))\n",
    "balance =100\n",
    "\n",
    "if option == 1:\n",
    "    print(\"Your balance is:\",balance)\n",
    "\n",
    "elif option == 2:\n",
    "    print(\"User Selected Deposit Option\")\n",
    "    \n",
    "elif option == 3:\n",
    "    print(\"User Selected Withdraw Option\")\n",
    "    \n",
    "elif option == 4:\n",
    "    print(\"User Selected to remove card\")"
   ]
  },
  {
   "cell_type": "code",
   "execution_count": 19,
   "id": "b0ae3778",
   "metadata": {},
   "outputs": [
    {
     "name": "stdout",
     "output_type": "stream",
     "text": [
      "Enter to my bank ATM\n",
      "Select the option\n",
      "1. Balance\n",
      "2. Deposit\n",
      "3. Withdraw\n",
      "4. Remove Card\n",
      "Enter number in between 1 to 4: 3\n",
      "User Selected Withdraw Option 3\n"
     ]
    }
   ],
   "source": [
    "print(\"Enter to my bank ATM\")\n",
    "print('Select the option\\n1. Balance\\n2. Deposit\\n3. Withdraw\\n4. Remove Card')\n",
    "option = int(input(\"Enter number in between 1 to 4: \"))\n",
    "balance =100\n",
    "\n",
    "if option == 1:\n",
    "    print(\"Your balance is:\",balance)\n",
    "\n",
    "elif option == 3:\n",
    "    print(\"User Selected Withdraw Option 3\")\n",
    "    \n",
    "elif option == 2:\n",
    "    print(\"User Selected Deposit Option\")\n",
    "    \n",
    "elif option == 3:\n",
    "    print(\"User Selected Withdraw Option\")\n",
    "    \n",
    "elif option == 4:\n",
    "    print(\"User Selected to remove card\")"
   ]
  },
  {
   "cell_type": "code",
   "execution_count": 20,
   "id": "6fd19248",
   "metadata": {},
   "outputs": [
    {
     "name": "stdout",
     "output_type": "stream",
     "text": [
      "Enter to my bank ATM\n",
      "Select the option\n",
      "1. Balance\n",
      "2. Deposit\n",
      "3. Withdraw\n",
      "4. Remove Card\n",
      "Enter number in between 1 to 4: 6\n"
     ]
    }
   ],
   "source": [
    "print(\"Enter to my bank ATM\")\n",
    "print('Select the option\\n1. Balance\\n2. Deposit\\n3. Withdraw\\n4. Remove Card')\n",
    "option = int(input(\"Enter number in between 1 to 4: \"))\n",
    "balance =100\n",
    "\n",
    "if option == 1:\n",
    "    print(\"Your balance is:\",balance)\n",
    "    \n",
    "elif option == 2:\n",
    "    print(\"User Selected Deposit Option\")\n",
    "    \n",
    "elif option == 3:\n",
    "    print(\"User Selected Withdraw Option\")\n",
    "    \n",
    "elif option == 4:\n",
    "    print(\"User Selected to remove card\")"
   ]
  },
  {
   "cell_type": "code",
   "execution_count": 21,
   "id": "faafda84",
   "metadata": {},
   "outputs": [
    {
     "name": "stdout",
     "output_type": "stream",
     "text": [
      "Enter to my bank ATM\n",
      "Select the option\n",
      "1. Balance\n",
      "2. Deposit\n",
      "3. Withdraw\n",
      "4. Remove Card\n",
      "Enter number in between 1 to 4: 6\n",
      "Enter option value must be 1 to 4\n"
     ]
    }
   ],
   "source": [
    "print(\"Enter to my bank ATM\")\n",
    "print('Select the option\\n1. Balance\\n2. Deposit\\n3. Withdraw\\n4. Remove Card')\n",
    "option = int(input(\"Enter number in between 1 to 4: \"))\n",
    "balance =100\n",
    "\n",
    "if option == 1:\n",
    "    print(\"Your balance is:\",balance)\n",
    "    \n",
    "elif option == 2:\n",
    "    print(\"User Selected Deposit Option\")\n",
    "    \n",
    "elif option == 3:\n",
    "    print(\"User Selected Withdraw Option\")\n",
    "    \n",
    "elif option == 4:\n",
    "    print(\"User Selected to remove card\")\n",
    "    \n",
    "else:\n",
    "    print(\"Enter option value must be 1 to 4\")"
   ]
  },
  {
   "cell_type": "code",
   "execution_count": 2,
   "id": "e0e58676",
   "metadata": {},
   "outputs": [
    {
     "name": "stdout",
     "output_type": "stream",
     "text": [
      "Enter to my bank ATM\n",
      "Select the option\n",
      "1. Balance\n",
      "2. Deposit\n",
      "3. Withdraw\n",
      "4. Remove Card\n",
      "Enter number in between 1 to 4: 1\n",
      "\n",
      "\n",
      "Your balance is: 100\n"
     ]
    }
   ],
   "source": [
    "print(\"Enter to my bank ATM\")\n",
    "print('Select the option\\n1. Balance\\n2. Deposit\\n3. Withdraw\\n4. Remove Card')\n",
    "option = int(input(\"Enter number in between 1 to 4: \"))\n",
    "balance =100\n",
    "print(\"\\n\")\n",
    "\n",
    "if option == 1:\n",
    "    print(\"Your balance is:\",balance)\n",
    "    \n",
    "elif option == 2:\n",
    "    print(\"User Selected Deposit Option\")\n",
    "    deposit = int(input(\"Enter amount you want to deposit: \"))\n",
    "    balance = balance + deposit\n",
    "    print(\"Your Balance is:\", balance)\n",
    "    \n",
    "elif option == 3:\n",
    "    print(\"User Selected Withdraw Option\")\n",
    "    withdraw = int(input(\"Enter amount you want to withdraw: \"))\n",
    "    balance = balance - withdraw\n",
    "    print(\"Your balance is:\", balance)\n",
    "    \n",
    "elif option == 4:\n",
    "    print(\"User Selected to remove card\")\n",
    "    \n",
    "else:\n",
    "    print(\"Enter option value must be 1 to 4\")"
   ]
  },
  {
   "cell_type": "code",
   "execution_count": null,
   "id": "55290937",
   "metadata": {},
   "outputs": [],
   "source": [
    "Nested if\n",
    "\n",
    "    -> if inside if"
   ]
  },
  {
   "cell_type": "code",
   "execution_count": 27,
   "id": "b146558a",
   "metadata": {},
   "outputs": [
    {
     "name": "stdout",
     "output_type": "stream",
     "text": [
      "Enter Marks: 61\n",
      "Student is pass\n",
      "STudent Gain First Class\n"
     ]
    }
   ],
   "source": [
    "marks = int(input(\"Enter Marks: \"))\n",
    "if marks > 34:\n",
    "    print(\"Student is pass\")\n",
    "    if marks < 51:\n",
    "        print(\"Student Gain Third Class\")\n",
    "    elif marks < 61:\n",
    "        print(\"Student Gain Second Class\")\n",
    "    elif marks < 100:\n",
    "        print(\"STudent Gain First Class\")\n",
    "else:\n",
    "    print(\"Student is fail\")"
   ]
  },
  {
   "cell_type": "code",
   "execution_count": 28,
   "id": "fd328a68",
   "metadata": {},
   "outputs": [
    {
     "name": "stdout",
     "output_type": "stream",
     "text": [
      "Enter Marks: 3\n",
      "Student is fail\n",
      "3 Odd Number\n"
     ]
    }
   ],
   "source": [
    "marks = int(input(\"Enter Marks: \"))\n",
    "if marks > 34:\n",
    "    print(\"Student is pass\")\n",
    "    if marks < 51:\n",
    "        print(\"Student Gain Third Class\")\n",
    "    elif marks < 61:\n",
    "        print(\"Student Gain Second Class\")\n",
    "    elif marks < 100:\n",
    "        print(\"STudent Gain First Class\")\n",
    "else:\n",
    "    print(\"Student is fail\")\n",
    "    if marks%2 == 0:\n",
    "        print(marks,\"Even Number\")\n",
    "    else:\n",
    "        print(marks,\"Odd Number\")"
   ]
  },
  {
   "cell_type": "code",
   "execution_count": null,
   "id": "f90e50b8",
   "metadata": {},
   "outputs": [],
   "source": [
    "## 1.) if\n",
    "\n",
    "### Syntax\n",
    "\n",
    "keyword expression:\n",
    "    stmt1\n",
    "    stmt2\n",
    "    stmtn\n",
    "    \n",
    "new stmt"
   ]
  },
  {
   "cell_type": "code",
   "execution_count": null,
   "id": "3d1ec5eb",
   "metadata": {},
   "outputs": [],
   "source": [
    "#### Example: Whether student pass in particular subject"
   ]
  },
  {
   "cell_type": "code",
   "execution_count": 4,
   "id": "89dec4e5",
   "metadata": {},
   "outputs": [
    {
     "name": "stdout",
     "output_type": "stream",
     "text": [
      "Enter subject marks: 34\n",
      "Enter new subject marks\n"
     ]
    }
   ],
   "source": [
    "subj = int(input(\"Enter subject marks: \"))\n",
    "\n",
    "if subj>34:\n",
    "    print(\"Student is pass\")\n",
    "    \n",
    "print(\"Enter new subject marks\")"
   ]
  },
  {
   "cell_type": "code",
   "execution_count": null,
   "id": "8af8adc2",
   "metadata": {},
   "outputs": [],
   "source": [
    "## 2.) if else"
   ]
  },
  {
   "cell_type": "code",
   "execution_count": 5,
   "id": "24ebdada",
   "metadata": {},
   "outputs": [
    {
     "name": "stdout",
     "output_type": "stream",
     "text": [
      "Enter subject marks: 34\n",
      "Student is fail\n",
      "Enter new subject marks\n"
     ]
    }
   ],
   "source": [
    "subj = int(input(\"Enter subject marks: \"))\n",
    "\n",
    "if subj>34:\n",
    "    print(\"Student is pass\")\n",
    "else:\n",
    "    print(\"Student is fail\")\n",
    "print(\"Enter new subject marks\")"
   ]
  },
  {
   "cell_type": "code",
   "execution_count": null,
   "id": "1374b168",
   "metadata": {},
   "outputs": [],
   "source": [
    "## 3.) if's"
   ]
  },
  {
   "cell_type": "code",
   "execution_count": 7,
   "id": "7e6cff2b",
   "metadata": {},
   "outputs": [
    {
     "name": "stdout",
     "output_type": "stream",
     "text": [
      "Enter subject marks:35\n",
      "Student is Pass\n",
      "Enter New Student Marks\n"
     ]
    }
   ],
   "source": [
    "subj = int(input(\"Enter subject marks:\"))\n",
    "\n",
    "if subj>34:\n",
    "    print(\"Student is Pass\")\n",
    "if subj<35:\n",
    "    print(\"Student is Fail\")\n",
    "    \n",
    "print(\"Enter New Student Marks\")"
   ]
  },
  {
   "cell_type": "code",
   "execution_count": null,
   "id": "11d25aee",
   "metadata": {},
   "outputs": [],
   "source": [
    "## 4.) if elif\n",
    "\n",
    "Example: ATM Center"
   ]
  },
  {
   "cell_type": "code",
   "execution_count": 10,
   "id": "e4adf8d0",
   "metadata": {},
   "outputs": [
    {
     "name": "stdout",
     "output_type": "stream",
     "text": [
      "Welcome to My ATM\n",
      "Enter option from 1 to 4: 2\n",
      "User selected Withdraw\n",
      "processing\n"
     ]
    }
   ],
   "source": [
    "print(\"Welcome to My ATM\")\n",
    "\n",
    "option = int(input(\"Enter option from 1 to 4: \"))\n",
    "\n",
    "if option == 1:\n",
    "    print(\"User selected Balance Enquiry\")\n",
    "if option == 2:\n",
    "    print(\"User selected Withdraw\")\n",
    "if option == 3:\n",
    "    print(\"User selected Deposit\")\n",
    "if option == 4:\n",
    "    print(\"User selected Exit\")\n",
    "print(\"processing\")"
   ]
  },
  {
   "cell_type": "code",
   "execution_count": 11,
   "id": "dd865591",
   "metadata": {},
   "outputs": [
    {
     "name": "stdout",
     "output_type": "stream",
     "text": [
      "Welcome to My ATM\n",
      "Enter option from 1 to 4: 1\n",
      "User selected Balance Enquiry\n",
      "User selected Deposit\n",
      "processing\n"
     ]
    }
   ],
   "source": [
    "print(\"Welcome to My ATM\")\n",
    "\n",
    "option = int(input(\"Enter option from 1 to 4: \"))\n",
    "\n",
    "if option == 1:\n",
    "    print(\"User selected Balance Enquiry\")\n",
    "if option == 2:\n",
    "    print(\"User selected Withdraw\")\n",
    "if option == 1:\n",
    "    print(\"User selected Deposit\")\n",
    "if option == 4:\n",
    "    print(\"User selected Exit\")\n",
    "print(\"processing\")"
   ]
  },
  {
   "cell_type": "code",
   "execution_count": 12,
   "id": "ae2eeeb6",
   "metadata": {},
   "outputs": [
    {
     "name": "stdout",
     "output_type": "stream",
     "text": [
      "Welcome to My ATM\n",
      "Enter option from 1 to 4: 1\n",
      "User selected Balance Enquiry\n",
      "processing\n"
     ]
    }
   ],
   "source": [
    "print(\"Welcome to My ATM\")\n",
    "\n",
    "option = int(input(\"Enter option from 1 to 4: \"))\n",
    "\n",
    "if option == 1:\n",
    "    print(\"User selected Balance Enquiry\")\n",
    "elif option == 2:\n",
    "    print(\"User selected Withdraw\")\n",
    "elif option == 1:\n",
    "    print(\"User selected Deposit\")\n",
    "elif option == 4:\n",
    "    print(\"User selected Exit\")\n",
    "print(\"processing\")"
   ]
  },
  {
   "cell_type": "code",
   "execution_count": 15,
   "id": "dc60c828",
   "metadata": {},
   "outputs": [
    {
     "name": "stdout",
     "output_type": "stream",
     "text": [
      "Welcome to My ATM\n",
      "Enter option from 1 to 4: 5\n",
      "processing ...\n"
     ]
    }
   ],
   "source": [
    "print(\"Welcome to My ATM\")\n",
    "\n",
    "option = int(input(\"Enter option from 1 to 4: \"))\n",
    "\n",
    "if option == 1:\n",
    "    print(\"User selected Balance Enquiry\")\n",
    "elif option == 2:\n",
    "    print(\"User selected Withdraw\")\n",
    "elif option == 3:\n",
    "    print(\"User selected Deposit\")\n",
    "elif option == 4:\n",
    "    print(\"User selected Exit\")\n",
    "print(\"processing ...\")"
   ]
  },
  {
   "cell_type": "code",
   "execution_count": 17,
   "id": "b99ecb89",
   "metadata": {},
   "outputs": [
    {
     "name": "stdout",
     "output_type": "stream",
     "text": [
      "Welcome to My ATM\n",
      "Enter option from 1 to 4: 1\n",
      "\n",
      "\n",
      "User selected Balance Enquiry\n",
      "processing ...\n"
     ]
    }
   ],
   "source": [
    "print(\"Welcome to My ATM\")\n",
    "\n",
    "option = int(input(\"Enter option from 1 to 4: \"))\n",
    "print(\"\\n\")\n",
    "\n",
    "if option == 1:\n",
    "    print(\"User selected Balance Enquiry\")\n",
    "elif option == 2:\n",
    "    print(\"User selected Withdraw\")\n",
    "elif option == 3:\n",
    "    print(\"User selected Deposit\")\n",
    "elif option == 4:\n",
    "    print(\"User selected Exit\")\n",
    "else:\n",
    "    print(\"Invalid input\\nUser must select only 1 to 4. Returning to Home Page\")\n",
    "print(\"processing ...\")"
   ]
  },
  {
   "cell_type": "code",
   "execution_count": null,
   "id": "898f84d9",
   "metadata": {},
   "outputs": [],
   "source": [
    "## 7.) Nested if\n",
    "\n",
    "Example: Based on marks student grade need to assign"
   ]
  },
  {
   "cell_type": "code",
   "execution_count": 35,
   "id": "3fe9cbcf",
   "metadata": {},
   "outputs": [
    {
     "name": "stdout",
     "output_type": "stream",
     "text": [
      "Enter subject Marks: 79\n",
      "Student passed in subject\n",
      "Student Gain B+ Grade\n"
     ]
    }
   ],
   "source": [
    "subj = int(input(\"Enter subject Marks: \"))\n",
    "\n",
    "if subj < 0 or subj > 100:\n",
    "    print(\"Invalid subject marks. Marks must be from 0 to 100.\")\n",
    "else:\n",
    "    if subj > 34:\n",
    "        print(\"Student passed in subject\")\n",
    "        if subj > 89:\n",
    "            print(\"Student Gain A+ Grade\")\n",
    "        elif subj > 79:\n",
    "            print(\"Student Gain A Grade\")\n",
    "        elif subj > 69:\n",
    "            print(\"Student Gain B+ Grade\")\n",
    "        elif subj > 59:\n",
    "            print(\"Student Gain B Grade\")\n",
    "        elif subj > 49:\n",
    "            print(\"Student Gain C Grade\")\n",
    "        else:\n",
    "            print(\"Student Gain D Grade\")\n",
    "    else:\n",
    "        print(\"Student if Fail.\\nStuden Gain F Grade\")"
   ]
  },
  {
   "cell_type": "code",
   "execution_count": null,
   "id": "91cc4a57",
   "metadata": {},
   "outputs": [],
   "source": []
  },
  {
   "cell_type": "code",
   "execution_count": null,
   "id": "1a0a2a8b",
   "metadata": {},
   "outputs": [],
   "source": []
  }
 ],
 "metadata": {
  "kernelspec": {
   "display_name": "Python 3 (ipykernel)",
   "language": "python",
   "name": "python3"
  },
  "language_info": {
   "codemirror_mode": {
    "name": "ipython",
    "version": 3
   },
   "file_extension": ".py",
   "mimetype": "text/x-python",
   "name": "python",
   "nbconvert_exporter": "python",
   "pygments_lexer": "ipython3",
   "version": "3.10.9"
  }
 },
 "nbformat": 4,
 "nbformat_minor": 5
}
