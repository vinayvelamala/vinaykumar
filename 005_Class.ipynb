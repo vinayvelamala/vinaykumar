{
 "cells": [
  {
   "cell_type": "markdown",
   "id": "ecf0e631",
   "metadata": {},
   "source": [
    "# Agenda\n",
    "   \n",
    "### 1. Comments\n",
    "\n",
    "    1.1 Single Line Comment\n",
    "    \n",
    "    1.2 inline Comment\n",
    "\n",
    "    1.3 Multiple Line Comment\n",
    "    \n",
    "    1.4 Documentation strings\n",
    "\n",
    "### 2. Round\n",
    "\n",
    "    2.1 Removing decimals\n",
    "\n",
    "    2.2 Controlling decimals\n",
    "    \n",
    "   \n",
    "### 3. Python Literals\n",
    "\n",
    "### 4. Statements"
   ]
  },
  {
   "cell_type": "markdown",
   "id": "b257a06f",
   "metadata": {},
   "source": [
    "# Chapters in depth"
   ]
  },
  {
   "cell_type": "markdown",
   "id": "ddef6b7f",
   "metadata": {},
   "source": [
    "### 1. Comments\n",
    "\n",
    "    -> Readability of the Code\n",
    "\n",
    "    -> Restrict code execution\n",
    "\n",
    "    -> Provide an overview of the program or project metadata\n",
    "\n",
    "    -> To add resources to the code\n",
    "    \n",
    "#### 1.1 Single-line Comment\n",
    "\n",
    "    -> Single-line remarks in Python have shown to be effective for providing quick descriptions for parameters, function definitions, and expressions. \n",
    "\n",
    "    -> A single-line comment of Python is the one that has a hashtag # at the beginning of it and continues until the finish of the line. \n",
    "\n",
    "    -> If the comment continues to the next line, add a hashtag to the subsequent line and resume the conversation.\n",
    "    \n",
    "##### Example"
   ]
  },
  {
   "cell_type": "code",
   "execution_count": 1,
   "id": "0d7545f3",
   "metadata": {},
   "outputs": [
    {
     "data": {
      "text/plain": [
       "3"
      ]
     },
     "execution_count": 1,
     "metadata": {},
     "output_type": "execute_result"
    }
   ],
   "source": [
    "# I am assigning 3 value to v variable\n",
    "\n",
    "v = 3 \n",
    "v"
   ]
  },
  {
   "cell_type": "code",
   "execution_count": 2,
   "id": "6c28d3cd",
   "metadata": {},
   "outputs": [
    {
     "data": {
      "text/plain": [
       "'Divesh'"
      ]
     },
     "execution_count": 2,
     "metadata": {},
     "output_type": "execute_result"
    }
   ],
   "source": [
    "'This is single line comment'\n",
    "\n",
    "a = 'Divesh'\n",
    "a"
   ]
  },
  {
   "cell_type": "code",
   "execution_count": 3,
   "id": "7d44f465",
   "metadata": {},
   "outputs": [
    {
     "data": {
      "text/plain": [
       "'Divesh'"
      ]
     },
     "execution_count": 3,
     "metadata": {},
     "output_type": "execute_result"
    }
   ],
   "source": [
    "\"This is single line comment\"\n",
    "\n",
    "b = 'Divesh'\n",
    "b"
   ]
  },
  {
   "cell_type": "markdown",
   "id": "f45dc53b",
   "metadata": {},
   "source": [
    "#### 1.2 In-line Comment\n",
    "\n",
    "##### Example"
   ]
  },
  {
   "cell_type": "code",
   "execution_count": 4,
   "id": "e8a4a22c",
   "metadata": {},
   "outputs": [
    {
     "data": {
      "text/plain": [
       "3"
      ]
     },
     "execution_count": 4,
     "metadata": {},
     "output_type": "execute_result"
    }
   ],
   "source": [
    "x = 3 # I am assigning 3 value to x variable\n",
    "x"
   ]
  },
  {
   "cell_type": "markdown",
   "id": "54c3ff1e",
   "metadata": {},
   "source": [
    "#### 1.3 Multi-Line Comments\n",
    "\n",
    "    -> Python does not provide the facility for multi-line comments. \n",
    "    \n",
    "    -> However, there are indeed many ways to create multi-line comments."
   ]
  },
  {
   "cell_type": "markdown",
   "id": "745f071c",
   "metadata": {},
   "source": [
    "##### 1.3.1 With Multiple Hashtags (#)\n",
    "\n",
    "###### Example"
   ]
  },
  {
   "cell_type": "code",
   "execution_count": 5,
   "id": "2ab23c08",
   "metadata": {},
   "outputs": [
    {
     "data": {
      "text/plain": [
       "10"
      ]
     },
     "execution_count": 5,
     "metadata": {},
     "output_type": "execute_result"
    }
   ],
   "source": [
    "# I am \n",
    "# assigning 10 \n",
    "# value to \n",
    "# y variable\n",
    "\n",
    "y =10 \n",
    "y"
   ]
  },
  {
   "cell_type": "markdown",
   "id": "94d0151d",
   "metadata": {},
   "source": [
    "##### 1.3.2 Using String Literals\n",
    "\n",
    "Python overlooks string expressions that aren't allocated to a variable, we can utilize them as comments.\n",
    "\n",
    "###### Example"
   ]
  },
  {
   "cell_type": "code",
   "execution_count": 6,
   "id": "606ae65c",
   "metadata": {},
   "outputs": [
    {
     "ename": "SyntaxError",
     "evalue": "unterminated string literal (detected at line 1) (1479845734.py, line 1)",
     "output_type": "error",
     "traceback": [
      "\u001b[1;36m  Cell \u001b[1;32mIn[6], line 1\u001b[1;36m\u001b[0m\n\u001b[1;33m    'this\u001b[0m\n\u001b[1;37m    ^\u001b[0m\n\u001b[1;31mSyntaxError\u001b[0m\u001b[1;31m:\u001b[0m unterminated string literal (detected at line 1)\n"
     ]
    }
   ],
   "source": [
    "'this \n",
    "divesh'"
   ]
  },
  {
   "cell_type": "code",
   "execution_count": 7,
   "id": "63befb5b",
   "metadata": {},
   "outputs": [
    {
     "data": {
      "text/plain": [
       "10"
      ]
     },
     "execution_count": 7,
     "metadata": {},
     "output_type": "execute_result"
    }
   ],
   "source": [
    "'''This is \n",
    "multiple \n",
    "line \n",
    "comment'''\n",
    "\n",
    "b = 10\n",
    "b"
   ]
  },
  {
   "cell_type": "code",
   "execution_count": 8,
   "id": "56f6a16b",
   "metadata": {},
   "outputs": [
    {
     "data": {
      "text/plain": [
       "10"
      ]
     },
     "execution_count": 8,
     "metadata": {},
     "output_type": "execute_result"
    }
   ],
   "source": [
    "\"\"\"This is \n",
    "multiple line \n",
    "comment\"\"\"\n",
    "\n",
    "c = 10\n",
    "c"
   ]
  },
  {
   "cell_type": "markdown",
   "id": "e117aa2e",
   "metadata": {},
   "source": [
    "#### 1.4 Document String\n",
    "\n",
    "    -> The strings enclosed in triple quotes that come immediately after the defined function are called Python docstring. \n",
    "    \n",
    "    -> It's designed to link documentation developed for Python modules, methods, classes, and functions together. \n",
    "    \n",
    "    -> It's placed just beneath the function, module, or class to explain what they perform. \n",
    "    \n",
    "    -> The docstring is then readily accessible in Python using the __doc__ attribute.\n",
    "    \n",
    "##### Example"
   ]
  },
  {
   "cell_type": "code",
   "execution_count": 10,
   "id": "675c0c06",
   "metadata": {},
   "outputs": [],
   "source": [
    "''' Code to \n",
    "show how we \n",
    "use docstrings in Python ''' \n",
    "  \n",
    "def add(x, y):  \n",
    "    \"\"\"This function adds the values of x and y\"\"\" \n",
    "    return x + y  "
   ]
  },
  {
   "cell_type": "code",
   "execution_count": 11,
   "id": "ac5849d2",
   "metadata": {},
   "outputs": [
    {
     "name": "stdout",
     "output_type": "stream",
     "text": [
      "This function adds the values of x and y\n"
     ]
    }
   ],
   "source": [
    "# Displaying the docstring of the add function  \n",
    "print(add.__doc__)"
   ]
  },
  {
   "cell_type": "code",
   "execution_count": 12,
   "id": "07554df4",
   "metadata": {},
   "outputs": [
    {
     "data": {
      "text/plain": [
       "5"
      ]
     },
     "execution_count": 12,
     "metadata": {},
     "output_type": "execute_result"
    }
   ],
   "source": [
    "add(2,3)"
   ]
  },
  {
   "cell_type": "code",
   "execution_count": 13,
   "id": "d2f6f6ce",
   "metadata": {},
   "outputs": [
    {
     "data": {
      "text/plain": [
       "6"
      ]
     },
     "execution_count": 13,
     "metadata": {},
     "output_type": "execute_result"
    }
   ],
   "source": [
    "len('Divesh')"
   ]
  },
  {
   "cell_type": "code",
   "execution_count": 14,
   "id": "29352f61",
   "metadata": {},
   "outputs": [
    {
     "name": "stdout",
     "output_type": "stream",
     "text": [
      "Return the number of items in a container.\n"
     ]
    }
   ],
   "source": [
    "print(len.__doc__)"
   ]
  },
  {
   "cell_type": "markdown",
   "id": "751a7baa",
   "metadata": {},
   "source": [
    "#### 1.5 Difference between Docstrings and Multi-line Comments\n",
    "\n",
    "    -> Docstrings are written in the functions and classes to show how to use the program.\n",
    "\n",
    "    -> Multi-line comments are used to show how a block of code works."
   ]
  },
  {
   "cell_type": "markdown",
   "id": "18e999a6",
   "metadata": {},
   "source": [
    "### 2. Round \n",
    "\n",
    "#### 1.1 Removing decimals\n",
    "\n",
    "    -> round is build in function\n",
    "    \n",
    "    -> it going to round the number by removing the decimals\n",
    "    \n",
    "    -> Even user can customize, how many decimals need to display\n",
    "    \n",
    "##### Examples:"
   ]
  },
  {
   "cell_type": "code",
   "execution_count": 15,
   "id": "062b778c",
   "metadata": {},
   "outputs": [
    {
     "data": {
      "text/plain": [
       "6"
      ]
     },
     "execution_count": 15,
     "metadata": {},
     "output_type": "execute_result"
    }
   ],
   "source": [
    "round(5.5)"
   ]
  },
  {
   "cell_type": "code",
   "execution_count": 16,
   "id": "fcba0a46",
   "metadata": {},
   "outputs": [
    {
     "data": {
      "text/plain": [
       "5"
      ]
     },
     "execution_count": 16,
     "metadata": {},
     "output_type": "execute_result"
    }
   ],
   "source": [
    "round(5.4999)"
   ]
  },
  {
   "cell_type": "markdown",
   "id": "6cb82845",
   "metadata": {},
   "source": [
    "#### 2.2 Controling decimals\n",
    "\n",
    "round(value,ndigits)\n",
    "\n",
    "    Value: 85.852\n",
    "        \n",
    "    ndigits: 2 (Number of digits to display decimals)\n",
    "\n",
    "##### Examples:"
   ]
  },
  {
   "cell_type": "code",
   "execution_count": 17,
   "id": "7acf5f63",
   "metadata": {},
   "outputs": [
    {
     "data": {
      "text/plain": [
       "86"
      ]
     },
     "execution_count": 17,
     "metadata": {},
     "output_type": "execute_result"
    }
   ],
   "source": [
    "round(85.856)"
   ]
  },
  {
   "cell_type": "code",
   "execution_count": 18,
   "id": "0fa7b31b",
   "metadata": {},
   "outputs": [
    {
     "data": {
      "text/plain": [
       "85.85"
      ]
     },
     "execution_count": 18,
     "metadata": {},
     "output_type": "execute_result"
    }
   ],
   "source": [
    "round(85.852, 2)"
   ]
  },
  {
   "cell_type": "code",
   "execution_count": 19,
   "id": "fb1a32d5",
   "metadata": {},
   "outputs": [
    {
     "data": {
      "text/plain": [
       "85.86"
      ]
     },
     "execution_count": 19,
     "metadata": {},
     "output_type": "execute_result"
    }
   ],
   "source": [
    "round(85.856, 2)"
   ]
  },
  {
   "cell_type": "code",
   "execution_count": 20,
   "id": "a1544195",
   "metadata": {},
   "outputs": [
    {
     "data": {
      "text/plain": [
       "56.464945"
      ]
     },
     "execution_count": 20,
     "metadata": {},
     "output_type": "execute_result"
    }
   ],
   "source": [
    "round(56.464944987498496, 6)"
   ]
  },
  {
   "cell_type": "markdown",
   "id": "fafa9d7e",
   "metadata": {},
   "source": [
    "### 5. Python literals\n",
    "\n",
    "#### String literals\n",
    "\n",
    "String literals can be formed by enclosing a text in the quotes. We can use both single as well as double quotes to create a string."
   ]
  },
  {
   "cell_type": "code",
   "execution_count": 62,
   "id": "51004a19",
   "metadata": {},
   "outputs": [
    {
     "data": {
      "text/plain": [
       "'Divesh'"
      ]
     },
     "execution_count": 62,
     "metadata": {},
     "output_type": "execute_result"
    }
   ],
   "source": [
    "a = \"Divesh\"\n",
    "a"
   ]
  },
  {
   "cell_type": "code",
   "execution_count": 63,
   "id": "593e197d",
   "metadata": {},
   "outputs": [
    {
     "data": {
      "text/plain": [
       "'12345'"
      ]
     },
     "execution_count": 63,
     "metadata": {},
     "output_type": "execute_result"
    }
   ],
   "source": [
    "b = '12345'\n",
    "b"
   ]
  },
  {
   "cell_type": "code",
   "execution_count": 64,
   "id": "11b804c8",
   "metadata": {},
   "outputs": [
    {
     "data": {
      "text/plain": [
       "\"This is Divesh's Laptop\""
      ]
     },
     "execution_count": 64,
     "metadata": {},
     "output_type": "execute_result"
    }
   ],
   "source": [
    "c = \"This is Divesh's Laptop\"\n",
    "c"
   ]
  },
  {
   "cell_type": "markdown",
   "id": "752f9cb8",
   "metadata": {},
   "source": [
    "#### Types of strings\n",
    "\n",
    "There are two types of Strings supported in Python"
   ]
  },
  {
   "cell_type": "markdown",
   "id": "400cf7c4",
   "metadata": {},
   "source": [
    "#### 5.1 Single-line String\n",
    "\n",
    "Single-line String- Strings that are terminated within a single-line are known as Single line Strings."
   ]
  },
  {
   "cell_type": "code",
   "execution_count": null,
   "id": "f14408a0",
   "metadata": {},
   "outputs": [],
   "source": [
    "a = \"hello\"\n",
    "a"
   ]
  },
  {
   "cell_type": "markdown",
   "id": "3abdc49a",
   "metadata": {},
   "source": [
    "#### 5.2 Multi-line String\n",
    "\n",
    "A piece of text that is written in multiple lines is known as multiple lines string.\n",
    "\n",
    "There are two ways to create multiline strings"
   ]
  },
  {
   "cell_type": "markdown",
   "id": "c97f5206",
   "metadata": {},
   "source": [
    "##### 5.2.1 Adding black slash at the end of each line."
   ]
  },
  {
   "cell_type": "code",
   "execution_count": null,
   "id": "33438558",
   "metadata": {},
   "outputs": [],
   "source": [
    "a = 'this is \n",
    "divesh'"
   ]
  },
  {
   "cell_type": "code",
   "execution_count": 65,
   "id": "606a1555",
   "metadata": {},
   "outputs": [
    {
     "name": "stdout",
     "output_type": "stream",
     "text": [
      "this is divesh.\n"
     ]
    }
   ],
   "source": [
    "text ='this \\\n",
    "is \\\n",
    "divesh.'\n",
    "\n",
    "print(text)"
   ]
  },
  {
   "cell_type": "code",
   "execution_count": null,
   "id": "52eb164d",
   "metadata": {
    "scrolled": true
   },
   "outputs": [],
   "source": [
    "a = 'this hkgjikkgggggggggggggggggggggggggggggggggggggggggggggggggggggggfnd dddddddddddddddddddddddddddddddddddddddddddddddddddddddddddddddddddddddddd\\\n",
    "gggggggggggggggggggggggggggggggggggggggggggggggggggggggggggggggggggg\\\n",
    "is \\\n",
    "divesh'\n",
    "\n",
    "a"
   ]
  },
  {
   "cell_type": "markdown",
   "id": "c282d9e9",
   "metadata": {},
   "source": [
    "##### 5.2.2 Using triple quotation marks"
   ]
  },
  {
   "cell_type": "code",
   "execution_count": 66,
   "id": "81ab67ed",
   "metadata": {},
   "outputs": [
    {
     "name": "stdout",
     "output_type": "stream",
     "text": [
      "Welcome \n",
      "to the \n",
      "Active \n",
      "user\n"
     ]
    }
   ],
   "source": [
    "text = \"\"\"Welcome \n",
    "to the \n",
    "Active \n",
    "user\"\"\"\n",
    "\n",
    "print(text)"
   ]
  },
  {
   "cell_type": "code",
   "execution_count": 67,
   "id": "a529e2c4",
   "metadata": {},
   "outputs": [
    {
     "name": "stdout",
     "output_type": "stream",
     "text": [
      "Welcome \n",
      "to the \n",
      "Active user\n"
     ]
    }
   ],
   "source": [
    "text = '''Welcome \n",
    "to the \n",
    "Active \\\n",
    "user'''\n",
    "\n",
    "print(text)"
   ]
  },
  {
   "cell_type": "markdown",
   "id": "7290f89b",
   "metadata": {},
   "source": [
    "### 6.Statements\n",
    "\n",
    "    -> Instructions written in the source code for execution are called statements. \n",
    "\n",
    "    -> There are different types of statements in the Python programming language like Assignment statements, Conditional statements, Looping statements, etc. \n",
    "\n",
    "    -> These all help the user to get the required output. For example, n = 50 is an assignment statement."
   ]
  },
  {
   "cell_type": "markdown",
   "id": "f43a1190",
   "metadata": {},
   "source": [
    "#### 6.1 Single Line Statement"
   ]
  },
  {
   "cell_type": "code",
   "execution_count": 68,
   "id": "b20c3caf",
   "metadata": {},
   "outputs": [],
   "source": [
    "n = 6\n",
    "m = 7"
   ]
  },
  {
   "cell_type": "markdown",
   "id": "35140be5",
   "metadata": {},
   "source": [
    "#### 6.2 Multi-Line Statements \n",
    "\n",
    "    -> Statements in Python can be extended to one or more lines using parentheses (), braces {}, square brackets [], semi-colon (;), continuation character slash (\\). \n",
    "\n",
    "    -> When the programmer needs to do long calculations and cannot fit his statements into one line, one can make use of these characters. "
   ]
  },
  {
   "cell_type": "markdown",
   "id": "825fa741",
   "metadata": {},
   "source": [
    "##### 6.2.1 Declared using Continuation Character \n",
    "\n",
    "    -> represents by using \\"
   ]
  },
  {
   "cell_type": "code",
   "execution_count": 69,
   "id": "b31abfae",
   "metadata": {},
   "outputs": [
    {
     "data": {
      "text/plain": [
       "45"
      ]
     },
     "execution_count": 69,
     "metadata": {},
     "output_type": "execute_result"
    }
   ],
   "source": [
    "s = 1 + 2 + 3 + \\\n",
    "    4 + 5 + 6 + \\\n",
    "    7 + 8 + 9\n",
    "\n",
    "s"
   ]
  },
  {
   "cell_type": "markdown",
   "id": "aad629d9",
   "metadata": {},
   "source": [
    "##### 6.2.2 Declared using parentheses\n",
    "\n",
    "    -> represents by using ( )"
   ]
  },
  {
   "cell_type": "code",
   "execution_count": 70,
   "id": "7aec654a",
   "metadata": {},
   "outputs": [
    {
     "data": {
      "text/plain": [
       "31"
      ]
     },
     "execution_count": 70,
     "metadata": {},
     "output_type": "execute_result"
    }
   ],
   "source": [
    "n = (1 + (2 * 3) + \n",
    "     7 + \n",
    "     8 + 9)\n",
    "\n",
    "n"
   ]
  },
  {
   "cell_type": "markdown",
   "id": "97e064b2",
   "metadata": {},
   "source": [
    "##### 6.2.3 Declared using square brackets\n",
    "\n",
    "    -> represents by using [ ]"
   ]
  },
  {
   "cell_type": "code",
   "execution_count": 71,
   "id": "120be35a",
   "metadata": {},
   "outputs": [
    {
     "data": {
      "text/plain": [
       "['MESSI', 'NEYMAR', 'SUAREZ']"
      ]
     },
     "execution_count": 71,
     "metadata": {},
     "output_type": "execute_result"
    }
   ],
   "source": [
    "footballer = ['MESSI',\n",
    "          'NEYMAR', \n",
    "\n",
    "              \n",
    "              \n",
    "          'SUAREZ']\n",
    "\n",
    "footballer"
   ]
  },
  {
   "cell_type": "markdown",
   "id": "a9604e47",
   "metadata": {},
   "source": [
    "##### 6.2.4 Declared using braces \n",
    "\n",
    "    -> represents by using { }"
   ]
  },
  {
   "cell_type": "code",
   "execution_count": 72,
   "id": "f7842f23",
   "metadata": {},
   "outputs": [
    {
     "data": {
      "text/plain": [
       "{45}"
      ]
     },
     "execution_count": 72,
     "metadata": {},
     "output_type": "execute_result"
    }
   ],
   "source": [
    "s = {1 + 2 + 3 + 4 + 5 + 6 +\n",
    "     7 + 8 + 9}\n",
    "\n",
    "s"
   ]
  },
  {
   "cell_type": "markdown",
   "id": "499b701c",
   "metadata": {},
   "source": [
    "##### 6.2.5 Declared using semicolons \n",
    "\n",
    "    -> represents by using ;"
   ]
  },
  {
   "cell_type": "code",
   "execution_count": 73,
   "id": "c77752bb",
   "metadata": {},
   "outputs": [
    {
     "data": {
      "text/plain": [
       "3"
      ]
     },
     "execution_count": 73,
     "metadata": {},
     "output_type": "execute_result"
    }
   ],
   "source": [
    "# flag =2\n",
    "# ropes = 3\n",
    "# pole = 4\n",
    "# flag,ropes,pole = 2,3,4\n",
    "flag = 2\n",
    "ropes = 3; pole = 4\n",
    "h =5\n",
    "ropes"
   ]
  }
 ],
 "metadata": {
  "kernelspec": {
   "display_name": "Python 3 (ipykernel)",
   "language": "python",
   "name": "python3"
  },
  "language_info": {
   "codemirror_mode": {
    "name": "ipython",
    "version": 3
   },
   "file_extension": ".py",
   "mimetype": "text/x-python",
   "name": "python",
   "nbconvert_exporter": "python",
   "pygments_lexer": "ipython3",
   "version": "3.10.9"
  }
 },
 "nbformat": 4,
 "nbformat_minor": 5
}
