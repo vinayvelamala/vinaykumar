{
 "cells": [
  {
   "cell_type": "markdown",
   "id": "295fb9a8",
   "metadata": {},
   "source": [
    "### 3. user defined function"
   ]
  },
  {
   "cell_type": "raw",
   "id": "633fb48b",
   "metadata": {},
   "source": [
    "def function_name():\n",
    "    Statement"
   ]
  },
  {
   "cell_type": "code",
   "execution_count": 1,
   "id": "8935e644",
   "metadata": {},
   "outputs": [
    {
     "name": "stdout",
     "output_type": "stream",
     "text": [
      "30\n"
     ]
    }
   ],
   "source": [
    "a =10\n",
    "b =20\n",
    "\n",
    "c = a+b\n",
    "print(c)"
   ]
  },
  {
   "cell_type": "code",
   "execution_count": 2,
   "id": "e8468b9c",
   "metadata": {},
   "outputs": [],
   "source": [
    "def add():\n",
    "    c = i+j\n",
    "    print(c)"
   ]
  },
  {
   "cell_type": "code",
   "execution_count": 3,
   "id": "758b9735",
   "metadata": {},
   "outputs": [
    {
     "ename": "NameError",
     "evalue": "name 'i' is not defined",
     "output_type": "error",
     "traceback": [
      "\u001b[1;31m---------------------------------------------------------------------------\u001b[0m",
      "\u001b[1;31mNameError\u001b[0m                                 Traceback (most recent call last)",
      "Cell \u001b[1;32mIn[3], line 1\u001b[0m\n\u001b[1;32m----> 1\u001b[0m \u001b[43madd\u001b[49m\u001b[43m(\u001b[49m\u001b[43m)\u001b[49m\n",
      "Cell \u001b[1;32mIn[2], line 2\u001b[0m, in \u001b[0;36madd\u001b[1;34m()\u001b[0m\n\u001b[0;32m      1\u001b[0m \u001b[38;5;28;01mdef\u001b[39;00m \u001b[38;5;21madd\u001b[39m():\n\u001b[1;32m----> 2\u001b[0m     c \u001b[38;5;241m=\u001b[39m \u001b[43mi\u001b[49m\u001b[38;5;241m+\u001b[39mj\n\u001b[0;32m      3\u001b[0m     \u001b[38;5;28mprint\u001b[39m(c)\n",
      "\u001b[1;31mNameError\u001b[0m: name 'i' is not defined"
     ]
    }
   ],
   "source": [
    "add()"
   ]
  },
  {
   "cell_type": "code",
   "execution_count": 4,
   "id": "0b307258",
   "metadata": {},
   "outputs": [
    {
     "ename": "TypeError",
     "evalue": "add() takes 0 positional arguments but 2 were given",
     "output_type": "error",
     "traceback": [
      "\u001b[1;31m---------------------------------------------------------------------------\u001b[0m",
      "\u001b[1;31mTypeError\u001b[0m                                 Traceback (most recent call last)",
      "Cell \u001b[1;32mIn[4], line 1\u001b[0m\n\u001b[1;32m----> 1\u001b[0m \u001b[43madd\u001b[49m\u001b[43m(\u001b[49m\u001b[38;5;241;43m2\u001b[39;49m\u001b[43m,\u001b[49m\u001b[38;5;241;43m3\u001b[39;49m\u001b[43m)\u001b[49m\n",
      "\u001b[1;31mTypeError\u001b[0m: add() takes 0 positional arguments but 2 were given"
     ]
    }
   ],
   "source": [
    "add(2,3)"
   ]
  },
  {
   "cell_type": "code",
   "execution_count": 5,
   "id": "6122d274",
   "metadata": {},
   "outputs": [],
   "source": [
    "def add(x,y):\n",
    "    c = k+j\n",
    "    print(c)"
   ]
  },
  {
   "cell_type": "code",
   "execution_count": 6,
   "id": "8e6e26ce",
   "metadata": {},
   "outputs": [
    {
     "ename": "NameError",
     "evalue": "name 'k' is not defined",
     "output_type": "error",
     "traceback": [
      "\u001b[1;31m---------------------------------------------------------------------------\u001b[0m",
      "\u001b[1;31mNameError\u001b[0m                                 Traceback (most recent call last)",
      "Cell \u001b[1;32mIn[6], line 1\u001b[0m\n\u001b[1;32m----> 1\u001b[0m \u001b[43madd\u001b[49m\u001b[43m(\u001b[49m\u001b[38;5;241;43m2\u001b[39;49m\u001b[43m,\u001b[49m\u001b[38;5;241;43m3\u001b[39;49m\u001b[43m)\u001b[49m\n",
      "Cell \u001b[1;32mIn[5], line 2\u001b[0m, in \u001b[0;36madd\u001b[1;34m(x, y)\u001b[0m\n\u001b[0;32m      1\u001b[0m \u001b[38;5;28;01mdef\u001b[39;00m \u001b[38;5;21madd\u001b[39m(x,y):\n\u001b[1;32m----> 2\u001b[0m     c \u001b[38;5;241m=\u001b[39m \u001b[43mk\u001b[49m\u001b[38;5;241m+\u001b[39mj\n\u001b[0;32m      3\u001b[0m     \u001b[38;5;28mprint\u001b[39m(c)\n",
      "\u001b[1;31mNameError\u001b[0m: name 'k' is not defined"
     ]
    }
   ],
   "source": [
    "add(2,3)"
   ]
  },
  {
   "cell_type": "code",
   "execution_count": 7,
   "id": "e2d8d85f",
   "metadata": {},
   "outputs": [],
   "source": [
    "def add(k,j):\n",
    "    c = k+j\n",
    "    print(c)"
   ]
  },
  {
   "cell_type": "code",
   "execution_count": 8,
   "id": "7196cb82",
   "metadata": {},
   "outputs": [
    {
     "name": "stdout",
     "output_type": "stream",
     "text": [
      "5\n"
     ]
    }
   ],
   "source": [
    "add(2,3)"
   ]
  },
  {
   "cell_type": "code",
   "execution_count": 9,
   "id": "bd759705",
   "metadata": {},
   "outputs": [
    {
     "name": "stdout",
     "output_type": "stream",
     "text": [
      "11\n"
     ]
    }
   ],
   "source": [
    "a=6\n",
    "b=5\n",
    "add(a,b)"
   ]
  },
  {
   "cell_type": "code",
   "execution_count": 10,
   "id": "d2ba47f3",
   "metadata": {},
   "outputs": [
    {
     "ename": "TypeError",
     "evalue": "add() takes 2 positional arguments but 3 were given",
     "output_type": "error",
     "traceback": [
      "\u001b[1;31m---------------------------------------------------------------------------\u001b[0m",
      "\u001b[1;31mTypeError\u001b[0m                                 Traceback (most recent call last)",
      "Cell \u001b[1;32mIn[10], line 1\u001b[0m\n\u001b[1;32m----> 1\u001b[0m \u001b[43madd\u001b[49m\u001b[43m(\u001b[49m\u001b[38;5;241;43m5\u001b[39;49m\u001b[43m,\u001b[49m\u001b[38;5;241;43m6\u001b[39;49m\u001b[43m,\u001b[49m\u001b[38;5;241;43m2\u001b[39;49m\u001b[43m)\u001b[49m\n",
      "\u001b[1;31mTypeError\u001b[0m: add() takes 2 positional arguments but 3 were given"
     ]
    }
   ],
   "source": [
    "add(5,6,2)"
   ]
  },
  {
   "cell_type": "markdown",
   "id": "c23a8d67",
   "metadata": {},
   "source": [
    "### Local Variable => re and te"
   ]
  },
  {
   "cell_type": "code",
   "execution_count": 11,
   "id": "bf20d842",
   "metadata": {},
   "outputs": [],
   "source": [
    "def sub():\n",
    "    re = 10\n",
    "    te = 5\n",
    "    res = re - te\n",
    "    print(res)"
   ]
  },
  {
   "cell_type": "code",
   "execution_count": 12,
   "id": "e35c2615",
   "metadata": {},
   "outputs": [
    {
     "name": "stdout",
     "output_type": "stream",
     "text": [
      "5\n"
     ]
    }
   ],
   "source": [
    "sub()"
   ]
  },
  {
   "cell_type": "code",
   "execution_count": 13,
   "id": "8a2646e1",
   "metadata": {},
   "outputs": [
    {
     "ename": "NameError",
     "evalue": "name 're' is not defined",
     "output_type": "error",
     "traceback": [
      "\u001b[1;31m---------------------------------------------------------------------------\u001b[0m",
      "\u001b[1;31mNameError\u001b[0m                                 Traceback (most recent call last)",
      "Cell \u001b[1;32mIn[13], line 1\u001b[0m\n\u001b[1;32m----> 1\u001b[0m \u001b[38;5;28mprint\u001b[39m(\u001b[43mre\u001b[49m)\n",
      "\u001b[1;31mNameError\u001b[0m: name 're' is not defined"
     ]
    }
   ],
   "source": [
    "print(re)"
   ]
  },
  {
   "cell_type": "markdown",
   "id": "72dc4dbf",
   "metadata": {},
   "source": [
    "### Global Variable"
   ]
  },
  {
   "cell_type": "code",
   "execution_count": 14,
   "id": "fccc334d",
   "metadata": {},
   "outputs": [],
   "source": [
    "we = 8\n",
    "qe = 6\n",
    "def mul():\n",
    "    resu = we * qe\n",
    "    print(resu)"
   ]
  },
  {
   "cell_type": "code",
   "execution_count": 15,
   "id": "7fdbd4e5",
   "metadata": {},
   "outputs": [
    {
     "name": "stdout",
     "output_type": "stream",
     "text": [
      "48\n"
     ]
    }
   ],
   "source": [
    "mul()"
   ]
  },
  {
   "cell_type": "code",
   "execution_count": 16,
   "id": "db5fa496",
   "metadata": {},
   "outputs": [
    {
     "name": "stdout",
     "output_type": "stream",
     "text": [
      "8\n"
     ]
    }
   ],
   "source": [
    "print(we)"
   ]
  },
  {
   "cell_type": "markdown",
   "id": "02a3dcb6",
   "metadata": {},
   "source": [
    "### Doc String"
   ]
  },
  {
   "cell_type": "code",
   "execution_count": 17,
   "id": "eb44553d",
   "metadata": {},
   "outputs": [],
   "source": [
    "def add(a,b):\n",
    "    \"\"\"Here add function helps to add two numbers a and b\"\"\"\n",
    "    c = a+b\n",
    "    print(c)"
   ]
  },
  {
   "cell_type": "code",
   "execution_count": 18,
   "id": "4deacbb6",
   "metadata": {},
   "outputs": [
    {
     "name": "stdout",
     "output_type": "stream",
     "text": [
      "Here add function helps to add two numbers a and b\n"
     ]
    }
   ],
   "source": [
    "print(add.__doc__)"
   ]
  },
  {
   "cell_type": "code",
   "execution_count": 19,
   "id": "fd6de9ab",
   "metadata": {},
   "outputs": [
    {
     "name": "stdout",
     "output_type": "stream",
     "text": [
      "5\n"
     ]
    }
   ],
   "source": [
    "add(2,3)"
   ]
  },
  {
   "cell_type": "code",
   "execution_count": 20,
   "id": "0afc5a53",
   "metadata": {},
   "outputs": [
    {
     "name": "stdout",
     "output_type": "stream",
     "text": [
      "Return the number of items in a container.\n"
     ]
    }
   ],
   "source": [
    "print(len.__doc__)"
   ]
  },
  {
   "cell_type": "code",
   "execution_count": 21,
   "id": "b2d85802",
   "metadata": {},
   "outputs": [
    {
     "name": "stdout",
     "output_type": "stream",
     "text": [
      "6 value is even number\n"
     ]
    }
   ],
   "source": [
    "x=6\n",
    "\n",
    "if x%2==0:\n",
    "    print(x,\"value is even number\")\n",
    "else:\n",
    "    print(x,\"value is odd number\")"
   ]
  },
  {
   "cell_type": "code",
   "execution_count": 22,
   "id": "d5b86f9d",
   "metadata": {},
   "outputs": [],
   "source": [
    "def e_o(x):\n",
    "    if x%2==0:\n",
    "        print(x,\"value is even number\")\n",
    "    else:\n",
    "        print(x,\"value is odd number\")"
   ]
  },
  {
   "cell_type": "code",
   "execution_count": 23,
   "id": "4a77df3d",
   "metadata": {},
   "outputs": [
    {
     "name": "stdout",
     "output_type": "stream",
     "text": [
      "5 value is odd number\n"
     ]
    }
   ],
   "source": [
    "e_o(5)"
   ]
  },
  {
   "cell_type": "code",
   "execution_count": 24,
   "id": "351d2758",
   "metadata": {},
   "outputs": [
    {
     "name": "stdout",
     "output_type": "stream",
     "text": [
      "4 value is even number\n",
      "5 value is odd number\n",
      "21 value is odd number\n",
      "68 value is even number\n",
      "21 value is odd number\n",
      "63 value is odd number\n",
      "21 value is odd number\n",
      "21 value is odd number\n",
      "5 value is odd number\n"
     ]
    }
   ],
   "source": [
    "for i in [4,5,21,68,21,63,21,21,5]:\n",
    "    e_o(i)"
   ]
  },
  {
   "cell_type": "markdown",
   "id": "c26102d0",
   "metadata": {},
   "source": [
    "### Creating a Function"
   ]
  },
  {
   "cell_type": "code",
   "execution_count": 25,
   "id": "05d877e0",
   "metadata": {},
   "outputs": [],
   "source": [
    "def my_function():\n",
    "    print(\"Thanks for calling functions\")"
   ]
  },
  {
   "cell_type": "markdown",
   "id": "81d29b3a",
   "metadata": {},
   "source": [
    "### Calling a function"
   ]
  },
  {
   "cell_type": "code",
   "execution_count": 26,
   "id": "ada332a3",
   "metadata": {},
   "outputs": [
    {
     "name": "stdout",
     "output_type": "stream",
     "text": [
      "Thanks for calling functions\n"
     ]
    }
   ],
   "source": [
    "my_function()"
   ]
  },
  {
   "cell_type": "markdown",
   "id": "87e83b04",
   "metadata": {},
   "source": [
    "### Arguments\n",
    "\n",
    "Information can be passed into functions as arguments.\n",
    "\n",
    "Arguments are specified after the function name, inside the parentheses. You can add as many arguments as you want, just separate them with a comma."
   ]
  },
  {
   "cell_type": "code",
   "execution_count": 1,
   "id": "4854847e",
   "metadata": {},
   "outputs": [],
   "source": [
    "def my_function(fname):\n",
    "    print(fname + \" is my name. This is \"+fname)"
   ]
  },
  {
   "cell_type": "code",
   "execution_count": 2,
   "id": "17df2320",
   "metadata": {},
   "outputs": [
    {
     "name": "stdout",
     "output_type": "stream",
     "text": [
      "Arun is my name. This is Arun\n"
     ]
    }
   ],
   "source": [
    "my_function(\"Arun\")"
   ]
  },
  {
   "cell_type": "code",
   "execution_count": 3,
   "id": "f49b04d6",
   "metadata": {},
   "outputs": [
    {
     "name": "stdout",
     "output_type": "stream",
     "text": [
      "Divesh is my name. This is Divesh\n",
      "Kumar is my name. This is Kumar\n"
     ]
    }
   ],
   "source": [
    "my_function(\"Divesh\")\n",
    "my_function(\"Kumar\")"
   ]
  },
  {
   "cell_type": "code",
   "execution_count": 4,
   "id": "e34096d2",
   "metadata": {},
   "outputs": [
    {
     "name": "stdout",
     "output_type": "stream",
     "text": [
      "Arun is my name. This is Arun\n",
      "Divesh is my name. This is Divesh\n",
      "Suresh is my name. This is Suresh\n"
     ]
    }
   ],
   "source": [
    "for fname in ['Arun','Divesh','Suresh']:\n",
    "    my_function(fname)"
   ]
  },
  {
   "cell_type": "markdown",
   "id": "dbd621b5",
   "metadata": {},
   "source": [
    "### Number of Arguments\n",
    "\n",
    "By default, a function must be called with the correct number of arguments. Meaning that if your function expects 2 arguments, you have to call the function with 2 arguments, not more, and not less."
   ]
  },
  {
   "cell_type": "code",
   "execution_count": 5,
   "id": "ad77bb41",
   "metadata": {},
   "outputs": [],
   "source": [
    "def my_function(fname, lname):\n",
    "    print(fname + \" \" + lname)"
   ]
  },
  {
   "cell_type": "markdown",
   "id": "cca5a77a",
   "metadata": {},
   "source": [
    "##### This function expects 2 arguments, and gets 2 arguments:"
   ]
  },
  {
   "cell_type": "code",
   "execution_count": 6,
   "id": "1319c594",
   "metadata": {},
   "outputs": [
    {
     "name": "stdout",
     "output_type": "stream",
     "text": [
      "Divesh Mattigiri\n"
     ]
    }
   ],
   "source": [
    "my_function(\"Divesh\", \"Mattigiri\")"
   ]
  },
  {
   "cell_type": "markdown",
   "id": "6b592aeb",
   "metadata": {},
   "source": [
    "##### This function expects 2 arguments, but gets only 1"
   ]
  },
  {
   "cell_type": "code",
   "execution_count": 7,
   "id": "97d595ee",
   "metadata": {},
   "outputs": [
    {
     "ename": "TypeError",
     "evalue": "my_function() missing 1 required positional argument: 'lname'",
     "output_type": "error",
     "traceback": [
      "\u001b[1;31m---------------------------------------------------------------------------\u001b[0m",
      "\u001b[1;31mTypeError\u001b[0m                                 Traceback (most recent call last)",
      "Cell \u001b[1;32mIn[7], line 1\u001b[0m\n\u001b[1;32m----> 1\u001b[0m \u001b[43mmy_function\u001b[49m\u001b[43m(\u001b[49m\u001b[38;5;124;43m\"\u001b[39;49m\u001b[38;5;124;43mDivesh\u001b[39;49m\u001b[38;5;124;43m\"\u001b[39;49m\u001b[43m)\u001b[49m\n",
      "\u001b[1;31mTypeError\u001b[0m: my_function() missing 1 required positional argument: 'lname'"
     ]
    }
   ],
   "source": [
    "my_function(\"Divesh\")"
   ]
  },
  {
   "cell_type": "markdown",
   "id": "b93a6f0f",
   "metadata": {},
   "source": [
    "##### This function expects 2 arguments, but gets more than 2"
   ]
  },
  {
   "cell_type": "code",
   "execution_count": 8,
   "id": "6ed5c162",
   "metadata": {},
   "outputs": [
    {
     "ename": "TypeError",
     "evalue": "my_function() takes 2 positional arguments but 3 were given",
     "output_type": "error",
     "traceback": [
      "\u001b[1;31m---------------------------------------------------------------------------\u001b[0m",
      "\u001b[1;31mTypeError\u001b[0m                                 Traceback (most recent call last)",
      "Cell \u001b[1;32mIn[8], line 1\u001b[0m\n\u001b[1;32m----> 1\u001b[0m \u001b[43mmy_function\u001b[49m\u001b[43m(\u001b[49m\u001b[38;5;124;43m\"\u001b[39;49m\u001b[38;5;124;43mDivesh\u001b[39;49m\u001b[38;5;124;43m\"\u001b[39;49m\u001b[43m,\u001b[49m\u001b[38;5;124;43m\"\u001b[39;49m\u001b[38;5;124;43mKumar\u001b[39;49m\u001b[38;5;124;43m\"\u001b[39;49m\u001b[43m,\u001b[49m\u001b[38;5;124;43m\"\u001b[39;49m\u001b[38;5;124;43mMattigiri\u001b[39;49m\u001b[38;5;124;43m\"\u001b[39;49m\u001b[43m)\u001b[49m\n",
      "\u001b[1;31mTypeError\u001b[0m: my_function() takes 2 positional arguments but 3 were given"
     ]
    }
   ],
   "source": [
    "my_function(\"Divesh\",\"Kumar\",\"Mattigiri\")"
   ]
  },
  {
   "cell_type": "markdown",
   "id": "3065e8a0",
   "metadata": {},
   "source": [
    "### Arbitrary Arguments, *args\n",
    "\n",
    "If you do not know how many arguments that will be passed into your function, add a * before the parameter name in the function definition.\n",
    "\n",
    "This way the function will receive a tuple of arguments.\n",
    "\n",
    "Arbitrary Arguments are often shortened to *args in Python documentations."
   ]
  },
  {
   "cell_type": "code",
   "execution_count": 9,
   "id": "128e9248",
   "metadata": {},
   "outputs": [],
   "source": [
    "def my_function(*name):\n",
    "    print(\"The Last Name is \" + name[-1])\n",
    "    print(\"The First Name is \" + name[0])\n",
    "    print(\"The Middle name is \" , name[1:-1])\n",
    "    print(name)"
   ]
  },
  {
   "cell_type": "raw",
   "id": "6092c116",
   "metadata": {},
   "source": [
    "(\"Divesh\", \"Ganesh\", \"Kumar\",\"Mattigiri\")"
   ]
  },
  {
   "cell_type": "code",
   "execution_count": 10,
   "id": "0adb759a",
   "metadata": {},
   "outputs": [
    {
     "name": "stdout",
     "output_type": "stream",
     "text": [
      "The Last Name is Mattigiri\n",
      "The First Name is Divesh\n",
      "The Middle name is  ('Ganesh', 'Kumar')\n",
      "('Divesh', 'Ganesh', 'Kumar', 'Mattigiri')\n"
     ]
    }
   ],
   "source": [
    "my_function(\"Divesh\", \"Ganesh\", \"Kumar\",\"Mattigiri\")"
   ]
  },
  {
   "cell_type": "markdown",
   "id": "11b61d77",
   "metadata": {},
   "source": [
    "### Keyword Arguments\n",
    "\n",
    "You can also send arguments with the key = value syntax.\n",
    "\n",
    "This way the order of the arguments does not matter."
   ]
  },
  {
   "cell_type": "code",
   "execution_count": 11,
   "id": "541a0918",
   "metadata": {},
   "outputs": [],
   "source": [
    "def my_function(lastname, firstname, middlename):\n",
    "    print(\"The last name is \" + lastname)"
   ]
  },
  {
   "cell_type": "code",
   "execution_count": 12,
   "id": "d5dd0d2b",
   "metadata": {},
   "outputs": [
    {
     "name": "stdout",
     "output_type": "stream",
     "text": [
      "The last name is Divesh\n"
     ]
    }
   ],
   "source": [
    "my_function(\"Divesh\",\"Kumar\",\"Mattigiri\")"
   ]
  },
  {
   "cell_type": "code",
   "execution_count": 13,
   "id": "d3e9610a",
   "metadata": {},
   "outputs": [
    {
     "name": "stdout",
     "output_type": "stream",
     "text": [
      "The last name is Mattigiri\n"
     ]
    }
   ],
   "source": [
    "my_function(firstname = \"Divesh\", middlename = \"Kumar\", lastname = \"Mattigiri\")"
   ]
  },
  {
   "cell_type": "markdown",
   "id": "92bf9085",
   "metadata": {},
   "source": [
    "### Arbitrary Keyword Arguments, **kwargs\n",
    "\n",
    "If you do not know how many keyword arguments that will be passed into your function, add two asterisk: ** before the parameter name in the function definition.\n",
    "\n",
    "This way the function will receive a dictionary of arguments, and can access the items accordingly.\n",
    "\n",
    "If the number of keyword arguments is unknown, add a double ** before the parameter name"
   ]
  },
  {
   "cell_type": "code",
   "execution_count": 14,
   "id": "6e6ba269",
   "metadata": {},
   "outputs": [],
   "source": [
    "def my_function(**name):\n",
    "    print(\"His last name is \" + name[\"lname\"])\n",
    "    print(name)"
   ]
  },
  {
   "cell_type": "raw",
   "id": "6911ec3d",
   "metadata": {},
   "source": [
    "{'fname':\"Divesh\",\"lname\":\"Mattigiri\"}"
   ]
  },
  {
   "cell_type": "code",
   "execution_count": 15,
   "id": "5d752fe4",
   "metadata": {},
   "outputs": [
    {
     "name": "stdout",
     "output_type": "stream",
     "text": [
      "His last name is Mattigiri\n",
      "{'fname': 'Divesh', 'lname': 'Mattigiri'}\n"
     ]
    }
   ],
   "source": [
    "my_function(fname = \"Divesh\", lname = \"Mattigiri\")"
   ]
  },
  {
   "cell_type": "markdown",
   "id": "62b0b4aa",
   "metadata": {},
   "source": [
    "### Default Parameter Value\n",
    "\n",
    "The following example shows how to use a default parameter value.\n",
    "\n",
    "If we call the function without argument, it uses the default value"
   ]
  },
  {
   "cell_type": "code",
   "execution_count": 16,
   "id": "ce3e156f",
   "metadata": {},
   "outputs": [],
   "source": [
    "def my_function(country = \"India\"):\n",
    "    print(\"I am from\" , country)"
   ]
  },
  {
   "cell_type": "code",
   "execution_count": 17,
   "id": "a86b4f37",
   "metadata": {},
   "outputs": [
    {
     "name": "stdout",
     "output_type": "stream",
     "text": [
      "I am from Norway\n",
      "I am from Canada\n",
      "I am from India\n",
      "I am from USA\n"
     ]
    }
   ],
   "source": [
    "my_function(\"Norway\")\n",
    "my_function(\"Canada\")\n",
    "my_function()\n",
    "my_function(\"USA\")"
   ]
  },
  {
   "cell_type": "markdown",
   "id": "e8ee18ed",
   "metadata": {},
   "source": [
    "### Passing a List as an Argument\n",
    "\n",
    "You can send any data types of argument to a function (string, number, list, dictionary etc.), and it will be treated as the same data type inside the function.\n",
    "\n",
    "E.g. if you send a List as an argument, it will still be a List when it reaches the function"
   ]
  },
  {
   "cell_type": "code",
   "execution_count": 18,
   "id": "7583018c",
   "metadata": {},
   "outputs": [
    {
     "name": "stdout",
     "output_type": "stream",
     "text": [
      "Mango\n",
      "Apple\n",
      "Orange\n"
     ]
    }
   ],
   "source": [
    "def my_function(food):\n",
    "    for x in food:\n",
    "        print(x)\n",
    "\n",
    "fruits = [\"Mango\", \"Apple\", \"Orange\"]\n",
    "\n",
    "my_function(fruits)"
   ]
  },
  {
   "cell_type": "markdown",
   "id": "9b2f5d9a",
   "metadata": {},
   "source": [
    "### Print Values\n",
    "\n",
    "To display a value, use the print"
   ]
  },
  {
   "cell_type": "code",
   "execution_count": 19,
   "id": "2418a24c",
   "metadata": {},
   "outputs": [],
   "source": [
    "def my_function(x):\n",
    "    print(5 * x)"
   ]
  },
  {
   "cell_type": "code",
   "execution_count": 20,
   "id": "b529b645",
   "metadata": {},
   "outputs": [
    {
     "name": "stdout",
     "output_type": "stream",
     "text": [
      "30\n"
     ]
    }
   ],
   "source": [
    "my_function(6)"
   ]
  },
  {
   "cell_type": "code",
   "execution_count": 21,
   "id": "f69426bb",
   "metadata": {},
   "outputs": [
    {
     "name": "stdout",
     "output_type": "stream",
     "text": [
      "30\n"
     ]
    },
    {
     "data": {
      "text/plain": [
       "NoneType"
      ]
     },
     "execution_count": 21,
     "metadata": {},
     "output_type": "execute_result"
    }
   ],
   "source": [
    "a = my_function(6)\n",
    "type(a)"
   ]
  },
  {
   "cell_type": "code",
   "execution_count": 22,
   "id": "415c2c8f",
   "metadata": {},
   "outputs": [
    {
     "ename": "TypeError",
     "evalue": "unsupported operand type(s) for +: 'NoneType' and 'int'",
     "output_type": "error",
     "traceback": [
      "\u001b[1;31m---------------------------------------------------------------------------\u001b[0m",
      "\u001b[1;31mTypeError\u001b[0m                                 Traceback (most recent call last)",
      "Cell \u001b[1;32mIn[22], line 1\u001b[0m\n\u001b[1;32m----> 1\u001b[0m \u001b[43ma\u001b[49m\u001b[38;5;241;43m+\u001b[39;49m\u001b[38;5;241;43m3\u001b[39;49m\n",
      "\u001b[1;31mTypeError\u001b[0m: unsupported operand type(s) for +: 'NoneType' and 'int'"
     ]
    }
   ],
   "source": [
    "a+3"
   ]
  },
  {
   "cell_type": "markdown",
   "id": "f80a3052",
   "metadata": {},
   "source": [
    "### Return Values\n",
    "\n",
    "To let a function return a value, use the return statement"
   ]
  },
  {
   "cell_type": "code",
   "execution_count": 23,
   "id": "dea2952e",
   "metadata": {},
   "outputs": [],
   "source": [
    "def my_function(x):\n",
    "    return 5 * x"
   ]
  },
  {
   "cell_type": "code",
   "execution_count": 24,
   "id": "f253b561",
   "metadata": {},
   "outputs": [
    {
     "data": {
      "text/plain": [
       "30"
      ]
     },
     "execution_count": 24,
     "metadata": {},
     "output_type": "execute_result"
    }
   ],
   "source": [
    "my_function(6)"
   ]
  },
  {
   "cell_type": "code",
   "execution_count": 25,
   "id": "57a07442",
   "metadata": {},
   "outputs": [
    {
     "name": "stdout",
     "output_type": "stream",
     "text": [
      "30\n"
     ]
    },
    {
     "data": {
      "text/plain": [
       "int"
      ]
     },
     "execution_count": 25,
     "metadata": {},
     "output_type": "execute_result"
    }
   ],
   "source": [
    "a = my_function(6)\n",
    "print(a)\n",
    "type(a)"
   ]
  },
  {
   "cell_type": "code",
   "execution_count": 26,
   "id": "d47cc240",
   "metadata": {},
   "outputs": [
    {
     "data": {
      "text/plain": [
       "33"
      ]
     },
     "execution_count": 26,
     "metadata": {},
     "output_type": "execute_result"
    }
   ],
   "source": [
    "a+3"
   ]
  },
  {
   "cell_type": "markdown",
   "id": "485f203e",
   "metadata": {},
   "source": [
    "### The pass Statement\n",
    "\n",
    "function definitions cannot be empty, but if you for some reason have a function definition with no content, put in the pass statement to avoid getting an error"
   ]
  },
  {
   "cell_type": "code",
   "execution_count": 27,
   "id": "99f40dc5",
   "metadata": {},
   "outputs": [],
   "source": [
    "def myfunction():\n",
    "    pass"
   ]
  },
  {
   "cell_type": "code",
   "execution_count": 28,
   "id": "558930fc",
   "metadata": {},
   "outputs": [],
   "source": [
    "myfunction()"
   ]
  },
  {
   "cell_type": "code",
   "execution_count": 29,
   "id": "b6b0699d",
   "metadata": {},
   "outputs": [],
   "source": [
    "def arthematic(x,y):\n",
    "    a = x+y\n",
    "    b = x-y\n",
    "    return a,b"
   ]
  },
  {
   "cell_type": "code",
   "execution_count": 30,
   "id": "43c14a03",
   "metadata": {},
   "outputs": [
    {
     "data": {
      "text/plain": [
       "(5, -1)"
      ]
     },
     "execution_count": 30,
     "metadata": {},
     "output_type": "execute_result"
    }
   ],
   "source": [
    "arthematic(2,3)"
   ]
  },
  {
   "cell_type": "code",
   "execution_count": 31,
   "id": "0d4ae507",
   "metadata": {},
   "outputs": [
    {
     "name": "stdout",
     "output_type": "stream",
     "text": [
      "5\n",
      "-1\n"
     ]
    }
   ],
   "source": [
    "c,d = arthematic(2,3)\n",
    "print(c)\n",
    "print(d)"
   ]
  },
  {
   "cell_type": "code",
   "execution_count": 32,
   "id": "e8d43a23",
   "metadata": {},
   "outputs": [
    {
     "data": {
      "text/plain": [
       "5"
      ]
     },
     "execution_count": 32,
     "metadata": {},
     "output_type": "execute_result"
    }
   ],
   "source": [
    "k =arthematic(2,3)\n",
    "k[0]"
   ]
  },
  {
   "cell_type": "code",
   "execution_count": 33,
   "id": "7b378e91",
   "metadata": {},
   "outputs": [
    {
     "data": {
      "text/plain": [
       "-1"
      ]
     },
     "execution_count": 33,
     "metadata": {},
     "output_type": "execute_result"
    }
   ],
   "source": [
    "k[1]"
   ]
  },
  {
   "cell_type": "code",
   "execution_count": null,
   "id": "f069267d",
   "metadata": {},
   "outputs": [],
   "source": []
  }
 ],
 "metadata": {
  "kernelspec": {
   "display_name": "Python 3 (ipykernel)",
   "language": "python",
   "name": "python3"
  },
  "language_info": {
   "codemirror_mode": {
    "name": "ipython",
    "version": 3
   },
   "file_extension": ".py",
   "mimetype": "text/x-python",
   "name": "python",
   "nbconvert_exporter": "python",
   "pygments_lexer": "ipython3",
   "version": "3.10.9"
  }
 },
 "nbformat": 4,
 "nbformat_minor": 5
}
