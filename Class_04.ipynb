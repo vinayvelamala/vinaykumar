{
 "cells": [
  {
   "cell_type": "markdown",
   "id": "5d11e468",
   "metadata": {},
   "source": [
    "## Agenda\n",
    "\n",
    "\n",
    "### Operators\n",
    "\n",
    "\n",
    "### 1. Numerical Output Operators\n",
    "\n",
    "    -> Arithmetic Operators\n",
    "\n",
    "\n",
    "### 2. Boolean Output Operators\n",
    "\n",
    "    -> Comparison Operators\n",
    "\n",
    "    -> Relational Operators\n",
    "\n",
    "    -> Membership Operators\n",
    "\n",
    "    -> Identity Operators\n",
    "\n",
    "    -> Logical Operators\n",
    "    \n",
    "    -> Bitwise Operators\n",
    "\n",
    "\n",
    "### 3. Assigning Operators\n",
    "\n",
    "    -> Assignments Operators\n"
   ]
  },
  {
   "cell_type": "markdown",
   "id": "c088bdec",
   "metadata": {},
   "source": [
    "### Operators\n",
    "\n",
    "    -> Based on output, I divided operators into three types\n",
    "    \n",
    "        -> Numerical Output Operators\n",
    "        \n",
    "            -> We see numbers\n",
    "            \n",
    "                -> integer\n",
    "                \n",
    "                -> float\n",
    "                \n",
    "                -> complex\n",
    "        \n",
    "        -> Boolean Output Operators\n",
    "        \n",
    "            -> True\n",
    "            \n",
    "            -> False\n",
    "        \n",
    "        -> Assigning Operators"
   ]
  },
  {
   "cell_type": "markdown",
   "id": "c9940d99",
   "metadata": {},
   "source": [
    "### Operators:\n",
    "    \n",
    "    -> logic or decision making"
   ]
  },
  {
   "cell_type": "markdown",
   "id": "f7eb474a",
   "metadata": {},
   "source": [
    "### 1. Numerical Output Operators\n",
    "\n",
    "#### 1.1 Arithmetic Operators\n"
   ]
  },
  {
   "cell_type": "markdown",
   "id": "4e16a70f",
   "metadata": {},
   "source": [
    "#### Assigning value to variable name"
   ]
  },
  {
   "cell_type": "code",
   "execution_count": 1,
   "id": "fd5078ff",
   "metadata": {},
   "outputs": [],
   "source": [
    "a = 6\n",
    "b = 5"
   ]
  },
  {
   "cell_type": "markdown",
   "id": "85418231",
   "metadata": {},
   "source": [
    "##### 1.1.1 Addition\n",
    "            \n",
    "    -> representation is +"
   ]
  },
  {
   "cell_type": "code",
   "execution_count": 2,
   "id": "c3889fc1",
   "metadata": {},
   "outputs": [
    {
     "data": {
      "text/plain": [
       "11"
      ]
     },
     "execution_count": 2,
     "metadata": {},
     "output_type": "execute_result"
    }
   ],
   "source": [
    "c = a+b\n",
    "c"
   ]
  },
  {
   "cell_type": "code",
   "execution_count": 3,
   "id": "3d9e395e",
   "metadata": {},
   "outputs": [
    {
     "data": {
      "text/plain": [
       "7.0"
      ]
     },
     "execution_count": 3,
     "metadata": {},
     "output_type": "execute_result"
    }
   ],
   "source": [
    "2.0 + 5"
   ]
  },
  {
   "cell_type": "markdown",
   "id": "00357cad",
   "metadata": {},
   "source": [
    "##### 1.1.2 Subtraction\n",
    "        \n",
    "    -> representation is -"
   ]
  },
  {
   "cell_type": "code",
   "execution_count": 4,
   "id": "b1daa7b0",
   "metadata": {},
   "outputs": [
    {
     "name": "stdout",
     "output_type": "stream",
     "text": [
      "1\n"
     ]
    }
   ],
   "source": [
    "print(a-b)"
   ]
  },
  {
   "cell_type": "markdown",
   "id": "1025ef35",
   "metadata": {},
   "source": [
    "##### 1.1.3 Multiplication\n",
    "        \n",
    "    -> representation is *"
   ]
  },
  {
   "cell_type": "code",
   "execution_count": 5,
   "id": "3ee7e62c",
   "metadata": {},
   "outputs": [
    {
     "data": {
      "text/plain": [
       "30"
      ]
     },
     "execution_count": 5,
     "metadata": {},
     "output_type": "execute_result"
    }
   ],
   "source": [
    "a*b"
   ]
  },
  {
   "cell_type": "code",
   "execution_count": 6,
   "id": "969bc7a3",
   "metadata": {},
   "outputs": [
    {
     "data": {
      "text/plain": [
       "6.0"
      ]
     },
     "execution_count": 6,
     "metadata": {},
     "output_type": "execute_result"
    }
   ],
   "source": [
    "1.2 * 5"
   ]
  },
  {
   "cell_type": "code",
   "execution_count": 7,
   "id": "ea4dcb44",
   "metadata": {},
   "outputs": [
    {
     "data": {
      "text/plain": [
       "6"
      ]
     },
     "execution_count": 7,
     "metadata": {},
     "output_type": "execute_result"
    }
   ],
   "source": [
    "int(1.2*5)"
   ]
  },
  {
   "cell_type": "markdown",
   "id": "536c753c",
   "metadata": {},
   "source": [
    "##### 1.1.4 Division\n",
    "        \n",
    "    -> representation is /\n",
    "            \n",
    "    Note*: When we apply division value type is float"
   ]
  },
  {
   "cell_type": "code",
   "execution_count": 8,
   "id": "33ff399a",
   "metadata": {},
   "outputs": [
    {
     "data": {
      "text/plain": [
       "1.2"
      ]
     },
     "execution_count": 8,
     "metadata": {},
     "output_type": "execute_result"
    }
   ],
   "source": [
    "a/b"
   ]
  },
  {
   "cell_type": "code",
   "execution_count": 9,
   "id": "3c40d5a0",
   "metadata": {},
   "outputs": [
    {
     "data": {
      "text/plain": [
       "2.0"
      ]
     },
     "execution_count": 9,
     "metadata": {},
     "output_type": "execute_result"
    }
   ],
   "source": [
    "4/2 "
   ]
  },
  {
   "cell_type": "markdown",
   "id": "ac1eb648",
   "metadata": {},
   "source": [
    "##### 1.1.5 Floor Division\n",
    "        \n",
    "    -> representation is //\n",
    "            \n",
    "    Note*: \n",
    "                \n",
    "        => It works like division\n",
    "                \n",
    "        => Output value is integer and Float"
   ]
  },
  {
   "cell_type": "code",
   "execution_count": 10,
   "id": "2986d3e9",
   "metadata": {},
   "outputs": [
    {
     "data": {
      "text/plain": [
       "3"
      ]
     },
     "execution_count": 10,
     "metadata": {},
     "output_type": "execute_result"
    }
   ],
   "source": [
    "6//2"
   ]
  },
  {
   "cell_type": "code",
   "execution_count": 11,
   "id": "39035409",
   "metadata": {},
   "outputs": [
    {
     "data": {
      "text/plain": [
       "2"
      ]
     },
     "execution_count": 11,
     "metadata": {},
     "output_type": "execute_result"
    }
   ],
   "source": [
    "5//2"
   ]
  },
  {
   "cell_type": "code",
   "execution_count": 12,
   "id": "49d803e5",
   "metadata": {},
   "outputs": [
    {
     "data": {
      "text/plain": [
       "1.0"
      ]
     },
     "execution_count": 12,
     "metadata": {},
     "output_type": "execute_result"
    }
   ],
   "source": [
    "3.8//3"
   ]
  },
  {
   "cell_type": "markdown",
   "id": "fb9e1d62",
   "metadata": {},
   "source": [
    "##### 1.1.6 Modulus\n",
    "        \n",
    "    -> representation is %\n",
    "            \n",
    "    Note*\n",
    "            \n",
    "        => Output value is reminder"
   ]
  },
  {
   "cell_type": "code",
   "execution_count": 13,
   "id": "13ed11db",
   "metadata": {},
   "outputs": [
    {
     "data": {
      "text/plain": [
       "1"
      ]
     },
     "execution_count": 13,
     "metadata": {},
     "output_type": "execute_result"
    }
   ],
   "source": [
    "5%2"
   ]
  },
  {
   "cell_type": "code",
   "execution_count": 14,
   "id": "d601384b",
   "metadata": {},
   "outputs": [
    {
     "data": {
      "text/plain": [
       "5"
      ]
     },
     "execution_count": 14,
     "metadata": {},
     "output_type": "execute_result"
    }
   ],
   "source": [
    "5%6"
   ]
  },
  {
   "cell_type": "code",
   "execution_count": 15,
   "id": "06e823e4",
   "metadata": {},
   "outputs": [
    {
     "data": {
      "text/plain": [
       "1"
      ]
     },
     "execution_count": 15,
     "metadata": {},
     "output_type": "execute_result"
    }
   ],
   "source": [
    "6%5"
   ]
  },
  {
   "cell_type": "code",
   "execution_count": 16,
   "id": "1a47205e",
   "metadata": {},
   "outputs": [
    {
     "data": {
      "text/plain": [
       "2"
      ]
     },
     "execution_count": 16,
     "metadata": {},
     "output_type": "execute_result"
    }
   ],
   "source": [
    "2%5"
   ]
  },
  {
   "cell_type": "code",
   "execution_count": 17,
   "id": "6afcfeaa",
   "metadata": {},
   "outputs": [
    {
     "data": {
      "text/plain": [
       "0.5"
      ]
     },
     "execution_count": 17,
     "metadata": {},
     "output_type": "execute_result"
    }
   ],
   "source": [
    "2.5%2"
   ]
  },
  {
   "cell_type": "code",
   "execution_count": 18,
   "id": "18f9dbd5",
   "metadata": {},
   "outputs": [
    {
     "data": {
      "text/plain": [
       "1.0"
      ]
     },
     "execution_count": 18,
     "metadata": {},
     "output_type": "execute_result"
    }
   ],
   "source": [
    "3.0%2"
   ]
  },
  {
   "cell_type": "markdown",
   "id": "dfaf6551",
   "metadata": {},
   "source": [
    "##### 1.1.7 Exponential / Power\n",
    "        \n",
    "    -> representation is **"
   ]
  },
  {
   "cell_type": "code",
   "execution_count": 19,
   "id": "effdaf8d",
   "metadata": {},
   "outputs": [
    {
     "data": {
      "text/plain": [
       "4"
      ]
     },
     "execution_count": 19,
     "metadata": {},
     "output_type": "execute_result"
    }
   ],
   "source": [
    "2**2"
   ]
  },
  {
   "cell_type": "code",
   "execution_count": 20,
   "id": "4cb81dd5",
   "metadata": {},
   "outputs": [
    {
     "data": {
      "text/plain": [
       "27"
      ]
     },
     "execution_count": 20,
     "metadata": {},
     "output_type": "execute_result"
    }
   ],
   "source": [
    "# 3*3*3\n",
    "3**3"
   ]
  },
  {
   "cell_type": "markdown",
   "id": "8ff63b44",
   "metadata": {},
   "source": [
    "### 2. Boolean Output\n",
    "    \n",
    "    -> Comparison Operator\n",
    "    \n",
    "    -> Relational Operators\n",
    "    \n",
    "    -> Membership Operators\n",
    "    \n",
    "    -> Identical operator\n",
    "        \n",
    "    -> Logical Operator"
   ]
  },
  {
   "cell_type": "markdown",
   "id": "a23eb181",
   "metadata": {},
   "source": [
    "-> These operators first check the datatype if it is matched then only it checks value\n",
    "\n",
    "-> Data types\n",
    "\n",
    "    -> numerical datatype\n",
    "    \n",
    "        -> int\n",
    "        \n",
    "        -> float\n",
    "        \n",
    "        -> complex\n",
    "        \n",
    "    -> string"
   ]
  },
  {
   "cell_type": "markdown",
   "id": "ce1a06e5",
   "metadata": {},
   "source": [
    "#### 2.1 Comparision Operators\n",
    "    \n",
    "##### 2.1.1 Equal to Equal to\n",
    "        \n",
    "    -> represent by ==\n",
    "        \n",
    "###### Examples:"
   ]
  },
  {
   "cell_type": "code",
   "execution_count": 21,
   "id": "74a61b2e",
   "metadata": {},
   "outputs": [
    {
     "data": {
      "text/plain": [
       "True"
      ]
     },
     "execution_count": 21,
     "metadata": {},
     "output_type": "execute_result"
    }
   ],
   "source": [
    "2 == 2.0"
   ]
  },
  {
   "cell_type": "code",
   "execution_count": 22,
   "id": "8a000108",
   "metadata": {},
   "outputs": [
    {
     "data": {
      "text/plain": [
       "False"
      ]
     },
     "execution_count": 22,
     "metadata": {},
     "output_type": "execute_result"
    }
   ],
   "source": [
    "2 == '2'"
   ]
  },
  {
   "cell_type": "code",
   "execution_count": 23,
   "id": "fba7c872",
   "metadata": {},
   "outputs": [
    {
     "data": {
      "text/plain": [
       "False"
      ]
     },
     "execution_count": 23,
     "metadata": {},
     "output_type": "execute_result"
    }
   ],
   "source": [
    "2 == 2.0001"
   ]
  },
  {
   "cell_type": "markdown",
   "id": "95276ef3",
   "metadata": {},
   "source": [
    "##### 2.1.2 Not Equal to\n",
    "        \n",
    "    -> represent by !=\n",
    "    \n",
    "###### Examples:"
   ]
  },
  {
   "cell_type": "code",
   "execution_count": 24,
   "id": "20681761",
   "metadata": {},
   "outputs": [
    {
     "data": {
      "text/plain": [
       "True"
      ]
     },
     "execution_count": 24,
     "metadata": {},
     "output_type": "execute_result"
    }
   ],
   "source": [
    "2 != 2.01"
   ]
  },
  {
   "cell_type": "code",
   "execution_count": 25,
   "id": "12aecc39",
   "metadata": {},
   "outputs": [
    {
     "data": {
      "text/plain": [
       "False"
      ]
     },
     "execution_count": 25,
     "metadata": {},
     "output_type": "execute_result"
    }
   ],
   "source": [
    "2 != 2"
   ]
  },
  {
   "cell_type": "markdown",
   "id": "fe595a95",
   "metadata": {},
   "source": [
    "#### 2.2 Relational Operators"
   ]
  },
  {
   "cell_type": "markdown",
   "id": "8cdf0162",
   "metadata": {},
   "source": [
    "##### 2.2.1 Less than\n",
    "        \n",
    "    -> represent by <\n",
    "    \n",
    "###### Examples:"
   ]
  },
  {
   "cell_type": "code",
   "execution_count": 26,
   "id": "c600e23b",
   "metadata": {},
   "outputs": [
    {
     "data": {
      "text/plain": [
       "True"
      ]
     },
     "execution_count": 26,
     "metadata": {},
     "output_type": "execute_result"
    }
   ],
   "source": [
    "2 < 9"
   ]
  },
  {
   "cell_type": "code",
   "execution_count": 27,
   "id": "0f3b032f",
   "metadata": {},
   "outputs": [
    {
     "data": {
      "text/plain": [
       "False"
      ]
     },
     "execution_count": 27,
     "metadata": {},
     "output_type": "execute_result"
    }
   ],
   "source": [
    "2 < 2"
   ]
  },
  {
   "cell_type": "markdown",
   "id": "26905574",
   "metadata": {},
   "source": [
    "##### 2.2.2 Greater than\n",
    "        \n",
    "    -> represent by >\n",
    "    \n",
    "###### Examples:"
   ]
  },
  {
   "cell_type": "code",
   "execution_count": 28,
   "id": "c32da994",
   "metadata": {},
   "outputs": [
    {
     "data": {
      "text/plain": [
       "True"
      ]
     },
     "execution_count": 28,
     "metadata": {},
     "output_type": "execute_result"
    }
   ],
   "source": [
    "85412 > 8522"
   ]
  },
  {
   "cell_type": "code",
   "execution_count": 29,
   "id": "3d485f9d",
   "metadata": {},
   "outputs": [
    {
     "data": {
      "text/plain": [
       "False"
      ]
     },
     "execution_count": 29,
     "metadata": {},
     "output_type": "execute_result"
    }
   ],
   "source": [
    "5 > 5"
   ]
  },
  {
   "cell_type": "code",
   "execution_count": 30,
   "id": "bf3d2196",
   "metadata": {},
   "outputs": [
    {
     "data": {
      "text/plain": [
       "True"
      ]
     },
     "execution_count": 30,
     "metadata": {},
     "output_type": "execute_result"
    }
   ],
   "source": [
    "5.000001 > 5"
   ]
  },
  {
   "cell_type": "markdown",
   "id": "a0f1c247",
   "metadata": {},
   "source": [
    "##### 2.2.3 Less than or equal to\n",
    "        \n",
    "    -> represent by <=\n",
    "    \n",
    "###### Examples:"
   ]
  },
  {
   "cell_type": "code",
   "execution_count": 31,
   "id": "598897b5",
   "metadata": {},
   "outputs": [
    {
     "data": {
      "text/plain": [
       "True"
      ]
     },
     "execution_count": 31,
     "metadata": {},
     "output_type": "execute_result"
    }
   ],
   "source": [
    "2 <= 2.0"
   ]
  },
  {
   "cell_type": "markdown",
   "id": "0bd7ad6a",
   "metadata": {},
   "source": [
    "##### 2.2.4 Greater than or equal to\n",
    "        \n",
    "    -> represent by >=\n",
    "    \n",
    "###### Examples:"
   ]
  },
  {
   "cell_type": "code",
   "execution_count": 32,
   "id": "c3124e69",
   "metadata": {},
   "outputs": [
    {
     "data": {
      "text/plain": [
       "False"
      ]
     },
     "execution_count": 32,
     "metadata": {},
     "output_type": "execute_result"
    }
   ],
   "source": [
    "851 >= 856321"
   ]
  },
  {
   "cell_type": "markdown",
   "id": "84dbe176",
   "metadata": {},
   "source": [
    "#### 2.3 Membership Operators"
   ]
  },
  {
   "cell_type": "markdown",
   "id": "be751400",
   "metadata": {},
   "source": [
    "We are checking the value in the set of values\n",
    "\n",
    "    -> in\n",
    "    \n",
    "    -> not in"
   ]
  },
  {
   "cell_type": "markdown",
   "id": "596d0977",
   "metadata": {},
   "source": [
    "##### 2.3.1 in      \n",
    "\n",
    "    => there\n",
    "    \n",
    "###### Examples: "
   ]
  },
  {
   "cell_type": "code",
   "execution_count": 33,
   "id": "a06322e3",
   "metadata": {},
   "outputs": [
    {
     "data": {
      "text/plain": [
       "False"
      ]
     },
     "execution_count": 33,
     "metadata": {},
     "output_type": "execute_result"
    }
   ],
   "source": [
    "'i' in 'INDIA'"
   ]
  },
  {
   "cell_type": "code",
   "execution_count": 34,
   "id": "671de544",
   "metadata": {},
   "outputs": [
    {
     "data": {
      "text/plain": [
       "True"
      ]
     },
     "execution_count": 34,
     "metadata": {},
     "output_type": "execute_result"
    }
   ],
   "source": [
    "2 in [1,5,1,2.0]"
   ]
  },
  {
   "cell_type": "markdown",
   "id": "de9db9fe",
   "metadata": {},
   "source": [
    "##### 2.3.2 not in      \n",
    "\n",
    "    => not there\n",
    "    \n",
    "###### Examples: "
   ]
  },
  {
   "cell_type": "code",
   "execution_count": 35,
   "id": "92fba29e",
   "metadata": {},
   "outputs": [
    {
     "data": {
      "text/plain": [
       "True"
      ]
     },
     "execution_count": 35,
     "metadata": {},
     "output_type": "execute_result"
    }
   ],
   "source": [
    "2 not in ['2',4,5,8,4]"
   ]
  },
  {
   "cell_type": "markdown",
   "id": "6b6ceace",
   "metadata": {},
   "source": [
    "#### 2.4 Identity Operators\n",
    "\n",
    "    -> Must looks like same\n",
    "\n",
    "    -> is\n",
    "    \n",
    "    -> is not"
   ]
  },
  {
   "cell_type": "markdown",
   "id": "f09e89eb",
   "metadata": {},
   "source": [
    "##### 2.4.1 is\n",
    "\n",
    "###### Example:"
   ]
  },
  {
   "cell_type": "code",
   "execution_count": 36,
   "id": "d8031227",
   "metadata": {},
   "outputs": [
    {
     "name": "stderr",
     "output_type": "stream",
     "text": [
      "<>:1: SyntaxWarning: \"is\" with a literal. Did you mean \"==\"?\n",
      "<>:1: SyntaxWarning: \"is\" with a literal. Did you mean \"==\"?\n",
      "C:\\Users\\divesh\\AppData\\Local\\Temp\\ipykernel_29288\\700261715.py:1: SyntaxWarning: \"is\" with a literal. Did you mean \"==\"?\n",
      "  2 is 2.0\n"
     ]
    },
    {
     "data": {
      "text/plain": [
       "False"
      ]
     },
     "execution_count": 36,
     "metadata": {},
     "output_type": "execute_result"
    }
   ],
   "source": [
    "2 is 2.0"
   ]
  },
  {
   "cell_type": "markdown",
   "id": "ebb84ae5",
   "metadata": {},
   "source": [
    "##### 2.4.2 is not\n",
    "\n",
    "###### Example:"
   ]
  },
  {
   "cell_type": "code",
   "execution_count": 37,
   "id": "91f820a8",
   "metadata": {},
   "outputs": [
    {
     "name": "stderr",
     "output_type": "stream",
     "text": [
      "<>:1: SyntaxWarning: \"is not\" with a literal. Did you mean \"!=\"?\n",
      "<>:1: SyntaxWarning: \"is not\" with a literal. Did you mean \"!=\"?\n",
      "C:\\Users\\divesh\\AppData\\Local\\Temp\\ipykernel_29288\\3071503370.py:1: SyntaxWarning: \"is not\" with a literal. Did you mean \"!=\"?\n",
      "  2 is not '2'\n"
     ]
    },
    {
     "data": {
      "text/plain": [
       "True"
      ]
     },
     "execution_count": 37,
     "metadata": {},
     "output_type": "execute_result"
    }
   ],
   "source": [
    "2 is not '2'"
   ]
  },
  {
   "cell_type": "markdown",
   "id": "1570a787",
   "metadata": {},
   "source": [
    "#### 2.5 Logical Operators\n",
    "\n",
    "    -> and  => must\n",
    "    \n",
    "    -> or   => either\n",
    "    \n",
    "    -> not  => Opposite"
   ]
  },
  {
   "cell_type": "markdown",
   "id": "59a264f1",
   "metadata": {},
   "source": [
    "and    or\n",
    "\n",
    "-> to apply these two operators we required a two condition"
   ]
  },
  {
   "cell_type": "markdown",
   "id": "d9cbaa05",
   "metadata": {},
   "source": [
    "### Restaurant\n",
    "\n",
    "-> Wear shoe\n",
    "\n",
    "-> Comeup with blue\n",
    "\n",
    "    -> weekday\n",
    "    \n",
    "        -> either one condition need to statsfy\n",
    "        \n",
    "        -> or\n",
    "    \n",
    "    -> weekend\n",
    "    \n",
    "        -> both conditions need to statisfy\n",
    "        \n",
    "        -> and"
   ]
  },
  {
   "cell_type": "markdown",
   "id": "4a65422e",
   "metadata": {},
   "source": [
    "a -> wear shoe\n",
    "\n",
    "b -> blue clothes\n",
    "\n",
    "c -> entrance or no entrance"
   ]
  },
  {
   "cell_type": "markdown",
   "id": "b2c8a9e7",
   "metadata": {},
   "source": [
    "### weekday -> or => either"
   ]
  },
  {
   "cell_type": "raw",
   "id": "35458bbd",
   "metadata": {},
   "source": [
    "a        b        c\n",
    "\n",
    "T        T        T\n",
    "\n",
    "T        F        T\n",
    "\n",
    "F        T        T\n",
    "\n",
    "F        F        F"
   ]
  },
  {
   "cell_type": "markdown",
   "id": "316ab996",
   "metadata": {},
   "source": [
    "### weekend -> and => must"
   ]
  },
  {
   "cell_type": "raw",
   "id": "eb2b55a8",
   "metadata": {},
   "source": [
    "a        b        c\n",
    "\n",
    "T        T        T\n",
    "\n",
    "T        F        F\n",
    "\n",
    "F        T        F\n",
    "\n",
    "F        F        F"
   ]
  },
  {
   "cell_type": "code",
   "execution_count": 38,
   "id": "ae2b8372",
   "metadata": {},
   "outputs": [
    {
     "data": {
      "text/plain": [
       "False"
      ]
     },
     "execution_count": 38,
     "metadata": {},
     "output_type": "execute_result"
    }
   ],
   "source": [
    "2>6"
   ]
  },
  {
   "cell_type": "code",
   "execution_count": 39,
   "id": "2f5d9243",
   "metadata": {},
   "outputs": [
    {
     "data": {
      "text/plain": [
       "True"
      ]
     },
     "execution_count": 39,
     "metadata": {},
     "output_type": "execute_result"
    }
   ],
   "source": [
    "2<6"
   ]
  },
  {
   "cell_type": "code",
   "execution_count": 40,
   "id": "d8840c43",
   "metadata": {},
   "outputs": [
    {
     "data": {
      "text/plain": [
       "True"
      ]
     },
     "execution_count": 40,
     "metadata": {},
     "output_type": "execute_result"
    }
   ],
   "source": [
    "2==2"
   ]
  },
  {
   "cell_type": "code",
   "execution_count": 41,
   "id": "6aa938b3",
   "metadata": {},
   "outputs": [
    {
     "data": {
      "text/plain": [
       "True"
      ]
     },
     "execution_count": 41,
     "metadata": {},
     "output_type": "execute_result"
    }
   ],
   "source": [
    "2==2 and 2<6"
   ]
  },
  {
   "cell_type": "code",
   "execution_count": 42,
   "id": "1909582b",
   "metadata": {},
   "outputs": [
    {
     "data": {
      "text/plain": [
       "False"
      ]
     },
     "execution_count": 42,
     "metadata": {},
     "output_type": "execute_result"
    }
   ],
   "source": [
    "2>6 and 2<6"
   ]
  },
  {
   "cell_type": "code",
   "execution_count": 43,
   "id": "bcef143b",
   "metadata": {},
   "outputs": [
    {
     "data": {
      "text/plain": [
       "True"
      ]
     },
     "execution_count": 43,
     "metadata": {},
     "output_type": "execute_result"
    }
   ],
   "source": [
    "2>6 or 2<6"
   ]
  },
  {
   "cell_type": "code",
   "execution_count": 44,
   "id": "5c58321f",
   "metadata": {},
   "outputs": [
    {
     "data": {
      "text/plain": [
       "False"
      ]
     },
     "execution_count": 44,
     "metadata": {},
     "output_type": "execute_result"
    }
   ],
   "source": [
    "2>6 and 2>6"
   ]
  },
  {
   "cell_type": "markdown",
   "id": "5ec7ae13",
   "metadata": {},
   "source": [
    "### not -> Opposite"
   ]
  },
  {
   "cell_type": "code",
   "execution_count": 45,
   "id": "dc55c2e9",
   "metadata": {},
   "outputs": [
    {
     "data": {
      "text/plain": [
       "False"
      ]
     },
     "execution_count": 45,
     "metadata": {},
     "output_type": "execute_result"
    }
   ],
   "source": [
    "2>6"
   ]
  },
  {
   "cell_type": "code",
   "execution_count": 46,
   "id": "11d90c0a",
   "metadata": {},
   "outputs": [
    {
     "data": {
      "text/plain": [
       "True"
      ]
     },
     "execution_count": 46,
     "metadata": {},
     "output_type": "execute_result"
    }
   ],
   "source": [
    "not 2>6"
   ]
  },
  {
   "cell_type": "code",
   "execution_count": 47,
   "id": "860a758e",
   "metadata": {},
   "outputs": [
    {
     "data": {
      "text/plain": [
       "True"
      ]
     },
     "execution_count": 47,
     "metadata": {},
     "output_type": "execute_result"
    }
   ],
   "source": [
    "2<6"
   ]
  },
  {
   "cell_type": "code",
   "execution_count": 48,
   "id": "85f0b149",
   "metadata": {},
   "outputs": [
    {
     "data": {
      "text/plain": [
       "False"
      ]
     },
     "execution_count": 48,
     "metadata": {},
     "output_type": "execute_result"
    }
   ],
   "source": [
    "not 2<6"
   ]
  },
  {
   "cell_type": "markdown",
   "id": "15364d87",
   "metadata": {},
   "source": [
    "### 2.6 Python Bitwise Operators"
   ]
  },
  {
   "cell_type": "code",
   "execution_count": 54,
   "id": "7eddceeb",
   "metadata": {},
   "outputs": [],
   "source": [
    "a = 10\n",
    "b = 4"
   ]
  },
  {
   "cell_type": "raw",
   "id": "d71874bb",
   "metadata": {},
   "source": [
    "a = 10 = 1010 (Binary)\n",
    "b =  4 = 0100 (Binary)"
   ]
  },
  {
   "cell_type": "markdown",
   "id": "72aa68d7",
   "metadata": {},
   "source": [
    "#### Bitwise AND\n",
    "\n",
    "    -> Returns 1 if both the bits are 1 else 0."
   ]
  },
  {
   "cell_type": "code",
   "execution_count": 55,
   "id": "8b0a378f",
   "metadata": {},
   "outputs": [
    {
     "data": {
      "text/plain": [
       "0"
      ]
     },
     "execution_count": 55,
     "metadata": {},
     "output_type": "execute_result"
    }
   ],
   "source": [
    "a & b"
   ]
  },
  {
   "cell_type": "raw",
   "id": "430f7341",
   "metadata": {},
   "source": [
    "a  =  1 0 1 0  => T F T F\n",
    "\n",
    "b  =  0 1 0 0  => F T F F\n",
    "\n",
    "-------------------------\n",
    "\n",
    "&  =  0 0 0 0  => F F F F"
   ]
  },
  {
   "cell_type": "markdown",
   "id": "5f78938b",
   "metadata": {},
   "source": [
    "#### Bitwise OR\n",
    "\n",
    "    -> Returns 1 if either of the bit is 1 else 0."
   ]
  },
  {
   "cell_type": "code",
   "execution_count": 56,
   "id": "037f447a",
   "metadata": {},
   "outputs": [
    {
     "data": {
      "text/plain": [
       "14"
      ]
     },
     "execution_count": 56,
     "metadata": {},
     "output_type": "execute_result"
    }
   ],
   "source": [
    "a | b"
   ]
  },
  {
   "cell_type": "raw",
   "id": "631cb4d5",
   "metadata": {},
   "source": [
    "a  =  1 0 1 0  => T F T F\n",
    "\n",
    "b  =  0 1 0 0  => F T F F\n",
    "\n",
    "-------------------------\n",
    "|  =  1 1 1 0  => T T T F"
   ]
  },
  {
   "cell_type": "markdown",
   "id": "1267f0c8",
   "metadata": {},
   "source": [
    "#### Bitwise NOT\n",
    "\n",
    "    -> Returns one’s complement of the number."
   ]
  },
  {
   "cell_type": "code",
   "execution_count": 57,
   "id": "f044431a",
   "metadata": {},
   "outputs": [
    {
     "data": {
      "text/plain": [
       "10"
      ]
     },
     "execution_count": 57,
     "metadata": {},
     "output_type": "execute_result"
    }
   ],
   "source": [
    "a"
   ]
  },
  {
   "cell_type": "code",
   "execution_count": 58,
   "id": "8cad9485",
   "metadata": {},
   "outputs": [
    {
     "data": {
      "text/plain": [
       "-11"
      ]
     },
     "execution_count": 58,
     "metadata": {},
     "output_type": "execute_result"
    }
   ],
   "source": [
    "~a"
   ]
  },
  {
   "cell_type": "code",
   "execution_count": 59,
   "id": "424a058b",
   "metadata": {},
   "outputs": [
    {
     "data": {
      "text/plain": [
       "-4"
      ]
     },
     "execution_count": 59,
     "metadata": {},
     "output_type": "execute_result"
    }
   ],
   "source": [
    "~3"
   ]
  },
  {
   "cell_type": "raw",
   "id": "284e7bf5",
   "metadata": {},
   "source": [
    "a = 10 = 1010 (Binary)\n",
    "\n",
    "~a = ~1010\n",
    "\n",
    "   = -(1010 + 1)\n",
    "   \n",
    "   = -(1011)\n",
    "   \n",
    "   = -11 (Decimal)"
   ]
  },
  {
   "cell_type": "markdown",
   "id": "8996ac5f",
   "metadata": {},
   "source": [
    "#### Bitwise XOR\n",
    "\n",
    "    -> Returns 1 if one of the bits is 1 and the other is 0 else returns false."
   ]
  },
  {
   "cell_type": "code",
   "execution_count": null,
   "id": "b279884f",
   "metadata": {},
   "outputs": [],
   "source": [
    "a ^ b"
   ]
  },
  {
   "cell_type": "raw",
   "id": "52b743b0",
   "metadata": {},
   "source": [
    "a  =  1 0 1 0\n",
    "\n",
    "b  =  0 1 0 0\n",
    "\n",
    "^  =  1 1 1 0"
   ]
  },
  {
   "cell_type": "markdown",
   "id": "127df02d",
   "metadata": {},
   "source": [
    "#### 3. Assignment Operators\n",
    "\n",
    "    -> represents by using ="
   ]
  },
  {
   "cell_type": "markdown",
   "id": "b743978c",
   "metadata": {},
   "source": [
    "We are assigning a value to variable name"
   ]
  },
  {
   "cell_type": "code",
   "execution_count": 49,
   "id": "67c493f3",
   "metadata": {},
   "outputs": [],
   "source": [
    "i = 1"
   ]
  },
  {
   "cell_type": "code",
   "execution_count": 50,
   "id": "9ca7fc4c",
   "metadata": {},
   "outputs": [
    {
     "data": {
      "text/plain": [
       "2"
      ]
     },
     "execution_count": 50,
     "metadata": {},
     "output_type": "execute_result"
    }
   ],
   "source": [
    "i = i+1\n",
    "i"
   ]
  },
  {
   "cell_type": "code",
   "execution_count": 51,
   "id": "db4a6358",
   "metadata": {},
   "outputs": [
    {
     "data": {
      "text/plain": [
       "3"
      ]
     },
     "execution_count": 51,
     "metadata": {},
     "output_type": "execute_result"
    }
   ],
   "source": [
    "# i = i+1\n",
    "i+=1\n",
    "i"
   ]
  },
  {
   "cell_type": "code",
   "execution_count": 52,
   "id": "3a422a16",
   "metadata": {},
   "outputs": [
    {
     "data": {
      "text/plain": [
       "2"
      ]
     },
     "execution_count": 52,
     "metadata": {},
     "output_type": "execute_result"
    }
   ],
   "source": [
    "# i = i-1\n",
    "i-=1\n",
    "i"
   ]
  },
  {
   "cell_type": "code",
   "execution_count": 53,
   "id": "89198b81",
   "metadata": {},
   "outputs": [
    {
     "data": {
      "text/plain": [
       "12"
      ]
     },
     "execution_count": 53,
     "metadata": {},
     "output_type": "execute_result"
    }
   ],
   "source": [
    "#i = i*6\n",
    "i*=6\n",
    "i"
   ]
  },
  {
   "cell_type": "code",
   "execution_count": null,
   "id": "3aefbb19",
   "metadata": {},
   "outputs": [],
   "source": []
  }
 ],
 "metadata": {
  "kernelspec": {
   "display_name": "Python 3 (ipykernel)",
   "language": "python",
   "name": "python3"
  },
  "language_info": {
   "codemirror_mode": {
    "name": "ipython",
    "version": 3
   },
   "file_extension": ".py",
   "mimetype": "text/x-python",
   "name": "python",
   "nbconvert_exporter": "python",
   "pygments_lexer": "ipython3",
   "version": "3.10.9"
  }
 },
 "nbformat": 4,
 "nbformat_minor": 5
}
