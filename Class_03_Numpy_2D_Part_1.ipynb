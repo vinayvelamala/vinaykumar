{
 "cells": [
  {
   "cell_type": "code",
   "execution_count": 1,
   "id": "494aba62",
   "metadata": {},
   "outputs": [],
   "source": [
    "def array_info(ar):\n",
    "    print(\"Dimmension of the Array:\",ar.ndim)\n",
    "    print(\"Shape of the Array:\",ar.shape)\n",
    "    print(\"Data Type:\",type(ar))\n",
    "    print(\"Number of elements in the Array:\",ar.size)\n",
    "    print(\"Elements Data Type:\", ar.dtype)\n",
    "    print(\"Memory allogation of Each Element:\", ar.itemsize)\n",
    "    print(\"Total Elements Memory allogation:\", ar.nbytes)\n",
    "    display(ar)"
   ]
  },
  {
   "cell_type": "code",
   "execution_count": 2,
   "id": "6d0ea183",
   "metadata": {},
   "outputs": [],
   "source": [
    "import numpy as np"
   ]
  },
  {
   "cell_type": "code",
   "execution_count": 3,
   "id": "ba309420",
   "metadata": {},
   "outputs": [
    {
     "data": {
      "text/plain": [
       "array([[1, 5, 4],\n",
       "       [6, 5, 4],\n",
       "       [8, 4, 6]])"
      ]
     },
     "execution_count": 3,
     "metadata": {},
     "output_type": "execute_result"
    }
   ],
   "source": [
    "arr = np.array([[1,5,4],[6,5,4],[8,4,6]])\n",
    "arr"
   ]
  },
  {
   "cell_type": "code",
   "execution_count": 4,
   "id": "af8cc26e",
   "metadata": {},
   "outputs": [
    {
     "name": "stdout",
     "output_type": "stream",
     "text": [
      "Dimmension of the Array: 2\n",
      "Shape of the Array: (3, 3)\n",
      "Data Type: <class 'numpy.ndarray'>\n",
      "Number of elements in the Array: 9\n",
      "Elements Data Type: int32\n",
      "Memory allogation of Each Element: 4\n",
      "Total Elements Memory allogation: 36\n"
     ]
    },
    {
     "data": {
      "text/plain": [
       "array([[1, 5, 4],\n",
       "       [6, 5, 4],\n",
       "       [8, 4, 6]])"
      ]
     },
     "metadata": {},
     "output_type": "display_data"
    }
   ],
   "source": [
    "array_info(arr)"
   ]
  },
  {
   "cell_type": "raw",
   "id": "98f18058",
   "metadata": {},
   "source": [
    "          c0         c1         c2    \n",
    "\n",
    "\n",
    "r0        1          5          4               arr[0,0]         arr[0,1]         arr[0,2]\n",
    "\n",
    "\n",
    "\n",
    "r1        6          5          4      =        arr[1,0]         arr[1,1]         arr[1,2]\n",
    "\n",
    "\n",
    "\n",
    "r2        8          4          6               arr[2,0]         arr[2,1]         arr[2,2]"
   ]
  },
  {
   "cell_type": "code",
   "execution_count": 5,
   "id": "44c750ff",
   "metadata": {},
   "outputs": [
    {
     "data": {
      "text/plain": [
       "array([[1, 5, 4],\n",
       "       [6, 5, 4],\n",
       "       [8, 4, 6]])"
      ]
     },
     "execution_count": 5,
     "metadata": {},
     "output_type": "execute_result"
    }
   ],
   "source": [
    "arr"
   ]
  },
  {
   "cell_type": "code",
   "execution_count": 6,
   "id": "f8265046",
   "metadata": {},
   "outputs": [
    {
     "data": {
      "text/plain": [
       "5"
      ]
     },
     "execution_count": 6,
     "metadata": {},
     "output_type": "execute_result"
    }
   ],
   "source": [
    "arr[1,1]"
   ]
  },
  {
   "cell_type": "code",
   "execution_count": 7,
   "id": "e0673b13",
   "metadata": {},
   "outputs": [
    {
     "data": {
      "text/plain": [
       "6"
      ]
     },
     "execution_count": 7,
     "metadata": {},
     "output_type": "execute_result"
    }
   ],
   "source": [
    "arr[2,2]"
   ]
  },
  {
   "cell_type": "code",
   "execution_count": 8,
   "id": "328163af",
   "metadata": {},
   "outputs": [
    {
     "data": {
      "text/plain": [
       "8"
      ]
     },
     "execution_count": 8,
     "metadata": {},
     "output_type": "execute_result"
    }
   ],
   "source": [
    "arr[2,0]"
   ]
  },
  {
   "cell_type": "raw",
   "id": "cc74855c",
   "metadata": {},
   "source": [
    "          c-3         c-2         c-1    \n",
    "\n",
    "\n",
    "r-3        1          5          4               arr[-3,-3]         arr[-3,-2]         arr[-3,-1]\n",
    "\n",
    "\n",
    "\n",
    "r-2        6          5          4      =        arr[-2,-3]         arr[-2,-2]         arr[-2,-1]\n",
    "\n",
    "\n",
    "\n",
    "r-1        8          4          6               arr[-1,-3]         arr[-1,-2]         arr[-1,-1]"
   ]
  },
  {
   "cell_type": "code",
   "execution_count": 9,
   "id": "054a15ab",
   "metadata": {},
   "outputs": [
    {
     "data": {
      "text/plain": [
       "6"
      ]
     },
     "execution_count": 9,
     "metadata": {},
     "output_type": "execute_result"
    }
   ],
   "source": [
    "arr[-2,-3]"
   ]
  },
  {
   "cell_type": "code",
   "execution_count": 10,
   "id": "fd223a4e",
   "metadata": {},
   "outputs": [
    {
     "data": {
      "text/plain": [
       "array([[1, 5, 4],\n",
       "       [6, 5, 4],\n",
       "       [8, 4, 6]])"
      ]
     },
     "execution_count": 10,
     "metadata": {},
     "output_type": "execute_result"
    }
   ],
   "source": [
    "arr"
   ]
  },
  {
   "cell_type": "code",
   "execution_count": 11,
   "id": "33494f5c",
   "metadata": {},
   "outputs": [
    {
     "data": {
      "text/plain": [
       "1"
      ]
     },
     "execution_count": 11,
     "metadata": {},
     "output_type": "execute_result"
    }
   ],
   "source": [
    "arr[0,0]"
   ]
  },
  {
   "cell_type": "code",
   "execution_count": 12,
   "id": "af4fdc7a",
   "metadata": {},
   "outputs": [
    {
     "data": {
      "text/plain": [
       "4"
      ]
     },
     "execution_count": 12,
     "metadata": {},
     "output_type": "execute_result"
    }
   ],
   "source": [
    "arr[1,2]"
   ]
  },
  {
   "cell_type": "raw",
   "id": "d177f2f0",
   "metadata": {},
   "source": [
    "          c0         c1         c2    \n",
    "\n",
    "\n",
    "r0        1          5          4               arr[0,0]         arr[0,1]         arr[0,2]\n",
    "\n",
    "\n",
    "\n",
    "r1        6          5          4      =        arr[1,0]         arr[1,1]         arr[1,2]\n",
    "\n",
    "\n",
    "\n",
    "r2        8          4          6               arr[2,0]         arr[2,1]         arr[2,2]\n",
    "\n",
    "\n",
    "variable_name[ index_row_value, index_column_value ]\n"
   ]
  },
  {
   "cell_type": "code",
   "execution_count": 13,
   "id": "5a7b452a",
   "metadata": {},
   "outputs": [
    {
     "data": {
      "text/plain": [
       "array([1, 6])"
      ]
     },
     "execution_count": 13,
     "metadata": {},
     "output_type": "execute_result"
    }
   ],
   "source": [
    "# 0, 0\n",
    "# 1, 0\n",
    "arr[:2 , 0]"
   ]
  },
  {
   "cell_type": "code",
   "execution_count": 14,
   "id": "a710da86",
   "metadata": {},
   "outputs": [
    {
     "data": {
      "text/plain": [
       "array([[1, 5, 4],\n",
       "       [6, 5, 4],\n",
       "       [8, 4, 6]])"
      ]
     },
     "execution_count": 14,
     "metadata": {},
     "output_type": "execute_result"
    }
   ],
   "source": [
    "arr"
   ]
  },
  {
   "cell_type": "code",
   "execution_count": 16,
   "id": "bd8182b0",
   "metadata": {},
   "outputs": [
    {
     "data": {
      "text/plain": [
       "array([8, 4])"
      ]
     },
     "execution_count": 16,
     "metadata": {},
     "output_type": "execute_result"
    }
   ],
   "source": [
    "# arr[2,0], arr[2,1]\n",
    "\n",
    "arr[2,:2]"
   ]
  },
  {
   "cell_type": "code",
   "execution_count": 18,
   "id": "800051e8",
   "metadata": {},
   "outputs": [
    {
     "data": {
      "text/plain": [
       "array([5, 4])"
      ]
     },
     "execution_count": 18,
     "metadata": {},
     "output_type": "execute_result"
    }
   ],
   "source": [
    "\n",
    "# arr[1,1]  arr[1,2]\n",
    "arr[1,1:]"
   ]
  },
  {
   "cell_type": "code",
   "execution_count": 17,
   "id": "5d3c7f8a",
   "metadata": {},
   "outputs": [
    {
     "data": {
      "text/plain": [
       "array([[1, 5, 4],\n",
       "       [6, 5, 4],\n",
       "       [8, 4, 6]])"
      ]
     },
     "execution_count": 17,
     "metadata": {},
     "output_type": "execute_result"
    }
   ],
   "source": [
    "arr"
   ]
  },
  {
   "cell_type": "code",
   "execution_count": 19,
   "id": "3c4c0767",
   "metadata": {},
   "outputs": [
    {
     "data": {
      "text/plain": [
       "array([4, 4, 6])"
      ]
     },
     "execution_count": 19,
     "metadata": {},
     "output_type": "execute_result"
    }
   ],
   "source": [
    "# arr[0,2] arr[1,2] arr[2,2]\n",
    "arr[: , 2]"
   ]
  },
  {
   "cell_type": "code",
   "execution_count": 20,
   "id": "898c4298",
   "metadata": {},
   "outputs": [
    {
     "data": {
      "text/plain": [
       "array([[1, 5, 4],\n",
       "       [6, 5, 4],\n",
       "       [8, 4, 6]])"
      ]
     },
     "execution_count": 20,
     "metadata": {},
     "output_type": "execute_result"
    }
   ],
   "source": [
    "arr"
   ]
  },
  {
   "cell_type": "code",
   "execution_count": 21,
   "id": "8a73086a",
   "metadata": {},
   "outputs": [
    {
     "data": {
      "text/plain": [
       "array([6, 5, 4])"
      ]
     },
     "execution_count": 21,
     "metadata": {},
     "output_type": "execute_result"
    }
   ],
   "source": [
    "arr[1 , :]"
   ]
  },
  {
   "cell_type": "code",
   "execution_count": 22,
   "id": "4e39763a",
   "metadata": {},
   "outputs": [
    {
     "data": {
      "text/plain": [
       "array([[1, 5, 4],\n",
       "       [2, 6, 8]])"
      ]
     },
     "execution_count": 22,
     "metadata": {},
     "output_type": "execute_result"
    }
   ],
   "source": [
    "arr = np.array([[1,5,4],[2,6,8]])\n",
    "arr"
   ]
  },
  {
   "cell_type": "code",
   "execution_count": 23,
   "id": "31fcc9e5",
   "metadata": {},
   "outputs": [
    {
     "data": {
      "text/plain": [
       "5"
      ]
     },
     "execution_count": 23,
     "metadata": {},
     "output_type": "execute_result"
    }
   ],
   "source": [
    "arr[0,1]"
   ]
  },
  {
   "cell_type": "code",
   "execution_count": 24,
   "id": "7d741df7",
   "metadata": {},
   "outputs": [
    {
     "data": {
      "text/plain": [
       "array([5, 6])"
      ]
     },
     "execution_count": 24,
     "metadata": {},
     "output_type": "execute_result"
    }
   ],
   "source": [
    "arr[:,1]"
   ]
  },
  {
   "cell_type": "code",
   "execution_count": 25,
   "id": "1f6022a2",
   "metadata": {},
   "outputs": [
    {
     "data": {
      "text/plain": [
       "array([[1, 5, 4],\n",
       "       [2, 6, 8]])"
      ]
     },
     "execution_count": 25,
     "metadata": {},
     "output_type": "execute_result"
    }
   ],
   "source": [
    "arr"
   ]
  },
  {
   "cell_type": "code",
   "execution_count": 26,
   "id": "b95fce0a",
   "metadata": {},
   "outputs": [
    {
     "data": {
      "text/plain": [
       "array([2, 6])"
      ]
     },
     "execution_count": 26,
     "metadata": {},
     "output_type": "execute_result"
    }
   ],
   "source": [
    "arr[1,:2]"
   ]
  },
  {
   "cell_type": "code",
   "execution_count": 27,
   "id": "938d4f64",
   "metadata": {},
   "outputs": [
    {
     "data": {
      "text/plain": [
       "array([[1, 5, 4],\n",
       "       [2, 6, 8]])"
      ]
     },
     "execution_count": 27,
     "metadata": {},
     "output_type": "execute_result"
    }
   ],
   "source": [
    "arr[:,:]"
   ]
  },
  {
   "cell_type": "raw",
   "id": "30d3d90b",
   "metadata": {},
   "source": [
    "          c0         c1         c2    \n",
    "\n",
    "\n",
    "r0        1          5          4               arr[0,0]         arr[0,1]         arr[0,2]\n",
    "\n",
    "\n",
    "\n",
    "r1        6          5          4      =        arr[1,0]         arr[1,1]         arr[1,2]\n",
    "\n",
    "\n",
    "\n",
    "r2        8          4          6               arr[2,0]         arr[2,1]         arr[2,2]\n",
    "\n",
    "\n",
    "variable_name[ index_row_value, index_column_value ]\n"
   ]
  },
  {
   "cell_type": "raw",
   "id": "9bf2a063",
   "metadata": {},
   "source": [
    "              c-0     c-1    c-2\n",
    "\n",
    "\n",
    "        r-0    1       5      4        arr[0,0]      arr[0,1]      arr[0,2]\n",
    "\n",
    "arr  =                              =  \n",
    "\n",
    "        r-1    2       6      8        arr[1,0]      arr[1,1]      arr[1,2]"
   ]
  },
  {
   "cell_type": "markdown",
   "id": "71e95276",
   "metadata": {},
   "source": [
    "### list to 2D => reshape"
   ]
  },
  {
   "cell_type": "code",
   "execution_count": null,
   "id": "1bb6eca4",
   "metadata": {},
   "outputs": [],
   "source": [
    "lst = [1,5,4,6,5,8]\n",
    "arr = np.array(lst).reshape(3,2)\n",
    "arr"
   ]
  },
  {
   "cell_type": "code",
   "execution_count": null,
   "id": "ae42344b",
   "metadata": {},
   "outputs": [],
   "source": [
    "arr = np.array(lst).reshape(2,3)\n",
    "arr"
   ]
  },
  {
   "cell_type": "code",
   "execution_count": null,
   "id": "ef56cc9d",
   "metadata": {},
   "outputs": [],
   "source": [
    "arr = np.array(lst).reshape(1,6)\n",
    "arr"
   ]
  },
  {
   "cell_type": "code",
   "execution_count": null,
   "id": "6ed2a985",
   "metadata": {},
   "outputs": [],
   "source": [
    "arr = np.array(lst).reshape(6,1)\n",
    "arr"
   ]
  },
  {
   "cell_type": "code",
   "execution_count": null,
   "id": "25db33a2",
   "metadata": {},
   "outputs": [],
   "source": [
    "lst"
   ]
  },
  {
   "cell_type": "code",
   "execution_count": null,
   "id": "bf97cee3",
   "metadata": {},
   "outputs": [],
   "source": [
    "arr = np.array(lst).reshape(2,4)\n",
    "arr"
   ]
  },
  {
   "cell_type": "code",
   "execution_count": null,
   "id": "6e7f40fc",
   "metadata": {},
   "outputs": [],
   "source": [
    "arr = np.array(lst).reshape(2,2)\n",
    "arr"
   ]
  },
  {
   "cell_type": "code",
   "execution_count": null,
   "id": "a68d8b90",
   "metadata": {},
   "outputs": [],
   "source": [
    "import numpy as np\n",
    "tpl = (4,5,3,6,5,1,2,6)\n",
    "arr = np.array(tpl).reshape(2,4)\n",
    "arr"
   ]
  },
  {
   "cell_type": "code",
   "execution_count": null,
   "id": "93bef4eb",
   "metadata": {},
   "outputs": [],
   "source": [
    "arr = np.zeros(6).reshape(2,3)\n",
    "arr"
   ]
  },
  {
   "cell_type": "code",
   "execution_count": null,
   "id": "39389e59",
   "metadata": {},
   "outputs": [],
   "source": [
    "arr = np.ones(4).reshape(2,2)\n",
    "arr"
   ]
  },
  {
   "cell_type": "code",
   "execution_count": null,
   "id": "3cf6df22",
   "metadata": {},
   "outputs": [],
   "source": [
    "arr = np.arange(30).reshape(5,6)\n",
    "arr"
   ]
  },
  {
   "cell_type": "code",
   "execution_count": null,
   "id": "fc4281a9",
   "metadata": {},
   "outputs": [],
   "source": [
    "arr = np.arange(1,31).reshape(5,6)\n",
    "arr"
   ]
  },
  {
   "cell_type": "code",
   "execution_count": null,
   "id": "65d18682",
   "metadata": {},
   "outputs": [],
   "source": [
    "arr = np.arange(1,22,4).reshape(2,3)\n",
    "arr"
   ]
  },
  {
   "cell_type": "code",
   "execution_count": null,
   "id": "087d0a0b",
   "metadata": {},
   "outputs": [],
   "source": [
    "arr = np.linspace(1,6,12).reshape(2,6)\n",
    "arr"
   ]
  },
  {
   "cell_type": "code",
   "execution_count": null,
   "id": "dea8c343",
   "metadata": {},
   "outputs": [],
   "source": [
    "### Arthematics"
   ]
  },
  {
   "cell_type": "code",
   "execution_count": null,
   "id": "5569215c",
   "metadata": {},
   "outputs": [],
   "source": [
    "import numpy as np\n",
    "ar  = np.array([[1,2],[3,5]])\n",
    "arr = np.array([[8,3],[6,2],[4,3]])"
   ]
  },
  {
   "cell_type": "code",
   "execution_count": null,
   "id": "5370b2ce",
   "metadata": {},
   "outputs": [],
   "source": [
    "ar.shape"
   ]
  },
  {
   "cell_type": "code",
   "execution_count": null,
   "id": "f9041d86",
   "metadata": {},
   "outputs": [],
   "source": [
    "arr.shape"
   ]
  },
  {
   "cell_type": "code",
   "execution_count": null,
   "id": "4a2b8e13",
   "metadata": {},
   "outputs": [],
   "source": [
    "ar + arr"
   ]
  },
  {
   "cell_type": "code",
   "execution_count": null,
   "id": "ea130260",
   "metadata": {},
   "outputs": [],
   "source": [
    "ar  = np.array([[1,2],[3,5]])\n",
    "arr = np.array([[8,3],[6,2]])"
   ]
  },
  {
   "cell_type": "code",
   "execution_count": null,
   "id": "7bb81629",
   "metadata": {},
   "outputs": [],
   "source": [
    "ar + arr"
   ]
  },
  {
   "cell_type": "code",
   "execution_count": null,
   "id": "91e7a2ff",
   "metadata": {},
   "outputs": [],
   "source": [
    "ar - arr"
   ]
  },
  {
   "cell_type": "code",
   "execution_count": null,
   "id": "ac7ec8ee",
   "metadata": {},
   "outputs": [],
   "source": [
    "ar * arr"
   ]
  },
  {
   "cell_type": "code",
   "execution_count": null,
   "id": "812d0c6b",
   "metadata": {},
   "outputs": [],
   "source": [
    "ar / arr"
   ]
  },
  {
   "cell_type": "code",
   "execution_count": null,
   "id": "99cbf4a8",
   "metadata": {},
   "outputs": [],
   "source": [
    "ar // arr"
   ]
  },
  {
   "cell_type": "code",
   "execution_count": null,
   "id": "9f20ba30",
   "metadata": {},
   "outputs": [],
   "source": [
    "ar % arr"
   ]
  },
  {
   "cell_type": "code",
   "execution_count": null,
   "id": "dd2605a3",
   "metadata": {},
   "outputs": [],
   "source": [
    "ar ** arr"
   ]
  },
  {
   "cell_type": "code",
   "execution_count": null,
   "id": "7bc00f67",
   "metadata": {},
   "outputs": [],
   "source": [
    "ar"
   ]
  },
  {
   "cell_type": "code",
   "execution_count": null,
   "id": "f767fc1a",
   "metadata": {},
   "outputs": [],
   "source": [
    "arr"
   ]
  },
  {
   "cell_type": "code",
   "execution_count": null,
   "id": "b451da5b",
   "metadata": {},
   "outputs": [],
   "source": [
    "np.sin(arr)"
   ]
  },
  {
   "cell_type": "code",
   "execution_count": null,
   "id": "c3f873b0",
   "metadata": {},
   "outputs": [],
   "source": [
    "np.cos(arr)"
   ]
  },
  {
   "cell_type": "code",
   "execution_count": null,
   "id": "168ed23a",
   "metadata": {},
   "outputs": [],
   "source": [
    "np.log(arr)"
   ]
  },
  {
   "cell_type": "code",
   "execution_count": null,
   "id": "1d76e0d9",
   "metadata": {},
   "outputs": [],
   "source": []
  }
 ],
 "metadata": {
  "kernelspec": {
   "display_name": "Python 3 (ipykernel)",
   "language": "python",
   "name": "python3"
  },
  "language_info": {
   "codemirror_mode": {
    "name": "ipython",
    "version": 3
   },
   "file_extension": ".py",
   "mimetype": "text/x-python",
   "name": "python",
   "nbconvert_exporter": "python",
   "pygments_lexer": "ipython3",
   "version": "3.10.9"
  }
 },
 "nbformat": 4,
 "nbformat_minor": 5
}
