{
 "cells": [
  {
   "cell_type": "markdown",
   "id": "ecf0e631",
   "metadata": {},
   "source": [
    "# Agenda\n",
    "   \n",
    "    \n",
    "### 3. Print Statements\n",
    "\n",
    "    -> Displaying\n",
    "\n",
    "    -> NoneType\n",
    "\n",
    "    -> Concatenation\n",
    "\n",
    "    -> Joining\n",
    "\n",
    "    -> New Line\n",
    "\n",
    "    -> Tab space\n",
    "    \n",
    "    -> end\n",
    "    \n",
    "    -> sep\n",
    "   \n",
    "### 4. Error types\n",
    "\n",
    "    -> Syntax Error\n",
    "\n",
    "    -> Name Error\n",
    "    \n",
    "    -> Value Error\n",
    "\n",
    "    -> Type Error\n",
    "    \n",
    "### Syntax"
   ]
  },
  {
   "cell_type": "markdown",
   "id": "b257a06f",
   "metadata": {},
   "source": [
    "# Chapters in depth"
   ]
  },
  {
   "cell_type": "markdown",
   "id": "44f620bf",
   "metadata": {},
   "source": [
    "### 3. Print\n",
    "\n",
    "The print statement has been replaced with a print() function, with keyword arguments to replace most of the special syntax of the old print statement.\n",
    "\n",
    "In Python, single, double and triple quotes are used to denote a string. Most use single quotes when declaring a single character. Double quotes when declaring a line and triple quotes when declaring a paragraph/multiple lines.\n",
    "\n",
    "    -> print is a build in function\n",
    "    \n",
    "    -> print helps to display output\n",
    "    \n",
    "    -> print output not used in further operations\n",
    "    \n",
    "    -> print output is only for display because data type of the print output is NoneType\n",
    "    \n",
    "##### Examples:"
   ]
  },
  {
   "cell_type": "markdown",
   "id": "d90e6bad",
   "metadata": {},
   "source": [
    "#### 3.1 print helps to display outpu"
   ]
  },
  {
   "cell_type": "code",
   "execution_count": 21,
   "id": "513a465a",
   "metadata": {},
   "outputs": [
    {
     "name": "stdout",
     "output_type": "stream",
     "text": [
      "3\n"
     ]
    }
   ],
   "source": [
    "a = 3\n",
    "print(a)"
   ]
  },
  {
   "cell_type": "markdown",
   "id": "41efdae7",
   "metadata": {},
   "source": [
    "#### 3.2 Checking datatypes  "
   ]
  },
  {
   "cell_type": "code",
   "execution_count": 22,
   "id": "fb3b3996",
   "metadata": {},
   "outputs": [
    {
     "data": {
      "text/plain": [
       "int"
      ]
     },
     "execution_count": 22,
     "metadata": {},
     "output_type": "execute_result"
    }
   ],
   "source": [
    "type(a)"
   ]
  },
  {
   "cell_type": "code",
   "execution_count": 23,
   "id": "9b54cfb0",
   "metadata": {},
   "outputs": [
    {
     "name": "stdout",
     "output_type": "stream",
     "text": [
      "3\n"
     ]
    },
    {
     "data": {
      "text/plain": [
       "NoneType"
      ]
     },
     "execution_count": 23,
     "metadata": {},
     "output_type": "execute_result"
    }
   ],
   "source": [
    "type(print(a))"
   ]
  },
  {
   "cell_type": "code",
   "execution_count": 24,
   "id": "b6fa6a5c",
   "metadata": {},
   "outputs": [
    {
     "name": "stdout",
     "output_type": "stream",
     "text": [
      "3\n"
     ]
    },
    {
     "data": {
      "text/plain": [
       "NoneType"
      ]
     },
     "execution_count": 24,
     "metadata": {},
     "output_type": "execute_result"
    }
   ],
   "source": [
    "b = print(a)\n",
    "type(b)"
   ]
  },
  {
   "cell_type": "markdown",
   "id": "319d0b42",
   "metadata": {},
   "source": [
    "#### 3.3 print output cannot use in further operations"
   ]
  },
  {
   "cell_type": "code",
   "execution_count": 25,
   "id": "24f5957c",
   "metadata": {},
   "outputs": [
    {
     "data": {
      "text/plain": [
       "11"
      ]
     },
     "execution_count": 25,
     "metadata": {},
     "output_type": "execute_result"
    }
   ],
   "source": [
    "c = 8 + a\n",
    "c"
   ]
  },
  {
   "cell_type": "code",
   "execution_count": 26,
   "id": "e709436e",
   "metadata": {},
   "outputs": [
    {
     "ename": "TypeError",
     "evalue": "unsupported operand type(s) for +: 'int' and 'NoneType'",
     "output_type": "error",
     "traceback": [
      "\u001b[1;31m---------------------------------------------------------------------------\u001b[0m",
      "\u001b[1;31mTypeError\u001b[0m                                 Traceback (most recent call last)",
      "Cell \u001b[1;32mIn[26], line 1\u001b[0m\n\u001b[1;32m----> 1\u001b[0m d \u001b[38;5;241m=\u001b[39m \u001b[38;5;241;43m8\u001b[39;49m\u001b[43m \u001b[49m\u001b[38;5;241;43m+\u001b[39;49m\u001b[43m \u001b[49m\u001b[43mb\u001b[49m\n\u001b[0;32m      2\u001b[0m d\n",
      "\u001b[1;31mTypeError\u001b[0m: unsupported operand type(s) for +: 'int' and 'NoneType'"
     ]
    }
   ],
   "source": [
    "d = 8 + b\n",
    "d"
   ]
  },
  {
   "cell_type": "code",
   "execution_count": 27,
   "id": "60935475",
   "metadata": {},
   "outputs": [
    {
     "ename": "TypeError",
     "evalue": "unsupported operand type(s) for +: 'NoneType' and 'NoneType'",
     "output_type": "error",
     "traceback": [
      "\u001b[1;31m---------------------------------------------------------------------------\u001b[0m",
      "\u001b[1;31mTypeError\u001b[0m                                 Traceback (most recent call last)",
      "Cell \u001b[1;32mIn[27], line 1\u001b[0m\n\u001b[1;32m----> 1\u001b[0m e \u001b[38;5;241m=\u001b[39m \u001b[43mb\u001b[49m\u001b[43m \u001b[49m\u001b[38;5;241;43m+\u001b[39;49m\u001b[43m \u001b[49m\u001b[43mb\u001b[49m\n\u001b[0;32m      2\u001b[0m e\n",
      "\u001b[1;31mTypeError\u001b[0m: unsupported operand type(s) for +: 'NoneType' and 'NoneType'"
     ]
    }
   ],
   "source": [
    "e = b + b\n",
    "e"
   ]
  },
  {
   "cell_type": "markdown",
   "id": "f942740e",
   "metadata": {},
   "source": [
    "#### 3.4 Concatination\n",
    "\n",
    "    -> representation is +\n",
    "\n",
    "    -> we required two values to concate\n",
    "    \n",
    "    -> Two values must be same data type\n",
    "    \n",
    "    -> While we are concatinating no space generated"
   ]
  },
  {
   "cell_type": "code",
   "execution_count": 28,
   "id": "92f046f0",
   "metadata": {},
   "outputs": [
    {
     "name": "stdout",
     "output_type": "stream",
     "text": [
      "4\n"
     ]
    }
   ],
   "source": [
    "print(2+2)"
   ]
  },
  {
   "cell_type": "code",
   "execution_count": 29,
   "id": "d1ed99a2",
   "metadata": {},
   "outputs": [
    {
     "name": "stdout",
     "output_type": "stream",
     "text": [
      "divesh\n"
     ]
    }
   ],
   "source": [
    "print('div'+'esh')"
   ]
  },
  {
   "cell_type": "code",
   "execution_count": 30,
   "id": "106d087e",
   "metadata": {},
   "outputs": [
    {
     "name": "stdout",
     "output_type": "stream",
     "text": [
      "divesh\n"
     ]
    }
   ],
   "source": [
    "print('div'+'es'+'h')"
   ]
  },
  {
   "cell_type": "code",
   "execution_count": 31,
   "id": "4dd61577",
   "metadata": {},
   "outputs": [
    {
     "ename": "TypeError",
     "evalue": "can only concatenate str (not \"int\") to str",
     "output_type": "error",
     "traceback": [
      "\u001b[1;31m---------------------------------------------------------------------------\u001b[0m",
      "\u001b[1;31mTypeError\u001b[0m                                 Traceback (most recent call last)",
      "Cell \u001b[1;32mIn[31], line 1\u001b[0m\n\u001b[1;32m----> 1\u001b[0m \u001b[38;5;28mprint\u001b[39m(\u001b[38;5;124;43m'\u001b[39;49m\u001b[38;5;124;43m2\u001b[39;49m\u001b[38;5;124;43m'\u001b[39;49m\u001b[43m \u001b[49m\u001b[38;5;241;43m+\u001b[39;49m\u001b[43m \u001b[49m\u001b[38;5;241;43m2\u001b[39;49m)\n",
      "\u001b[1;31mTypeError\u001b[0m: can only concatenate str (not \"int\") to str"
     ]
    }
   ],
   "source": [
    "print('2' + 2)"
   ]
  },
  {
   "cell_type": "markdown",
   "id": "013898dc",
   "metadata": {},
   "source": [
    "#### 3.5 Joining \n",
    "\n",
    "    -> representation is ,\n",
    "    \n",
    "    -> we required two values to joining\n",
    "    \n",
    "    -> Two values can be same or different data type\n",
    "    \n",
    "    -> While we are joining space generated"
   ]
  },
  {
   "cell_type": "code",
   "execution_count": 32,
   "id": "b44c2339",
   "metadata": {},
   "outputs": [
    {
     "name": "stdout",
     "output_type": "stream",
     "text": [
      "2 2\n"
     ]
    }
   ],
   "source": [
    "print(2,2)"
   ]
  },
  {
   "cell_type": "code",
   "execution_count": 33,
   "id": "f75b0fb7",
   "metadata": {},
   "outputs": [
    {
     "name": "stdout",
     "output_type": "stream",
     "text": [
      "div esh\n"
     ]
    }
   ],
   "source": [
    "print('div','esh')"
   ]
  },
  {
   "cell_type": "code",
   "execution_count": 34,
   "id": "4fc93354",
   "metadata": {},
   "outputs": [
    {
     "name": "stdout",
     "output_type": "stream",
     "text": [
      "2 2\n"
     ]
    }
   ],
   "source": [
    "print('2',2)"
   ]
  },
  {
   "cell_type": "code",
   "execution_count": 35,
   "id": "6fc564d2",
   "metadata": {},
   "outputs": [],
   "source": [
    "a=8"
   ]
  },
  {
   "cell_type": "code",
   "execution_count": 36,
   "id": "6c5f828a",
   "metadata": {},
   "outputs": [
    {
     "name": "stdout",
     "output_type": "stream",
     "text": [
      "Number of students in a class: 8\n"
     ]
    }
   ],
   "source": [
    "print(\"Number of students in a class:\",a)"
   ]
  },
  {
   "cell_type": "code",
   "execution_count": 37,
   "id": "2995ea91",
   "metadata": {},
   "outputs": [
    {
     "name": "stdout",
     "output_type": "stream",
     "text": [
      "Good Morning!\n"
     ]
    }
   ],
   "source": [
    "print('Good','Morning'+'!')"
   ]
  },
  {
   "cell_type": "code",
   "execution_count": null,
   "id": "a955d1ab",
   "metadata": {},
   "outputs": [],
   "source": [
    "a = 'Good'\n",
    "b = 'Morning'\n",
    "c = '!'\n",
    "\n",
    "print(a,b,c)"
   ]
  },
  {
   "cell_type": "code",
   "execution_count": null,
   "id": "2eebb99b",
   "metadata": {},
   "outputs": [],
   "source": [
    "print(a+b+c)"
   ]
  },
  {
   "cell_type": "code",
   "execution_count": null,
   "id": "45d88052",
   "metadata": {},
   "outputs": [],
   "source": [
    "print(a,b+c)"
   ]
  },
  {
   "cell_type": "markdown",
   "id": "3bbe93f1",
   "metadata": {},
   "source": [
    "#### 3.6 New Line     \\n"
   ]
  },
  {
   "cell_type": "code",
   "execution_count": 38,
   "id": "ca1b2cd6",
   "metadata": {},
   "outputs": [
    {
     "name": "stdout",
     "output_type": "stream",
     "text": [
      "This is Divesh. \n",
      "Working in apss company.\n"
     ]
    }
   ],
   "source": [
    "print('This is Divesh. \\nWorking in apss company.')"
   ]
  },
  {
   "cell_type": "code",
   "execution_count": 39,
   "id": "d85c1e70",
   "metadata": {},
   "outputs": [
    {
     "name": "stdout",
     "output_type": "stream",
     "text": [
      "This is Divesh. \n",
      " Working in apss company.\n"
     ]
    }
   ],
   "source": [
    "print('This is Divesh. \\n Working in apss company.')"
   ]
  },
  {
   "cell_type": "code",
   "execution_count": 40,
   "id": "49463a7a",
   "metadata": {},
   "outputs": [
    {
     "name": "stdout",
     "output_type": "stream",
     "text": [
      "This is Divesh. \\n Working in apss company.\n"
     ]
    }
   ],
   "source": [
    "print(r'This is Divesh. \\n Working in apss company.')"
   ]
  },
  {
   "cell_type": "code",
   "execution_count": 41,
   "id": "10fd3d43",
   "metadata": {},
   "outputs": [
    {
     "name": "stdout",
     "output_type": "stream",
     "text": [
      "C:/USER/divesh\n",
      "otebook.\n",
      "Working in apss company.\n"
     ]
    }
   ],
   "source": [
    "print('C:/USER/divesh\\notebook.\\nWorking in apss company.')"
   ]
  },
  {
   "cell_type": "code",
   "execution_count": 42,
   "id": "4882b91d",
   "metadata": {},
   "outputs": [
    {
     "name": "stdout",
     "output_type": "stream",
     "text": [
      "C:/USER/divesh\\notebook.\\nWorking in apss company.\n"
     ]
    }
   ],
   "source": [
    "print(r'C:/USER/divesh\\notebook.\\nWorking in apss company.')"
   ]
  },
  {
   "cell_type": "code",
   "execution_count": 43,
   "id": "b8c4a07c",
   "metadata": {},
   "outputs": [
    {
     "name": "stdout",
     "output_type": "stream",
     "text": [
      "C:/USER/divesh\\notebook. \n",
      "Working in apss company.\n"
     ]
    }
   ],
   "source": [
    "print(r'C:/USER/divesh\\notebook.','\\nWorking in apss company.')"
   ]
  },
  {
   "cell_type": "code",
   "execution_count": 44,
   "id": "39123344",
   "metadata": {},
   "outputs": [
    {
     "name": "stdout",
     "output_type": "stream",
     "text": [
      "C:/USER/divesh\\notebook. \\nWorking in apss company.\n"
     ]
    }
   ],
   "source": [
    "print(r'C:/USER/divesh\\notebook.',r'\\nWorking in apss company.')"
   ]
  },
  {
   "cell_type": "code",
   "execution_count": 45,
   "id": "aa53556b",
   "metadata": {},
   "outputs": [
    {
     "name": "stdout",
     "output_type": "stream",
     "text": [
      "This is \n",
      "\n",
      "\n",
      "\n",
      "\n",
      "Divesh\n"
     ]
    }
   ],
   "source": [
    "print('This is \\n\\n\\n\\n\\nDivesh')"
   ]
  },
  {
   "cell_type": "code",
   "execution_count": 46,
   "id": "c54d4b1b",
   "metadata": {},
   "outputs": [
    {
     "name": "stdout",
     "output_type": "stream",
     "text": [
      "This is \n",
      "\n",
      "\n",
      "\n",
      "\n",
      "\n",
      "\n",
      "\n",
      " Divesh\n"
     ]
    }
   ],
   "source": [
    "print('This is', 8*'\\n','Divesh')"
   ]
  },
  {
   "cell_type": "markdown",
   "id": "452662d6",
   "metadata": {},
   "source": [
    "#### 3.7 tab   \\t"
   ]
  },
  {
   "cell_type": "code",
   "execution_count": 47,
   "id": "05d43f51",
   "metadata": {},
   "outputs": [
    {
     "name": "stdout",
     "output_type": "stream",
     "text": [
      "Jan\tFeb\tMar\tApr\n"
     ]
    }
   ],
   "source": [
    "print('Jan\\tFeb\\tMar\\tApr')"
   ]
  },
  {
   "cell_type": "raw",
   "id": "48d5484e",
   "metadata": {},
   "source": [
    "1 tab = 4 spaces = 1 indent"
   ]
  },
  {
   "cell_type": "code",
   "execution_count": 48,
   "id": "4b94d7e5",
   "metadata": {},
   "outputs": [
    {
     "name": "stdout",
     "output_type": "stream",
     "text": [
      "Jan\tFeb\tMar\tApr\n",
      "May\tJun\tJul\tAug\n",
      "\n",
      "Sep\n"
     ]
    }
   ],
   "source": [
    "print('Jan\\tFeb\\tMar\\tApr\\nMay\\tJun\\tJul\\tAug\\n\\nSep')"
   ]
  },
  {
   "cell_type": "markdown",
   "id": "8ea1bdd3",
   "metadata": {},
   "source": [
    "#### 3.8 end"
   ]
  },
  {
   "cell_type": "code",
   "execution_count": 49,
   "id": "43d9b00e",
   "metadata": {},
   "outputs": [
    {
     "name": "stdout",
     "output_type": "stream",
     "text": [
      "this is\n",
      "Divesh\n"
     ]
    }
   ],
   "source": [
    "print(\"this is\")\n",
    "print('Divesh')"
   ]
  },
  {
   "cell_type": "code",
   "execution_count": 50,
   "id": "c7b2b5ab",
   "metadata": {},
   "outputs": [
    {
     "name": "stdout",
     "output_type": "stream",
     "text": [
      "this isDivesh\n"
     ]
    }
   ],
   "source": [
    "print(\"this is\",end=\"\")\n",
    "print('Divesh')"
   ]
  },
  {
   "cell_type": "code",
   "execution_count": 51,
   "id": "2c72c159",
   "metadata": {},
   "outputs": [
    {
     "name": "stdout",
     "output_type": "stream",
     "text": [
      "this is Divesh\n"
     ]
    }
   ],
   "source": [
    "print(\"this is\",end=\" \")\n",
    "print('Divesh')"
   ]
  },
  {
   "cell_type": "code",
   "execution_count": 52,
   "id": "3445da93",
   "metadata": {},
   "outputs": [
    {
     "name": "stdout",
     "output_type": "stream",
     "text": [
      "this is Divesh\n",
      "Kumar\n"
     ]
    }
   ],
   "source": [
    "print(\"this is\",end=\" \")\n",
    "print('Divesh')\n",
    "print('Kumar')"
   ]
  },
  {
   "cell_type": "code",
   "execution_count": 53,
   "id": "473e6940",
   "metadata": {},
   "outputs": [
    {
     "name": "stdout",
     "output_type": "stream",
     "text": [
      "this is Divesh Kumar\n"
     ]
    }
   ],
   "source": [
    "print(\"this is\",end=\" \")\n",
    "print('Divesh',end=\" \")\n",
    "print('Kumar')"
   ]
  },
  {
   "cell_type": "code",
   "execution_count": 54,
   "id": "119b2868",
   "metadata": {},
   "outputs": [
    {
     "name": "stdout",
     "output_type": "stream",
     "text": [
      "this is\n",
      "\n",
      "Divesh\n"
     ]
    }
   ],
   "source": [
    "print(\"this is\",end=\"\\n\\n\")\n",
    "print('Divesh')"
   ]
  },
  {
   "cell_type": "code",
   "execution_count": 55,
   "id": "efb52777",
   "metadata": {},
   "outputs": [
    {
     "name": "stdout",
     "output_type": "stream",
     "text": [
      "this is @Divesh\n"
     ]
    }
   ],
   "source": [
    "print(\"this is\",end=\" @\")\n",
    "print('Divesh')"
   ]
  },
  {
   "cell_type": "markdown",
   "id": "c4cede76",
   "metadata": {},
   "source": [
    "#### 3.9 sep"
   ]
  },
  {
   "cell_type": "code",
   "execution_count": 56,
   "id": "0324bc18",
   "metadata": {},
   "outputs": [
    {
     "name": "stdout",
     "output_type": "stream",
     "text": [
      "4 9 2022\n"
     ]
    }
   ],
   "source": [
    "a = 4\n",
    "b = 9\n",
    "c = 2022\n",
    "print(a,b,c)"
   ]
  },
  {
   "cell_type": "code",
   "execution_count": 57,
   "id": "f7e3889b",
   "metadata": {},
   "outputs": [
    {
     "name": "stdout",
     "output_type": "stream",
     "text": [
      "4/9/2022\n"
     ]
    }
   ],
   "source": [
    "a = 4\n",
    "b = 9\n",
    "c = 2022\n",
    "print(a,b,c,sep='/')"
   ]
  },
  {
   "cell_type": "code",
   "execution_count": 58,
   "id": "a68ad12f",
   "metadata": {},
   "outputs": [
    {
     "name": "stdout",
     "output_type": "stream",
     "text": [
      "4-9-2022\n"
     ]
    }
   ],
   "source": [
    "a = 4\n",
    "b = 9\n",
    "c = 2022\n",
    "print(a,b,c,sep='-')"
   ]
  },
  {
   "cell_type": "code",
   "execution_count": 59,
   "id": "784c69eb",
   "metadata": {},
   "outputs": [
    {
     "name": "stdout",
     "output_type": "stream",
     "text": [
      "4@9@2022\n"
     ]
    }
   ],
   "source": [
    "a = 4\n",
    "b = 9\n",
    "c = 2022\n",
    "print(a,b,c,sep='@')"
   ]
  },
  {
   "cell_type": "markdown",
   "id": "222eeadb",
   "metadata": {},
   "source": [
    "### 4. Errors\n",
    "\n",
    "    -> Syntax error\n",
    "    \n",
    "    -> Name error\n",
    "    \n",
    "    -> Type Error\n",
    "    \n",
    "    -> Value Error"
   ]
  },
  {
   "cell_type": "markdown",
   "id": "0201762f",
   "metadata": {},
   "source": [
    "#### 4.1 Syntax Error"
   ]
  },
  {
   "cell_type": "code",
   "execution_count": null,
   "id": "2f7d5e99",
   "metadata": {},
   "outputs": [],
   "source": [
    "df!@ = 5"
   ]
  },
  {
   "cell_type": "markdown",
   "id": "13e09b98",
   "metadata": {},
   "source": [
    "#### 4.2  Name Error"
   ]
  },
  {
   "cell_type": "code",
   "execution_count": null,
   "id": "985e8109",
   "metadata": {},
   "outputs": [],
   "source": [
    "zebra"
   ]
  },
  {
   "cell_type": "markdown",
   "id": "3f531dfc",
   "metadata": {},
   "source": [
    "#### 4.3 Type Error"
   ]
  },
  {
   "cell_type": "code",
   "execution_count": 60,
   "id": "95cfe7a0",
   "metadata": {},
   "outputs": [
    {
     "name": "stdout",
     "output_type": "stream",
     "text": [
      "5\n"
     ]
    },
    {
     "ename": "TypeError",
     "evalue": "unsupported operand type(s) for +: 'int' and 'NoneType'",
     "output_type": "error",
     "traceback": [
      "\u001b[1;31m---------------------------------------------------------------------------\u001b[0m",
      "\u001b[1;31mTypeError\u001b[0m                                 Traceback (most recent call last)",
      "Cell \u001b[1;32mIn[60], line 2\u001b[0m\n\u001b[0;32m      1\u001b[0m c \u001b[38;5;241m=\u001b[39m \u001b[38;5;28mprint\u001b[39m(\u001b[38;5;241m5\u001b[39m)\n\u001b[1;32m----> 2\u001b[0m a \u001b[38;5;241m=\u001b[39m \u001b[38;5;241;43m5\u001b[39;49m\u001b[43m \u001b[49m\u001b[38;5;241;43m+\u001b[39;49m\u001b[43m \u001b[49m\u001b[43mc\u001b[49m\n",
      "\u001b[1;31mTypeError\u001b[0m: unsupported operand type(s) for +: 'int' and 'NoneType'"
     ]
    }
   ],
   "source": [
    "c = print(5)\n",
    "a = 5 + c"
   ]
  },
  {
   "cell_type": "markdown",
   "id": "39d005a5",
   "metadata": {},
   "source": [
    "#### 4.4 Value Error"
   ]
  },
  {
   "cell_type": "code",
   "execution_count": 61,
   "id": "ce21e5d6",
   "metadata": {},
   "outputs": [
    {
     "name": "stdout",
     "output_type": "stream",
     "text": [
      "Enter Number: eight\n"
     ]
    },
    {
     "ename": "ValueError",
     "evalue": "invalid literal for int() with base 10: 'eight'",
     "output_type": "error",
     "traceback": [
      "\u001b[1;31m---------------------------------------------------------------------------\u001b[0m",
      "\u001b[1;31mValueError\u001b[0m                                Traceback (most recent call last)",
      "Cell \u001b[1;32mIn[61], line 1\u001b[0m\n\u001b[1;32m----> 1\u001b[0m a \u001b[38;5;241m=\u001b[39m \u001b[38;5;28;43mint\u001b[39;49m\u001b[43m(\u001b[49m\u001b[38;5;28;43minput\u001b[39;49m\u001b[43m(\u001b[49m\u001b[38;5;124;43m'\u001b[39;49m\u001b[38;5;124;43mEnter Number: \u001b[39;49m\u001b[38;5;124;43m'\u001b[39;49m\u001b[43m)\u001b[49m\u001b[43m)\u001b[49m\n\u001b[0;32m      2\u001b[0m a\n",
      "\u001b[1;31mValueError\u001b[0m: invalid literal for int() with base 10: 'eight'"
     ]
    }
   ],
   "source": [
    "a = int(input('Enter Number: '))\n",
    "a"
   ]
  },
  {
   "cell_type": "markdown",
   "id": "5cc4d9c2",
   "metadata": {},
   "source": [
    "### 7. Syntax\n",
    "\n",
    "    -> A Python statement ends with a newline character.\n",
    "\n",
    "    -> Python uses spaces and identation to organize its code structure.\n",
    "\n",
    "    -> Identifiers are names that identify variables, functions, modules, classes, etc. in Python.\n",
    "\n",
    "    -> Comments describe why the code works. They are ingored by the Python interpreter.\n",
    "\n",
    "    -> Use the single quote, double-quotes, tripple-quotes, or tripple double-quotes to denote\n",
    "    \n"
   ]
  }
 ],
 "metadata": {
  "kernelspec": {
   "display_name": "Python 3 (ipykernel)",
   "language": "python",
   "name": "python3"
  },
  "language_info": {
   "codemirror_mode": {
    "name": "ipython",
    "version": 3
   },
   "file_extension": ".py",
   "mimetype": "text/x-python",
   "name": "python",
   "nbconvert_exporter": "python",
   "pygments_lexer": "ipython3",
   "version": "3.10.9"
  }
 },
 "nbformat": 4,
 "nbformat_minor": 5
}
