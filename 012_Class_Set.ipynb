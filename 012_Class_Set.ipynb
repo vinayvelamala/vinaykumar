{
 "cells": [
  {
   "cell_type": "markdown",
   "id": "503417b9",
   "metadata": {},
   "source": [
    "### set\n",
    "\n",
    "    -> sets having its own rules\n",
    "    \n",
    "        -> duplicates are going to remove automatically (Default)\n",
    "        \n",
    "        -> if elements are only numbers at that time it arrange in the form of ascending order\n",
    "        \n",
    "        -> if elements consists of number and alphabets it arrange in the form of ASCII (American Standard Code for Information Interchange) value representation\n",
    "        \n",
    "            -> Special Chars\n",
    "            \n",
    "            -> digits 0-9\n",
    "            \n",
    "            -> SPecial CHars\n",
    "            \n",
    "            -> A-Z\n",
    "            \n",
    "            -> Special CHars\n",
    "            \n",
    "            -> a-z\n",
    "            \n",
    "            -> Special chars\n",
    "            \n",
    "        -> indexing and slicing concepts are not going to work in sets\n",
    "        \n",
    "        -> But still set is mutable datatype\n",
    "            \n",
    "        "
   ]
  },
  {
   "cell_type": "code",
   "execution_count": null,
   "id": "82b551cd",
   "metadata": {},
   "outputs": [],
   "source": [
    "s = {1,1,1,2,12,6,2,12,31265,46,456,16,612,1323,13,23,2}\n",
    "s"
   ]
  },
  {
   "cell_type": "code",
   "execution_count": null,
   "id": "d2d5086d",
   "metadata": {},
   "outputs": [],
   "source": [
    "s = {1,2,1,'q','!','#','$','%',8,'Q','queen',11,12,22,3,5}\n",
    "s"
   ]
  },
  {
   "cell_type": "code",
   "execution_count": null,
   "id": "43bafa50",
   "metadata": {},
   "outputs": [],
   "source": [
    "s.add('Queen')\n",
    "s"
   ]
  },
  {
   "cell_type": "code",
   "execution_count": null,
   "id": "37ef845c",
   "metadata": {},
   "outputs": [],
   "source": [
    "s.add('R')\n",
    "s"
   ]
  },
  {
   "cell_type": "code",
   "execution_count": null,
   "id": "30ca402c",
   "metadata": {},
   "outputs": [],
   "source": [
    "s.add(212)\n",
    "s"
   ]
  },
  {
   "cell_type": "code",
   "execution_count": null,
   "id": "d4451b4e",
   "metadata": {},
   "outputs": [],
   "source": [
    "s.add(2)"
   ]
  },
  {
   "cell_type": "code",
   "execution_count": null,
   "id": "8e6c9d07",
   "metadata": {},
   "outputs": [],
   "source": [
    "s"
   ]
  },
  {
   "cell_type": "code",
   "execution_count": null,
   "id": "75c8c7f6",
   "metadata": {},
   "outputs": [],
   "source": [
    "s[2]='Divesh'"
   ]
  },
  {
   "cell_type": "code",
   "execution_count": null,
   "id": "c742eae2",
   "metadata": {},
   "outputs": [],
   "source": [
    "lst"
   ]
  },
  {
   "cell_type": "code",
   "execution_count": null,
   "id": "d6df9079",
   "metadata": {},
   "outputs": [],
   "source": [
    "type(lst)"
   ]
  },
  {
   "cell_type": "code",
   "execution_count": null,
   "id": "35967955",
   "metadata": {},
   "outputs": [],
   "source": [
    "print(lst[0])\n",
    "type(lst[0])"
   ]
  },
  {
   "cell_type": "code",
   "execution_count": null,
   "id": "48caa75a",
   "metadata": {},
   "outputs": [],
   "source": [
    "print(lst[1])\n",
    "type(lst[1])"
   ]
  },
  {
   "cell_type": "code",
   "execution_count": null,
   "id": "ab6d9405",
   "metadata": {},
   "outputs": [],
   "source": [
    "print(lst[1][0])\n",
    "type(lst[1][0])"
   ]
  },
  {
   "cell_type": "code",
   "execution_count": null,
   "id": "9ac5a015",
   "metadata": {},
   "outputs": [],
   "source": [
    "print(lst[1][2])\n",
    "type(lst[1][2])"
   ]
  },
  {
   "cell_type": "code",
   "execution_count": null,
   "id": "f4a566c7",
   "metadata": {},
   "outputs": [],
   "source": []
  }
 ],
 "metadata": {
  "kernelspec": {
   "display_name": "Python 3 (ipykernel)",
   "language": "python",
   "name": "python3"
  },
  "language_info": {
   "codemirror_mode": {
    "name": "ipython",
    "version": 3
   },
   "file_extension": ".py",
   "mimetype": "text/x-python",
   "name": "python",
   "nbconvert_exporter": "python",
   "pygments_lexer": "ipython3",
   "version": "3.10.9"
  }
 },
 "nbformat": 4,
 "nbformat_minor": 5
}
