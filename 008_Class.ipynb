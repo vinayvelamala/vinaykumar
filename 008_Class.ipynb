{
 "cells": [
  {
   "cell_type": "markdown",
   "id": "f46b9c4c",
   "metadata": {},
   "source": [
    "## Agenda\n",
    "\n",
    "### 1. Data Types\n",
    "\n",
    "    -> Immutable Data Types => Which cannot be change (Value -> elements)\n",
    "        \n",
    "        -> Numerical Data Types\n",
    "            \n",
    "            -> int\n",
    "                \n",
    "            -> float\n",
    "                \n",
    "            -> complex\n",
    "                \n",
    "        -> string\n",
    "            \n",
    "        -> Boolean\n",
    "            \n",
    "        -> tuple\n",
    "        \n",
    "    -> Mutable Data Types => Which can be change (Value -> elements)\n",
    "\n",
    "        -> list \n",
    "            \n",
    "        -> dict\n",
    "            \n",
    "        -> set\n",
    "    \n",
    "### 2. Index\n",
    "\n",
    "    -> forward indexing\n",
    "    \n",
    "    -> backward indexing\n",
    "    \n",
    "### 3. Slicing\n",
    "\n",
    "    -> start\n",
    "    \n",
    "    -> end\n",
    "    \n",
    "    -> all \n",
    "    \n",
    "    -> to"
   ]
  },
  {
   "cell_type": "markdown",
   "id": "9cbdf46a",
   "metadata": {},
   "source": [
    "#### 1. Data Types\n",
    "\n",
    "In python there are two type of datatypes\n",
    "\n",
    "    -> Immutable Data Types \n",
    "    \n",
    "    -> Mutable Data Types"
   ]
  },
  {
   "cell_type": "markdown",
   "id": "c7cf9077",
   "metadata": {},
   "source": [
    "##### 1.1 Immutable\n",
    "\n",
    "    -> which cannot change\n",
    "    \n",
    "    -> discussing regarding values\n",
    "    \n",
    "    -> values are nothing but elements\n",
    "    \n",
    "    -> Elements cannot be change\n",
    "    \n",
    "    -> In the immutable datatypes we are having\n",
    "    \n",
    "        -> numerical datatypes\n",
    "        \n",
    "            -> integer\n",
    "            \n",
    "            -> float\n",
    "            \n",
    "            -> complex\n",
    "        \n",
    "        -> Boolean\n",
    "        \n",
    "        -> String\n",
    "        \n",
    "        -> Tuple"
   ]
  },
  {
   "cell_type": "markdown",
   "id": "c17e0d4d",
   "metadata": {},
   "source": [
    "##### 1.1.1 Integer\n",
    "\n",
    "    -> If there is no decimals in the number\n",
    "    \n",
    "    -> represents by int\n",
    "    \n",
    "    -> values must lies in between minus infinity to plus infinity\n",
    "    \n",
    "    -> Example:\n",
    "        \n",
    "        6\n",
    "        \n",
    "        -451"
   ]
  },
  {
   "cell_type": "code",
   "execution_count": 1,
   "id": "8fa574f1",
   "metadata": {},
   "outputs": [
    {
     "name": "stdout",
     "output_type": "stream",
     "text": [
      "9\n"
     ]
    },
    {
     "data": {
      "text/plain": [
       "int"
      ]
     },
     "execution_count": 1,
     "metadata": {},
     "output_type": "execute_result"
    }
   ],
   "source": [
    "a = 9\n",
    "print(a)\n",
    "type(a)"
   ]
  },
  {
   "cell_type": "markdown",
   "id": "64f2b857",
   "metadata": {},
   "source": [
    "##### 1.1.2 Float\n",
    "\n",
    "    -> When values are having decimal values\n",
    "    \n",
    "    -> Values are lies in between minus infinity dot infinity to plus inifinity dot infinity\n",
    "    \n",
    "    -> represents by float"
   ]
  },
  {
   "cell_type": "code",
   "execution_count": null,
   "id": "804e5981",
   "metadata": {},
   "outputs": [],
   "source": [
    "print(2.0)\n",
    "type(2.0)"
   ]
  },
  {
   "cell_type": "markdown",
   "id": "88f8f21e",
   "metadata": {},
   "source": [
    "##### 1.1.3 Complex\n",
    "\n",
    "    -> these are nothing but complex numbers\n",
    "    \n",
    "    -> a + bi   => in math\n",
    "    \n",
    "    -> in program => a+bj"
   ]
  },
  {
   "cell_type": "code",
   "execution_count": 2,
   "id": "ce151ed9",
   "metadata": {},
   "outputs": [
    {
     "name": "stdout",
     "output_type": "stream",
     "text": [
      "(2+9j)\n"
     ]
    },
    {
     "data": {
      "text/plain": [
       "complex"
      ]
     },
     "execution_count": 2,
     "metadata": {},
     "output_type": "execute_result"
    }
   ],
   "source": [
    "c = 2 + 9j\n",
    "print(c)\n",
    "type(c)"
   ]
  },
  {
   "cell_type": "code",
   "execution_count": 3,
   "id": "4b377253",
   "metadata": {},
   "outputs": [
    {
     "data": {
      "text/plain": [
       "(8+6j)"
      ]
     },
     "execution_count": 3,
     "metadata": {},
     "output_type": "execute_result"
    }
   ],
   "source": [
    "complex(8,6)"
   ]
  },
  {
   "cell_type": "code",
   "execution_count": 4,
   "id": "0e5af741",
   "metadata": {},
   "outputs": [
    {
     "data": {
      "text/plain": [
       "(5.6-865j)"
      ]
     },
     "execution_count": 4,
     "metadata": {},
     "output_type": "execute_result"
    }
   ],
   "source": [
    "complex(5.6,-865)"
   ]
  },
  {
   "cell_type": "code",
   "execution_count": 5,
   "id": "2574dd9d",
   "metadata": {},
   "outputs": [
    {
     "name": "stdout",
     "output_type": "stream",
     "text": [
      "(8+5j)\n"
     ]
    },
    {
     "data": {
      "text/plain": [
       "complex"
      ]
     },
     "execution_count": 5,
     "metadata": {},
     "output_type": "execute_result"
    }
   ],
   "source": [
    "a = 8\n",
    "b = 5\n",
    "c = complex(a,b)\n",
    "print(c)\n",
    "type(c)"
   ]
  },
  {
   "cell_type": "markdown",
   "id": "169e9b3d",
   "metadata": {},
   "source": [
    "##### 1.2 Boolean\n",
    "\n",
    "    -> True\n",
    "    \n",
    "    -> False\n",
    "    \n",
    "    Note:* \n",
    "    \n",
    "        => T and F must be caps"
   ]
  },
  {
   "cell_type": "code",
   "execution_count": 6,
   "id": "f368747a",
   "metadata": {},
   "outputs": [
    {
     "data": {
      "text/plain": [
       "bool"
      ]
     },
     "execution_count": 6,
     "metadata": {},
     "output_type": "execute_result"
    }
   ],
   "source": [
    "type(True)"
   ]
  },
  {
   "cell_type": "code",
   "execution_count": 7,
   "id": "5f80c662",
   "metadata": {},
   "outputs": [
    {
     "ename": "NameError",
     "evalue": "name 'true' is not defined",
     "output_type": "error",
     "traceback": [
      "\u001b[1;31m---------------------------------------------------------------------------\u001b[0m",
      "\u001b[1;31mNameError\u001b[0m                                 Traceback (most recent call last)",
      "Cell \u001b[1;32mIn[7], line 1\u001b[0m\n\u001b[1;32m----> 1\u001b[0m \u001b[38;5;28mtype\u001b[39m(\u001b[43mtrue\u001b[49m)\n",
      "\u001b[1;31mNameError\u001b[0m: name 'true' is not defined"
     ]
    }
   ],
   "source": [
    "type(true)"
   ]
  },
  {
   "cell_type": "code",
   "execution_count": null,
   "id": "98d5d768",
   "metadata": {},
   "outputs": [],
   "source": []
  }
 ],
 "metadata": {
  "kernelspec": {
   "display_name": "Python 3 (ipykernel)",
   "language": "python",
   "name": "python3"
  },
  "language_info": {
   "codemirror_mode": {
    "name": "ipython",
    "version": 3
   },
   "file_extension": ".py",
   "mimetype": "text/x-python",
   "name": "python",
   "nbconvert_exporter": "python",
   "pygments_lexer": "ipython3",
   "version": "3.10.9"
  }
 },
 "nbformat": 4,
 "nbformat_minor": 5
}
